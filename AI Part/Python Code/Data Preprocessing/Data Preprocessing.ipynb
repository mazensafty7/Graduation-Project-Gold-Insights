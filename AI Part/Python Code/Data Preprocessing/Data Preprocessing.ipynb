{
 "cells": [
  {
   "cell_type": "markdown",
   "id": "a03146a5",
   "metadata": {},
   "source": [
    "# Import Libraries"
   ]
  },
  {
   "cell_type": "code",
   "execution_count": 1,
   "id": "9247e150",
   "metadata": {},
   "outputs": [
    {
     "name": "stderr",
     "output_type": "stream",
     "text": [
      "C:\\Users\\mazen\\anaconda3\\envs\\Safty\\Lib\\site-packages\\pandas\\core\\arrays\\masked.py:60: UserWarning: Pandas requires version '1.3.6' or newer of 'bottleneck' (version '1.3.5' currently installed).\n",
      "  from pandas.core import (\n"
     ]
    }
   ],
   "source": [
    "import pandas as pd"
   ]
  },
  {
   "cell_type": "markdown",
   "id": "0486fe0d",
   "metadata": {},
   "source": [
    "# Data Import and Clean"
   ]
  },
  {
   "cell_type": "markdown",
   "id": "703a673e",
   "metadata": {},
   "source": [
    "## The Daily Data"
   ]
  },
  {
   "cell_type": "markdown",
   "id": "4e512386",
   "metadata": {},
   "source": [
    "### Gold Prices"
   ]
  },
  {
   "cell_type": "code",
   "execution_count": 5,
   "id": "12868ae7",
   "metadata": {},
   "outputs": [],
   "source": [
    "gold = pd.read_csv(\"gold.csv\" , usecols = [\"Date\" , \"Adj Close\"])"
   ]
  },
  {
   "cell_type": "code",
   "execution_count": 6,
   "id": "dfe8d2ab",
   "metadata": {},
   "outputs": [
    {
     "data": {
      "text/html": [
       "<div>\n",
       "<style scoped>\n",
       "    .dataframe tbody tr th:only-of-type {\n",
       "        vertical-align: middle;\n",
       "    }\n",
       "\n",
       "    .dataframe tbody tr th {\n",
       "        vertical-align: top;\n",
       "    }\n",
       "\n",
       "    .dataframe thead th {\n",
       "        text-align: right;\n",
       "    }\n",
       "</style>\n",
       "<table border=\"1\" class=\"dataframe\">\n",
       "  <thead>\n",
       "    <tr style=\"text-align: right;\">\n",
       "      <th></th>\n",
       "      <th>Date</th>\n",
       "      <th>Adj Close</th>\n",
       "    </tr>\n",
       "  </thead>\n",
       "  <tbody>\n",
       "    <tr>\n",
       "      <th>0</th>\n",
       "      <td>2024-11-29</td>\n",
       "      <td>2649.0</td>\n",
       "    </tr>\n",
       "    <tr>\n",
       "      <th>1</th>\n",
       "      <td>2024-11-28</td>\n",
       "      <td>2639.7</td>\n",
       "    </tr>\n",
       "    <tr>\n",
       "      <th>2</th>\n",
       "      <td>2024-11-27</td>\n",
       "      <td>2639.9</td>\n",
       "    </tr>\n",
       "    <tr>\n",
       "      <th>3</th>\n",
       "      <td>2024-11-26</td>\n",
       "      <td>2620.3</td>\n",
       "    </tr>\n",
       "    <tr>\n",
       "      <th>4</th>\n",
       "      <td>2024-11-25</td>\n",
       "      <td>2616.8</td>\n",
       "    </tr>\n",
       "  </tbody>\n",
       "</table>\n",
       "</div>"
      ],
      "text/plain": [
       "         Date  Adj Close\n",
       "0  2024-11-29     2649.0\n",
       "1  2024-11-28     2639.7\n",
       "2  2024-11-27     2639.9\n",
       "3  2024-11-26     2620.3\n",
       "4  2024-11-25     2616.8"
      ]
     },
     "execution_count": 6,
     "metadata": {},
     "output_type": "execute_result"
    }
   ],
   "source": [
    "gold.head()"
   ]
  },
  {
   "cell_type": "code",
   "execution_count": 7,
   "id": "040ddf7a",
   "metadata": {},
   "outputs": [
    {
     "data": {
      "text/plain": [
       "(6086, 2)"
      ]
     },
     "execution_count": 7,
     "metadata": {},
     "output_type": "execute_result"
    }
   ],
   "source": [
    "gold.shape"
   ]
  },
  {
   "cell_type": "code",
   "execution_count": 6,
   "id": "2901469b",
   "metadata": {},
   "outputs": [
    {
     "name": "stdout",
     "output_type": "stream",
     "text": [
      "<class 'pandas.core.frame.DataFrame'>\n",
      "RangeIndex: 87 entries, 0 to 86\n",
      "Data columns (total 2 columns):\n",
      " #   Column     Non-Null Count  Dtype  \n",
      "---  ------     --------------  -----  \n",
      " 0   Date       87 non-null     object \n",
      " 1   Adj Close  87 non-null     float64\n",
      "dtypes: float64(1), object(1)\n",
      "memory usage: 1.5+ KB\n"
     ]
    }
   ],
   "source": [
    "gold.info()"
   ]
  },
  {
   "cell_type": "markdown",
   "id": "15bc6a5d",
   "metadata": {},
   "source": [
    "#### Correct Date Format"
   ]
  },
  {
   "cell_type": "code",
   "execution_count": 8,
   "id": "44cf155a",
   "metadata": {},
   "outputs": [],
   "source": [
    "gold[\"Date\"] = pd.to_datetime(gold[\"Date\"] , format = '%Y-%m-%d')"
   ]
  },
  {
   "cell_type": "code",
   "execution_count": 9,
   "id": "1917a239",
   "metadata": {
    "scrolled": true
   },
   "outputs": [
    {
     "name": "stdout",
     "output_type": "stream",
     "text": [
      "<class 'pandas.core.frame.DataFrame'>\n",
      "RangeIndex: 6086 entries, 0 to 6085\n",
      "Data columns (total 2 columns):\n",
      " #   Column     Non-Null Count  Dtype         \n",
      "---  ------     --------------  -----         \n",
      " 0   Date       6086 non-null   datetime64[ns]\n",
      " 1   Adj Close  6086 non-null   float64       \n",
      "dtypes: datetime64[ns](1), float64(1)\n",
      "memory usage: 95.2 KB\n"
     ]
    }
   ],
   "source": [
    "gold.info()"
   ]
  },
  {
   "cell_type": "code",
   "execution_count": 10,
   "id": "7148b5bf",
   "metadata": {},
   "outputs": [
    {
     "data": {
      "text/html": [
       "<div>\n",
       "<style scoped>\n",
       "    .dataframe tbody tr th:only-of-type {\n",
       "        vertical-align: middle;\n",
       "    }\n",
       "\n",
       "    .dataframe tbody tr th {\n",
       "        vertical-align: top;\n",
       "    }\n",
       "\n",
       "    .dataframe thead th {\n",
       "        text-align: right;\n",
       "    }\n",
       "</style>\n",
       "<table border=\"1\" class=\"dataframe\">\n",
       "  <thead>\n",
       "    <tr style=\"text-align: right;\">\n",
       "      <th></th>\n",
       "      <th>Date</th>\n",
       "      <th>Adj Close</th>\n",
       "    </tr>\n",
       "  </thead>\n",
       "  <tbody>\n",
       "    <tr>\n",
       "      <th>0</th>\n",
       "      <td>2024-11-29</td>\n",
       "      <td>2649.0</td>\n",
       "    </tr>\n",
       "    <tr>\n",
       "      <th>1</th>\n",
       "      <td>2024-11-28</td>\n",
       "      <td>2639.7</td>\n",
       "    </tr>\n",
       "    <tr>\n",
       "      <th>2</th>\n",
       "      <td>2024-11-27</td>\n",
       "      <td>2639.9</td>\n",
       "    </tr>\n",
       "    <tr>\n",
       "      <th>3</th>\n",
       "      <td>2024-11-26</td>\n",
       "      <td>2620.3</td>\n",
       "    </tr>\n",
       "    <tr>\n",
       "      <th>4</th>\n",
       "      <td>2024-11-25</td>\n",
       "      <td>2616.8</td>\n",
       "    </tr>\n",
       "  </tbody>\n",
       "</table>\n",
       "</div>"
      ],
      "text/plain": [
       "        Date  Adj Close\n",
       "0 2024-11-29     2649.0\n",
       "1 2024-11-28     2639.7\n",
       "2 2024-11-27     2639.9\n",
       "3 2024-11-26     2620.3\n",
       "4 2024-11-25     2616.8"
      ]
     },
     "execution_count": 10,
     "metadata": {},
     "output_type": "execute_result"
    }
   ],
   "source": [
    "gold.head()"
   ]
  },
  {
   "cell_type": "markdown",
   "id": "5e220299",
   "metadata": {},
   "source": [
    "### Column Rename"
   ]
  },
  {
   "cell_type": "code",
   "execution_count": 11,
   "id": "9a22552d",
   "metadata": {},
   "outputs": [],
   "source": [
    "gold = gold.rename(columns = {\"Adj Close\" : \"Gold\"})"
   ]
  },
  {
   "cell_type": "code",
   "execution_count": 12,
   "id": "29a48ffc",
   "metadata": {},
   "outputs": [
    {
     "data": {
      "text/html": [
       "<div>\n",
       "<style scoped>\n",
       "    .dataframe tbody tr th:only-of-type {\n",
       "        vertical-align: middle;\n",
       "    }\n",
       "\n",
       "    .dataframe tbody tr th {\n",
       "        vertical-align: top;\n",
       "    }\n",
       "\n",
       "    .dataframe thead th {\n",
       "        text-align: right;\n",
       "    }\n",
       "</style>\n",
       "<table border=\"1\" class=\"dataframe\">\n",
       "  <thead>\n",
       "    <tr style=\"text-align: right;\">\n",
       "      <th></th>\n",
       "      <th>Date</th>\n",
       "      <th>Gold</th>\n",
       "    </tr>\n",
       "  </thead>\n",
       "  <tbody>\n",
       "    <tr>\n",
       "      <th>0</th>\n",
       "      <td>2024-11-29</td>\n",
       "      <td>2649.0</td>\n",
       "    </tr>\n",
       "    <tr>\n",
       "      <th>1</th>\n",
       "      <td>2024-11-28</td>\n",
       "      <td>2639.7</td>\n",
       "    </tr>\n",
       "    <tr>\n",
       "      <th>2</th>\n",
       "      <td>2024-11-27</td>\n",
       "      <td>2639.9</td>\n",
       "    </tr>\n",
       "    <tr>\n",
       "      <th>3</th>\n",
       "      <td>2024-11-26</td>\n",
       "      <td>2620.3</td>\n",
       "    </tr>\n",
       "    <tr>\n",
       "      <th>4</th>\n",
       "      <td>2024-11-25</td>\n",
       "      <td>2616.8</td>\n",
       "    </tr>\n",
       "  </tbody>\n",
       "</table>\n",
       "</div>"
      ],
      "text/plain": [
       "        Date    Gold\n",
       "0 2024-11-29  2649.0\n",
       "1 2024-11-28  2639.7\n",
       "2 2024-11-27  2639.9\n",
       "3 2024-11-26  2620.3\n",
       "4 2024-11-25  2616.8"
      ]
     },
     "execution_count": 12,
     "metadata": {},
     "output_type": "execute_result"
    }
   ],
   "source": [
    "gold.head()"
   ]
  },
  {
   "cell_type": "markdown",
   "id": "e2a2e77f",
   "metadata": {},
   "source": [
    "### Set Date Index"
   ]
  },
  {
   "cell_type": "code",
   "execution_count": 13,
   "id": "36d4365a",
   "metadata": {},
   "outputs": [],
   "source": [
    "gold = gold.set_index(\"Date\")"
   ]
  },
  {
   "cell_type": "code",
   "execution_count": 14,
   "id": "b0cb9e2f",
   "metadata": {},
   "outputs": [
    {
     "data": {
      "text/html": [
       "<div>\n",
       "<style scoped>\n",
       "    .dataframe tbody tr th:only-of-type {\n",
       "        vertical-align: middle;\n",
       "    }\n",
       "\n",
       "    .dataframe tbody tr th {\n",
       "        vertical-align: top;\n",
       "    }\n",
       "\n",
       "    .dataframe thead th {\n",
       "        text-align: right;\n",
       "    }\n",
       "</style>\n",
       "<table border=\"1\" class=\"dataframe\">\n",
       "  <thead>\n",
       "    <tr style=\"text-align: right;\">\n",
       "      <th></th>\n",
       "      <th>Gold</th>\n",
       "    </tr>\n",
       "    <tr>\n",
       "      <th>Date</th>\n",
       "      <th></th>\n",
       "    </tr>\n",
       "  </thead>\n",
       "  <tbody>\n",
       "    <tr>\n",
       "      <th>2024-11-29</th>\n",
       "      <td>2649.0</td>\n",
       "    </tr>\n",
       "    <tr>\n",
       "      <th>2024-11-28</th>\n",
       "      <td>2639.7</td>\n",
       "    </tr>\n",
       "    <tr>\n",
       "      <th>2024-11-27</th>\n",
       "      <td>2639.9</td>\n",
       "    </tr>\n",
       "    <tr>\n",
       "      <th>2024-11-26</th>\n",
       "      <td>2620.3</td>\n",
       "    </tr>\n",
       "    <tr>\n",
       "      <th>2024-11-25</th>\n",
       "      <td>2616.8</td>\n",
       "    </tr>\n",
       "    <tr>\n",
       "      <th>2024-11-22</th>\n",
       "      <td>2709.9</td>\n",
       "    </tr>\n",
       "    <tr>\n",
       "      <th>2024-11-21</th>\n",
       "      <td>2672.1</td>\n",
       "    </tr>\n",
       "    <tr>\n",
       "      <th>2024-11-20</th>\n",
       "      <td>2648.2</td>\n",
       "    </tr>\n",
       "    <tr>\n",
       "      <th>2024-11-19</th>\n",
       "      <td>2627.1</td>\n",
       "    </tr>\n",
       "    <tr>\n",
       "      <th>2024-11-18</th>\n",
       "      <td>2610.6</td>\n",
       "    </tr>\n",
       "    <tr>\n",
       "      <th>2024-11-15</th>\n",
       "      <td>2565.7</td>\n",
       "    </tr>\n",
       "    <tr>\n",
       "      <th>2024-11-14</th>\n",
       "      <td>2568.2</td>\n",
       "    </tr>\n",
       "    <tr>\n",
       "      <th>2024-11-13</th>\n",
       "      <td>2580.8</td>\n",
       "    </tr>\n",
       "    <tr>\n",
       "      <th>2024-11-12</th>\n",
       "      <td>2600.0</td>\n",
       "    </tr>\n",
       "    <tr>\n",
       "      <th>2024-11-11</th>\n",
       "      <td>2611.2</td>\n",
       "    </tr>\n",
       "    <tr>\n",
       "      <th>2024-11-08</th>\n",
       "      <td>2687.5</td>\n",
       "    </tr>\n",
       "    <tr>\n",
       "      <th>2024-11-07</th>\n",
       "      <td>2698.4</td>\n",
       "    </tr>\n",
       "    <tr>\n",
       "      <th>2024-11-06</th>\n",
       "      <td>2667.6</td>\n",
       "    </tr>\n",
       "    <tr>\n",
       "      <th>2024-11-05</th>\n",
       "      <td>2740.3</td>\n",
       "    </tr>\n",
       "    <tr>\n",
       "      <th>2024-11-04</th>\n",
       "      <td>2736.1</td>\n",
       "    </tr>\n",
       "  </tbody>\n",
       "</table>\n",
       "</div>"
      ],
      "text/plain": [
       "              Gold\n",
       "Date              \n",
       "2024-11-29  2649.0\n",
       "2024-11-28  2639.7\n",
       "2024-11-27  2639.9\n",
       "2024-11-26  2620.3\n",
       "2024-11-25  2616.8\n",
       "2024-11-22  2709.9\n",
       "2024-11-21  2672.1\n",
       "2024-11-20  2648.2\n",
       "2024-11-19  2627.1\n",
       "2024-11-18  2610.6\n",
       "2024-11-15  2565.7\n",
       "2024-11-14  2568.2\n",
       "2024-11-13  2580.8\n",
       "2024-11-12  2600.0\n",
       "2024-11-11  2611.2\n",
       "2024-11-08  2687.5\n",
       "2024-11-07  2698.4\n",
       "2024-11-06  2667.6\n",
       "2024-11-05  2740.3\n",
       "2024-11-04  2736.1"
      ]
     },
     "execution_count": 14,
     "metadata": {},
     "output_type": "execute_result"
    }
   ],
   "source": [
    "gold.head(20)"
   ]
  },
  {
   "cell_type": "markdown",
   "id": "d651b2a6",
   "metadata": {},
   "source": [
    "### Set Frequency"
   ]
  },
  {
   "cell_type": "code",
   "execution_count": 15,
   "id": "7fb8512c",
   "metadata": {},
   "outputs": [],
   "source": [
    "gold = gold.asfreq('b')"
   ]
  },
  {
   "cell_type": "code",
   "execution_count": 16,
   "id": "6448d563",
   "metadata": {},
   "outputs": [
    {
     "data": {
      "text/html": [
       "<div>\n",
       "<style scoped>\n",
       "    .dataframe tbody tr th:only-of-type {\n",
       "        vertical-align: middle;\n",
       "    }\n",
       "\n",
       "    .dataframe tbody tr th {\n",
       "        vertical-align: top;\n",
       "    }\n",
       "\n",
       "    .dataframe thead th {\n",
       "        text-align: right;\n",
       "    }\n",
       "</style>\n",
       "<table border=\"1\" class=\"dataframe\">\n",
       "  <thead>\n",
       "    <tr style=\"text-align: right;\">\n",
       "      <th></th>\n",
       "      <th>Gold</th>\n",
       "    </tr>\n",
       "    <tr>\n",
       "      <th>Date</th>\n",
       "      <th></th>\n",
       "    </tr>\n",
       "  </thead>\n",
       "  <tbody>\n",
       "    <tr>\n",
       "      <th>2024-11-04</th>\n",
       "      <td>2736.1</td>\n",
       "    </tr>\n",
       "    <tr>\n",
       "      <th>2024-11-05</th>\n",
       "      <td>2740.3</td>\n",
       "    </tr>\n",
       "    <tr>\n",
       "      <th>2024-11-06</th>\n",
       "      <td>2667.6</td>\n",
       "    </tr>\n",
       "    <tr>\n",
       "      <th>2024-11-07</th>\n",
       "      <td>2698.4</td>\n",
       "    </tr>\n",
       "    <tr>\n",
       "      <th>2024-11-08</th>\n",
       "      <td>2687.5</td>\n",
       "    </tr>\n",
       "    <tr>\n",
       "      <th>2024-11-11</th>\n",
       "      <td>2611.2</td>\n",
       "    </tr>\n",
       "    <tr>\n",
       "      <th>2024-11-12</th>\n",
       "      <td>2600.0</td>\n",
       "    </tr>\n",
       "    <tr>\n",
       "      <th>2024-11-13</th>\n",
       "      <td>2580.8</td>\n",
       "    </tr>\n",
       "    <tr>\n",
       "      <th>2024-11-14</th>\n",
       "      <td>2568.2</td>\n",
       "    </tr>\n",
       "    <tr>\n",
       "      <th>2024-11-15</th>\n",
       "      <td>2565.7</td>\n",
       "    </tr>\n",
       "    <tr>\n",
       "      <th>2024-11-18</th>\n",
       "      <td>2610.6</td>\n",
       "    </tr>\n",
       "    <tr>\n",
       "      <th>2024-11-19</th>\n",
       "      <td>2627.1</td>\n",
       "    </tr>\n",
       "    <tr>\n",
       "      <th>2024-11-20</th>\n",
       "      <td>2648.2</td>\n",
       "    </tr>\n",
       "    <tr>\n",
       "      <th>2024-11-21</th>\n",
       "      <td>2672.1</td>\n",
       "    </tr>\n",
       "    <tr>\n",
       "      <th>2024-11-22</th>\n",
       "      <td>2709.9</td>\n",
       "    </tr>\n",
       "    <tr>\n",
       "      <th>2024-11-25</th>\n",
       "      <td>2616.8</td>\n",
       "    </tr>\n",
       "    <tr>\n",
       "      <th>2024-11-26</th>\n",
       "      <td>2620.3</td>\n",
       "    </tr>\n",
       "    <tr>\n",
       "      <th>2024-11-27</th>\n",
       "      <td>2639.9</td>\n",
       "    </tr>\n",
       "    <tr>\n",
       "      <th>2024-11-28</th>\n",
       "      <td>2639.7</td>\n",
       "    </tr>\n",
       "    <tr>\n",
       "      <th>2024-11-29</th>\n",
       "      <td>2649.0</td>\n",
       "    </tr>\n",
       "  </tbody>\n",
       "</table>\n",
       "</div>"
      ],
      "text/plain": [
       "              Gold\n",
       "Date              \n",
       "2024-11-04  2736.1\n",
       "2024-11-05  2740.3\n",
       "2024-11-06  2667.6\n",
       "2024-11-07  2698.4\n",
       "2024-11-08  2687.5\n",
       "2024-11-11  2611.2\n",
       "2024-11-12  2600.0\n",
       "2024-11-13  2580.8\n",
       "2024-11-14  2568.2\n",
       "2024-11-15  2565.7\n",
       "2024-11-18  2610.6\n",
       "2024-11-19  2627.1\n",
       "2024-11-20  2648.2\n",
       "2024-11-21  2672.1\n",
       "2024-11-22  2709.9\n",
       "2024-11-25  2616.8\n",
       "2024-11-26  2620.3\n",
       "2024-11-27  2639.9\n",
       "2024-11-28  2639.7\n",
       "2024-11-29  2649.0"
      ]
     },
     "execution_count": 16,
     "metadata": {},
     "output_type": "execute_result"
    }
   ],
   "source": [
    "gold.tail(20)"
   ]
  },
  {
   "cell_type": "code",
   "execution_count": 17,
   "id": "93fc2289",
   "metadata": {},
   "outputs": [
    {
     "data": {
      "text/plain": [
       "Gold    242\n",
       "dtype: int64"
      ]
     },
     "execution_count": 17,
     "metadata": {},
     "output_type": "execute_result"
    }
   ],
   "source": [
    "gold.isnull().sum()"
   ]
  },
  {
   "cell_type": "markdown",
   "id": "f2423a3b",
   "metadata": {},
   "source": [
    "### Hundle Nulls"
   ]
  },
  {
   "cell_type": "code",
   "execution_count": 18,
   "id": "60d6ebf7",
   "metadata": {},
   "outputs": [
    {
     "name": "stderr",
     "output_type": "stream",
     "text": [
      "C:\\Users\\mazen\\AppData\\Local\\Temp\\ipykernel_27308\\1852268167.py:1: FutureWarning: Series.fillna with 'method' is deprecated and will raise in a future version. Use obj.ffill() or obj.bfill() instead.\n",
      "  gold[\"Gold\"] = gold[\"Gold\"].fillna(method = \"ffill\")\n"
     ]
    }
   ],
   "source": [
    "gold[\"Gold\"] = gold[\"Gold\"].fillna(method = \"ffill\")"
   ]
  },
  {
   "cell_type": "code",
   "execution_count": 19,
   "id": "1c302b94",
   "metadata": {},
   "outputs": [
    {
     "data": {
      "text/html": [
       "<div>\n",
       "<style scoped>\n",
       "    .dataframe tbody tr th:only-of-type {\n",
       "        vertical-align: middle;\n",
       "    }\n",
       "\n",
       "    .dataframe tbody tr th {\n",
       "        vertical-align: top;\n",
       "    }\n",
       "\n",
       "    .dataframe thead th {\n",
       "        text-align: right;\n",
       "    }\n",
       "</style>\n",
       "<table border=\"1\" class=\"dataframe\">\n",
       "  <thead>\n",
       "    <tr style=\"text-align: right;\">\n",
       "      <th></th>\n",
       "      <th>Gold</th>\n",
       "    </tr>\n",
       "    <tr>\n",
       "      <th>Date</th>\n",
       "      <th></th>\n",
       "    </tr>\n",
       "  </thead>\n",
       "  <tbody>\n",
       "    <tr>\n",
       "      <th>2000-08-30</th>\n",
       "      <td>273.9</td>\n",
       "    </tr>\n",
       "    <tr>\n",
       "      <th>2000-08-31</th>\n",
       "      <td>278.3</td>\n",
       "    </tr>\n",
       "    <tr>\n",
       "      <th>2000-09-01</th>\n",
       "      <td>277.0</td>\n",
       "    </tr>\n",
       "    <tr>\n",
       "      <th>2000-09-04</th>\n",
       "      <td>277.0</td>\n",
       "    </tr>\n",
       "    <tr>\n",
       "      <th>2000-09-05</th>\n",
       "      <td>275.8</td>\n",
       "    </tr>\n",
       "  </tbody>\n",
       "</table>\n",
       "</div>"
      ],
      "text/plain": [
       "             Gold\n",
       "Date             \n",
       "2000-08-30  273.9\n",
       "2000-08-31  278.3\n",
       "2000-09-01  277.0\n",
       "2000-09-04  277.0\n",
       "2000-09-05  275.8"
      ]
     },
     "execution_count": 19,
     "metadata": {},
     "output_type": "execute_result"
    }
   ],
   "source": [
    "gold.head()"
   ]
  },
  {
   "cell_type": "code",
   "execution_count": 20,
   "id": "8c7cf012",
   "metadata": {},
   "outputs": [
    {
     "data": {
      "text/plain": [
       "Gold    0\n",
       "dtype: int64"
      ]
     },
     "execution_count": 20,
     "metadata": {},
     "output_type": "execute_result"
    }
   ],
   "source": [
    "gold.isnull().sum()"
   ]
  },
  {
   "cell_type": "code",
   "execution_count": 21,
   "id": "9226120e",
   "metadata": {},
   "outputs": [
    {
     "data": {
      "text/plain": [
       "(6328, 1)"
      ]
     },
     "execution_count": 21,
     "metadata": {},
     "output_type": "execute_result"
    }
   ],
   "source": [
    "gold.shape"
   ]
  },
  {
   "cell_type": "code",
   "execution_count": 24,
   "id": "0137b22c",
   "metadata": {},
   "outputs": [
    {
     "data": {
      "text/html": [
       "<div>\n",
       "<style scoped>\n",
       "    .dataframe tbody tr th:only-of-type {\n",
       "        vertical-align: middle;\n",
       "    }\n",
       "\n",
       "    .dataframe tbody tr th {\n",
       "        vertical-align: top;\n",
       "    }\n",
       "\n",
       "    .dataframe thead th {\n",
       "        text-align: right;\n",
       "    }\n",
       "</style>\n",
       "<table border=\"1\" class=\"dataframe\">\n",
       "  <thead>\n",
       "    <tr style=\"text-align: right;\">\n",
       "      <th></th>\n",
       "      <th>Gold</th>\n",
       "    </tr>\n",
       "    <tr>\n",
       "      <th>Date</th>\n",
       "      <th></th>\n",
       "    </tr>\n",
       "  </thead>\n",
       "  <tbody>\n",
       "    <tr>\n",
       "      <th>2000-08-30</th>\n",
       "      <td>273.9</td>\n",
       "    </tr>\n",
       "    <tr>\n",
       "      <th>2000-08-31</th>\n",
       "      <td>278.3</td>\n",
       "    </tr>\n",
       "    <tr>\n",
       "      <th>2000-09-01</th>\n",
       "      <td>277.0</td>\n",
       "    </tr>\n",
       "    <tr>\n",
       "      <th>2000-09-04</th>\n",
       "      <td>277.0</td>\n",
       "    </tr>\n",
       "    <tr>\n",
       "      <th>2000-09-05</th>\n",
       "      <td>275.8</td>\n",
       "    </tr>\n",
       "  </tbody>\n",
       "</table>\n",
       "</div>"
      ],
      "text/plain": [
       "             Gold\n",
       "Date             \n",
       "2000-08-30  273.9\n",
       "2000-08-31  278.3\n",
       "2000-09-01  277.0\n",
       "2000-09-04  277.0\n",
       "2000-09-05  275.8"
      ]
     },
     "execution_count": 24,
     "metadata": {},
     "output_type": "execute_result"
    }
   ],
   "source": [
    "gold.head(5)"
   ]
  },
  {
   "cell_type": "code",
   "execution_count": 25,
   "id": "7d1163d6",
   "metadata": {},
   "outputs": [
    {
     "data": {
      "text/html": [
       "<div>\n",
       "<style scoped>\n",
       "    .dataframe tbody tr th:only-of-type {\n",
       "        vertical-align: middle;\n",
       "    }\n",
       "\n",
       "    .dataframe tbody tr th {\n",
       "        vertical-align: top;\n",
       "    }\n",
       "\n",
       "    .dataframe thead th {\n",
       "        text-align: right;\n",
       "    }\n",
       "</style>\n",
       "<table border=\"1\" class=\"dataframe\">\n",
       "  <thead>\n",
       "    <tr style=\"text-align: right;\">\n",
       "      <th></th>\n",
       "      <th>Gold</th>\n",
       "    </tr>\n",
       "    <tr>\n",
       "      <th>Date</th>\n",
       "      <th></th>\n",
       "    </tr>\n",
       "  </thead>\n",
       "  <tbody>\n",
       "    <tr>\n",
       "      <th>2024-11-25</th>\n",
       "      <td>2616.8</td>\n",
       "    </tr>\n",
       "    <tr>\n",
       "      <th>2024-11-26</th>\n",
       "      <td>2620.3</td>\n",
       "    </tr>\n",
       "    <tr>\n",
       "      <th>2024-11-27</th>\n",
       "      <td>2639.9</td>\n",
       "    </tr>\n",
       "    <tr>\n",
       "      <th>2024-11-28</th>\n",
       "      <td>2639.7</td>\n",
       "    </tr>\n",
       "    <tr>\n",
       "      <th>2024-11-29</th>\n",
       "      <td>2649.0</td>\n",
       "    </tr>\n",
       "  </tbody>\n",
       "</table>\n",
       "</div>"
      ],
      "text/plain": [
       "              Gold\n",
       "Date              \n",
       "2024-11-25  2616.8\n",
       "2024-11-26  2620.3\n",
       "2024-11-27  2639.9\n",
       "2024-11-28  2639.7\n",
       "2024-11-29  2649.0"
      ]
     },
     "execution_count": 25,
     "metadata": {},
     "output_type": "execute_result"
    }
   ],
   "source": [
    "gold.tail(5)"
   ]
  },
  {
   "cell_type": "code",
   "execution_count": 26,
   "id": "e1ee13db",
   "metadata": {},
   "outputs": [],
   "source": [
    "gold.to_csv('gold_close.csv')"
   ]
  },
  {
   "cell_type": "code",
   "execution_count": 41,
   "id": "d0fb587a",
   "metadata": {},
   "outputs": [
    {
     "data": {
      "text/html": [
       "<div>\n",
       "<style scoped>\n",
       "    .dataframe tbody tr th:only-of-type {\n",
       "        vertical-align: middle;\n",
       "    }\n",
       "\n",
       "    .dataframe tbody tr th {\n",
       "        vertical-align: top;\n",
       "    }\n",
       "\n",
       "    .dataframe thead th {\n",
       "        text-align: right;\n",
       "    }\n",
       "</style>\n",
       "<table border=\"1\" class=\"dataframe\">\n",
       "  <thead>\n",
       "    <tr style=\"text-align: right;\">\n",
       "      <th></th>\n",
       "      <th>Gold</th>\n",
       "    </tr>\n",
       "    <tr>\n",
       "      <th>Date</th>\n",
       "      <th></th>\n",
       "    </tr>\n",
       "  </thead>\n",
       "  <tbody>\n",
       "    <tr>\n",
       "      <th>2025-01-01</th>\n",
       "      <td>2629.2</td>\n",
       "    </tr>\n",
       "    <tr>\n",
       "      <th>2025-01-02</th>\n",
       "      <td>2658.9</td>\n",
       "    </tr>\n",
       "    <tr>\n",
       "      <th>2025-01-03</th>\n",
       "      <td>2645.0</td>\n",
       "    </tr>\n",
       "    <tr>\n",
       "      <th>2025-01-06</th>\n",
       "      <td>2638.4</td>\n",
       "    </tr>\n",
       "    <tr>\n",
       "      <th>2025-01-07</th>\n",
       "      <td>2656.7</td>\n",
       "    </tr>\n",
       "    <tr>\n",
       "      <th>2025-01-08</th>\n",
       "      <td>2664.5</td>\n",
       "    </tr>\n",
       "    <tr>\n",
       "      <th>2025-01-09</th>\n",
       "      <td>2683.8</td>\n",
       "    </tr>\n",
       "    <tr>\n",
       "      <th>2025-01-10</th>\n",
       "      <td>2708.5</td>\n",
       "    </tr>\n",
       "    <tr>\n",
       "      <th>2025-01-13</th>\n",
       "      <td>2673.5</td>\n",
       "    </tr>\n",
       "    <tr>\n",
       "      <th>2025-01-14</th>\n",
       "      <td>2677.5</td>\n",
       "    </tr>\n",
       "    <tr>\n",
       "      <th>2025-01-15</th>\n",
       "      <td>2712.5</td>\n",
       "    </tr>\n",
       "    <tr>\n",
       "      <th>2025-01-16</th>\n",
       "      <td>2746.4</td>\n",
       "    </tr>\n",
       "    <tr>\n",
       "      <th>2025-01-17</th>\n",
       "      <td>2744.3</td>\n",
       "    </tr>\n",
       "    <tr>\n",
       "      <th>2025-01-20</th>\n",
       "      <td>2744.3</td>\n",
       "    </tr>\n",
       "    <tr>\n",
       "      <th>2025-01-21</th>\n",
       "      <td>2755.0</td>\n",
       "    </tr>\n",
       "    <tr>\n",
       "      <th>2025-01-22</th>\n",
       "      <td>2767.6</td>\n",
       "    </tr>\n",
       "    <tr>\n",
       "      <th>2025-01-23</th>\n",
       "      <td>2763.1</td>\n",
       "    </tr>\n",
       "    <tr>\n",
       "      <th>2025-01-24</th>\n",
       "      <td>2777.3</td>\n",
       "    </tr>\n",
       "    <tr>\n",
       "      <th>2025-01-27</th>\n",
       "      <td>2737.5</td>\n",
       "    </tr>\n",
       "    <tr>\n",
       "      <th>2025-01-28</th>\n",
       "      <td>2766.8</td>\n",
       "    </tr>\n",
       "    <tr>\n",
       "      <th>2025-01-29</th>\n",
       "      <td>2769.1</td>\n",
       "    </tr>\n",
       "    <tr>\n",
       "      <th>2025-01-30</th>\n",
       "      <td>2823.0</td>\n",
       "    </tr>\n",
       "    <tr>\n",
       "      <th>2025-01-31</th>\n",
       "      <td>2812.5</td>\n",
       "    </tr>\n",
       "    <tr>\n",
       "      <th>2025-02-03</th>\n",
       "      <td>2833.9</td>\n",
       "    </tr>\n",
       "    <tr>\n",
       "      <th>2025-02-04</th>\n",
       "      <td>2853.3</td>\n",
       "    </tr>\n",
       "    <tr>\n",
       "      <th>2025-02-05</th>\n",
       "      <td>2871.6</td>\n",
       "    </tr>\n",
       "    <tr>\n",
       "      <th>2025-02-06</th>\n",
       "      <td>2856.0</td>\n",
       "    </tr>\n",
       "  </tbody>\n",
       "</table>\n",
       "</div>"
      ],
      "text/plain": [
       "              Gold\n",
       "Date              \n",
       "2025-01-01  2629.2\n",
       "2025-01-02  2658.9\n",
       "2025-01-03  2645.0\n",
       "2025-01-06  2638.4\n",
       "2025-01-07  2656.7\n",
       "2025-01-08  2664.5\n",
       "2025-01-09  2683.8\n",
       "2025-01-10  2708.5\n",
       "2025-01-13  2673.5\n",
       "2025-01-14  2677.5\n",
       "2025-01-15  2712.5\n",
       "2025-01-16  2746.4\n",
       "2025-01-17  2744.3\n",
       "2025-01-20  2744.3\n",
       "2025-01-21  2755.0\n",
       "2025-01-22  2767.6\n",
       "2025-01-23  2763.1\n",
       "2025-01-24  2777.3\n",
       "2025-01-27  2737.5\n",
       "2025-01-28  2766.8\n",
       "2025-01-29  2769.1\n",
       "2025-01-30  2823.0\n",
       "2025-01-31  2812.5\n",
       "2025-02-03  2833.9\n",
       "2025-02-04  2853.3\n",
       "2025-02-05  2871.6\n",
       "2025-02-06  2856.0"
      ]
     },
     "execution_count": 41,
     "metadata": {},
     "output_type": "execute_result"
    }
   ],
   "source": [
    "gold['2025-01-01' : '2025-02-06']"
   ]
  },
  {
   "cell_type": "code",
   "execution_count": 43,
   "id": "1e7f8159",
   "metadata": {},
   "outputs": [
    {
     "data": {
      "text/html": [
       "<div>\n",
       "<style scoped>\n",
       "    .dataframe tbody tr th:only-of-type {\n",
       "        vertical-align: middle;\n",
       "    }\n",
       "\n",
       "    .dataframe tbody tr th {\n",
       "        vertical-align: top;\n",
       "    }\n",
       "\n",
       "    .dataframe thead th {\n",
       "        text-align: right;\n",
       "    }\n",
       "</style>\n",
       "<table border=\"1\" class=\"dataframe\">\n",
       "  <thead>\n",
       "    <tr style=\"text-align: right;\">\n",
       "      <th></th>\n",
       "      <th>Gold</th>\n",
       "    </tr>\n",
       "    <tr>\n",
       "      <th>Date</th>\n",
       "      <th></th>\n",
       "    </tr>\n",
       "  </thead>\n",
       "  <tbody>\n",
       "    <tr>\n",
       "      <th>2025-03-03</th>\n",
       "      <td>2890.2</td>\n",
       "    </tr>\n",
       "    <tr>\n",
       "      <th>2025-03-04</th>\n",
       "      <td>2909.6</td>\n",
       "    </tr>\n",
       "    <tr>\n",
       "      <th>2025-03-05</th>\n",
       "      <td>2915.3</td>\n",
       "    </tr>\n",
       "    <tr>\n",
       "      <th>2025-03-06</th>\n",
       "      <td>2916.6</td>\n",
       "    </tr>\n",
       "    <tr>\n",
       "      <th>2025-03-07</th>\n",
       "      <td>2904.7</td>\n",
       "    </tr>\n",
       "  </tbody>\n",
       "</table>\n",
       "</div>"
      ],
      "text/plain": [
       "              Gold\n",
       "Date              \n",
       "2025-03-03  2890.2\n",
       "2025-03-04  2909.6\n",
       "2025-03-05  2915.3\n",
       "2025-03-06  2916.6\n",
       "2025-03-07  2904.7"
      ]
     },
     "execution_count": 43,
     "metadata": {},
     "output_type": "execute_result"
    }
   ],
   "source": [
    "gold.tail(5)"
   ]
  },
  {
   "cell_type": "code",
   "execution_count": 45,
   "id": "4accb8ef",
   "metadata": {},
   "outputs": [],
   "source": [
    "gold = gold.drop(index = gold.loc['2025-02-03' : '2025-03-07'].index)"
   ]
  },
  {
   "cell_type": "code",
   "execution_count": 46,
   "id": "82dbbb2c",
   "metadata": {},
   "outputs": [
    {
     "data": {
      "text/html": [
       "<div>\n",
       "<style scoped>\n",
       "    .dataframe tbody tr th:only-of-type {\n",
       "        vertical-align: middle;\n",
       "    }\n",
       "\n",
       "    .dataframe tbody tr th {\n",
       "        vertical-align: top;\n",
       "    }\n",
       "\n",
       "    .dataframe thead th {\n",
       "        text-align: right;\n",
       "    }\n",
       "</style>\n",
       "<table border=\"1\" class=\"dataframe\">\n",
       "  <thead>\n",
       "    <tr style=\"text-align: right;\">\n",
       "      <th></th>\n",
       "      <th>Gold</th>\n",
       "    </tr>\n",
       "    <tr>\n",
       "      <th>Date</th>\n",
       "      <th></th>\n",
       "    </tr>\n",
       "  </thead>\n",
       "  <tbody>\n",
       "    <tr>\n",
       "      <th>2025-01-27</th>\n",
       "      <td>2737.5</td>\n",
       "    </tr>\n",
       "    <tr>\n",
       "      <th>2025-01-28</th>\n",
       "      <td>2766.8</td>\n",
       "    </tr>\n",
       "    <tr>\n",
       "      <th>2025-01-29</th>\n",
       "      <td>2769.1</td>\n",
       "    </tr>\n",
       "    <tr>\n",
       "      <th>2025-01-30</th>\n",
       "      <td>2823.0</td>\n",
       "    </tr>\n",
       "    <tr>\n",
       "      <th>2025-01-31</th>\n",
       "      <td>2812.5</td>\n",
       "    </tr>\n",
       "  </tbody>\n",
       "</table>\n",
       "</div>"
      ],
      "text/plain": [
       "              Gold\n",
       "Date              \n",
       "2025-01-27  2737.5\n",
       "2025-01-28  2766.8\n",
       "2025-01-29  2769.1\n",
       "2025-01-30  2823.0\n",
       "2025-01-31  2812.5"
      ]
     },
     "execution_count": 46,
     "metadata": {},
     "output_type": "execute_result"
    }
   ],
   "source": [
    "gold.tail(5)"
   ]
  },
  {
   "cell_type": "code",
   "execution_count": 47,
   "id": "608395b3",
   "metadata": {},
   "outputs": [
    {
     "data": {
      "text/plain": [
       "(66, 1)"
      ]
     },
     "execution_count": 47,
     "metadata": {},
     "output_type": "execute_result"
    }
   ],
   "source": [
    "gold.shape"
   ]
  },
  {
   "cell_type": "markdown",
   "id": "088bff94",
   "metadata": {},
   "source": [
    "### Silver Prices"
   ]
  },
  {
   "cell_type": "code",
   "execution_count": 48,
   "id": "f2202852",
   "metadata": {},
   "outputs": [],
   "source": [
    "silver = pd.read_csv(\"silver_test.csv\" , usecols = [\"Date\" , \"Adj Close\"])"
   ]
  },
  {
   "cell_type": "code",
   "execution_count": 49,
   "id": "b4643d34",
   "metadata": {},
   "outputs": [
    {
     "data": {
      "text/html": [
       "<div>\n",
       "<style scoped>\n",
       "    .dataframe tbody tr th:only-of-type {\n",
       "        vertical-align: middle;\n",
       "    }\n",
       "\n",
       "    .dataframe tbody tr th {\n",
       "        vertical-align: top;\n",
       "    }\n",
       "\n",
       "    .dataframe thead th {\n",
       "        text-align: right;\n",
       "    }\n",
       "</style>\n",
       "<table border=\"1\" class=\"dataframe\">\n",
       "  <thead>\n",
       "    <tr style=\"text-align: right;\">\n",
       "      <th></th>\n",
       "      <th>Date</th>\n",
       "      <th>Adj Close</th>\n",
       "    </tr>\n",
       "  </thead>\n",
       "  <tbody>\n",
       "    <tr>\n",
       "      <th>0</th>\n",
       "      <td>2025-03-09</td>\n",
       "      <td>33.01</td>\n",
       "    </tr>\n",
       "    <tr>\n",
       "      <th>1</th>\n",
       "      <td>2025-03-07</td>\n",
       "      <td>32.55</td>\n",
       "    </tr>\n",
       "    <tr>\n",
       "      <th>2</th>\n",
       "      <td>2025-03-06</td>\n",
       "      <td>33.06</td>\n",
       "    </tr>\n",
       "    <tr>\n",
       "      <th>3</th>\n",
       "      <td>2025-03-05</td>\n",
       "      <td>32.86</td>\n",
       "    </tr>\n",
       "    <tr>\n",
       "      <th>4</th>\n",
       "      <td>2025-03-04</td>\n",
       "      <td>32.11</td>\n",
       "    </tr>\n",
       "  </tbody>\n",
       "</table>\n",
       "</div>"
      ],
      "text/plain": [
       "         Date  Adj Close\n",
       "0  2025-03-09      33.01\n",
       "1  2025-03-07      32.55\n",
       "2  2025-03-06      33.06\n",
       "3  2025-03-05      32.86\n",
       "4  2025-03-04      32.11"
      ]
     },
     "execution_count": 49,
     "metadata": {},
     "output_type": "execute_result"
    }
   ],
   "source": [
    "silver.head()"
   ]
  },
  {
   "cell_type": "code",
   "execution_count": 50,
   "id": "70f98c52",
   "metadata": {},
   "outputs": [
    {
     "data": {
      "text/plain": [
       "(88, 2)"
      ]
     },
     "execution_count": 50,
     "metadata": {},
     "output_type": "execute_result"
    }
   ],
   "source": [
    "silver.shape"
   ]
  },
  {
   "cell_type": "code",
   "execution_count": 51,
   "id": "727e42d0",
   "metadata": {},
   "outputs": [
    {
     "name": "stdout",
     "output_type": "stream",
     "text": [
      "<class 'pandas.core.frame.DataFrame'>\n",
      "RangeIndex: 88 entries, 0 to 87\n",
      "Data columns (total 2 columns):\n",
      " #   Column     Non-Null Count  Dtype  \n",
      "---  ------     --------------  -----  \n",
      " 0   Date       88 non-null     object \n",
      " 1   Adj Close  88 non-null     float64\n",
      "dtypes: float64(1), object(1)\n",
      "memory usage: 1.5+ KB\n"
     ]
    }
   ],
   "source": [
    "silver.info()"
   ]
  },
  {
   "cell_type": "markdown",
   "id": "95e2db12",
   "metadata": {},
   "source": [
    "#### Correct Date Format"
   ]
  },
  {
   "cell_type": "code",
   "execution_count": 52,
   "id": "bd2fc2c5",
   "metadata": {},
   "outputs": [],
   "source": [
    "silver[\"Date\"] = pd.to_datetime(silver[\"Date\"] , format = '%Y-%m-%d')"
   ]
  },
  {
   "cell_type": "code",
   "execution_count": 53,
   "id": "d3491c92",
   "metadata": {},
   "outputs": [
    {
     "name": "stdout",
     "output_type": "stream",
     "text": [
      "<class 'pandas.core.frame.DataFrame'>\n",
      "RangeIndex: 88 entries, 0 to 87\n",
      "Data columns (total 2 columns):\n",
      " #   Column     Non-Null Count  Dtype         \n",
      "---  ------     --------------  -----         \n",
      " 0   Date       88 non-null     datetime64[ns]\n",
      " 1   Adj Close  88 non-null     float64       \n",
      "dtypes: datetime64[ns](1), float64(1)\n",
      "memory usage: 1.5 KB\n"
     ]
    }
   ],
   "source": [
    "silver.info()"
   ]
  },
  {
   "cell_type": "code",
   "execution_count": 54,
   "id": "8f13deeb",
   "metadata": {},
   "outputs": [
    {
     "data": {
      "text/html": [
       "<div>\n",
       "<style scoped>\n",
       "    .dataframe tbody tr th:only-of-type {\n",
       "        vertical-align: middle;\n",
       "    }\n",
       "\n",
       "    .dataframe tbody tr th {\n",
       "        vertical-align: top;\n",
       "    }\n",
       "\n",
       "    .dataframe thead th {\n",
       "        text-align: right;\n",
       "    }\n",
       "</style>\n",
       "<table border=\"1\" class=\"dataframe\">\n",
       "  <thead>\n",
       "    <tr style=\"text-align: right;\">\n",
       "      <th></th>\n",
       "      <th>Date</th>\n",
       "      <th>Adj Close</th>\n",
       "    </tr>\n",
       "  </thead>\n",
       "  <tbody>\n",
       "    <tr>\n",
       "      <th>0</th>\n",
       "      <td>2025-03-09</td>\n",
       "      <td>33.01</td>\n",
       "    </tr>\n",
       "    <tr>\n",
       "      <th>1</th>\n",
       "      <td>2025-03-07</td>\n",
       "      <td>32.55</td>\n",
       "    </tr>\n",
       "    <tr>\n",
       "      <th>2</th>\n",
       "      <td>2025-03-06</td>\n",
       "      <td>33.06</td>\n",
       "    </tr>\n",
       "    <tr>\n",
       "      <th>3</th>\n",
       "      <td>2025-03-05</td>\n",
       "      <td>32.86</td>\n",
       "    </tr>\n",
       "    <tr>\n",
       "      <th>4</th>\n",
       "      <td>2025-03-04</td>\n",
       "      <td>32.11</td>\n",
       "    </tr>\n",
       "  </tbody>\n",
       "</table>\n",
       "</div>"
      ],
      "text/plain": [
       "        Date  Adj Close\n",
       "0 2025-03-09      33.01\n",
       "1 2025-03-07      32.55\n",
       "2 2025-03-06      33.06\n",
       "3 2025-03-05      32.86\n",
       "4 2025-03-04      32.11"
      ]
     },
     "execution_count": 54,
     "metadata": {},
     "output_type": "execute_result"
    }
   ],
   "source": [
    "silver.head()"
   ]
  },
  {
   "cell_type": "markdown",
   "id": "418320e7",
   "metadata": {},
   "source": [
    "### Column Rename"
   ]
  },
  {
   "cell_type": "code",
   "execution_count": 55,
   "id": "c931bf37",
   "metadata": {},
   "outputs": [],
   "source": [
    "silver = silver.rename(columns = {\"Adj Close\" : \"Silver\"})"
   ]
  },
  {
   "cell_type": "code",
   "execution_count": 56,
   "id": "8adbcc87",
   "metadata": {},
   "outputs": [
    {
     "data": {
      "text/html": [
       "<div>\n",
       "<style scoped>\n",
       "    .dataframe tbody tr th:only-of-type {\n",
       "        vertical-align: middle;\n",
       "    }\n",
       "\n",
       "    .dataframe tbody tr th {\n",
       "        vertical-align: top;\n",
       "    }\n",
       "\n",
       "    .dataframe thead th {\n",
       "        text-align: right;\n",
       "    }\n",
       "</style>\n",
       "<table border=\"1\" class=\"dataframe\">\n",
       "  <thead>\n",
       "    <tr style=\"text-align: right;\">\n",
       "      <th></th>\n",
       "      <th>Date</th>\n",
       "      <th>Silver</th>\n",
       "    </tr>\n",
       "  </thead>\n",
       "  <tbody>\n",
       "    <tr>\n",
       "      <th>0</th>\n",
       "      <td>2025-03-09</td>\n",
       "      <td>33.01</td>\n",
       "    </tr>\n",
       "    <tr>\n",
       "      <th>1</th>\n",
       "      <td>2025-03-07</td>\n",
       "      <td>32.55</td>\n",
       "    </tr>\n",
       "    <tr>\n",
       "      <th>2</th>\n",
       "      <td>2025-03-06</td>\n",
       "      <td>33.06</td>\n",
       "    </tr>\n",
       "    <tr>\n",
       "      <th>3</th>\n",
       "      <td>2025-03-05</td>\n",
       "      <td>32.86</td>\n",
       "    </tr>\n",
       "    <tr>\n",
       "      <th>4</th>\n",
       "      <td>2025-03-04</td>\n",
       "      <td>32.11</td>\n",
       "    </tr>\n",
       "  </tbody>\n",
       "</table>\n",
       "</div>"
      ],
      "text/plain": [
       "        Date  Silver\n",
       "0 2025-03-09   33.01\n",
       "1 2025-03-07   32.55\n",
       "2 2025-03-06   33.06\n",
       "3 2025-03-05   32.86\n",
       "4 2025-03-04   32.11"
      ]
     },
     "execution_count": 56,
     "metadata": {},
     "output_type": "execute_result"
    }
   ],
   "source": [
    "silver.head()"
   ]
  },
  {
   "cell_type": "markdown",
   "id": "7da86754",
   "metadata": {},
   "source": [
    "### Set Date Index"
   ]
  },
  {
   "cell_type": "code",
   "execution_count": 57,
   "id": "380f6cc6",
   "metadata": {},
   "outputs": [],
   "source": [
    "silver = silver.set_index(\"Date\")"
   ]
  },
  {
   "cell_type": "code",
   "execution_count": 58,
   "id": "0b0a844d",
   "metadata": {},
   "outputs": [
    {
     "data": {
      "text/html": [
       "<div>\n",
       "<style scoped>\n",
       "    .dataframe tbody tr th:only-of-type {\n",
       "        vertical-align: middle;\n",
       "    }\n",
       "\n",
       "    .dataframe tbody tr th {\n",
       "        vertical-align: top;\n",
       "    }\n",
       "\n",
       "    .dataframe thead th {\n",
       "        text-align: right;\n",
       "    }\n",
       "</style>\n",
       "<table border=\"1\" class=\"dataframe\">\n",
       "  <thead>\n",
       "    <tr style=\"text-align: right;\">\n",
       "      <th></th>\n",
       "      <th>Silver</th>\n",
       "    </tr>\n",
       "    <tr>\n",
       "      <th>Date</th>\n",
       "      <th></th>\n",
       "    </tr>\n",
       "  </thead>\n",
       "  <tbody>\n",
       "    <tr>\n",
       "      <th>2025-03-09</th>\n",
       "      <td>33.01</td>\n",
       "    </tr>\n",
       "    <tr>\n",
       "      <th>2025-03-07</th>\n",
       "      <td>32.55</td>\n",
       "    </tr>\n",
       "    <tr>\n",
       "      <th>2025-03-06</th>\n",
       "      <td>33.06</td>\n",
       "    </tr>\n",
       "    <tr>\n",
       "      <th>2025-03-05</th>\n",
       "      <td>32.86</td>\n",
       "    </tr>\n",
       "    <tr>\n",
       "      <th>2025-03-04</th>\n",
       "      <td>32.11</td>\n",
       "    </tr>\n",
       "  </tbody>\n",
       "</table>\n",
       "</div>"
      ],
      "text/plain": [
       "            Silver\n",
       "Date              \n",
       "2025-03-09   33.01\n",
       "2025-03-07   32.55\n",
       "2025-03-06   33.06\n",
       "2025-03-05   32.86\n",
       "2025-03-04   32.11"
      ]
     },
     "execution_count": 58,
     "metadata": {},
     "output_type": "execute_result"
    }
   ],
   "source": [
    "silver.head()"
   ]
  },
  {
   "cell_type": "markdown",
   "id": "023c7c8a",
   "metadata": {},
   "source": [
    "### Check Duplicates"
   ]
  },
  {
   "cell_type": "code",
   "execution_count": 59,
   "id": "b61470b3",
   "metadata": {},
   "outputs": [
    {
     "name": "stdout",
     "output_type": "stream",
     "text": [
      "0\n"
     ]
    }
   ],
   "source": [
    "print(silver.index.duplicated().sum())"
   ]
  },
  {
   "cell_type": "code",
   "execution_count": 60,
   "id": "2ac81c58",
   "metadata": {},
   "outputs": [],
   "source": [
    "silver = silver.loc[~silver.index.duplicated(keep='first')]"
   ]
  },
  {
   "cell_type": "code",
   "execution_count": 61,
   "id": "e5251a24",
   "metadata": {},
   "outputs": [
    {
     "data": {
      "text/plain": [
       "(88, 1)"
      ]
     },
     "execution_count": 61,
     "metadata": {},
     "output_type": "execute_result"
    }
   ],
   "source": [
    "silver.shape"
   ]
  },
  {
   "cell_type": "markdown",
   "id": "1ee370bf",
   "metadata": {},
   "source": [
    "### Set Frequency"
   ]
  },
  {
   "cell_type": "code",
   "execution_count": 62,
   "id": "41181455",
   "metadata": {},
   "outputs": [],
   "source": [
    "silver = silver.asfreq('b')"
   ]
  },
  {
   "cell_type": "code",
   "execution_count": 63,
   "id": "94951165",
   "metadata": {},
   "outputs": [
    {
     "data": {
      "text/html": [
       "<div>\n",
       "<style scoped>\n",
       "    .dataframe tbody tr th:only-of-type {\n",
       "        vertical-align: middle;\n",
       "    }\n",
       "\n",
       "    .dataframe tbody tr th {\n",
       "        vertical-align: top;\n",
       "    }\n",
       "\n",
       "    .dataframe thead th {\n",
       "        text-align: right;\n",
       "    }\n",
       "</style>\n",
       "<table border=\"1\" class=\"dataframe\">\n",
       "  <thead>\n",
       "    <tr style=\"text-align: right;\">\n",
       "      <th></th>\n",
       "      <th>Silver</th>\n",
       "    </tr>\n",
       "    <tr>\n",
       "      <th>Date</th>\n",
       "      <th></th>\n",
       "    </tr>\n",
       "  </thead>\n",
       "  <tbody>\n",
       "    <tr>\n",
       "      <th>2024-11-01</th>\n",
       "      <td>32.54</td>\n",
       "    </tr>\n",
       "    <tr>\n",
       "      <th>2024-11-04</th>\n",
       "      <td>32.48</td>\n",
       "    </tr>\n",
       "    <tr>\n",
       "      <th>2024-11-05</th>\n",
       "      <td>32.65</td>\n",
       "    </tr>\n",
       "    <tr>\n",
       "      <th>2024-11-06</th>\n",
       "      <td>31.22</td>\n",
       "    </tr>\n",
       "    <tr>\n",
       "      <th>2024-11-07</th>\n",
       "      <td>31.76</td>\n",
       "    </tr>\n",
       "  </tbody>\n",
       "</table>\n",
       "</div>"
      ],
      "text/plain": [
       "            Silver\n",
       "Date              \n",
       "2024-11-01   32.54\n",
       "2024-11-04   32.48\n",
       "2024-11-05   32.65\n",
       "2024-11-06   31.22\n",
       "2024-11-07   31.76"
      ]
     },
     "execution_count": 63,
     "metadata": {},
     "output_type": "execute_result"
    }
   ],
   "source": [
    "silver.head()"
   ]
  },
  {
   "cell_type": "code",
   "execution_count": 64,
   "id": "c4e65317",
   "metadata": {},
   "outputs": [
    {
     "data": {
      "text/plain": [
       "Silver    4\n",
       "dtype: int64"
      ]
     },
     "execution_count": 64,
     "metadata": {},
     "output_type": "execute_result"
    }
   ],
   "source": [
    "silver.isnull().sum()"
   ]
  },
  {
   "cell_type": "markdown",
   "id": "f016aeb2",
   "metadata": {},
   "source": [
    "### Hundle Nulls"
   ]
  },
  {
   "cell_type": "code",
   "execution_count": 65,
   "id": "380f2468",
   "metadata": {},
   "outputs": [
    {
     "name": "stderr",
     "output_type": "stream",
     "text": [
      "C:\\Users\\mazen\\AppData\\Local\\Temp\\ipykernel_16940\\4109681538.py:1: FutureWarning: Series.fillna with 'method' is deprecated and will raise in a future version. Use obj.ffill() or obj.bfill() instead.\n",
      "  silver[\"Silver\"] = silver[\"Silver\"].fillna(method = \"ffill\")\n"
     ]
    }
   ],
   "source": [
    "silver[\"Silver\"] = silver[\"Silver\"].fillna(method = \"ffill\")"
   ]
  },
  {
   "cell_type": "code",
   "execution_count": 66,
   "id": "dd1d6607",
   "metadata": {},
   "outputs": [
    {
     "data": {
      "text/html": [
       "<div>\n",
       "<style scoped>\n",
       "    .dataframe tbody tr th:only-of-type {\n",
       "        vertical-align: middle;\n",
       "    }\n",
       "\n",
       "    .dataframe tbody tr th {\n",
       "        vertical-align: top;\n",
       "    }\n",
       "\n",
       "    .dataframe thead th {\n",
       "        text-align: right;\n",
       "    }\n",
       "</style>\n",
       "<table border=\"1\" class=\"dataframe\">\n",
       "  <thead>\n",
       "    <tr style=\"text-align: right;\">\n",
       "      <th></th>\n",
       "      <th>Silver</th>\n",
       "    </tr>\n",
       "    <tr>\n",
       "      <th>Date</th>\n",
       "      <th></th>\n",
       "    </tr>\n",
       "  </thead>\n",
       "  <tbody>\n",
       "    <tr>\n",
       "      <th>2024-11-01</th>\n",
       "      <td>32.54</td>\n",
       "    </tr>\n",
       "    <tr>\n",
       "      <th>2024-11-04</th>\n",
       "      <td>32.48</td>\n",
       "    </tr>\n",
       "    <tr>\n",
       "      <th>2024-11-05</th>\n",
       "      <td>32.65</td>\n",
       "    </tr>\n",
       "    <tr>\n",
       "      <th>2024-11-06</th>\n",
       "      <td>31.22</td>\n",
       "    </tr>\n",
       "    <tr>\n",
       "      <th>2024-11-07</th>\n",
       "      <td>31.76</td>\n",
       "    </tr>\n",
       "  </tbody>\n",
       "</table>\n",
       "</div>"
      ],
      "text/plain": [
       "            Silver\n",
       "Date              \n",
       "2024-11-01   32.54\n",
       "2024-11-04   32.48\n",
       "2024-11-05   32.65\n",
       "2024-11-06   31.22\n",
       "2024-11-07   31.76"
      ]
     },
     "execution_count": 66,
     "metadata": {},
     "output_type": "execute_result"
    }
   ],
   "source": [
    "silver.head()"
   ]
  },
  {
   "cell_type": "code",
   "execution_count": 67,
   "id": "27a00940",
   "metadata": {},
   "outputs": [
    {
     "data": {
      "text/plain": [
       "Silver    0\n",
       "dtype: int64"
      ]
     },
     "execution_count": 67,
     "metadata": {},
     "output_type": "execute_result"
    }
   ],
   "source": [
    "silver.isnull().sum()"
   ]
  },
  {
   "cell_type": "code",
   "execution_count": 68,
   "id": "63b90d62",
   "metadata": {},
   "outputs": [
    {
     "data": {
      "text/plain": [
       "(91, 1)"
      ]
     },
     "execution_count": 68,
     "metadata": {},
     "output_type": "execute_result"
    }
   ],
   "source": [
    "silver.shape"
   ]
  },
  {
   "cell_type": "code",
   "execution_count": 69,
   "id": "efc15656",
   "metadata": {},
   "outputs": [
    {
     "data": {
      "text/html": [
       "<div>\n",
       "<style scoped>\n",
       "    .dataframe tbody tr th:only-of-type {\n",
       "        vertical-align: middle;\n",
       "    }\n",
       "\n",
       "    .dataframe tbody tr th {\n",
       "        vertical-align: top;\n",
       "    }\n",
       "\n",
       "    .dataframe thead th {\n",
       "        text-align: right;\n",
       "    }\n",
       "</style>\n",
       "<table border=\"1\" class=\"dataframe\">\n",
       "  <thead>\n",
       "    <tr style=\"text-align: right;\">\n",
       "      <th></th>\n",
       "      <th>Silver</th>\n",
       "    </tr>\n",
       "    <tr>\n",
       "      <th>Date</th>\n",
       "      <th></th>\n",
       "    </tr>\n",
       "  </thead>\n",
       "  <tbody>\n",
       "    <tr>\n",
       "      <th>2025-03-03</th>\n",
       "      <td>32.03</td>\n",
       "    </tr>\n",
       "    <tr>\n",
       "      <th>2025-03-04</th>\n",
       "      <td>32.11</td>\n",
       "    </tr>\n",
       "    <tr>\n",
       "      <th>2025-03-05</th>\n",
       "      <td>32.86</td>\n",
       "    </tr>\n",
       "    <tr>\n",
       "      <th>2025-03-06</th>\n",
       "      <td>33.06</td>\n",
       "    </tr>\n",
       "    <tr>\n",
       "      <th>2025-03-07</th>\n",
       "      <td>32.55</td>\n",
       "    </tr>\n",
       "  </tbody>\n",
       "</table>\n",
       "</div>"
      ],
      "text/plain": [
       "            Silver\n",
       "Date              \n",
       "2025-03-03   32.03\n",
       "2025-03-04   32.11\n",
       "2025-03-05   32.86\n",
       "2025-03-06   33.06\n",
       "2025-03-07   32.55"
      ]
     },
     "execution_count": 69,
     "metadata": {},
     "output_type": "execute_result"
    }
   ],
   "source": [
    "silver.tail(5)"
   ]
  },
  {
   "cell_type": "code",
   "execution_count": 70,
   "id": "0b612ba1",
   "metadata": {},
   "outputs": [],
   "source": [
    "silver = silver.drop(index = silver.loc['2025-02-03' : '2025-03-07'].index)"
   ]
  },
  {
   "cell_type": "code",
   "execution_count": 71,
   "id": "a0650ec9",
   "metadata": {},
   "outputs": [
    {
     "data": {
      "text/html": [
       "<div>\n",
       "<style scoped>\n",
       "    .dataframe tbody tr th:only-of-type {\n",
       "        vertical-align: middle;\n",
       "    }\n",
       "\n",
       "    .dataframe tbody tr th {\n",
       "        vertical-align: top;\n",
       "    }\n",
       "\n",
       "    .dataframe thead th {\n",
       "        text-align: right;\n",
       "    }\n",
       "</style>\n",
       "<table border=\"1\" class=\"dataframe\">\n",
       "  <thead>\n",
       "    <tr style=\"text-align: right;\">\n",
       "      <th></th>\n",
       "      <th>Silver</th>\n",
       "    </tr>\n",
       "    <tr>\n",
       "      <th>Date</th>\n",
       "      <th></th>\n",
       "    </tr>\n",
       "  </thead>\n",
       "  <tbody>\n",
       "    <tr>\n",
       "      <th>2025-01-27</th>\n",
       "      <td>30.25</td>\n",
       "    </tr>\n",
       "    <tr>\n",
       "      <th>2025-01-28</th>\n",
       "      <td>30.73</td>\n",
       "    </tr>\n",
       "    <tr>\n",
       "      <th>2025-01-29</th>\n",
       "      <td>31.24</td>\n",
       "    </tr>\n",
       "    <tr>\n",
       "      <th>2025-01-30</th>\n",
       "      <td>32.36</td>\n",
       "    </tr>\n",
       "    <tr>\n",
       "      <th>2025-01-31</th>\n",
       "      <td>32.13</td>\n",
       "    </tr>\n",
       "  </tbody>\n",
       "</table>\n",
       "</div>"
      ],
      "text/plain": [
       "            Silver\n",
       "Date              \n",
       "2025-01-27   30.25\n",
       "2025-01-28   30.73\n",
       "2025-01-29   31.24\n",
       "2025-01-30   32.36\n",
       "2025-01-31   32.13"
      ]
     },
     "execution_count": 71,
     "metadata": {},
     "output_type": "execute_result"
    }
   ],
   "source": [
    "silver.tail(5)"
   ]
  },
  {
   "cell_type": "code",
   "execution_count": 72,
   "id": "266ccaed",
   "metadata": {},
   "outputs": [
    {
     "data": {
      "text/plain": [
       "(66, 1)"
      ]
     },
     "execution_count": 72,
     "metadata": {},
     "output_type": "execute_result"
    }
   ],
   "source": [
    "silver.shape"
   ]
  },
  {
   "cell_type": "markdown",
   "id": "8225fbc2",
   "metadata": {},
   "source": [
    "### S&P 500 Prices"
   ]
  },
  {
   "cell_type": "code",
   "execution_count": 73,
   "id": "a630e3e3",
   "metadata": {},
   "outputs": [],
   "source": [
    "sp = pd.read_csv(\"S&P500_test.csv\" , usecols = [\"Date\" , \"Adj Close\"])"
   ]
  },
  {
   "cell_type": "code",
   "execution_count": 74,
   "id": "74bd8679",
   "metadata": {},
   "outputs": [
    {
     "data": {
      "text/html": [
       "<div>\n",
       "<style scoped>\n",
       "    .dataframe tbody tr th:only-of-type {\n",
       "        vertical-align: middle;\n",
       "    }\n",
       "\n",
       "    .dataframe tbody tr th {\n",
       "        vertical-align: top;\n",
       "    }\n",
       "\n",
       "    .dataframe thead th {\n",
       "        text-align: right;\n",
       "    }\n",
       "</style>\n",
       "<table border=\"1\" class=\"dataframe\">\n",
       "  <thead>\n",
       "    <tr style=\"text-align: right;\">\n",
       "      <th></th>\n",
       "      <th>Date</th>\n",
       "      <th>Adj Close</th>\n",
       "    </tr>\n",
       "  </thead>\n",
       "  <tbody>\n",
       "    <tr>\n",
       "      <th>0</th>\n",
       "      <td>2025-03-07</td>\n",
       "      <td>5770.20</td>\n",
       "    </tr>\n",
       "    <tr>\n",
       "      <th>1</th>\n",
       "      <td>2025-03-06</td>\n",
       "      <td>5738.52</td>\n",
       "    </tr>\n",
       "    <tr>\n",
       "      <th>2</th>\n",
       "      <td>2025-03-05</td>\n",
       "      <td>5842.63</td>\n",
       "    </tr>\n",
       "    <tr>\n",
       "      <th>3</th>\n",
       "      <td>2025-03-04</td>\n",
       "      <td>5778.15</td>\n",
       "    </tr>\n",
       "    <tr>\n",
       "      <th>4</th>\n",
       "      <td>2025-03-03</td>\n",
       "      <td>5849.72</td>\n",
       "    </tr>\n",
       "  </tbody>\n",
       "</table>\n",
       "</div>"
      ],
      "text/plain": [
       "         Date  Adj Close\n",
       "0  2025-03-07    5770.20\n",
       "1  2025-03-06    5738.52\n",
       "2  2025-03-05    5842.63\n",
       "3  2025-03-04    5778.15\n",
       "4  2025-03-03    5849.72"
      ]
     },
     "execution_count": 74,
     "metadata": {},
     "output_type": "execute_result"
    }
   ],
   "source": [
    "sp.head()"
   ]
  },
  {
   "cell_type": "code",
   "execution_count": 75,
   "id": "20117712",
   "metadata": {},
   "outputs": [
    {
     "data": {
      "text/plain": [
       "(85, 2)"
      ]
     },
     "execution_count": 75,
     "metadata": {},
     "output_type": "execute_result"
    }
   ],
   "source": [
    "sp.shape"
   ]
  },
  {
   "cell_type": "code",
   "execution_count": 76,
   "id": "5ee093e7",
   "metadata": {},
   "outputs": [
    {
     "name": "stdout",
     "output_type": "stream",
     "text": [
      "<class 'pandas.core.frame.DataFrame'>\n",
      "RangeIndex: 85 entries, 0 to 84\n",
      "Data columns (total 2 columns):\n",
      " #   Column     Non-Null Count  Dtype  \n",
      "---  ------     --------------  -----  \n",
      " 0   Date       85 non-null     object \n",
      " 1   Adj Close  85 non-null     float64\n",
      "dtypes: float64(1), object(1)\n",
      "memory usage: 1.5+ KB\n"
     ]
    }
   ],
   "source": [
    "sp.info()"
   ]
  },
  {
   "cell_type": "markdown",
   "id": "9d182020",
   "metadata": {},
   "source": [
    "#### Correct Date Format"
   ]
  },
  {
   "cell_type": "code",
   "execution_count": 77,
   "id": "66a23bdb",
   "metadata": {},
   "outputs": [],
   "source": [
    "sp[\"Date\"] = pd.to_datetime(sp[\"Date\"] , format = '%Y-%m-%d')"
   ]
  },
  {
   "cell_type": "code",
   "execution_count": 78,
   "id": "5ab2b0b7",
   "metadata": {},
   "outputs": [
    {
     "name": "stdout",
     "output_type": "stream",
     "text": [
      "<class 'pandas.core.frame.DataFrame'>\n",
      "RangeIndex: 85 entries, 0 to 84\n",
      "Data columns (total 2 columns):\n",
      " #   Column     Non-Null Count  Dtype         \n",
      "---  ------     --------------  -----         \n",
      " 0   Date       85 non-null     datetime64[ns]\n",
      " 1   Adj Close  85 non-null     float64       \n",
      "dtypes: datetime64[ns](1), float64(1)\n",
      "memory usage: 1.5 KB\n"
     ]
    }
   ],
   "source": [
    "sp.info()"
   ]
  },
  {
   "cell_type": "code",
   "execution_count": 79,
   "id": "c952d9ed",
   "metadata": {},
   "outputs": [
    {
     "data": {
      "text/html": [
       "<div>\n",
       "<style scoped>\n",
       "    .dataframe tbody tr th:only-of-type {\n",
       "        vertical-align: middle;\n",
       "    }\n",
       "\n",
       "    .dataframe tbody tr th {\n",
       "        vertical-align: top;\n",
       "    }\n",
       "\n",
       "    .dataframe thead th {\n",
       "        text-align: right;\n",
       "    }\n",
       "</style>\n",
       "<table border=\"1\" class=\"dataframe\">\n",
       "  <thead>\n",
       "    <tr style=\"text-align: right;\">\n",
       "      <th></th>\n",
       "      <th>Date</th>\n",
       "      <th>Adj Close</th>\n",
       "    </tr>\n",
       "  </thead>\n",
       "  <tbody>\n",
       "    <tr>\n",
       "      <th>0</th>\n",
       "      <td>2025-03-07</td>\n",
       "      <td>5770.20</td>\n",
       "    </tr>\n",
       "    <tr>\n",
       "      <th>1</th>\n",
       "      <td>2025-03-06</td>\n",
       "      <td>5738.52</td>\n",
       "    </tr>\n",
       "    <tr>\n",
       "      <th>2</th>\n",
       "      <td>2025-03-05</td>\n",
       "      <td>5842.63</td>\n",
       "    </tr>\n",
       "    <tr>\n",
       "      <th>3</th>\n",
       "      <td>2025-03-04</td>\n",
       "      <td>5778.15</td>\n",
       "    </tr>\n",
       "    <tr>\n",
       "      <th>4</th>\n",
       "      <td>2025-03-03</td>\n",
       "      <td>5849.72</td>\n",
       "    </tr>\n",
       "  </tbody>\n",
       "</table>\n",
       "</div>"
      ],
      "text/plain": [
       "        Date  Adj Close\n",
       "0 2025-03-07    5770.20\n",
       "1 2025-03-06    5738.52\n",
       "2 2025-03-05    5842.63\n",
       "3 2025-03-04    5778.15\n",
       "4 2025-03-03    5849.72"
      ]
     },
     "execution_count": 79,
     "metadata": {},
     "output_type": "execute_result"
    }
   ],
   "source": [
    "sp.head()"
   ]
  },
  {
   "cell_type": "markdown",
   "id": "ba075e4f",
   "metadata": {},
   "source": [
    "### Column Rename"
   ]
  },
  {
   "cell_type": "code",
   "execution_count": 80,
   "id": "2adb4844",
   "metadata": {},
   "outputs": [],
   "source": [
    "sp = sp.rename(columns = {\"Adj Close\" : \"S&P 500\"})"
   ]
  },
  {
   "cell_type": "code",
   "execution_count": 81,
   "id": "0d4b9563",
   "metadata": {},
   "outputs": [
    {
     "data": {
      "text/html": [
       "<div>\n",
       "<style scoped>\n",
       "    .dataframe tbody tr th:only-of-type {\n",
       "        vertical-align: middle;\n",
       "    }\n",
       "\n",
       "    .dataframe tbody tr th {\n",
       "        vertical-align: top;\n",
       "    }\n",
       "\n",
       "    .dataframe thead th {\n",
       "        text-align: right;\n",
       "    }\n",
       "</style>\n",
       "<table border=\"1\" class=\"dataframe\">\n",
       "  <thead>\n",
       "    <tr style=\"text-align: right;\">\n",
       "      <th></th>\n",
       "      <th>Date</th>\n",
       "      <th>S&amp;P 500</th>\n",
       "    </tr>\n",
       "  </thead>\n",
       "  <tbody>\n",
       "    <tr>\n",
       "      <th>0</th>\n",
       "      <td>2025-03-07</td>\n",
       "      <td>5770.20</td>\n",
       "    </tr>\n",
       "    <tr>\n",
       "      <th>1</th>\n",
       "      <td>2025-03-06</td>\n",
       "      <td>5738.52</td>\n",
       "    </tr>\n",
       "    <tr>\n",
       "      <th>2</th>\n",
       "      <td>2025-03-05</td>\n",
       "      <td>5842.63</td>\n",
       "    </tr>\n",
       "    <tr>\n",
       "      <th>3</th>\n",
       "      <td>2025-03-04</td>\n",
       "      <td>5778.15</td>\n",
       "    </tr>\n",
       "    <tr>\n",
       "      <th>4</th>\n",
       "      <td>2025-03-03</td>\n",
       "      <td>5849.72</td>\n",
       "    </tr>\n",
       "  </tbody>\n",
       "</table>\n",
       "</div>"
      ],
      "text/plain": [
       "        Date  S&P 500\n",
       "0 2025-03-07  5770.20\n",
       "1 2025-03-06  5738.52\n",
       "2 2025-03-05  5842.63\n",
       "3 2025-03-04  5778.15\n",
       "4 2025-03-03  5849.72"
      ]
     },
     "execution_count": 81,
     "metadata": {},
     "output_type": "execute_result"
    }
   ],
   "source": [
    "sp.head()"
   ]
  },
  {
   "cell_type": "markdown",
   "id": "16bc400d",
   "metadata": {},
   "source": [
    "### Set Date Index"
   ]
  },
  {
   "cell_type": "code",
   "execution_count": 82,
   "id": "6cb22238",
   "metadata": {},
   "outputs": [],
   "source": [
    "sp = sp.set_index(\"Date\")"
   ]
  },
  {
   "cell_type": "code",
   "execution_count": 83,
   "id": "bed4c07f",
   "metadata": {},
   "outputs": [
    {
     "data": {
      "text/html": [
       "<div>\n",
       "<style scoped>\n",
       "    .dataframe tbody tr th:only-of-type {\n",
       "        vertical-align: middle;\n",
       "    }\n",
       "\n",
       "    .dataframe tbody tr th {\n",
       "        vertical-align: top;\n",
       "    }\n",
       "\n",
       "    .dataframe thead th {\n",
       "        text-align: right;\n",
       "    }\n",
       "</style>\n",
       "<table border=\"1\" class=\"dataframe\">\n",
       "  <thead>\n",
       "    <tr style=\"text-align: right;\">\n",
       "      <th></th>\n",
       "      <th>S&amp;P 500</th>\n",
       "    </tr>\n",
       "    <tr>\n",
       "      <th>Date</th>\n",
       "      <th></th>\n",
       "    </tr>\n",
       "  </thead>\n",
       "  <tbody>\n",
       "    <tr>\n",
       "      <th>2025-03-07</th>\n",
       "      <td>5770.20</td>\n",
       "    </tr>\n",
       "    <tr>\n",
       "      <th>2025-03-06</th>\n",
       "      <td>5738.52</td>\n",
       "    </tr>\n",
       "    <tr>\n",
       "      <th>2025-03-05</th>\n",
       "      <td>5842.63</td>\n",
       "    </tr>\n",
       "    <tr>\n",
       "      <th>2025-03-04</th>\n",
       "      <td>5778.15</td>\n",
       "    </tr>\n",
       "    <tr>\n",
       "      <th>2025-03-03</th>\n",
       "      <td>5849.72</td>\n",
       "    </tr>\n",
       "  </tbody>\n",
       "</table>\n",
       "</div>"
      ],
      "text/plain": [
       "            S&P 500\n",
       "Date               \n",
       "2025-03-07  5770.20\n",
       "2025-03-06  5738.52\n",
       "2025-03-05  5842.63\n",
       "2025-03-04  5778.15\n",
       "2025-03-03  5849.72"
      ]
     },
     "execution_count": 83,
     "metadata": {},
     "output_type": "execute_result"
    }
   ],
   "source": [
    "sp.head()"
   ]
  },
  {
   "cell_type": "markdown",
   "id": "07678020",
   "metadata": {},
   "source": [
    "### Set Frequency"
   ]
  },
  {
   "cell_type": "code",
   "execution_count": 84,
   "id": "bb6f9edd",
   "metadata": {},
   "outputs": [],
   "source": [
    "sp = sp.asfreq('b')"
   ]
  },
  {
   "cell_type": "code",
   "execution_count": 85,
   "id": "1336a9b7",
   "metadata": {},
   "outputs": [
    {
     "data": {
      "text/html": [
       "<div>\n",
       "<style scoped>\n",
       "    .dataframe tbody tr th:only-of-type {\n",
       "        vertical-align: middle;\n",
       "    }\n",
       "\n",
       "    .dataframe tbody tr th {\n",
       "        vertical-align: top;\n",
       "    }\n",
       "\n",
       "    .dataframe thead th {\n",
       "        text-align: right;\n",
       "    }\n",
       "</style>\n",
       "<table border=\"1\" class=\"dataframe\">\n",
       "  <thead>\n",
       "    <tr style=\"text-align: right;\">\n",
       "      <th></th>\n",
       "      <th>S&amp;P 500</th>\n",
       "    </tr>\n",
       "    <tr>\n",
       "      <th>Date</th>\n",
       "      <th></th>\n",
       "    </tr>\n",
       "  </thead>\n",
       "  <tbody>\n",
       "    <tr>\n",
       "      <th>2024-11-01</th>\n",
       "      <td>5728.80</td>\n",
       "    </tr>\n",
       "    <tr>\n",
       "      <th>2024-11-04</th>\n",
       "      <td>5712.69</td>\n",
       "    </tr>\n",
       "    <tr>\n",
       "      <th>2024-11-05</th>\n",
       "      <td>5782.76</td>\n",
       "    </tr>\n",
       "    <tr>\n",
       "      <th>2024-11-06</th>\n",
       "      <td>5929.04</td>\n",
       "    </tr>\n",
       "    <tr>\n",
       "      <th>2024-11-07</th>\n",
       "      <td>5973.10</td>\n",
       "    </tr>\n",
       "  </tbody>\n",
       "</table>\n",
       "</div>"
      ],
      "text/plain": [
       "            S&P 500\n",
       "Date               \n",
       "2024-11-01  5728.80\n",
       "2024-11-04  5712.69\n",
       "2024-11-05  5782.76\n",
       "2024-11-06  5929.04\n",
       "2024-11-07  5973.10"
      ]
     },
     "execution_count": 85,
     "metadata": {},
     "output_type": "execute_result"
    }
   ],
   "source": [
    "sp.head()"
   ]
  },
  {
   "cell_type": "code",
   "execution_count": 86,
   "id": "a4b20958",
   "metadata": {},
   "outputs": [
    {
     "data": {
      "text/plain": [
       "S&P 500    6\n",
       "dtype: int64"
      ]
     },
     "execution_count": 86,
     "metadata": {},
     "output_type": "execute_result"
    }
   ],
   "source": [
    "sp.isnull().sum()"
   ]
  },
  {
   "cell_type": "markdown",
   "id": "9e209266",
   "metadata": {},
   "source": [
    "### Hundle Nulls"
   ]
  },
  {
   "cell_type": "code",
   "execution_count": 87,
   "id": "f53d3d60",
   "metadata": {},
   "outputs": [
    {
     "name": "stderr",
     "output_type": "stream",
     "text": [
      "C:\\Users\\mazen\\AppData\\Local\\Temp\\ipykernel_16940\\1099422429.py:1: FutureWarning: Series.fillna with 'method' is deprecated and will raise in a future version. Use obj.ffill() or obj.bfill() instead.\n",
      "  sp[\"S&P 500\"] = sp[\"S&P 500\"].fillna(method = \"ffill\")\n"
     ]
    }
   ],
   "source": [
    "sp[\"S&P 500\"] = sp[\"S&P 500\"].fillna(method = \"ffill\")"
   ]
  },
  {
   "cell_type": "code",
   "execution_count": 88,
   "id": "f7b87161",
   "metadata": {},
   "outputs": [
    {
     "data": {
      "text/html": [
       "<div>\n",
       "<style scoped>\n",
       "    .dataframe tbody tr th:only-of-type {\n",
       "        vertical-align: middle;\n",
       "    }\n",
       "\n",
       "    .dataframe tbody tr th {\n",
       "        vertical-align: top;\n",
       "    }\n",
       "\n",
       "    .dataframe thead th {\n",
       "        text-align: right;\n",
       "    }\n",
       "</style>\n",
       "<table border=\"1\" class=\"dataframe\">\n",
       "  <thead>\n",
       "    <tr style=\"text-align: right;\">\n",
       "      <th></th>\n",
       "      <th>S&amp;P 500</th>\n",
       "    </tr>\n",
       "    <tr>\n",
       "      <th>Date</th>\n",
       "      <th></th>\n",
       "    </tr>\n",
       "  </thead>\n",
       "  <tbody>\n",
       "    <tr>\n",
       "      <th>2024-11-01</th>\n",
       "      <td>5728.80</td>\n",
       "    </tr>\n",
       "    <tr>\n",
       "      <th>2024-11-04</th>\n",
       "      <td>5712.69</td>\n",
       "    </tr>\n",
       "    <tr>\n",
       "      <th>2024-11-05</th>\n",
       "      <td>5782.76</td>\n",
       "    </tr>\n",
       "    <tr>\n",
       "      <th>2024-11-06</th>\n",
       "      <td>5929.04</td>\n",
       "    </tr>\n",
       "    <tr>\n",
       "      <th>2024-11-07</th>\n",
       "      <td>5973.10</td>\n",
       "    </tr>\n",
       "  </tbody>\n",
       "</table>\n",
       "</div>"
      ],
      "text/plain": [
       "            S&P 500\n",
       "Date               \n",
       "2024-11-01  5728.80\n",
       "2024-11-04  5712.69\n",
       "2024-11-05  5782.76\n",
       "2024-11-06  5929.04\n",
       "2024-11-07  5973.10"
      ]
     },
     "execution_count": 88,
     "metadata": {},
     "output_type": "execute_result"
    }
   ],
   "source": [
    "sp.head()"
   ]
  },
  {
   "cell_type": "code",
   "execution_count": 89,
   "id": "e79af747",
   "metadata": {},
   "outputs": [
    {
     "data": {
      "text/plain": [
       "S&P 500    0\n",
       "dtype: int64"
      ]
     },
     "execution_count": 89,
     "metadata": {},
     "output_type": "execute_result"
    }
   ],
   "source": [
    "sp.isnull().sum()"
   ]
  },
  {
   "cell_type": "code",
   "execution_count": 90,
   "id": "f0cdb4d8",
   "metadata": {},
   "outputs": [
    {
     "data": {
      "text/plain": [
       "(91, 1)"
      ]
     },
     "execution_count": 90,
     "metadata": {},
     "output_type": "execute_result"
    }
   ],
   "source": [
    "sp.shape"
   ]
  },
  {
   "cell_type": "code",
   "execution_count": 91,
   "id": "63fc913a",
   "metadata": {},
   "outputs": [
    {
     "data": {
      "text/html": [
       "<div>\n",
       "<style scoped>\n",
       "    .dataframe tbody tr th:only-of-type {\n",
       "        vertical-align: middle;\n",
       "    }\n",
       "\n",
       "    .dataframe tbody tr th {\n",
       "        vertical-align: top;\n",
       "    }\n",
       "\n",
       "    .dataframe thead th {\n",
       "        text-align: right;\n",
       "    }\n",
       "</style>\n",
       "<table border=\"1\" class=\"dataframe\">\n",
       "  <thead>\n",
       "    <tr style=\"text-align: right;\">\n",
       "      <th></th>\n",
       "      <th>S&amp;P 500</th>\n",
       "    </tr>\n",
       "    <tr>\n",
       "      <th>Date</th>\n",
       "      <th></th>\n",
       "    </tr>\n",
       "  </thead>\n",
       "  <tbody>\n",
       "    <tr>\n",
       "      <th>2025-03-03</th>\n",
       "      <td>5849.72</td>\n",
       "    </tr>\n",
       "    <tr>\n",
       "      <th>2025-03-04</th>\n",
       "      <td>5778.15</td>\n",
       "    </tr>\n",
       "    <tr>\n",
       "      <th>2025-03-05</th>\n",
       "      <td>5842.63</td>\n",
       "    </tr>\n",
       "    <tr>\n",
       "      <th>2025-03-06</th>\n",
       "      <td>5738.52</td>\n",
       "    </tr>\n",
       "    <tr>\n",
       "      <th>2025-03-07</th>\n",
       "      <td>5770.20</td>\n",
       "    </tr>\n",
       "  </tbody>\n",
       "</table>\n",
       "</div>"
      ],
      "text/plain": [
       "            S&P 500\n",
       "Date               \n",
       "2025-03-03  5849.72\n",
       "2025-03-04  5778.15\n",
       "2025-03-05  5842.63\n",
       "2025-03-06  5738.52\n",
       "2025-03-07  5770.20"
      ]
     },
     "execution_count": 91,
     "metadata": {},
     "output_type": "execute_result"
    }
   ],
   "source": [
    "sp.tail(5)"
   ]
  },
  {
   "cell_type": "code",
   "execution_count": 92,
   "id": "6fba24ec",
   "metadata": {},
   "outputs": [],
   "source": [
    "sp = sp.drop(index = sp.loc['2025-02-03' : '2025-03-07'].index)"
   ]
  },
  {
   "cell_type": "code",
   "execution_count": 93,
   "id": "a4b44a46",
   "metadata": {},
   "outputs": [
    {
     "data": {
      "text/html": [
       "<div>\n",
       "<style scoped>\n",
       "    .dataframe tbody tr th:only-of-type {\n",
       "        vertical-align: middle;\n",
       "    }\n",
       "\n",
       "    .dataframe tbody tr th {\n",
       "        vertical-align: top;\n",
       "    }\n",
       "\n",
       "    .dataframe thead th {\n",
       "        text-align: right;\n",
       "    }\n",
       "</style>\n",
       "<table border=\"1\" class=\"dataframe\">\n",
       "  <thead>\n",
       "    <tr style=\"text-align: right;\">\n",
       "      <th></th>\n",
       "      <th>S&amp;P 500</th>\n",
       "    </tr>\n",
       "    <tr>\n",
       "      <th>Date</th>\n",
       "      <th></th>\n",
       "    </tr>\n",
       "  </thead>\n",
       "  <tbody>\n",
       "    <tr>\n",
       "      <th>2025-01-27</th>\n",
       "      <td>6012.28</td>\n",
       "    </tr>\n",
       "    <tr>\n",
       "      <th>2025-01-28</th>\n",
       "      <td>6067.70</td>\n",
       "    </tr>\n",
       "    <tr>\n",
       "      <th>2025-01-29</th>\n",
       "      <td>6039.31</td>\n",
       "    </tr>\n",
       "    <tr>\n",
       "      <th>2025-01-30</th>\n",
       "      <td>6071.17</td>\n",
       "    </tr>\n",
       "    <tr>\n",
       "      <th>2025-01-31</th>\n",
       "      <td>6040.53</td>\n",
       "    </tr>\n",
       "  </tbody>\n",
       "</table>\n",
       "</div>"
      ],
      "text/plain": [
       "            S&P 500\n",
       "Date               \n",
       "2025-01-27  6012.28\n",
       "2025-01-28  6067.70\n",
       "2025-01-29  6039.31\n",
       "2025-01-30  6071.17\n",
       "2025-01-31  6040.53"
      ]
     },
     "execution_count": 93,
     "metadata": {},
     "output_type": "execute_result"
    }
   ],
   "source": [
    "sp.tail(5)"
   ]
  },
  {
   "cell_type": "code",
   "execution_count": 94,
   "id": "92223a21",
   "metadata": {},
   "outputs": [
    {
     "data": {
      "text/plain": [
       "(66, 1)"
      ]
     },
     "execution_count": 94,
     "metadata": {},
     "output_type": "execute_result"
    }
   ],
   "source": [
    "sp.shape"
   ]
  },
  {
   "cell_type": "code",
   "execution_count": null,
   "id": "9e0b8fbe",
   "metadata": {},
   "outputs": [],
   "source": []
  },
  {
   "cell_type": "markdown",
   "id": "9fffac14",
   "metadata": {},
   "source": [
    "### US Dollar Prices"
   ]
  },
  {
   "cell_type": "code",
   "execution_count": 95,
   "id": "55debe82",
   "metadata": {},
   "outputs": [],
   "source": [
    "us = pd.read_csv(\"us_dollar_test.csv\" , usecols = [\"Date\" , \"Adj Close\"])"
   ]
  },
  {
   "cell_type": "code",
   "execution_count": 96,
   "id": "918c7ae6",
   "metadata": {},
   "outputs": [
    {
     "data": {
      "text/html": [
       "<div>\n",
       "<style scoped>\n",
       "    .dataframe tbody tr th:only-of-type {\n",
       "        vertical-align: middle;\n",
       "    }\n",
       "\n",
       "    .dataframe tbody tr th {\n",
       "        vertical-align: top;\n",
       "    }\n",
       "\n",
       "    .dataframe thead th {\n",
       "        text-align: right;\n",
       "    }\n",
       "</style>\n",
       "<table border=\"1\" class=\"dataframe\">\n",
       "  <thead>\n",
       "    <tr style=\"text-align: right;\">\n",
       "      <th></th>\n",
       "      <th>Date</th>\n",
       "      <th>Adj Close</th>\n",
       "    </tr>\n",
       "  </thead>\n",
       "  <tbody>\n",
       "    <tr>\n",
       "      <th>0</th>\n",
       "      <td>2025-03-09</td>\n",
       "      <td>103.68</td>\n",
       "    </tr>\n",
       "    <tr>\n",
       "      <th>1</th>\n",
       "      <td>2025-03-07</td>\n",
       "      <td>103.84</td>\n",
       "    </tr>\n",
       "    <tr>\n",
       "      <th>2</th>\n",
       "      <td>2025-03-06</td>\n",
       "      <td>104.06</td>\n",
       "    </tr>\n",
       "    <tr>\n",
       "      <th>3</th>\n",
       "      <td>2025-03-05</td>\n",
       "      <td>105.74</td>\n",
       "    </tr>\n",
       "    <tr>\n",
       "      <th>4</th>\n",
       "      <td>2025-03-04</td>\n",
       "      <td>105.74</td>\n",
       "    </tr>\n",
       "  </tbody>\n",
       "</table>\n",
       "</div>"
      ],
      "text/plain": [
       "         Date  Adj Close\n",
       "0  2025-03-09     103.68\n",
       "1  2025-03-07     103.84\n",
       "2  2025-03-06     104.06\n",
       "3  2025-03-05     105.74\n",
       "4  2025-03-04     105.74"
      ]
     },
     "execution_count": 96,
     "metadata": {},
     "output_type": "execute_result"
    }
   ],
   "source": [
    "us.head()"
   ]
  },
  {
   "cell_type": "code",
   "execution_count": 97,
   "id": "8341f6a9",
   "metadata": {},
   "outputs": [
    {
     "data": {
      "text/plain": [
       "(87, 2)"
      ]
     },
     "execution_count": 97,
     "metadata": {},
     "output_type": "execute_result"
    }
   ],
   "source": [
    "us.shape"
   ]
  },
  {
   "cell_type": "code",
   "execution_count": 98,
   "id": "297d83bc",
   "metadata": {},
   "outputs": [
    {
     "name": "stdout",
     "output_type": "stream",
     "text": [
      "<class 'pandas.core.frame.DataFrame'>\n",
      "RangeIndex: 87 entries, 0 to 86\n",
      "Data columns (total 2 columns):\n",
      " #   Column     Non-Null Count  Dtype  \n",
      "---  ------     --------------  -----  \n",
      " 0   Date       87 non-null     object \n",
      " 1   Adj Close  87 non-null     float64\n",
      "dtypes: float64(1), object(1)\n",
      "memory usage: 1.5+ KB\n"
     ]
    }
   ],
   "source": [
    "us.info()"
   ]
  },
  {
   "cell_type": "markdown",
   "id": "03dcb8bc",
   "metadata": {},
   "source": [
    "#### Correct Date Format"
   ]
  },
  {
   "cell_type": "code",
   "execution_count": 99,
   "id": "e7b6e7d4",
   "metadata": {},
   "outputs": [],
   "source": [
    "us[\"Date\"] = pd.to_datetime(us[\"Date\"] , format = '%Y-%m-%d')"
   ]
  },
  {
   "cell_type": "code",
   "execution_count": 100,
   "id": "b1da4a37",
   "metadata": {},
   "outputs": [
    {
     "name": "stdout",
     "output_type": "stream",
     "text": [
      "<class 'pandas.core.frame.DataFrame'>\n",
      "RangeIndex: 87 entries, 0 to 86\n",
      "Data columns (total 2 columns):\n",
      " #   Column     Non-Null Count  Dtype         \n",
      "---  ------     --------------  -----         \n",
      " 0   Date       87 non-null     datetime64[ns]\n",
      " 1   Adj Close  87 non-null     float64       \n",
      "dtypes: datetime64[ns](1), float64(1)\n",
      "memory usage: 1.5 KB\n"
     ]
    }
   ],
   "source": [
    "us.info()"
   ]
  },
  {
   "cell_type": "code",
   "execution_count": 101,
   "id": "26526fe0",
   "metadata": {},
   "outputs": [
    {
     "data": {
      "text/html": [
       "<div>\n",
       "<style scoped>\n",
       "    .dataframe tbody tr th:only-of-type {\n",
       "        vertical-align: middle;\n",
       "    }\n",
       "\n",
       "    .dataframe tbody tr th {\n",
       "        vertical-align: top;\n",
       "    }\n",
       "\n",
       "    .dataframe thead th {\n",
       "        text-align: right;\n",
       "    }\n",
       "</style>\n",
       "<table border=\"1\" class=\"dataframe\">\n",
       "  <thead>\n",
       "    <tr style=\"text-align: right;\">\n",
       "      <th></th>\n",
       "      <th>Date</th>\n",
       "      <th>Adj Close</th>\n",
       "    </tr>\n",
       "  </thead>\n",
       "  <tbody>\n",
       "    <tr>\n",
       "      <th>0</th>\n",
       "      <td>2025-03-09</td>\n",
       "      <td>103.68</td>\n",
       "    </tr>\n",
       "    <tr>\n",
       "      <th>1</th>\n",
       "      <td>2025-03-07</td>\n",
       "      <td>103.84</td>\n",
       "    </tr>\n",
       "    <tr>\n",
       "      <th>2</th>\n",
       "      <td>2025-03-06</td>\n",
       "      <td>104.06</td>\n",
       "    </tr>\n",
       "    <tr>\n",
       "      <th>3</th>\n",
       "      <td>2025-03-05</td>\n",
       "      <td>105.74</td>\n",
       "    </tr>\n",
       "    <tr>\n",
       "      <th>4</th>\n",
       "      <td>2025-03-04</td>\n",
       "      <td>105.74</td>\n",
       "    </tr>\n",
       "  </tbody>\n",
       "</table>\n",
       "</div>"
      ],
      "text/plain": [
       "        Date  Adj Close\n",
       "0 2025-03-09     103.68\n",
       "1 2025-03-07     103.84\n",
       "2 2025-03-06     104.06\n",
       "3 2025-03-05     105.74\n",
       "4 2025-03-04     105.74"
      ]
     },
     "execution_count": 101,
     "metadata": {},
     "output_type": "execute_result"
    }
   ],
   "source": [
    "us.head()"
   ]
  },
  {
   "cell_type": "markdown",
   "id": "7fc33ed5",
   "metadata": {},
   "source": [
    "### Column Rename"
   ]
  },
  {
   "cell_type": "code",
   "execution_count": 102,
   "id": "10b2346a",
   "metadata": {},
   "outputs": [],
   "source": [
    "us = us.rename(columns = {\"Adj Close\" : \"US Dollar\"})"
   ]
  },
  {
   "cell_type": "code",
   "execution_count": 103,
   "id": "b3c89ea1",
   "metadata": {},
   "outputs": [
    {
     "data": {
      "text/html": [
       "<div>\n",
       "<style scoped>\n",
       "    .dataframe tbody tr th:only-of-type {\n",
       "        vertical-align: middle;\n",
       "    }\n",
       "\n",
       "    .dataframe tbody tr th {\n",
       "        vertical-align: top;\n",
       "    }\n",
       "\n",
       "    .dataframe thead th {\n",
       "        text-align: right;\n",
       "    }\n",
       "</style>\n",
       "<table border=\"1\" class=\"dataframe\">\n",
       "  <thead>\n",
       "    <tr style=\"text-align: right;\">\n",
       "      <th></th>\n",
       "      <th>Date</th>\n",
       "      <th>US Dollar</th>\n",
       "    </tr>\n",
       "  </thead>\n",
       "  <tbody>\n",
       "    <tr>\n",
       "      <th>0</th>\n",
       "      <td>2025-03-09</td>\n",
       "      <td>103.68</td>\n",
       "    </tr>\n",
       "    <tr>\n",
       "      <th>1</th>\n",
       "      <td>2025-03-07</td>\n",
       "      <td>103.84</td>\n",
       "    </tr>\n",
       "    <tr>\n",
       "      <th>2</th>\n",
       "      <td>2025-03-06</td>\n",
       "      <td>104.06</td>\n",
       "    </tr>\n",
       "    <tr>\n",
       "      <th>3</th>\n",
       "      <td>2025-03-05</td>\n",
       "      <td>105.74</td>\n",
       "    </tr>\n",
       "    <tr>\n",
       "      <th>4</th>\n",
       "      <td>2025-03-04</td>\n",
       "      <td>105.74</td>\n",
       "    </tr>\n",
       "  </tbody>\n",
       "</table>\n",
       "</div>"
      ],
      "text/plain": [
       "        Date  US Dollar\n",
       "0 2025-03-09     103.68\n",
       "1 2025-03-07     103.84\n",
       "2 2025-03-06     104.06\n",
       "3 2025-03-05     105.74\n",
       "4 2025-03-04     105.74"
      ]
     },
     "execution_count": 103,
     "metadata": {},
     "output_type": "execute_result"
    }
   ],
   "source": [
    "us.head()"
   ]
  },
  {
   "cell_type": "markdown",
   "id": "a9909d3a",
   "metadata": {},
   "source": [
    "### Set Date Index"
   ]
  },
  {
   "cell_type": "code",
   "execution_count": 104,
   "id": "8551efd4",
   "metadata": {},
   "outputs": [],
   "source": [
    "us = us.set_index(\"Date\")"
   ]
  },
  {
   "cell_type": "code",
   "execution_count": 105,
   "id": "6bc0724c",
   "metadata": {
    "scrolled": true
   },
   "outputs": [
    {
     "data": {
      "text/html": [
       "<div>\n",
       "<style scoped>\n",
       "    .dataframe tbody tr th:only-of-type {\n",
       "        vertical-align: middle;\n",
       "    }\n",
       "\n",
       "    .dataframe tbody tr th {\n",
       "        vertical-align: top;\n",
       "    }\n",
       "\n",
       "    .dataframe thead th {\n",
       "        text-align: right;\n",
       "    }\n",
       "</style>\n",
       "<table border=\"1\" class=\"dataframe\">\n",
       "  <thead>\n",
       "    <tr style=\"text-align: right;\">\n",
       "      <th></th>\n",
       "      <th>US Dollar</th>\n",
       "    </tr>\n",
       "    <tr>\n",
       "      <th>Date</th>\n",
       "      <th></th>\n",
       "    </tr>\n",
       "  </thead>\n",
       "  <tbody>\n",
       "    <tr>\n",
       "      <th>2025-03-09</th>\n",
       "      <td>103.68</td>\n",
       "    </tr>\n",
       "    <tr>\n",
       "      <th>2025-03-07</th>\n",
       "      <td>103.84</td>\n",
       "    </tr>\n",
       "    <tr>\n",
       "      <th>2025-03-06</th>\n",
       "      <td>104.06</td>\n",
       "    </tr>\n",
       "    <tr>\n",
       "      <th>2025-03-05</th>\n",
       "      <td>105.74</td>\n",
       "    </tr>\n",
       "    <tr>\n",
       "      <th>2025-03-04</th>\n",
       "      <td>105.74</td>\n",
       "    </tr>\n",
       "  </tbody>\n",
       "</table>\n",
       "</div>"
      ],
      "text/plain": [
       "            US Dollar\n",
       "Date                 \n",
       "2025-03-09     103.68\n",
       "2025-03-07     103.84\n",
       "2025-03-06     104.06\n",
       "2025-03-05     105.74\n",
       "2025-03-04     105.74"
      ]
     },
     "execution_count": 105,
     "metadata": {},
     "output_type": "execute_result"
    }
   ],
   "source": [
    "us.head()"
   ]
  },
  {
   "cell_type": "markdown",
   "id": "167f7ba3",
   "metadata": {},
   "source": [
    "### Set Frequency"
   ]
  },
  {
   "cell_type": "code",
   "execution_count": 106,
   "id": "c624d4be",
   "metadata": {},
   "outputs": [],
   "source": [
    "us = us.asfreq('b')"
   ]
  },
  {
   "cell_type": "code",
   "execution_count": 107,
   "id": "83edd1c9",
   "metadata": {},
   "outputs": [
    {
     "data": {
      "text/html": [
       "<div>\n",
       "<style scoped>\n",
       "    .dataframe tbody tr th:only-of-type {\n",
       "        vertical-align: middle;\n",
       "    }\n",
       "\n",
       "    .dataframe tbody tr th {\n",
       "        vertical-align: top;\n",
       "    }\n",
       "\n",
       "    .dataframe thead th {\n",
       "        text-align: right;\n",
       "    }\n",
       "</style>\n",
       "<table border=\"1\" class=\"dataframe\">\n",
       "  <thead>\n",
       "    <tr style=\"text-align: right;\">\n",
       "      <th></th>\n",
       "      <th>US Dollar</th>\n",
       "    </tr>\n",
       "    <tr>\n",
       "      <th>Date</th>\n",
       "      <th></th>\n",
       "    </tr>\n",
       "  </thead>\n",
       "  <tbody>\n",
       "    <tr>\n",
       "      <th>2024-11-01</th>\n",
       "      <td>104.28</td>\n",
       "    </tr>\n",
       "    <tr>\n",
       "      <th>2024-11-04</th>\n",
       "      <td>103.89</td>\n",
       "    </tr>\n",
       "    <tr>\n",
       "      <th>2024-11-05</th>\n",
       "      <td>103.42</td>\n",
       "    </tr>\n",
       "    <tr>\n",
       "      <th>2024-11-06</th>\n",
       "      <td>105.09</td>\n",
       "    </tr>\n",
       "    <tr>\n",
       "      <th>2024-11-07</th>\n",
       "      <td>104.51</td>\n",
       "    </tr>\n",
       "  </tbody>\n",
       "</table>\n",
       "</div>"
      ],
      "text/plain": [
       "            US Dollar\n",
       "Date                 \n",
       "2024-11-01     104.28\n",
       "2024-11-04     103.89\n",
       "2024-11-05     103.42\n",
       "2024-11-06     105.09\n",
       "2024-11-07     104.51"
      ]
     },
     "execution_count": 107,
     "metadata": {},
     "output_type": "execute_result"
    }
   ],
   "source": [
    "us.head()"
   ]
  },
  {
   "cell_type": "code",
   "execution_count": 108,
   "id": "2b251092",
   "metadata": {},
   "outputs": [
    {
     "data": {
      "text/plain": [
       "US Dollar    5\n",
       "dtype: int64"
      ]
     },
     "execution_count": 108,
     "metadata": {},
     "output_type": "execute_result"
    }
   ],
   "source": [
    "us.isnull().sum()"
   ]
  },
  {
   "cell_type": "markdown",
   "id": "7416567b",
   "metadata": {},
   "source": [
    "### Hundle Nulls"
   ]
  },
  {
   "cell_type": "code",
   "execution_count": 109,
   "id": "62809602",
   "metadata": {},
   "outputs": [
    {
     "name": "stderr",
     "output_type": "stream",
     "text": [
      "C:\\Users\\mazen\\AppData\\Local\\Temp\\ipykernel_16940\\2042274180.py:1: FutureWarning: Series.fillna with 'method' is deprecated and will raise in a future version. Use obj.ffill() or obj.bfill() instead.\n",
      "  us[\"US Dollar\"] = us[\"US Dollar\"].fillna(method = \"ffill\")\n"
     ]
    }
   ],
   "source": [
    "us[\"US Dollar\"] = us[\"US Dollar\"].fillna(method = \"ffill\")"
   ]
  },
  {
   "cell_type": "code",
   "execution_count": 110,
   "id": "0a6dadcb",
   "metadata": {},
   "outputs": [
    {
     "data": {
      "text/html": [
       "<div>\n",
       "<style scoped>\n",
       "    .dataframe tbody tr th:only-of-type {\n",
       "        vertical-align: middle;\n",
       "    }\n",
       "\n",
       "    .dataframe tbody tr th {\n",
       "        vertical-align: top;\n",
       "    }\n",
       "\n",
       "    .dataframe thead th {\n",
       "        text-align: right;\n",
       "    }\n",
       "</style>\n",
       "<table border=\"1\" class=\"dataframe\">\n",
       "  <thead>\n",
       "    <tr style=\"text-align: right;\">\n",
       "      <th></th>\n",
       "      <th>US Dollar</th>\n",
       "    </tr>\n",
       "    <tr>\n",
       "      <th>Date</th>\n",
       "      <th></th>\n",
       "    </tr>\n",
       "  </thead>\n",
       "  <tbody>\n",
       "    <tr>\n",
       "      <th>2024-11-01</th>\n",
       "      <td>104.28</td>\n",
       "    </tr>\n",
       "    <tr>\n",
       "      <th>2024-11-04</th>\n",
       "      <td>103.89</td>\n",
       "    </tr>\n",
       "    <tr>\n",
       "      <th>2024-11-05</th>\n",
       "      <td>103.42</td>\n",
       "    </tr>\n",
       "    <tr>\n",
       "      <th>2024-11-06</th>\n",
       "      <td>105.09</td>\n",
       "    </tr>\n",
       "    <tr>\n",
       "      <th>2024-11-07</th>\n",
       "      <td>104.51</td>\n",
       "    </tr>\n",
       "  </tbody>\n",
       "</table>\n",
       "</div>"
      ],
      "text/plain": [
       "            US Dollar\n",
       "Date                 \n",
       "2024-11-01     104.28\n",
       "2024-11-04     103.89\n",
       "2024-11-05     103.42\n",
       "2024-11-06     105.09\n",
       "2024-11-07     104.51"
      ]
     },
     "execution_count": 110,
     "metadata": {},
     "output_type": "execute_result"
    }
   ],
   "source": [
    "us.head()"
   ]
  },
  {
   "cell_type": "code",
   "execution_count": 111,
   "id": "1a1aa42f",
   "metadata": {},
   "outputs": [
    {
     "data": {
      "text/plain": [
       "US Dollar    0\n",
       "dtype: int64"
      ]
     },
     "execution_count": 111,
     "metadata": {},
     "output_type": "execute_result"
    }
   ],
   "source": [
    "us.isnull().sum()"
   ]
  },
  {
   "cell_type": "code",
   "execution_count": 112,
   "id": "43c0681f",
   "metadata": {},
   "outputs": [
    {
     "data": {
      "text/plain": [
       "(91, 1)"
      ]
     },
     "execution_count": 112,
     "metadata": {},
     "output_type": "execute_result"
    }
   ],
   "source": [
    "us.shape"
   ]
  },
  {
   "cell_type": "code",
   "execution_count": 113,
   "id": "c4c48df5",
   "metadata": {},
   "outputs": [
    {
     "data": {
      "text/html": [
       "<div>\n",
       "<style scoped>\n",
       "    .dataframe tbody tr th:only-of-type {\n",
       "        vertical-align: middle;\n",
       "    }\n",
       "\n",
       "    .dataframe tbody tr th {\n",
       "        vertical-align: top;\n",
       "    }\n",
       "\n",
       "    .dataframe thead th {\n",
       "        text-align: right;\n",
       "    }\n",
       "</style>\n",
       "<table border=\"1\" class=\"dataframe\">\n",
       "  <thead>\n",
       "    <tr style=\"text-align: right;\">\n",
       "      <th></th>\n",
       "      <th>US Dollar</th>\n",
       "    </tr>\n",
       "    <tr>\n",
       "      <th>Date</th>\n",
       "      <th></th>\n",
       "    </tr>\n",
       "  </thead>\n",
       "  <tbody>\n",
       "    <tr>\n",
       "      <th>2025-03-03</th>\n",
       "      <td>106.75</td>\n",
       "    </tr>\n",
       "    <tr>\n",
       "      <th>2025-03-04</th>\n",
       "      <td>105.74</td>\n",
       "    </tr>\n",
       "    <tr>\n",
       "      <th>2025-03-05</th>\n",
       "      <td>105.74</td>\n",
       "    </tr>\n",
       "    <tr>\n",
       "      <th>2025-03-06</th>\n",
       "      <td>104.06</td>\n",
       "    </tr>\n",
       "    <tr>\n",
       "      <th>2025-03-07</th>\n",
       "      <td>103.84</td>\n",
       "    </tr>\n",
       "  </tbody>\n",
       "</table>\n",
       "</div>"
      ],
      "text/plain": [
       "            US Dollar\n",
       "Date                 \n",
       "2025-03-03     106.75\n",
       "2025-03-04     105.74\n",
       "2025-03-05     105.74\n",
       "2025-03-06     104.06\n",
       "2025-03-07     103.84"
      ]
     },
     "execution_count": 113,
     "metadata": {},
     "output_type": "execute_result"
    }
   ],
   "source": [
    "us.tail(5)"
   ]
  },
  {
   "cell_type": "code",
   "execution_count": 114,
   "id": "128e739d",
   "metadata": {},
   "outputs": [],
   "source": [
    "us = us.drop(index = us.loc['2025-02-03' : '2025-03-07'].index)"
   ]
  },
  {
   "cell_type": "code",
   "execution_count": 115,
   "id": "acb7960c",
   "metadata": {},
   "outputs": [
    {
     "data": {
      "text/html": [
       "<div>\n",
       "<style scoped>\n",
       "    .dataframe tbody tr th:only-of-type {\n",
       "        vertical-align: middle;\n",
       "    }\n",
       "\n",
       "    .dataframe tbody tr th {\n",
       "        vertical-align: top;\n",
       "    }\n",
       "\n",
       "    .dataframe thead th {\n",
       "        text-align: right;\n",
       "    }\n",
       "</style>\n",
       "<table border=\"1\" class=\"dataframe\">\n",
       "  <thead>\n",
       "    <tr style=\"text-align: right;\">\n",
       "      <th></th>\n",
       "      <th>US Dollar</th>\n",
       "    </tr>\n",
       "    <tr>\n",
       "      <th>Date</th>\n",
       "      <th></th>\n",
       "    </tr>\n",
       "  </thead>\n",
       "  <tbody>\n",
       "    <tr>\n",
       "      <th>2025-01-27</th>\n",
       "      <td>107.34</td>\n",
       "    </tr>\n",
       "    <tr>\n",
       "      <th>2025-01-28</th>\n",
       "      <td>107.87</td>\n",
       "    </tr>\n",
       "    <tr>\n",
       "      <th>2025-01-29</th>\n",
       "      <td>108.00</td>\n",
       "    </tr>\n",
       "    <tr>\n",
       "      <th>2025-01-30</th>\n",
       "      <td>107.80</td>\n",
       "    </tr>\n",
       "    <tr>\n",
       "      <th>2025-01-31</th>\n",
       "      <td>108.37</td>\n",
       "    </tr>\n",
       "  </tbody>\n",
       "</table>\n",
       "</div>"
      ],
      "text/plain": [
       "            US Dollar\n",
       "Date                 \n",
       "2025-01-27     107.34\n",
       "2025-01-28     107.87\n",
       "2025-01-29     108.00\n",
       "2025-01-30     107.80\n",
       "2025-01-31     108.37"
      ]
     },
     "execution_count": 115,
     "metadata": {},
     "output_type": "execute_result"
    }
   ],
   "source": [
    "us.tail(5)"
   ]
  },
  {
   "cell_type": "code",
   "execution_count": 116,
   "id": "37c7614e",
   "metadata": {},
   "outputs": [
    {
     "data": {
      "text/plain": [
       "(66, 1)"
      ]
     },
     "execution_count": 116,
     "metadata": {},
     "output_type": "execute_result"
    }
   ],
   "source": [
    "us.shape"
   ]
  },
  {
   "cell_type": "markdown",
   "id": "d1d2881d",
   "metadata": {},
   "source": [
    "### Oil Prices"
   ]
  },
  {
   "cell_type": "code",
   "execution_count": 117,
   "id": "ba5e3e7f",
   "metadata": {},
   "outputs": [],
   "source": [
    "oil = pd.read_csv(\"oil_test.csv\" , usecols = [\"Date\" , \"Adj Close\"])"
   ]
  },
  {
   "cell_type": "code",
   "execution_count": 118,
   "id": "48cc8609",
   "metadata": {},
   "outputs": [
    {
     "data": {
      "text/html": [
       "<div>\n",
       "<style scoped>\n",
       "    .dataframe tbody tr th:only-of-type {\n",
       "        vertical-align: middle;\n",
       "    }\n",
       "\n",
       "    .dataframe tbody tr th {\n",
       "        vertical-align: top;\n",
       "    }\n",
       "\n",
       "    .dataframe thead th {\n",
       "        text-align: right;\n",
       "    }\n",
       "</style>\n",
       "<table border=\"1\" class=\"dataframe\">\n",
       "  <thead>\n",
       "    <tr style=\"text-align: right;\">\n",
       "      <th></th>\n",
       "      <th>Date</th>\n",
       "      <th>Adj Close</th>\n",
       "    </tr>\n",
       "  </thead>\n",
       "  <tbody>\n",
       "    <tr>\n",
       "      <th>0</th>\n",
       "      <td>2025-03-09</td>\n",
       "      <td>66.55</td>\n",
       "    </tr>\n",
       "    <tr>\n",
       "      <th>1</th>\n",
       "      <td>2025-03-07</td>\n",
       "      <td>67.04</td>\n",
       "    </tr>\n",
       "    <tr>\n",
       "      <th>2</th>\n",
       "      <td>2025-03-06</td>\n",
       "      <td>66.36</td>\n",
       "    </tr>\n",
       "    <tr>\n",
       "      <th>3</th>\n",
       "      <td>2025-03-05</td>\n",
       "      <td>66.31</td>\n",
       "    </tr>\n",
       "    <tr>\n",
       "      <th>4</th>\n",
       "      <td>2025-03-04</td>\n",
       "      <td>68.26</td>\n",
       "    </tr>\n",
       "  </tbody>\n",
       "</table>\n",
       "</div>"
      ],
      "text/plain": [
       "         Date  Adj Close\n",
       "0  2025-03-09      66.55\n",
       "1  2025-03-07      67.04\n",
       "2  2025-03-06      66.36\n",
       "3  2025-03-05      66.31\n",
       "4  2025-03-04      68.26"
      ]
     },
     "execution_count": 118,
     "metadata": {},
     "output_type": "execute_result"
    }
   ],
   "source": [
    "oil.head()"
   ]
  },
  {
   "cell_type": "code",
   "execution_count": 119,
   "id": "0341752e",
   "metadata": {},
   "outputs": [
    {
     "data": {
      "text/plain": [
       "(88, 2)"
      ]
     },
     "execution_count": 119,
     "metadata": {},
     "output_type": "execute_result"
    }
   ],
   "source": [
    "oil.shape"
   ]
  },
  {
   "cell_type": "code",
   "execution_count": 120,
   "id": "713a0395",
   "metadata": {},
   "outputs": [
    {
     "name": "stdout",
     "output_type": "stream",
     "text": [
      "<class 'pandas.core.frame.DataFrame'>\n",
      "RangeIndex: 88 entries, 0 to 87\n",
      "Data columns (total 2 columns):\n",
      " #   Column     Non-Null Count  Dtype  \n",
      "---  ------     --------------  -----  \n",
      " 0   Date       88 non-null     object \n",
      " 1   Adj Close  88 non-null     float64\n",
      "dtypes: float64(1), object(1)\n",
      "memory usage: 1.5+ KB\n"
     ]
    }
   ],
   "source": [
    "oil.info()"
   ]
  },
  {
   "cell_type": "markdown",
   "id": "2229d1f4",
   "metadata": {},
   "source": [
    "#### Correct Date Format"
   ]
  },
  {
   "cell_type": "code",
   "execution_count": 121,
   "id": "f2bda7fc",
   "metadata": {},
   "outputs": [],
   "source": [
    "oil[\"Date\"] = pd.to_datetime(oil[\"Date\"] , format = '%Y-%m-%d')"
   ]
  },
  {
   "cell_type": "code",
   "execution_count": 122,
   "id": "93e15b91",
   "metadata": {},
   "outputs": [
    {
     "name": "stdout",
     "output_type": "stream",
     "text": [
      "<class 'pandas.core.frame.DataFrame'>\n",
      "RangeIndex: 88 entries, 0 to 87\n",
      "Data columns (total 2 columns):\n",
      " #   Column     Non-Null Count  Dtype         \n",
      "---  ------     --------------  -----         \n",
      " 0   Date       88 non-null     datetime64[ns]\n",
      " 1   Adj Close  88 non-null     float64       \n",
      "dtypes: datetime64[ns](1), float64(1)\n",
      "memory usage: 1.5 KB\n"
     ]
    }
   ],
   "source": [
    "oil.info()"
   ]
  },
  {
   "cell_type": "code",
   "execution_count": 123,
   "id": "639f4149",
   "metadata": {},
   "outputs": [
    {
     "data": {
      "text/html": [
       "<div>\n",
       "<style scoped>\n",
       "    .dataframe tbody tr th:only-of-type {\n",
       "        vertical-align: middle;\n",
       "    }\n",
       "\n",
       "    .dataframe tbody tr th {\n",
       "        vertical-align: top;\n",
       "    }\n",
       "\n",
       "    .dataframe thead th {\n",
       "        text-align: right;\n",
       "    }\n",
       "</style>\n",
       "<table border=\"1\" class=\"dataframe\">\n",
       "  <thead>\n",
       "    <tr style=\"text-align: right;\">\n",
       "      <th></th>\n",
       "      <th>Date</th>\n",
       "      <th>Adj Close</th>\n",
       "    </tr>\n",
       "  </thead>\n",
       "  <tbody>\n",
       "    <tr>\n",
       "      <th>0</th>\n",
       "      <td>2025-03-09</td>\n",
       "      <td>66.55</td>\n",
       "    </tr>\n",
       "    <tr>\n",
       "      <th>1</th>\n",
       "      <td>2025-03-07</td>\n",
       "      <td>67.04</td>\n",
       "    </tr>\n",
       "    <tr>\n",
       "      <th>2</th>\n",
       "      <td>2025-03-06</td>\n",
       "      <td>66.36</td>\n",
       "    </tr>\n",
       "    <tr>\n",
       "      <th>3</th>\n",
       "      <td>2025-03-05</td>\n",
       "      <td>66.31</td>\n",
       "    </tr>\n",
       "    <tr>\n",
       "      <th>4</th>\n",
       "      <td>2025-03-04</td>\n",
       "      <td>68.26</td>\n",
       "    </tr>\n",
       "  </tbody>\n",
       "</table>\n",
       "</div>"
      ],
      "text/plain": [
       "        Date  Adj Close\n",
       "0 2025-03-09      66.55\n",
       "1 2025-03-07      67.04\n",
       "2 2025-03-06      66.36\n",
       "3 2025-03-05      66.31\n",
       "4 2025-03-04      68.26"
      ]
     },
     "execution_count": 123,
     "metadata": {},
     "output_type": "execute_result"
    }
   ],
   "source": [
    "oil.head()"
   ]
  },
  {
   "cell_type": "markdown",
   "id": "1f417f64",
   "metadata": {},
   "source": [
    "### Column Rename"
   ]
  },
  {
   "cell_type": "code",
   "execution_count": 124,
   "id": "172482e9",
   "metadata": {},
   "outputs": [],
   "source": [
    "oil = oil.rename(columns = {\"Adj Close\" : \"Oil\"})"
   ]
  },
  {
   "cell_type": "code",
   "execution_count": 125,
   "id": "d26f5e4a",
   "metadata": {},
   "outputs": [
    {
     "data": {
      "text/html": [
       "<div>\n",
       "<style scoped>\n",
       "    .dataframe tbody tr th:only-of-type {\n",
       "        vertical-align: middle;\n",
       "    }\n",
       "\n",
       "    .dataframe tbody tr th {\n",
       "        vertical-align: top;\n",
       "    }\n",
       "\n",
       "    .dataframe thead th {\n",
       "        text-align: right;\n",
       "    }\n",
       "</style>\n",
       "<table border=\"1\" class=\"dataframe\">\n",
       "  <thead>\n",
       "    <tr style=\"text-align: right;\">\n",
       "      <th></th>\n",
       "      <th>Date</th>\n",
       "      <th>Oil</th>\n",
       "    </tr>\n",
       "  </thead>\n",
       "  <tbody>\n",
       "    <tr>\n",
       "      <th>0</th>\n",
       "      <td>2025-03-09</td>\n",
       "      <td>66.55</td>\n",
       "    </tr>\n",
       "    <tr>\n",
       "      <th>1</th>\n",
       "      <td>2025-03-07</td>\n",
       "      <td>67.04</td>\n",
       "    </tr>\n",
       "    <tr>\n",
       "      <th>2</th>\n",
       "      <td>2025-03-06</td>\n",
       "      <td>66.36</td>\n",
       "    </tr>\n",
       "    <tr>\n",
       "      <th>3</th>\n",
       "      <td>2025-03-05</td>\n",
       "      <td>66.31</td>\n",
       "    </tr>\n",
       "    <tr>\n",
       "      <th>4</th>\n",
       "      <td>2025-03-04</td>\n",
       "      <td>68.26</td>\n",
       "    </tr>\n",
       "  </tbody>\n",
       "</table>\n",
       "</div>"
      ],
      "text/plain": [
       "        Date    Oil\n",
       "0 2025-03-09  66.55\n",
       "1 2025-03-07  67.04\n",
       "2 2025-03-06  66.36\n",
       "3 2025-03-05  66.31\n",
       "4 2025-03-04  68.26"
      ]
     },
     "execution_count": 125,
     "metadata": {},
     "output_type": "execute_result"
    }
   ],
   "source": [
    "oil.head()"
   ]
  },
  {
   "cell_type": "markdown",
   "id": "af06527e",
   "metadata": {},
   "source": [
    "### Set Date Index"
   ]
  },
  {
   "cell_type": "code",
   "execution_count": 126,
   "id": "18e0a26a",
   "metadata": {},
   "outputs": [],
   "source": [
    "oil = oil.set_index(\"Date\")"
   ]
  },
  {
   "cell_type": "code",
   "execution_count": 127,
   "id": "a21402f2",
   "metadata": {
    "scrolled": true
   },
   "outputs": [
    {
     "data": {
      "text/html": [
       "<div>\n",
       "<style scoped>\n",
       "    .dataframe tbody tr th:only-of-type {\n",
       "        vertical-align: middle;\n",
       "    }\n",
       "\n",
       "    .dataframe tbody tr th {\n",
       "        vertical-align: top;\n",
       "    }\n",
       "\n",
       "    .dataframe thead th {\n",
       "        text-align: right;\n",
       "    }\n",
       "</style>\n",
       "<table border=\"1\" class=\"dataframe\">\n",
       "  <thead>\n",
       "    <tr style=\"text-align: right;\">\n",
       "      <th></th>\n",
       "      <th>Oil</th>\n",
       "    </tr>\n",
       "    <tr>\n",
       "      <th>Date</th>\n",
       "      <th></th>\n",
       "    </tr>\n",
       "  </thead>\n",
       "  <tbody>\n",
       "    <tr>\n",
       "      <th>2025-03-09</th>\n",
       "      <td>66.55</td>\n",
       "    </tr>\n",
       "    <tr>\n",
       "      <th>2025-03-07</th>\n",
       "      <td>67.04</td>\n",
       "    </tr>\n",
       "    <tr>\n",
       "      <th>2025-03-06</th>\n",
       "      <td>66.36</td>\n",
       "    </tr>\n",
       "    <tr>\n",
       "      <th>2025-03-05</th>\n",
       "      <td>66.31</td>\n",
       "    </tr>\n",
       "    <tr>\n",
       "      <th>2025-03-04</th>\n",
       "      <td>68.26</td>\n",
       "    </tr>\n",
       "  </tbody>\n",
       "</table>\n",
       "</div>"
      ],
      "text/plain": [
       "              Oil\n",
       "Date             \n",
       "2025-03-09  66.55\n",
       "2025-03-07  67.04\n",
       "2025-03-06  66.36\n",
       "2025-03-05  66.31\n",
       "2025-03-04  68.26"
      ]
     },
     "execution_count": 127,
     "metadata": {},
     "output_type": "execute_result"
    }
   ],
   "source": [
    "oil.head()"
   ]
  },
  {
   "cell_type": "markdown",
   "id": "2c2fac88",
   "metadata": {},
   "source": [
    "### Set Frequency"
   ]
  },
  {
   "cell_type": "code",
   "execution_count": 128,
   "id": "42062f64",
   "metadata": {},
   "outputs": [],
   "source": [
    "oil = oil.asfreq('b')"
   ]
  },
  {
   "cell_type": "code",
   "execution_count": 129,
   "id": "68870deb",
   "metadata": {},
   "outputs": [
    {
     "data": {
      "text/html": [
       "<div>\n",
       "<style scoped>\n",
       "    .dataframe tbody tr th:only-of-type {\n",
       "        vertical-align: middle;\n",
       "    }\n",
       "\n",
       "    .dataframe tbody tr th {\n",
       "        vertical-align: top;\n",
       "    }\n",
       "\n",
       "    .dataframe thead th {\n",
       "        text-align: right;\n",
       "    }\n",
       "</style>\n",
       "<table border=\"1\" class=\"dataframe\">\n",
       "  <thead>\n",
       "    <tr style=\"text-align: right;\">\n",
       "      <th></th>\n",
       "      <th>Oil</th>\n",
       "    </tr>\n",
       "    <tr>\n",
       "      <th>Date</th>\n",
       "      <th></th>\n",
       "    </tr>\n",
       "  </thead>\n",
       "  <tbody>\n",
       "    <tr>\n",
       "      <th>2024-11-01</th>\n",
       "      <td>69.49</td>\n",
       "    </tr>\n",
       "    <tr>\n",
       "      <th>2024-11-04</th>\n",
       "      <td>71.47</td>\n",
       "    </tr>\n",
       "    <tr>\n",
       "      <th>2024-11-05</th>\n",
       "      <td>71.99</td>\n",
       "    </tr>\n",
       "    <tr>\n",
       "      <th>2024-11-06</th>\n",
       "      <td>71.69</td>\n",
       "    </tr>\n",
       "    <tr>\n",
       "      <th>2024-11-07</th>\n",
       "      <td>72.36</td>\n",
       "    </tr>\n",
       "  </tbody>\n",
       "</table>\n",
       "</div>"
      ],
      "text/plain": [
       "              Oil\n",
       "Date             \n",
       "2024-11-01  69.49\n",
       "2024-11-04  71.47\n",
       "2024-11-05  71.99\n",
       "2024-11-06  71.69\n",
       "2024-11-07  72.36"
      ]
     },
     "execution_count": 129,
     "metadata": {},
     "output_type": "execute_result"
    }
   ],
   "source": [
    "oil.head()"
   ]
  },
  {
   "cell_type": "code",
   "execution_count": 130,
   "id": "149d6730",
   "metadata": {},
   "outputs": [
    {
     "data": {
      "text/plain": [
       "Oil    4\n",
       "dtype: int64"
      ]
     },
     "execution_count": 130,
     "metadata": {},
     "output_type": "execute_result"
    }
   ],
   "source": [
    "oil.isnull().sum()"
   ]
  },
  {
   "cell_type": "markdown",
   "id": "c338dd08",
   "metadata": {},
   "source": [
    "### Hundle Nulls"
   ]
  },
  {
   "cell_type": "code",
   "execution_count": 131,
   "id": "74fc1982",
   "metadata": {},
   "outputs": [
    {
     "name": "stderr",
     "output_type": "stream",
     "text": [
      "C:\\Users\\mazen\\AppData\\Local\\Temp\\ipykernel_16940\\3892102770.py:1: FutureWarning: Series.fillna with 'method' is deprecated and will raise in a future version. Use obj.ffill() or obj.bfill() instead.\n",
      "  oil[\"Oil\"] = oil[\"Oil\"].fillna(method = \"ffill\")\n"
     ]
    }
   ],
   "source": [
    "oil[\"Oil\"] = oil[\"Oil\"].fillna(method = \"ffill\")"
   ]
  },
  {
   "cell_type": "code",
   "execution_count": 132,
   "id": "4a6f5dfb",
   "metadata": {},
   "outputs": [
    {
     "data": {
      "text/html": [
       "<div>\n",
       "<style scoped>\n",
       "    .dataframe tbody tr th:only-of-type {\n",
       "        vertical-align: middle;\n",
       "    }\n",
       "\n",
       "    .dataframe tbody tr th {\n",
       "        vertical-align: top;\n",
       "    }\n",
       "\n",
       "    .dataframe thead th {\n",
       "        text-align: right;\n",
       "    }\n",
       "</style>\n",
       "<table border=\"1\" class=\"dataframe\">\n",
       "  <thead>\n",
       "    <tr style=\"text-align: right;\">\n",
       "      <th></th>\n",
       "      <th>Oil</th>\n",
       "    </tr>\n",
       "    <tr>\n",
       "      <th>Date</th>\n",
       "      <th></th>\n",
       "    </tr>\n",
       "  </thead>\n",
       "  <tbody>\n",
       "    <tr>\n",
       "      <th>2024-11-01</th>\n",
       "      <td>69.49</td>\n",
       "    </tr>\n",
       "    <tr>\n",
       "      <th>2024-11-04</th>\n",
       "      <td>71.47</td>\n",
       "    </tr>\n",
       "    <tr>\n",
       "      <th>2024-11-05</th>\n",
       "      <td>71.99</td>\n",
       "    </tr>\n",
       "    <tr>\n",
       "      <th>2024-11-06</th>\n",
       "      <td>71.69</td>\n",
       "    </tr>\n",
       "    <tr>\n",
       "      <th>2024-11-07</th>\n",
       "      <td>72.36</td>\n",
       "    </tr>\n",
       "  </tbody>\n",
       "</table>\n",
       "</div>"
      ],
      "text/plain": [
       "              Oil\n",
       "Date             \n",
       "2024-11-01  69.49\n",
       "2024-11-04  71.47\n",
       "2024-11-05  71.99\n",
       "2024-11-06  71.69\n",
       "2024-11-07  72.36"
      ]
     },
     "execution_count": 132,
     "metadata": {},
     "output_type": "execute_result"
    }
   ],
   "source": [
    "oil.head()"
   ]
  },
  {
   "cell_type": "code",
   "execution_count": 133,
   "id": "8ef35346",
   "metadata": {},
   "outputs": [
    {
     "data": {
      "text/plain": [
       "Oil    0\n",
       "dtype: int64"
      ]
     },
     "execution_count": 133,
     "metadata": {},
     "output_type": "execute_result"
    }
   ],
   "source": [
    "oil.isnull().sum()"
   ]
  },
  {
   "cell_type": "code",
   "execution_count": 134,
   "id": "62f29e17",
   "metadata": {},
   "outputs": [
    {
     "data": {
      "text/plain": [
       "(91, 1)"
      ]
     },
     "execution_count": 134,
     "metadata": {},
     "output_type": "execute_result"
    }
   ],
   "source": [
    "oil.shape"
   ]
  },
  {
   "cell_type": "code",
   "execution_count": 135,
   "id": "d5e9cad5",
   "metadata": {},
   "outputs": [
    {
     "data": {
      "text/html": [
       "<div>\n",
       "<style scoped>\n",
       "    .dataframe tbody tr th:only-of-type {\n",
       "        vertical-align: middle;\n",
       "    }\n",
       "\n",
       "    .dataframe tbody tr th {\n",
       "        vertical-align: top;\n",
       "    }\n",
       "\n",
       "    .dataframe thead th {\n",
       "        text-align: right;\n",
       "    }\n",
       "</style>\n",
       "<table border=\"1\" class=\"dataframe\">\n",
       "  <thead>\n",
       "    <tr style=\"text-align: right;\">\n",
       "      <th></th>\n",
       "      <th>Oil</th>\n",
       "    </tr>\n",
       "    <tr>\n",
       "      <th>Date</th>\n",
       "      <th></th>\n",
       "    </tr>\n",
       "  </thead>\n",
       "  <tbody>\n",
       "    <tr>\n",
       "      <th>2025-03-03</th>\n",
       "      <td>68.37</td>\n",
       "    </tr>\n",
       "    <tr>\n",
       "      <th>2025-03-04</th>\n",
       "      <td>68.26</td>\n",
       "    </tr>\n",
       "    <tr>\n",
       "      <th>2025-03-05</th>\n",
       "      <td>66.31</td>\n",
       "    </tr>\n",
       "    <tr>\n",
       "      <th>2025-03-06</th>\n",
       "      <td>66.36</td>\n",
       "    </tr>\n",
       "    <tr>\n",
       "      <th>2025-03-07</th>\n",
       "      <td>67.04</td>\n",
       "    </tr>\n",
       "  </tbody>\n",
       "</table>\n",
       "</div>"
      ],
      "text/plain": [
       "              Oil\n",
       "Date             \n",
       "2025-03-03  68.37\n",
       "2025-03-04  68.26\n",
       "2025-03-05  66.31\n",
       "2025-03-06  66.36\n",
       "2025-03-07  67.04"
      ]
     },
     "execution_count": 135,
     "metadata": {},
     "output_type": "execute_result"
    }
   ],
   "source": [
    "oil.tail(5)"
   ]
  },
  {
   "cell_type": "code",
   "execution_count": 136,
   "id": "ea8260fb",
   "metadata": {},
   "outputs": [],
   "source": [
    "oil = oil.drop(index = oil.loc['2025-02-03' : '2025-03-07'].index)"
   ]
  },
  {
   "cell_type": "code",
   "execution_count": 137,
   "id": "99d10b08",
   "metadata": {},
   "outputs": [
    {
     "data": {
      "text/html": [
       "<div>\n",
       "<style scoped>\n",
       "    .dataframe tbody tr th:only-of-type {\n",
       "        vertical-align: middle;\n",
       "    }\n",
       "\n",
       "    .dataframe tbody tr th {\n",
       "        vertical-align: top;\n",
       "    }\n",
       "\n",
       "    .dataframe thead th {\n",
       "        text-align: right;\n",
       "    }\n",
       "</style>\n",
       "<table border=\"1\" class=\"dataframe\">\n",
       "  <thead>\n",
       "    <tr style=\"text-align: right;\">\n",
       "      <th></th>\n",
       "      <th>Oil</th>\n",
       "    </tr>\n",
       "    <tr>\n",
       "      <th>Date</th>\n",
       "      <th></th>\n",
       "    </tr>\n",
       "  </thead>\n",
       "  <tbody>\n",
       "    <tr>\n",
       "      <th>2025-01-27</th>\n",
       "      <td>73.17</td>\n",
       "    </tr>\n",
       "    <tr>\n",
       "      <th>2025-01-28</th>\n",
       "      <td>73.77</td>\n",
       "    </tr>\n",
       "    <tr>\n",
       "      <th>2025-01-29</th>\n",
       "      <td>72.62</td>\n",
       "    </tr>\n",
       "    <tr>\n",
       "      <th>2025-01-30</th>\n",
       "      <td>72.73</td>\n",
       "    </tr>\n",
       "    <tr>\n",
       "      <th>2025-01-31</th>\n",
       "      <td>72.53</td>\n",
       "    </tr>\n",
       "  </tbody>\n",
       "</table>\n",
       "</div>"
      ],
      "text/plain": [
       "              Oil\n",
       "Date             \n",
       "2025-01-27  73.17\n",
       "2025-01-28  73.77\n",
       "2025-01-29  72.62\n",
       "2025-01-30  72.73\n",
       "2025-01-31  72.53"
      ]
     },
     "execution_count": 137,
     "metadata": {},
     "output_type": "execute_result"
    }
   ],
   "source": [
    "oil.tail(5)"
   ]
  },
  {
   "cell_type": "code",
   "execution_count": 138,
   "id": "37b4642e",
   "metadata": {},
   "outputs": [
    {
     "data": {
      "text/plain": [
       "(66, 1)"
      ]
     },
     "execution_count": 138,
     "metadata": {},
     "output_type": "execute_result"
    }
   ],
   "source": [
    "oil.shape"
   ]
  },
  {
   "cell_type": "markdown",
   "id": "4d26483f",
   "metadata": {},
   "source": [
    "### Combine In One DataFrame"
   ]
  },
  {
   "cell_type": "code",
   "execution_count": 139,
   "id": "e6160365",
   "metadata": {},
   "outputs": [],
   "source": [
    "prices = pd.concat([gold , silver , oil , us , sp] , axis = 'columns')"
   ]
  },
  {
   "cell_type": "code",
   "execution_count": 140,
   "id": "ba0266d0",
   "metadata": {},
   "outputs": [
    {
     "data": {
      "text/html": [
       "<div>\n",
       "<style scoped>\n",
       "    .dataframe tbody tr th:only-of-type {\n",
       "        vertical-align: middle;\n",
       "    }\n",
       "\n",
       "    .dataframe tbody tr th {\n",
       "        vertical-align: top;\n",
       "    }\n",
       "\n",
       "    .dataframe thead th {\n",
       "        text-align: right;\n",
       "    }\n",
       "</style>\n",
       "<table border=\"1\" class=\"dataframe\">\n",
       "  <thead>\n",
       "    <tr style=\"text-align: right;\">\n",
       "      <th></th>\n",
       "      <th>Gold</th>\n",
       "      <th>Silver</th>\n",
       "      <th>Oil</th>\n",
       "      <th>US Dollar</th>\n",
       "      <th>S&amp;P 500</th>\n",
       "    </tr>\n",
       "    <tr>\n",
       "      <th>Date</th>\n",
       "      <th></th>\n",
       "      <th></th>\n",
       "      <th></th>\n",
       "      <th></th>\n",
       "      <th></th>\n",
       "    </tr>\n",
       "  </thead>\n",
       "  <tbody>\n",
       "    <tr>\n",
       "      <th>2024-11-01</th>\n",
       "      <td>2738.6</td>\n",
       "      <td>32.54</td>\n",
       "      <td>69.49</td>\n",
       "      <td>104.28</td>\n",
       "      <td>5728.80</td>\n",
       "    </tr>\n",
       "    <tr>\n",
       "      <th>2024-11-04</th>\n",
       "      <td>2736.1</td>\n",
       "      <td>32.48</td>\n",
       "      <td>71.47</td>\n",
       "      <td>103.89</td>\n",
       "      <td>5712.69</td>\n",
       "    </tr>\n",
       "    <tr>\n",
       "      <th>2024-11-05</th>\n",
       "      <td>2740.3</td>\n",
       "      <td>32.65</td>\n",
       "      <td>71.99</td>\n",
       "      <td>103.42</td>\n",
       "      <td>5782.76</td>\n",
       "    </tr>\n",
       "    <tr>\n",
       "      <th>2024-11-06</th>\n",
       "      <td>2667.6</td>\n",
       "      <td>31.22</td>\n",
       "      <td>71.69</td>\n",
       "      <td>105.09</td>\n",
       "      <td>5929.04</td>\n",
       "    </tr>\n",
       "    <tr>\n",
       "      <th>2024-11-07</th>\n",
       "      <td>2698.4</td>\n",
       "      <td>31.76</td>\n",
       "      <td>72.36</td>\n",
       "      <td>104.51</td>\n",
       "      <td>5973.10</td>\n",
       "    </tr>\n",
       "  </tbody>\n",
       "</table>\n",
       "</div>"
      ],
      "text/plain": [
       "              Gold  Silver    Oil  US Dollar  S&P 500\n",
       "Date                                                 \n",
       "2024-11-01  2738.6   32.54  69.49     104.28  5728.80\n",
       "2024-11-04  2736.1   32.48  71.47     103.89  5712.69\n",
       "2024-11-05  2740.3   32.65  71.99     103.42  5782.76\n",
       "2024-11-06  2667.6   31.22  71.69     105.09  5929.04\n",
       "2024-11-07  2698.4   31.76  72.36     104.51  5973.10"
      ]
     },
     "execution_count": 140,
     "metadata": {},
     "output_type": "execute_result"
    }
   ],
   "source": [
    "prices.head()"
   ]
  },
  {
   "cell_type": "code",
   "execution_count": 141,
   "id": "34d311be",
   "metadata": {},
   "outputs": [
    {
     "data": {
      "text/html": [
       "<div>\n",
       "<style scoped>\n",
       "    .dataframe tbody tr th:only-of-type {\n",
       "        vertical-align: middle;\n",
       "    }\n",
       "\n",
       "    .dataframe tbody tr th {\n",
       "        vertical-align: top;\n",
       "    }\n",
       "\n",
       "    .dataframe thead th {\n",
       "        text-align: right;\n",
       "    }\n",
       "</style>\n",
       "<table border=\"1\" class=\"dataframe\">\n",
       "  <thead>\n",
       "    <tr style=\"text-align: right;\">\n",
       "      <th></th>\n",
       "      <th>Gold</th>\n",
       "      <th>Silver</th>\n",
       "      <th>Oil</th>\n",
       "      <th>US Dollar</th>\n",
       "      <th>S&amp;P 500</th>\n",
       "    </tr>\n",
       "    <tr>\n",
       "      <th>Date</th>\n",
       "      <th></th>\n",
       "      <th></th>\n",
       "      <th></th>\n",
       "      <th></th>\n",
       "      <th></th>\n",
       "    </tr>\n",
       "  </thead>\n",
       "  <tbody>\n",
       "    <tr>\n",
       "      <th>2025-01-27</th>\n",
       "      <td>2737.5</td>\n",
       "      <td>30.25</td>\n",
       "      <td>73.17</td>\n",
       "      <td>107.34</td>\n",
       "      <td>6012.28</td>\n",
       "    </tr>\n",
       "    <tr>\n",
       "      <th>2025-01-28</th>\n",
       "      <td>2766.8</td>\n",
       "      <td>30.73</td>\n",
       "      <td>73.77</td>\n",
       "      <td>107.87</td>\n",
       "      <td>6067.70</td>\n",
       "    </tr>\n",
       "    <tr>\n",
       "      <th>2025-01-29</th>\n",
       "      <td>2769.1</td>\n",
       "      <td>31.24</td>\n",
       "      <td>72.62</td>\n",
       "      <td>108.00</td>\n",
       "      <td>6039.31</td>\n",
       "    </tr>\n",
       "    <tr>\n",
       "      <th>2025-01-30</th>\n",
       "      <td>2823.0</td>\n",
       "      <td>32.36</td>\n",
       "      <td>72.73</td>\n",
       "      <td>107.80</td>\n",
       "      <td>6071.17</td>\n",
       "    </tr>\n",
       "    <tr>\n",
       "      <th>2025-01-31</th>\n",
       "      <td>2812.5</td>\n",
       "      <td>32.13</td>\n",
       "      <td>72.53</td>\n",
       "      <td>108.37</td>\n",
       "      <td>6040.53</td>\n",
       "    </tr>\n",
       "  </tbody>\n",
       "</table>\n",
       "</div>"
      ],
      "text/plain": [
       "              Gold  Silver    Oil  US Dollar  S&P 500\n",
       "Date                                                 \n",
       "2025-01-27  2737.5   30.25  73.17     107.34  6012.28\n",
       "2025-01-28  2766.8   30.73  73.77     107.87  6067.70\n",
       "2025-01-29  2769.1   31.24  72.62     108.00  6039.31\n",
       "2025-01-30  2823.0   32.36  72.73     107.80  6071.17\n",
       "2025-01-31  2812.5   32.13  72.53     108.37  6040.53"
      ]
     },
     "execution_count": 141,
     "metadata": {},
     "output_type": "execute_result"
    }
   ],
   "source": [
    "prices.tail()"
   ]
  },
  {
   "cell_type": "code",
   "execution_count": 142,
   "id": "af0f506c",
   "metadata": {},
   "outputs": [
    {
     "data": {
      "text/plain": [
       "Gold         0\n",
       "Silver       0\n",
       "Oil          0\n",
       "US Dollar    0\n",
       "S&P 500      0\n",
       "dtype: int64"
      ]
     },
     "execution_count": 142,
     "metadata": {},
     "output_type": "execute_result"
    }
   ],
   "source": [
    "prices.isnull().sum()"
   ]
  },
  {
   "cell_type": "code",
   "execution_count": 99,
   "id": "a166bc97",
   "metadata": {},
   "outputs": [],
   "source": [
    "date_range = pd.date_range(start = '2024-11-01' , end = '2024-12-03' , freq = 'b')"
   ]
  },
  {
   "cell_type": "code",
   "execution_count": 100,
   "id": "ea37fd14",
   "metadata": {},
   "outputs": [],
   "source": [
    "prices = prices.drop(date_range)"
   ]
  },
  {
   "cell_type": "code",
   "execution_count": 101,
   "id": "56bee581",
   "metadata": {},
   "outputs": [
    {
     "data": {
      "text/html": [
       "<div>\n",
       "<style scoped>\n",
       "    .dataframe tbody tr th:only-of-type {\n",
       "        vertical-align: middle;\n",
       "    }\n",
       "\n",
       "    .dataframe tbody tr th {\n",
       "        vertical-align: top;\n",
       "    }\n",
       "\n",
       "    .dataframe thead th {\n",
       "        text-align: right;\n",
       "    }\n",
       "</style>\n",
       "<table border=\"1\" class=\"dataframe\">\n",
       "  <thead>\n",
       "    <tr style=\"text-align: right;\">\n",
       "      <th></th>\n",
       "      <th>Gold</th>\n",
       "      <th>Silver</th>\n",
       "      <th>Oil</th>\n",
       "      <th>US Dollar</th>\n",
       "      <th>S&amp;P 500</th>\n",
       "    </tr>\n",
       "    <tr>\n",
       "      <th>Date</th>\n",
       "      <th></th>\n",
       "      <th></th>\n",
       "      <th></th>\n",
       "      <th></th>\n",
       "      <th></th>\n",
       "    </tr>\n",
       "  </thead>\n",
       "  <tbody>\n",
       "    <tr>\n",
       "      <th>2024-09-20</th>\n",
       "      <td>2619.9</td>\n",
       "      <td>31.18</td>\n",
       "      <td>71.92</td>\n",
       "      <td>100.72</td>\n",
       "      <td>5702.55</td>\n",
       "    </tr>\n",
       "    <tr>\n",
       "      <th>2024-09-23</th>\n",
       "      <td>2626.5</td>\n",
       "      <td>30.77</td>\n",
       "      <td>70.37</td>\n",
       "      <td>100.92</td>\n",
       "      <td>5718.57</td>\n",
       "    </tr>\n",
       "    <tr>\n",
       "      <th>2024-09-24</th>\n",
       "      <td>2651.2</td>\n",
       "      <td>32.11</td>\n",
       "      <td>71.56</td>\n",
       "      <td>100.37</td>\n",
       "      <td>5732.93</td>\n",
       "    </tr>\n",
       "    <tr>\n",
       "      <th>2024-09-25</th>\n",
       "      <td>2659.2</td>\n",
       "      <td>31.70</td>\n",
       "      <td>69.69</td>\n",
       "      <td>100.92</td>\n",
       "      <td>5722.26</td>\n",
       "    </tr>\n",
       "    <tr>\n",
       "      <th>2024-09-26</th>\n",
       "      <td>2669.9</td>\n",
       "      <td>32.03</td>\n",
       "      <td>67.67</td>\n",
       "      <td>100.56</td>\n",
       "      <td>5745.37</td>\n",
       "    </tr>\n",
       "    <tr>\n",
       "      <th>2024-09-27</th>\n",
       "      <td>2644.3</td>\n",
       "      <td>31.52</td>\n",
       "      <td>68.18</td>\n",
       "      <td>100.42</td>\n",
       "      <td>5738.17</td>\n",
       "    </tr>\n",
       "    <tr>\n",
       "      <th>2024-09-30</th>\n",
       "      <td>2636.1</td>\n",
       "      <td>31.16</td>\n",
       "      <td>68.17</td>\n",
       "      <td>100.78</td>\n",
       "      <td>5762.48</td>\n",
       "    </tr>\n",
       "    <tr>\n",
       "      <th>2024-10-01</th>\n",
       "      <td>2667.3</td>\n",
       "      <td>31.44</td>\n",
       "      <td>69.83</td>\n",
       "      <td>101.19</td>\n",
       "      <td>5708.75</td>\n",
       "    </tr>\n",
       "    <tr>\n",
       "      <th>2024-10-02</th>\n",
       "      <td>2647.1</td>\n",
       "      <td>31.63</td>\n",
       "      <td>70.10</td>\n",
       "      <td>101.68</td>\n",
       "      <td>5709.54</td>\n",
       "    </tr>\n",
       "    <tr>\n",
       "      <th>2024-10-03</th>\n",
       "      <td>2657.1</td>\n",
       "      <td>32.19</td>\n",
       "      <td>73.71</td>\n",
       "      <td>101.99</td>\n",
       "      <td>5699.94</td>\n",
       "    </tr>\n",
       "    <tr>\n",
       "      <th>2024-10-04</th>\n",
       "      <td>2645.8</td>\n",
       "      <td>32.13</td>\n",
       "      <td>74.38</td>\n",
       "      <td>102.52</td>\n",
       "      <td>5751.07</td>\n",
       "    </tr>\n",
       "    <tr>\n",
       "      <th>2024-10-07</th>\n",
       "      <td>2644.8</td>\n",
       "      <td>31.75</td>\n",
       "      <td>77.14</td>\n",
       "      <td>102.54</td>\n",
       "      <td>5695.94</td>\n",
       "    </tr>\n",
       "    <tr>\n",
       "      <th>2024-10-08</th>\n",
       "      <td>2615.0</td>\n",
       "      <td>30.35</td>\n",
       "      <td>73.57</td>\n",
       "      <td>102.55</td>\n",
       "      <td>5751.13</td>\n",
       "    </tr>\n",
       "    <tr>\n",
       "      <th>2024-10-09</th>\n",
       "      <td>2606.0</td>\n",
       "      <td>30.42</td>\n",
       "      <td>73.24</td>\n",
       "      <td>102.93</td>\n",
       "      <td>5792.04</td>\n",
       "    </tr>\n",
       "    <tr>\n",
       "      <th>2024-10-10</th>\n",
       "      <td>2620.6</td>\n",
       "      <td>31.00</td>\n",
       "      <td>75.85</td>\n",
       "      <td>102.99</td>\n",
       "      <td>5780.05</td>\n",
       "    </tr>\n",
       "    <tr>\n",
       "      <th>2024-10-11</th>\n",
       "      <td>2657.6</td>\n",
       "      <td>31.52</td>\n",
       "      <td>75.56</td>\n",
       "      <td>102.89</td>\n",
       "      <td>5815.03</td>\n",
       "    </tr>\n",
       "    <tr>\n",
       "      <th>2024-10-14</th>\n",
       "      <td>2647.8</td>\n",
       "      <td>31.08</td>\n",
       "      <td>73.83</td>\n",
       "      <td>103.30</td>\n",
       "      <td>5859.85</td>\n",
       "    </tr>\n",
       "    <tr>\n",
       "      <th>2024-10-15</th>\n",
       "      <td>2661.4</td>\n",
       "      <td>31.53</td>\n",
       "      <td>70.58</td>\n",
       "      <td>103.26</td>\n",
       "      <td>5815.26</td>\n",
       "    </tr>\n",
       "    <tr>\n",
       "      <th>2024-10-16</th>\n",
       "      <td>2674.0</td>\n",
       "      <td>31.76</td>\n",
       "      <td>70.39</td>\n",
       "      <td>103.59</td>\n",
       "      <td>5842.47</td>\n",
       "    </tr>\n",
       "    <tr>\n",
       "      <th>2024-10-17</th>\n",
       "      <td>2691.0</td>\n",
       "      <td>31.57</td>\n",
       "      <td>70.67</td>\n",
       "      <td>103.83</td>\n",
       "      <td>5841.47</td>\n",
       "    </tr>\n",
       "    <tr>\n",
       "      <th>2024-10-18</th>\n",
       "      <td>2713.7</td>\n",
       "      <td>33.03</td>\n",
       "      <td>69.22</td>\n",
       "      <td>103.49</td>\n",
       "      <td>5864.67</td>\n",
       "    </tr>\n",
       "    <tr>\n",
       "      <th>2024-10-21</th>\n",
       "      <td>2723.1</td>\n",
       "      <td>33.87</td>\n",
       "      <td>70.56</td>\n",
       "      <td>104.01</td>\n",
       "      <td>5853.98</td>\n",
       "    </tr>\n",
       "    <tr>\n",
       "      <th>2024-10-22</th>\n",
       "      <td>2744.2</td>\n",
       "      <td>34.83</td>\n",
       "      <td>72.09</td>\n",
       "      <td>104.08</td>\n",
       "      <td>5851.20</td>\n",
       "    </tr>\n",
       "    <tr>\n",
       "      <th>2024-10-23</th>\n",
       "      <td>2714.4</td>\n",
       "      <td>33.64</td>\n",
       "      <td>70.77</td>\n",
       "      <td>104.43</td>\n",
       "      <td>5797.42</td>\n",
       "    </tr>\n",
       "    <tr>\n",
       "      <th>2024-10-24</th>\n",
       "      <td>2734.9</td>\n",
       "      <td>33.61</td>\n",
       "      <td>70.19</td>\n",
       "      <td>104.06</td>\n",
       "      <td>5809.86</td>\n",
       "    </tr>\n",
       "    <tr>\n",
       "      <th>2024-10-25</th>\n",
       "      <td>2740.9</td>\n",
       "      <td>33.60</td>\n",
       "      <td>71.78</td>\n",
       "      <td>104.26</td>\n",
       "      <td>5808.12</td>\n",
       "    </tr>\n",
       "    <tr>\n",
       "      <th>2024-10-28</th>\n",
       "      <td>2742.9</td>\n",
       "      <td>33.83</td>\n",
       "      <td>67.38</td>\n",
       "      <td>104.32</td>\n",
       "      <td>5823.52</td>\n",
       "    </tr>\n",
       "    <tr>\n",
       "      <th>2024-10-29</th>\n",
       "      <td>2768.4</td>\n",
       "      <td>34.27</td>\n",
       "      <td>67.21</td>\n",
       "      <td>104.28</td>\n",
       "      <td>5832.92</td>\n",
       "    </tr>\n",
       "    <tr>\n",
       "      <th>2024-10-30</th>\n",
       "      <td>2788.5</td>\n",
       "      <td>33.91</td>\n",
       "      <td>68.61</td>\n",
       "      <td>103.99</td>\n",
       "      <td>5813.67</td>\n",
       "    </tr>\n",
       "    <tr>\n",
       "      <th>2024-10-31</th>\n",
       "      <td>2738.3</td>\n",
       "      <td>32.65</td>\n",
       "      <td>69.26</td>\n",
       "      <td>103.98</td>\n",
       "      <td>5705.45</td>\n",
       "    </tr>\n",
       "  </tbody>\n",
       "</table>\n",
       "</div>"
      ],
      "text/plain": [
       "              Gold  Silver    Oil  US Dollar  S&P 500\n",
       "Date                                                 \n",
       "2024-09-20  2619.9   31.18  71.92     100.72  5702.55\n",
       "2024-09-23  2626.5   30.77  70.37     100.92  5718.57\n",
       "2024-09-24  2651.2   32.11  71.56     100.37  5732.93\n",
       "2024-09-25  2659.2   31.70  69.69     100.92  5722.26\n",
       "2024-09-26  2669.9   32.03  67.67     100.56  5745.37\n",
       "2024-09-27  2644.3   31.52  68.18     100.42  5738.17\n",
       "2024-09-30  2636.1   31.16  68.17     100.78  5762.48\n",
       "2024-10-01  2667.3   31.44  69.83     101.19  5708.75\n",
       "2024-10-02  2647.1   31.63  70.10     101.68  5709.54\n",
       "2024-10-03  2657.1   32.19  73.71     101.99  5699.94\n",
       "2024-10-04  2645.8   32.13  74.38     102.52  5751.07\n",
       "2024-10-07  2644.8   31.75  77.14     102.54  5695.94\n",
       "2024-10-08  2615.0   30.35  73.57     102.55  5751.13\n",
       "2024-10-09  2606.0   30.42  73.24     102.93  5792.04\n",
       "2024-10-10  2620.6   31.00  75.85     102.99  5780.05\n",
       "2024-10-11  2657.6   31.52  75.56     102.89  5815.03\n",
       "2024-10-14  2647.8   31.08  73.83     103.30  5859.85\n",
       "2024-10-15  2661.4   31.53  70.58     103.26  5815.26\n",
       "2024-10-16  2674.0   31.76  70.39     103.59  5842.47\n",
       "2024-10-17  2691.0   31.57  70.67     103.83  5841.47\n",
       "2024-10-18  2713.7   33.03  69.22     103.49  5864.67\n",
       "2024-10-21  2723.1   33.87  70.56     104.01  5853.98\n",
       "2024-10-22  2744.2   34.83  72.09     104.08  5851.20\n",
       "2024-10-23  2714.4   33.64  70.77     104.43  5797.42\n",
       "2024-10-24  2734.9   33.61  70.19     104.06  5809.86\n",
       "2024-10-25  2740.9   33.60  71.78     104.26  5808.12\n",
       "2024-10-28  2742.9   33.83  67.38     104.32  5823.52\n",
       "2024-10-29  2768.4   34.27  67.21     104.28  5832.92\n",
       "2024-10-30  2788.5   33.91  68.61     103.99  5813.67\n",
       "2024-10-31  2738.3   32.65  69.26     103.98  5705.45"
      ]
     },
     "execution_count": 101,
     "metadata": {},
     "output_type": "execute_result"
    }
   ],
   "source": [
    "prices.tail(30)"
   ]
  },
  {
   "cell_type": "code",
   "execution_count": 143,
   "id": "e0ff4d51",
   "metadata": {},
   "outputs": [
    {
     "data": {
      "text/plain": [
       "(66, 5)"
      ]
     },
     "execution_count": 143,
     "metadata": {},
     "output_type": "execute_result"
    }
   ],
   "source": [
    "prices.shape"
   ]
  },
  {
   "cell_type": "markdown",
   "id": "cdeaf040",
   "metadata": {},
   "source": [
    "## The Monthly Data"
   ]
  },
  {
   "cell_type": "markdown",
   "id": "a094b8aa",
   "metadata": {},
   "source": [
    "### Real Interest Data"
   ]
  },
  {
   "cell_type": "code",
   "execution_count": 163,
   "id": "1566a24f",
   "metadata": {},
   "outputs": [],
   "source": [
    "interest = pd.read_csv(\"REAINTRATREARAT10Y_test.csv\")"
   ]
  },
  {
   "cell_type": "code",
   "execution_count": 164,
   "id": "58799b96",
   "metadata": {},
   "outputs": [
    {
     "data": {
      "text/html": [
       "<div>\n",
       "<style scoped>\n",
       "    .dataframe tbody tr th:only-of-type {\n",
       "        vertical-align: middle;\n",
       "    }\n",
       "\n",
       "    .dataframe tbody tr th {\n",
       "        vertical-align: top;\n",
       "    }\n",
       "\n",
       "    .dataframe thead th {\n",
       "        text-align: right;\n",
       "    }\n",
       "</style>\n",
       "<table border=\"1\" class=\"dataframe\">\n",
       "  <thead>\n",
       "    <tr style=\"text-align: right;\">\n",
       "      <th></th>\n",
       "      <th>observation_date</th>\n",
       "      <th>REAINTRATREARAT10Y</th>\n",
       "    </tr>\n",
       "  </thead>\n",
       "  <tbody>\n",
       "    <tr>\n",
       "      <th>0</th>\n",
       "      <td>2024-11-01</td>\n",
       "      <td>1.958417</td>\n",
       "    </tr>\n",
       "    <tr>\n",
       "      <th>1</th>\n",
       "      <td>2024-12-01</td>\n",
       "      <td>1.824369</td>\n",
       "    </tr>\n",
       "    <tr>\n",
       "      <th>2</th>\n",
       "      <td>2025-01-01</td>\n",
       "      <td>2.055532</td>\n",
       "    </tr>\n",
       "    <tr>\n",
       "      <th>3</th>\n",
       "      <td>2025-02-01</td>\n",
       "      <td>2.031282</td>\n",
       "    </tr>\n",
       "  </tbody>\n",
       "</table>\n",
       "</div>"
      ],
      "text/plain": [
       "  observation_date  REAINTRATREARAT10Y\n",
       "0       2024-11-01            1.958417\n",
       "1       2024-12-01            1.824369\n",
       "2       2025-01-01            2.055532\n",
       "3       2025-02-01            2.031282"
      ]
     },
     "execution_count": 164,
     "metadata": {},
     "output_type": "execute_result"
    }
   ],
   "source": [
    "interest.head()"
   ]
  },
  {
   "cell_type": "code",
   "execution_count": 165,
   "id": "13330c67",
   "metadata": {},
   "outputs": [],
   "source": [
    "interest = interest.drop(index = 3)"
   ]
  },
  {
   "cell_type": "code",
   "execution_count": 166,
   "id": "e3104749",
   "metadata": {},
   "outputs": [
    {
     "data": {
      "text/plain": [
       "(3, 2)"
      ]
     },
     "execution_count": 166,
     "metadata": {},
     "output_type": "execute_result"
    }
   ],
   "source": [
    "interest.shape"
   ]
  },
  {
   "cell_type": "code",
   "execution_count": 167,
   "id": "7be4be75",
   "metadata": {},
   "outputs": [
    {
     "name": "stdout",
     "output_type": "stream",
     "text": [
      "<class 'pandas.core.frame.DataFrame'>\n",
      "RangeIndex: 3 entries, 0 to 2\n",
      "Data columns (total 2 columns):\n",
      " #   Column              Non-Null Count  Dtype  \n",
      "---  ------              --------------  -----  \n",
      " 0   observation_date    3 non-null      object \n",
      " 1   REAINTRATREARAT10Y  3 non-null      float64\n",
      "dtypes: float64(1), object(1)\n",
      "memory usage: 180.0+ bytes\n"
     ]
    }
   ],
   "source": [
    "interest.info()"
   ]
  },
  {
   "cell_type": "markdown",
   "id": "4f121227",
   "metadata": {},
   "source": [
    "#### Correct Date Format"
   ]
  },
  {
   "cell_type": "code",
   "execution_count": 168,
   "id": "c58bdcd1",
   "metadata": {},
   "outputs": [],
   "source": [
    "interest[\"observation_date\"] = pd.to_datetime(interest[\"observation_date\"] , format = '%Y-%m-%d')"
   ]
  },
  {
   "cell_type": "code",
   "execution_count": 169,
   "id": "296a4e18",
   "metadata": {
    "scrolled": true
   },
   "outputs": [
    {
     "name": "stdout",
     "output_type": "stream",
     "text": [
      "<class 'pandas.core.frame.DataFrame'>\n",
      "RangeIndex: 3 entries, 0 to 2\n",
      "Data columns (total 2 columns):\n",
      " #   Column              Non-Null Count  Dtype         \n",
      "---  ------              --------------  -----         \n",
      " 0   observation_date    3 non-null      datetime64[ns]\n",
      " 1   REAINTRATREARAT10Y  3 non-null      float64       \n",
      "dtypes: datetime64[ns](1), float64(1)\n",
      "memory usage: 180.0 bytes\n"
     ]
    }
   ],
   "source": [
    "interest.info()"
   ]
  },
  {
   "cell_type": "code",
   "execution_count": 170,
   "id": "9c13f30a",
   "metadata": {},
   "outputs": [
    {
     "data": {
      "text/html": [
       "<div>\n",
       "<style scoped>\n",
       "    .dataframe tbody tr th:only-of-type {\n",
       "        vertical-align: middle;\n",
       "    }\n",
       "\n",
       "    .dataframe tbody tr th {\n",
       "        vertical-align: top;\n",
       "    }\n",
       "\n",
       "    .dataframe thead th {\n",
       "        text-align: right;\n",
       "    }\n",
       "</style>\n",
       "<table border=\"1\" class=\"dataframe\">\n",
       "  <thead>\n",
       "    <tr style=\"text-align: right;\">\n",
       "      <th></th>\n",
       "      <th>observation_date</th>\n",
       "      <th>REAINTRATREARAT10Y</th>\n",
       "    </tr>\n",
       "  </thead>\n",
       "  <tbody>\n",
       "    <tr>\n",
       "      <th>0</th>\n",
       "      <td>2024-11-01</td>\n",
       "      <td>1.958417</td>\n",
       "    </tr>\n",
       "    <tr>\n",
       "      <th>1</th>\n",
       "      <td>2024-12-01</td>\n",
       "      <td>1.824369</td>\n",
       "    </tr>\n",
       "    <tr>\n",
       "      <th>2</th>\n",
       "      <td>2025-01-01</td>\n",
       "      <td>2.055532</td>\n",
       "    </tr>\n",
       "  </tbody>\n",
       "</table>\n",
       "</div>"
      ],
      "text/plain": [
       "  observation_date  REAINTRATREARAT10Y\n",
       "0       2024-11-01            1.958417\n",
       "1       2024-12-01            1.824369\n",
       "2       2025-01-01            2.055532"
      ]
     },
     "execution_count": 170,
     "metadata": {},
     "output_type": "execute_result"
    }
   ],
   "source": [
    "interest.head()"
   ]
  },
  {
   "cell_type": "markdown",
   "id": "74b72bf2",
   "metadata": {},
   "source": [
    "### Column Rename"
   ]
  },
  {
   "cell_type": "code",
   "execution_count": 171,
   "id": "321a12bc",
   "metadata": {},
   "outputs": [],
   "source": [
    "interest = interest.rename(columns = {\"REAINTRATREARAT10Y\" : \"Interest\" , \"observation_date\" : \"Date\"})"
   ]
  },
  {
   "cell_type": "code",
   "execution_count": 172,
   "id": "6e31ccf8",
   "metadata": {},
   "outputs": [
    {
     "data": {
      "text/html": [
       "<div>\n",
       "<style scoped>\n",
       "    .dataframe tbody tr th:only-of-type {\n",
       "        vertical-align: middle;\n",
       "    }\n",
       "\n",
       "    .dataframe tbody tr th {\n",
       "        vertical-align: top;\n",
       "    }\n",
       "\n",
       "    .dataframe thead th {\n",
       "        text-align: right;\n",
       "    }\n",
       "</style>\n",
       "<table border=\"1\" class=\"dataframe\">\n",
       "  <thead>\n",
       "    <tr style=\"text-align: right;\">\n",
       "      <th></th>\n",
       "      <th>Date</th>\n",
       "      <th>Interest</th>\n",
       "    </tr>\n",
       "  </thead>\n",
       "  <tbody>\n",
       "    <tr>\n",
       "      <th>0</th>\n",
       "      <td>2024-11-01</td>\n",
       "      <td>1.958417</td>\n",
       "    </tr>\n",
       "    <tr>\n",
       "      <th>1</th>\n",
       "      <td>2024-12-01</td>\n",
       "      <td>1.824369</td>\n",
       "    </tr>\n",
       "    <tr>\n",
       "      <th>2</th>\n",
       "      <td>2025-01-01</td>\n",
       "      <td>2.055532</td>\n",
       "    </tr>\n",
       "  </tbody>\n",
       "</table>\n",
       "</div>"
      ],
      "text/plain": [
       "        Date  Interest\n",
       "0 2024-11-01  1.958417\n",
       "1 2024-12-01  1.824369\n",
       "2 2025-01-01  2.055532"
      ]
     },
     "execution_count": 172,
     "metadata": {},
     "output_type": "execute_result"
    }
   ],
   "source": [
    "interest.head()"
   ]
  },
  {
   "cell_type": "markdown",
   "id": "edfa5fee",
   "metadata": {},
   "source": [
    "### Set Date Index"
   ]
  },
  {
   "cell_type": "code",
   "execution_count": 173,
   "id": "96376d2f",
   "metadata": {},
   "outputs": [],
   "source": [
    "interest = interest.set_index(\"Date\")"
   ]
  },
  {
   "cell_type": "code",
   "execution_count": 174,
   "id": "c5fa381c",
   "metadata": {
    "scrolled": true
   },
   "outputs": [
    {
     "data": {
      "text/html": [
       "<div>\n",
       "<style scoped>\n",
       "    .dataframe tbody tr th:only-of-type {\n",
       "        vertical-align: middle;\n",
       "    }\n",
       "\n",
       "    .dataframe tbody tr th {\n",
       "        vertical-align: top;\n",
       "    }\n",
       "\n",
       "    .dataframe thead th {\n",
       "        text-align: right;\n",
       "    }\n",
       "</style>\n",
       "<table border=\"1\" class=\"dataframe\">\n",
       "  <thead>\n",
       "    <tr style=\"text-align: right;\">\n",
       "      <th></th>\n",
       "      <th>Interest</th>\n",
       "    </tr>\n",
       "    <tr>\n",
       "      <th>Date</th>\n",
       "      <th></th>\n",
       "    </tr>\n",
       "  </thead>\n",
       "  <tbody>\n",
       "    <tr>\n",
       "      <th>2024-11-01</th>\n",
       "      <td>1.958417</td>\n",
       "    </tr>\n",
       "    <tr>\n",
       "      <th>2024-12-01</th>\n",
       "      <td>1.824369</td>\n",
       "    </tr>\n",
       "    <tr>\n",
       "      <th>2025-01-01</th>\n",
       "      <td>2.055532</td>\n",
       "    </tr>\n",
       "  </tbody>\n",
       "</table>\n",
       "</div>"
      ],
      "text/plain": [
       "            Interest\n",
       "Date                \n",
       "2024-11-01  1.958417\n",
       "2024-12-01  1.824369\n",
       "2025-01-01  2.055532"
      ]
     },
     "execution_count": 174,
     "metadata": {},
     "output_type": "execute_result"
    }
   ],
   "source": [
    "interest.head()"
   ]
  },
  {
   "cell_type": "markdown",
   "id": "49d53ec0",
   "metadata": {},
   "source": [
    "### Set Frequency"
   ]
  },
  {
   "cell_type": "code",
   "execution_count": 175,
   "id": "95ad95cc",
   "metadata": {},
   "outputs": [],
   "source": [
    "interest = interest.asfreq('d')"
   ]
  },
  {
   "cell_type": "code",
   "execution_count": 176,
   "id": "71690ee2",
   "metadata": {},
   "outputs": [
    {
     "data": {
      "text/html": [
       "<div>\n",
       "<style scoped>\n",
       "    .dataframe tbody tr th:only-of-type {\n",
       "        vertical-align: middle;\n",
       "    }\n",
       "\n",
       "    .dataframe tbody tr th {\n",
       "        vertical-align: top;\n",
       "    }\n",
       "\n",
       "    .dataframe thead th {\n",
       "        text-align: right;\n",
       "    }\n",
       "</style>\n",
       "<table border=\"1\" class=\"dataframe\">\n",
       "  <thead>\n",
       "    <tr style=\"text-align: right;\">\n",
       "      <th></th>\n",
       "      <th>Interest</th>\n",
       "    </tr>\n",
       "    <tr>\n",
       "      <th>Date</th>\n",
       "      <th></th>\n",
       "    </tr>\n",
       "  </thead>\n",
       "  <tbody>\n",
       "    <tr>\n",
       "      <th>2024-11-01</th>\n",
       "      <td>1.958417</td>\n",
       "    </tr>\n",
       "    <tr>\n",
       "      <th>2024-11-02</th>\n",
       "      <td>NaN</td>\n",
       "    </tr>\n",
       "    <tr>\n",
       "      <th>2024-11-03</th>\n",
       "      <td>NaN</td>\n",
       "    </tr>\n",
       "    <tr>\n",
       "      <th>2024-11-04</th>\n",
       "      <td>NaN</td>\n",
       "    </tr>\n",
       "    <tr>\n",
       "      <th>2024-11-05</th>\n",
       "      <td>NaN</td>\n",
       "    </tr>\n",
       "  </tbody>\n",
       "</table>\n",
       "</div>"
      ],
      "text/plain": [
       "            Interest\n",
       "Date                \n",
       "2024-11-01  1.958417\n",
       "2024-11-02       NaN\n",
       "2024-11-03       NaN\n",
       "2024-11-04       NaN\n",
       "2024-11-05       NaN"
      ]
     },
     "execution_count": 176,
     "metadata": {},
     "output_type": "execute_result"
    }
   ],
   "source": [
    "interest.head()"
   ]
  },
  {
   "cell_type": "code",
   "execution_count": 177,
   "id": "aea5cd9b",
   "metadata": {},
   "outputs": [
    {
     "data": {
      "text/plain": [
       "Interest    59\n",
       "dtype: int64"
      ]
     },
     "execution_count": 177,
     "metadata": {},
     "output_type": "execute_result"
    }
   ],
   "source": [
    "interest.isnull().sum()"
   ]
  },
  {
   "cell_type": "code",
   "execution_count": 178,
   "id": "1750e1ad",
   "metadata": {},
   "outputs": [
    {
     "data": {
      "text/plain": [
       "(62, 1)"
      ]
     },
     "execution_count": 178,
     "metadata": {},
     "output_type": "execute_result"
    }
   ],
   "source": [
    "interest.shape"
   ]
  },
  {
   "cell_type": "markdown",
   "id": "52300d9a",
   "metadata": {},
   "source": [
    "### Hundle Nulls"
   ]
  },
  {
   "cell_type": "code",
   "execution_count": 179,
   "id": "27d7f681",
   "metadata": {},
   "outputs": [],
   "source": [
    "interest['Interest'] = interest.groupby(interest.index.to_period('M'))['Interest'].transform('first')"
   ]
  },
  {
   "cell_type": "code",
   "execution_count": 180,
   "id": "c14302af",
   "metadata": {},
   "outputs": [
    {
     "data": {
      "text/html": [
       "<div>\n",
       "<style scoped>\n",
       "    .dataframe tbody tr th:only-of-type {\n",
       "        vertical-align: middle;\n",
       "    }\n",
       "\n",
       "    .dataframe tbody tr th {\n",
       "        vertical-align: top;\n",
       "    }\n",
       "\n",
       "    .dataframe thead th {\n",
       "        text-align: right;\n",
       "    }\n",
       "</style>\n",
       "<table border=\"1\" class=\"dataframe\">\n",
       "  <thead>\n",
       "    <tr style=\"text-align: right;\">\n",
       "      <th></th>\n",
       "      <th>Interest</th>\n",
       "    </tr>\n",
       "    <tr>\n",
       "      <th>Date</th>\n",
       "      <th></th>\n",
       "    </tr>\n",
       "  </thead>\n",
       "  <tbody>\n",
       "    <tr>\n",
       "      <th>2024-11-01</th>\n",
       "      <td>1.958417</td>\n",
       "    </tr>\n",
       "    <tr>\n",
       "      <th>2024-11-02</th>\n",
       "      <td>1.958417</td>\n",
       "    </tr>\n",
       "    <tr>\n",
       "      <th>2024-11-03</th>\n",
       "      <td>1.958417</td>\n",
       "    </tr>\n",
       "    <tr>\n",
       "      <th>2024-11-04</th>\n",
       "      <td>1.958417</td>\n",
       "    </tr>\n",
       "    <tr>\n",
       "      <th>2024-11-05</th>\n",
       "      <td>1.958417</td>\n",
       "    </tr>\n",
       "  </tbody>\n",
       "</table>\n",
       "</div>"
      ],
      "text/plain": [
       "            Interest\n",
       "Date                \n",
       "2024-11-01  1.958417\n",
       "2024-11-02  1.958417\n",
       "2024-11-03  1.958417\n",
       "2024-11-04  1.958417\n",
       "2024-11-05  1.958417"
      ]
     },
     "execution_count": 180,
     "metadata": {},
     "output_type": "execute_result"
    }
   ],
   "source": [
    "interest.head(5)"
   ]
  },
  {
   "cell_type": "code",
   "execution_count": 181,
   "id": "16ebea37",
   "metadata": {},
   "outputs": [
    {
     "data": {
      "text/plain": [
       "Interest    0\n",
       "dtype: int64"
      ]
     },
     "execution_count": 181,
     "metadata": {},
     "output_type": "execute_result"
    }
   ],
   "source": [
    "interest.isnull().sum()"
   ]
  },
  {
   "cell_type": "code",
   "execution_count": 185,
   "id": "337d7b66",
   "metadata": {},
   "outputs": [
    {
     "data": {
      "text/plain": [
       "(62, 1)"
      ]
     },
     "execution_count": 185,
     "metadata": {},
     "output_type": "execute_result"
    }
   ],
   "source": [
    "interest.shape"
   ]
  },
  {
   "cell_type": "code",
   "execution_count": 186,
   "id": "de24beec",
   "metadata": {
    "scrolled": false
   },
   "outputs": [
    {
     "data": {
      "text/html": [
       "<div>\n",
       "<style scoped>\n",
       "    .dataframe tbody tr th:only-of-type {\n",
       "        vertical-align: middle;\n",
       "    }\n",
       "\n",
       "    .dataframe tbody tr th {\n",
       "        vertical-align: top;\n",
       "    }\n",
       "\n",
       "    .dataframe thead th {\n",
       "        text-align: right;\n",
       "    }\n",
       "</style>\n",
       "<table border=\"1\" class=\"dataframe\">\n",
       "  <thead>\n",
       "    <tr style=\"text-align: right;\">\n",
       "      <th></th>\n",
       "      <th>Interest</th>\n",
       "    </tr>\n",
       "    <tr>\n",
       "      <th>Date</th>\n",
       "      <th></th>\n",
       "    </tr>\n",
       "  </thead>\n",
       "  <tbody>\n",
       "    <tr>\n",
       "      <th>2024-12-28</th>\n",
       "      <td>1.824369</td>\n",
       "    </tr>\n",
       "    <tr>\n",
       "      <th>2024-12-29</th>\n",
       "      <td>1.824369</td>\n",
       "    </tr>\n",
       "    <tr>\n",
       "      <th>2024-12-30</th>\n",
       "      <td>1.824369</td>\n",
       "    </tr>\n",
       "    <tr>\n",
       "      <th>2024-12-31</th>\n",
       "      <td>1.824369</td>\n",
       "    </tr>\n",
       "    <tr>\n",
       "      <th>2025-01-01</th>\n",
       "      <td>2.055532</td>\n",
       "    </tr>\n",
       "  </tbody>\n",
       "</table>\n",
       "</div>"
      ],
      "text/plain": [
       "            Interest\n",
       "Date                \n",
       "2024-12-28  1.824369\n",
       "2024-12-29  1.824369\n",
       "2024-12-30  1.824369\n",
       "2024-12-31  1.824369\n",
       "2025-01-01  2.055532"
      ]
     },
     "execution_count": 186,
     "metadata": {},
     "output_type": "execute_result"
    }
   ],
   "source": [
    "interest.tail(5)"
   ]
  },
  {
   "cell_type": "code",
   "execution_count": 187,
   "id": "bfab05d7",
   "metadata": {},
   "outputs": [],
   "source": [
    "interest = interest.asfreq('b')"
   ]
  },
  {
   "cell_type": "code",
   "execution_count": 188,
   "id": "df30a25e",
   "metadata": {},
   "outputs": [
    {
     "data": {
      "text/plain": [
       "(44, 1)"
      ]
     },
     "execution_count": 188,
     "metadata": {},
     "output_type": "execute_result"
    }
   ],
   "source": [
    "interest.shape"
   ]
  },
  {
   "cell_type": "code",
   "execution_count": 189,
   "id": "6c0cea03",
   "metadata": {},
   "outputs": [
    {
     "data": {
      "text/html": [
       "<div>\n",
       "<style scoped>\n",
       "    .dataframe tbody tr th:only-of-type {\n",
       "        vertical-align: middle;\n",
       "    }\n",
       "\n",
       "    .dataframe tbody tr th {\n",
       "        vertical-align: top;\n",
       "    }\n",
       "\n",
       "    .dataframe thead th {\n",
       "        text-align: right;\n",
       "    }\n",
       "</style>\n",
       "<table border=\"1\" class=\"dataframe\">\n",
       "  <thead>\n",
       "    <tr style=\"text-align: right;\">\n",
       "      <th></th>\n",
       "      <th>Interest</th>\n",
       "    </tr>\n",
       "    <tr>\n",
       "      <th>Date</th>\n",
       "      <th></th>\n",
       "    </tr>\n",
       "  </thead>\n",
       "  <tbody>\n",
       "    <tr>\n",
       "      <th>2024-12-26</th>\n",
       "      <td>1.824369</td>\n",
       "    </tr>\n",
       "    <tr>\n",
       "      <th>2024-12-27</th>\n",
       "      <td>1.824369</td>\n",
       "    </tr>\n",
       "    <tr>\n",
       "      <th>2024-12-30</th>\n",
       "      <td>1.824369</td>\n",
       "    </tr>\n",
       "    <tr>\n",
       "      <th>2024-12-31</th>\n",
       "      <td>1.824369</td>\n",
       "    </tr>\n",
       "    <tr>\n",
       "      <th>2025-01-01</th>\n",
       "      <td>2.055532</td>\n",
       "    </tr>\n",
       "  </tbody>\n",
       "</table>\n",
       "</div>"
      ],
      "text/plain": [
       "            Interest\n",
       "Date                \n",
       "2024-12-26  1.824369\n",
       "2024-12-27  1.824369\n",
       "2024-12-30  1.824369\n",
       "2024-12-31  1.824369\n",
       "2025-01-01  2.055532"
      ]
     },
     "execution_count": 189,
     "metadata": {},
     "output_type": "execute_result"
    }
   ],
   "source": [
    "interest.tail(5)"
   ]
  },
  {
   "cell_type": "code",
   "execution_count": 190,
   "id": "6ebc479f",
   "metadata": {},
   "outputs": [
    {
     "data": {
      "text/html": [
       "<div>\n",
       "<style scoped>\n",
       "    .dataframe tbody tr th:only-of-type {\n",
       "        vertical-align: middle;\n",
       "    }\n",
       "\n",
       "    .dataframe tbody tr th {\n",
       "        vertical-align: top;\n",
       "    }\n",
       "\n",
       "    .dataframe thead th {\n",
       "        text-align: right;\n",
       "    }\n",
       "</style>\n",
       "<table border=\"1\" class=\"dataframe\">\n",
       "  <thead>\n",
       "    <tr style=\"text-align: right;\">\n",
       "      <th></th>\n",
       "      <th>Interest</th>\n",
       "    </tr>\n",
       "  </thead>\n",
       "  <tbody>\n",
       "    <tr>\n",
       "      <th>2024-11-01</th>\n",
       "      <td>1.958417</td>\n",
       "    </tr>\n",
       "    <tr>\n",
       "      <th>2024-11-04</th>\n",
       "      <td>1.958417</td>\n",
       "    </tr>\n",
       "    <tr>\n",
       "      <th>2024-11-05</th>\n",
       "      <td>1.958417</td>\n",
       "    </tr>\n",
       "    <tr>\n",
       "      <th>2024-11-06</th>\n",
       "      <td>1.958417</td>\n",
       "    </tr>\n",
       "    <tr>\n",
       "      <th>2024-11-07</th>\n",
       "      <td>1.958417</td>\n",
       "    </tr>\n",
       "  </tbody>\n",
       "</table>\n",
       "</div>"
      ],
      "text/plain": [
       "            Interest\n",
       "2024-11-01  1.958417\n",
       "2024-11-04  1.958417\n",
       "2024-11-05  1.958417\n",
       "2024-11-06  1.958417\n",
       "2024-11-07  1.958417"
      ]
     },
     "execution_count": 190,
     "metadata": {},
     "output_type": "execute_result"
    }
   ],
   "source": [
    "last_date = interest.index[-1]  # 2025-01-01\n",
    "last_value = interest.iloc[-1]  # آخر قيمة\n",
    "\n",
    "# إنشاء نطاق تواريخ جديد من آخر تاريخ إلى 2025-01-31\n",
    "new_dates = pd.date_range(start=last_date + pd.Timedelta(days=1), end=\"2025-01-31\", freq=\"b\")\n",
    "\n",
    "# إنشاء DataFrame جديد بنفس آخر قيمة\n",
    "new_df = pd.DataFrame([last_value] * len(new_dates), index=new_dates, columns=interest.columns)\n",
    "\n",
    "# دمج البيانات الأصلية مع البيانات الجديدة\n",
    "interest = pd.concat([interest, new_df])\n",
    "\n",
    "interest.head()"
   ]
  },
  {
   "cell_type": "code",
   "execution_count": 191,
   "id": "f62860bc",
   "metadata": {},
   "outputs": [
    {
     "data": {
      "text/html": [
       "<div>\n",
       "<style scoped>\n",
       "    .dataframe tbody tr th:only-of-type {\n",
       "        vertical-align: middle;\n",
       "    }\n",
       "\n",
       "    .dataframe tbody tr th {\n",
       "        vertical-align: top;\n",
       "    }\n",
       "\n",
       "    .dataframe thead th {\n",
       "        text-align: right;\n",
       "    }\n",
       "</style>\n",
       "<table border=\"1\" class=\"dataframe\">\n",
       "  <thead>\n",
       "    <tr style=\"text-align: right;\">\n",
       "      <th></th>\n",
       "      <th>Interest</th>\n",
       "    </tr>\n",
       "  </thead>\n",
       "  <tbody>\n",
       "    <tr>\n",
       "      <th>2025-01-27</th>\n",
       "      <td>2.055532</td>\n",
       "    </tr>\n",
       "    <tr>\n",
       "      <th>2025-01-28</th>\n",
       "      <td>2.055532</td>\n",
       "    </tr>\n",
       "    <tr>\n",
       "      <th>2025-01-29</th>\n",
       "      <td>2.055532</td>\n",
       "    </tr>\n",
       "    <tr>\n",
       "      <th>2025-01-30</th>\n",
       "      <td>2.055532</td>\n",
       "    </tr>\n",
       "    <tr>\n",
       "      <th>2025-01-31</th>\n",
       "      <td>2.055532</td>\n",
       "    </tr>\n",
       "  </tbody>\n",
       "</table>\n",
       "</div>"
      ],
      "text/plain": [
       "            Interest\n",
       "2025-01-27  2.055532\n",
       "2025-01-28  2.055532\n",
       "2025-01-29  2.055532\n",
       "2025-01-30  2.055532\n",
       "2025-01-31  2.055532"
      ]
     },
     "execution_count": 191,
     "metadata": {},
     "output_type": "execute_result"
    }
   ],
   "source": [
    "interest.tail()"
   ]
  },
  {
   "cell_type": "code",
   "execution_count": 192,
   "id": "98d94461",
   "metadata": {},
   "outputs": [
    {
     "data": {
      "text/plain": [
       "(66, 1)"
      ]
     },
     "execution_count": 192,
     "metadata": {},
     "output_type": "execute_result"
    }
   ],
   "source": [
    "interest.shape"
   ]
  },
  {
   "cell_type": "markdown",
   "id": "0a47fcff",
   "metadata": {},
   "source": [
    "### Correct The ranges"
   ]
  },
  {
   "cell_type": "code",
   "execution_count": 126,
   "id": "eaee3537",
   "metadata": {},
   "outputs": [],
   "source": [
    "start_date = '2000-08-01'\n",
    "end_date = '2000-08-29'"
   ]
  },
  {
   "cell_type": "code",
   "execution_count": 127,
   "id": "e9045f7d",
   "metadata": {},
   "outputs": [],
   "source": [
    "interest = interest[~((interest.index >= start_date) & (interest.index <= end_date))]"
   ]
  },
  {
   "cell_type": "code",
   "execution_count": 128,
   "id": "25e5b333",
   "metadata": {},
   "outputs": [
    {
     "data": {
      "text/html": [
       "<div>\n",
       "<style scoped>\n",
       "    .dataframe tbody tr th:only-of-type {\n",
       "        vertical-align: middle;\n",
       "    }\n",
       "\n",
       "    .dataframe tbody tr th {\n",
       "        vertical-align: top;\n",
       "    }\n",
       "\n",
       "    .dataframe thead th {\n",
       "        text-align: right;\n",
       "    }\n",
       "</style>\n",
       "<table border=\"1\" class=\"dataframe\">\n",
       "  <thead>\n",
       "    <tr style=\"text-align: right;\">\n",
       "      <th></th>\n",
       "      <th>Interest</th>\n",
       "    </tr>\n",
       "    <tr>\n",
       "      <th>Date</th>\n",
       "      <th></th>\n",
       "    </tr>\n",
       "  </thead>\n",
       "  <tbody>\n",
       "    <tr>\n",
       "      <th>2000-08-30</th>\n",
       "      <td>3.045613</td>\n",
       "    </tr>\n",
       "    <tr>\n",
       "      <th>2000-08-31</th>\n",
       "      <td>3.045613</td>\n",
       "    </tr>\n",
       "    <tr>\n",
       "      <th>2000-09-01</th>\n",
       "      <td>2.885996</td>\n",
       "    </tr>\n",
       "    <tr>\n",
       "      <th>2000-09-04</th>\n",
       "      <td>2.885996</td>\n",
       "    </tr>\n",
       "    <tr>\n",
       "      <th>2000-09-05</th>\n",
       "      <td>2.885996</td>\n",
       "    </tr>\n",
       "  </tbody>\n",
       "</table>\n",
       "</div>"
      ],
      "text/plain": [
       "            Interest\n",
       "Date                \n",
       "2000-08-30  3.045613\n",
       "2000-08-31  3.045613\n",
       "2000-09-01  2.885996\n",
       "2000-09-04  2.885996\n",
       "2000-09-05  2.885996"
      ]
     },
     "execution_count": 128,
     "metadata": {},
     "output_type": "execute_result"
    }
   ],
   "source": [
    "interest.head()"
   ]
  },
  {
   "cell_type": "code",
   "execution_count": 220,
   "id": "3d2de99a",
   "metadata": {},
   "outputs": [
    {
     "data": {
      "text/plain": [
       "(66, 1)"
      ]
     },
     "execution_count": 220,
     "metadata": {},
     "output_type": "execute_result"
    }
   ],
   "source": [
    "interest.shape"
   ]
  },
  {
   "cell_type": "code",
   "execution_count": 134,
   "id": "5c1c1b26",
   "metadata": {},
   "outputs": [
    {
     "data": {
      "text/html": [
       "<div>\n",
       "<style scoped>\n",
       "    .dataframe tbody tr th:only-of-type {\n",
       "        vertical-align: middle;\n",
       "    }\n",
       "\n",
       "    .dataframe tbody tr th {\n",
       "        vertical-align: top;\n",
       "    }\n",
       "\n",
       "    .dataframe thead th {\n",
       "        text-align: right;\n",
       "    }\n",
       "</style>\n",
       "<table border=\"1\" class=\"dataframe\">\n",
       "  <thead>\n",
       "    <tr style=\"text-align: right;\">\n",
       "      <th></th>\n",
       "      <th>Interest</th>\n",
       "    </tr>\n",
       "    <tr>\n",
       "      <th>Date</th>\n",
       "      <th></th>\n",
       "    </tr>\n",
       "  </thead>\n",
       "  <tbody>\n",
       "    <tr>\n",
       "      <th>2025-01-27</th>\n",
       "      <td>2.055532</td>\n",
       "    </tr>\n",
       "    <tr>\n",
       "      <th>2025-01-28</th>\n",
       "      <td>2.055532</td>\n",
       "    </tr>\n",
       "    <tr>\n",
       "      <th>2025-01-29</th>\n",
       "      <td>2.055532</td>\n",
       "    </tr>\n",
       "    <tr>\n",
       "      <th>2025-01-30</th>\n",
       "      <td>2.055532</td>\n",
       "    </tr>\n",
       "    <tr>\n",
       "      <th>2025-01-31</th>\n",
       "      <td>2.055532</td>\n",
       "    </tr>\n",
       "  </tbody>\n",
       "</table>\n",
       "</div>"
      ],
      "text/plain": [
       "            Interest\n",
       "Date                \n",
       "2025-01-27  2.055532\n",
       "2025-01-28  2.055532\n",
       "2025-01-29  2.055532\n",
       "2025-01-30  2.055532\n",
       "2025-01-31  2.055532"
      ]
     },
     "execution_count": 134,
     "metadata": {},
     "output_type": "execute_result"
    }
   ],
   "source": [
    "interest.tail()"
   ]
  },
  {
   "cell_type": "code",
   "execution_count": 131,
   "id": "9d7f1961",
   "metadata": {},
   "outputs": [],
   "source": [
    "interest = interest.drop(\"2024-11-01\")"
   ]
  },
  {
   "cell_type": "code",
   "execution_count": 132,
   "id": "b46daff9",
   "metadata": {},
   "outputs": [
    {
     "data": {
      "text/html": [
       "<div>\n",
       "<style scoped>\n",
       "    .dataframe tbody tr th:only-of-type {\n",
       "        vertical-align: middle;\n",
       "    }\n",
       "\n",
       "    .dataframe tbody tr th {\n",
       "        vertical-align: top;\n",
       "    }\n",
       "\n",
       "    .dataframe thead th {\n",
       "        text-align: right;\n",
       "    }\n",
       "</style>\n",
       "<table border=\"1\" class=\"dataframe\">\n",
       "  <thead>\n",
       "    <tr style=\"text-align: right;\">\n",
       "      <th></th>\n",
       "      <th>Interest</th>\n",
       "    </tr>\n",
       "    <tr>\n",
       "      <th>Date</th>\n",
       "      <th></th>\n",
       "    </tr>\n",
       "  </thead>\n",
       "  <tbody>\n",
       "    <tr>\n",
       "      <th>2024-10-25</th>\n",
       "      <td>1.480148</td>\n",
       "    </tr>\n",
       "    <tr>\n",
       "      <th>2024-10-28</th>\n",
       "      <td>1.480148</td>\n",
       "    </tr>\n",
       "    <tr>\n",
       "      <th>2024-10-29</th>\n",
       "      <td>1.480148</td>\n",
       "    </tr>\n",
       "    <tr>\n",
       "      <th>2024-10-30</th>\n",
       "      <td>1.480148</td>\n",
       "    </tr>\n",
       "    <tr>\n",
       "      <th>2024-10-31</th>\n",
       "      <td>1.480148</td>\n",
       "    </tr>\n",
       "  </tbody>\n",
       "</table>\n",
       "</div>"
      ],
      "text/plain": [
       "            Interest\n",
       "Date                \n",
       "2024-10-25  1.480148\n",
       "2024-10-28  1.480148\n",
       "2024-10-29  1.480148\n",
       "2024-10-30  1.480148\n",
       "2024-10-31  1.480148"
      ]
     },
     "execution_count": 132,
     "metadata": {},
     "output_type": "execute_result"
    }
   ],
   "source": [
    "interest.tail()"
   ]
  },
  {
   "cell_type": "code",
   "execution_count": 133,
   "id": "baf27c05",
   "metadata": {},
   "outputs": [
    {
     "data": {
      "text/plain": [
       "(6307, 1)"
      ]
     },
     "execution_count": 133,
     "metadata": {},
     "output_type": "execute_result"
    }
   ],
   "source": [
    "interest.shape"
   ]
  },
  {
   "cell_type": "markdown",
   "id": "808f1149",
   "metadata": {},
   "source": [
    "### Inflation Data"
   ]
  },
  {
   "cell_type": "code",
   "execution_count": 193,
   "id": "5169c016",
   "metadata": {},
   "outputs": [],
   "source": [
    "inflation = pd.read_csv(\"MEDCPIM158SFRBCLE_test.csv\")"
   ]
  },
  {
   "cell_type": "code",
   "execution_count": 194,
   "id": "d1520d08",
   "metadata": {},
   "outputs": [
    {
     "data": {
      "text/html": [
       "<div>\n",
       "<style scoped>\n",
       "    .dataframe tbody tr th:only-of-type {\n",
       "        vertical-align: middle;\n",
       "    }\n",
       "\n",
       "    .dataframe tbody tr th {\n",
       "        vertical-align: top;\n",
       "    }\n",
       "\n",
       "    .dataframe thead th {\n",
       "        text-align: right;\n",
       "    }\n",
       "</style>\n",
       "<table border=\"1\" class=\"dataframe\">\n",
       "  <thead>\n",
       "    <tr style=\"text-align: right;\">\n",
       "      <th></th>\n",
       "      <th>observation_date</th>\n",
       "      <th>MEDCPIM158SFRBCLE</th>\n",
       "    </tr>\n",
       "  </thead>\n",
       "  <tbody>\n",
       "    <tr>\n",
       "      <th>0</th>\n",
       "      <td>2024-11-01</td>\n",
       "      <td>3.226070</td>\n",
       "    </tr>\n",
       "    <tr>\n",
       "      <th>1</th>\n",
       "      <td>2024-12-01</td>\n",
       "      <td>3.234511</td>\n",
       "    </tr>\n",
       "    <tr>\n",
       "      <th>2</th>\n",
       "      <td>2025-01-01</td>\n",
       "      <td>3.930193</td>\n",
       "    </tr>\n",
       "  </tbody>\n",
       "</table>\n",
       "</div>"
      ],
      "text/plain": [
       "  observation_date  MEDCPIM158SFRBCLE\n",
       "0       2024-11-01           3.226070\n",
       "1       2024-12-01           3.234511\n",
       "2       2025-01-01           3.930193"
      ]
     },
     "execution_count": 194,
     "metadata": {},
     "output_type": "execute_result"
    }
   ],
   "source": [
    "inflation.head()"
   ]
  },
  {
   "cell_type": "code",
   "execution_count": 195,
   "id": "3db190d0",
   "metadata": {},
   "outputs": [
    {
     "data": {
      "text/plain": [
       "(3, 2)"
      ]
     },
     "execution_count": 195,
     "metadata": {},
     "output_type": "execute_result"
    }
   ],
   "source": [
    "inflation.shape"
   ]
  },
  {
   "cell_type": "code",
   "execution_count": 196,
   "id": "a8fd12c8",
   "metadata": {},
   "outputs": [
    {
     "name": "stdout",
     "output_type": "stream",
     "text": [
      "<class 'pandas.core.frame.DataFrame'>\n",
      "RangeIndex: 3 entries, 0 to 2\n",
      "Data columns (total 2 columns):\n",
      " #   Column             Non-Null Count  Dtype  \n",
      "---  ------             --------------  -----  \n",
      " 0   observation_date   3 non-null      object \n",
      " 1   MEDCPIM158SFRBCLE  3 non-null      float64\n",
      "dtypes: float64(1), object(1)\n",
      "memory usage: 180.0+ bytes\n"
     ]
    }
   ],
   "source": [
    "inflation.info()"
   ]
  },
  {
   "cell_type": "markdown",
   "id": "8f019b77",
   "metadata": {},
   "source": [
    "#### Correct Date Format"
   ]
  },
  {
   "cell_type": "code",
   "execution_count": 197,
   "id": "a98e37b8",
   "metadata": {},
   "outputs": [],
   "source": [
    "inflation[\"observation_date\"] = pd.to_datetime(inflation[\"observation_date\"] , format = '%Y-%m-%d')"
   ]
  },
  {
   "cell_type": "code",
   "execution_count": 198,
   "id": "616b46fd",
   "metadata": {
    "scrolled": true
   },
   "outputs": [
    {
     "name": "stdout",
     "output_type": "stream",
     "text": [
      "<class 'pandas.core.frame.DataFrame'>\n",
      "RangeIndex: 3 entries, 0 to 2\n",
      "Data columns (total 2 columns):\n",
      " #   Column             Non-Null Count  Dtype         \n",
      "---  ------             --------------  -----         \n",
      " 0   observation_date   3 non-null      datetime64[ns]\n",
      " 1   MEDCPIM158SFRBCLE  3 non-null      float64       \n",
      "dtypes: datetime64[ns](1), float64(1)\n",
      "memory usage: 180.0 bytes\n"
     ]
    }
   ],
   "source": [
    "inflation.info()"
   ]
  },
  {
   "cell_type": "code",
   "execution_count": 199,
   "id": "3ae6c147",
   "metadata": {},
   "outputs": [
    {
     "data": {
      "text/html": [
       "<div>\n",
       "<style scoped>\n",
       "    .dataframe tbody tr th:only-of-type {\n",
       "        vertical-align: middle;\n",
       "    }\n",
       "\n",
       "    .dataframe tbody tr th {\n",
       "        vertical-align: top;\n",
       "    }\n",
       "\n",
       "    .dataframe thead th {\n",
       "        text-align: right;\n",
       "    }\n",
       "</style>\n",
       "<table border=\"1\" class=\"dataframe\">\n",
       "  <thead>\n",
       "    <tr style=\"text-align: right;\">\n",
       "      <th></th>\n",
       "      <th>observation_date</th>\n",
       "      <th>MEDCPIM158SFRBCLE</th>\n",
       "    </tr>\n",
       "  </thead>\n",
       "  <tbody>\n",
       "    <tr>\n",
       "      <th>0</th>\n",
       "      <td>2024-11-01</td>\n",
       "      <td>3.226070</td>\n",
       "    </tr>\n",
       "    <tr>\n",
       "      <th>1</th>\n",
       "      <td>2024-12-01</td>\n",
       "      <td>3.234511</td>\n",
       "    </tr>\n",
       "    <tr>\n",
       "      <th>2</th>\n",
       "      <td>2025-01-01</td>\n",
       "      <td>3.930193</td>\n",
       "    </tr>\n",
       "  </tbody>\n",
       "</table>\n",
       "</div>"
      ],
      "text/plain": [
       "  observation_date  MEDCPIM158SFRBCLE\n",
       "0       2024-11-01           3.226070\n",
       "1       2024-12-01           3.234511\n",
       "2       2025-01-01           3.930193"
      ]
     },
     "execution_count": 199,
     "metadata": {},
     "output_type": "execute_result"
    }
   ],
   "source": [
    "inflation.head()"
   ]
  },
  {
   "cell_type": "markdown",
   "id": "3554ecf3",
   "metadata": {},
   "source": [
    "### Column Rename"
   ]
  },
  {
   "cell_type": "code",
   "execution_count": 200,
   "id": "5a26956c",
   "metadata": {},
   "outputs": [],
   "source": [
    "inflation = inflation.rename(columns = {\"MEDCPIM158SFRBCLE\" : \"Inflation\" , \"observation_date\" : \"Date\"})"
   ]
  },
  {
   "cell_type": "code",
   "execution_count": 201,
   "id": "e6995a68",
   "metadata": {},
   "outputs": [
    {
     "data": {
      "text/html": [
       "<div>\n",
       "<style scoped>\n",
       "    .dataframe tbody tr th:only-of-type {\n",
       "        vertical-align: middle;\n",
       "    }\n",
       "\n",
       "    .dataframe tbody tr th {\n",
       "        vertical-align: top;\n",
       "    }\n",
       "\n",
       "    .dataframe thead th {\n",
       "        text-align: right;\n",
       "    }\n",
       "</style>\n",
       "<table border=\"1\" class=\"dataframe\">\n",
       "  <thead>\n",
       "    <tr style=\"text-align: right;\">\n",
       "      <th></th>\n",
       "      <th>Date</th>\n",
       "      <th>Inflation</th>\n",
       "    </tr>\n",
       "  </thead>\n",
       "  <tbody>\n",
       "    <tr>\n",
       "      <th>0</th>\n",
       "      <td>2024-11-01</td>\n",
       "      <td>3.226070</td>\n",
       "    </tr>\n",
       "    <tr>\n",
       "      <th>1</th>\n",
       "      <td>2024-12-01</td>\n",
       "      <td>3.234511</td>\n",
       "    </tr>\n",
       "    <tr>\n",
       "      <th>2</th>\n",
       "      <td>2025-01-01</td>\n",
       "      <td>3.930193</td>\n",
       "    </tr>\n",
       "  </tbody>\n",
       "</table>\n",
       "</div>"
      ],
      "text/plain": [
       "        Date  Inflation\n",
       "0 2024-11-01   3.226070\n",
       "1 2024-12-01   3.234511\n",
       "2 2025-01-01   3.930193"
      ]
     },
     "execution_count": 201,
     "metadata": {},
     "output_type": "execute_result"
    }
   ],
   "source": [
    "inflation.head()"
   ]
  },
  {
   "cell_type": "markdown",
   "id": "5189b22c",
   "metadata": {},
   "source": [
    "### Set Date Index"
   ]
  },
  {
   "cell_type": "code",
   "execution_count": 202,
   "id": "5471dfe6",
   "metadata": {},
   "outputs": [],
   "source": [
    "inflation = inflation.set_index(\"Date\")"
   ]
  },
  {
   "cell_type": "code",
   "execution_count": 203,
   "id": "81e09bb7",
   "metadata": {
    "scrolled": true
   },
   "outputs": [
    {
     "data": {
      "text/html": [
       "<div>\n",
       "<style scoped>\n",
       "    .dataframe tbody tr th:only-of-type {\n",
       "        vertical-align: middle;\n",
       "    }\n",
       "\n",
       "    .dataframe tbody tr th {\n",
       "        vertical-align: top;\n",
       "    }\n",
       "\n",
       "    .dataframe thead th {\n",
       "        text-align: right;\n",
       "    }\n",
       "</style>\n",
       "<table border=\"1\" class=\"dataframe\">\n",
       "  <thead>\n",
       "    <tr style=\"text-align: right;\">\n",
       "      <th></th>\n",
       "      <th>Inflation</th>\n",
       "    </tr>\n",
       "    <tr>\n",
       "      <th>Date</th>\n",
       "      <th></th>\n",
       "    </tr>\n",
       "  </thead>\n",
       "  <tbody>\n",
       "    <tr>\n",
       "      <th>2024-11-01</th>\n",
       "      <td>3.226070</td>\n",
       "    </tr>\n",
       "    <tr>\n",
       "      <th>2024-12-01</th>\n",
       "      <td>3.234511</td>\n",
       "    </tr>\n",
       "    <tr>\n",
       "      <th>2025-01-01</th>\n",
       "      <td>3.930193</td>\n",
       "    </tr>\n",
       "  </tbody>\n",
       "</table>\n",
       "</div>"
      ],
      "text/plain": [
       "            Inflation\n",
       "Date                 \n",
       "2024-11-01   3.226070\n",
       "2024-12-01   3.234511\n",
       "2025-01-01   3.930193"
      ]
     },
     "execution_count": 203,
     "metadata": {},
     "output_type": "execute_result"
    }
   ],
   "source": [
    "inflation.head()"
   ]
  },
  {
   "cell_type": "markdown",
   "id": "1569ffb7",
   "metadata": {},
   "source": [
    "### Set Frequency"
   ]
  },
  {
   "cell_type": "code",
   "execution_count": 204,
   "id": "4bd8798f",
   "metadata": {},
   "outputs": [],
   "source": [
    "inflation = inflation.asfreq('d')"
   ]
  },
  {
   "cell_type": "code",
   "execution_count": 205,
   "id": "8d75439d",
   "metadata": {},
   "outputs": [
    {
     "data": {
      "text/html": [
       "<div>\n",
       "<style scoped>\n",
       "    .dataframe tbody tr th:only-of-type {\n",
       "        vertical-align: middle;\n",
       "    }\n",
       "\n",
       "    .dataframe tbody tr th {\n",
       "        vertical-align: top;\n",
       "    }\n",
       "\n",
       "    .dataframe thead th {\n",
       "        text-align: right;\n",
       "    }\n",
       "</style>\n",
       "<table border=\"1\" class=\"dataframe\">\n",
       "  <thead>\n",
       "    <tr style=\"text-align: right;\">\n",
       "      <th></th>\n",
       "      <th>Inflation</th>\n",
       "    </tr>\n",
       "    <tr>\n",
       "      <th>Date</th>\n",
       "      <th></th>\n",
       "    </tr>\n",
       "  </thead>\n",
       "  <tbody>\n",
       "    <tr>\n",
       "      <th>2024-11-01</th>\n",
       "      <td>3.22607</td>\n",
       "    </tr>\n",
       "    <tr>\n",
       "      <th>2024-11-02</th>\n",
       "      <td>NaN</td>\n",
       "    </tr>\n",
       "    <tr>\n",
       "      <th>2024-11-03</th>\n",
       "      <td>NaN</td>\n",
       "    </tr>\n",
       "    <tr>\n",
       "      <th>2024-11-04</th>\n",
       "      <td>NaN</td>\n",
       "    </tr>\n",
       "    <tr>\n",
       "      <th>2024-11-05</th>\n",
       "      <td>NaN</td>\n",
       "    </tr>\n",
       "  </tbody>\n",
       "</table>\n",
       "</div>"
      ],
      "text/plain": [
       "            Inflation\n",
       "Date                 \n",
       "2024-11-01    3.22607\n",
       "2024-11-02        NaN\n",
       "2024-11-03        NaN\n",
       "2024-11-04        NaN\n",
       "2024-11-05        NaN"
      ]
     },
     "execution_count": 205,
     "metadata": {},
     "output_type": "execute_result"
    }
   ],
   "source": [
    "inflation.head()"
   ]
  },
  {
   "cell_type": "code",
   "execution_count": 206,
   "id": "d88a84f9",
   "metadata": {},
   "outputs": [
    {
     "data": {
      "text/plain": [
       "Inflation    59\n",
       "dtype: int64"
      ]
     },
     "execution_count": 206,
     "metadata": {},
     "output_type": "execute_result"
    }
   ],
   "source": [
    "inflation.isnull().sum()"
   ]
  },
  {
   "cell_type": "code",
   "execution_count": 207,
   "id": "618a7b21",
   "metadata": {},
   "outputs": [
    {
     "data": {
      "text/plain": [
       "(62, 1)"
      ]
     },
     "execution_count": 207,
     "metadata": {},
     "output_type": "execute_result"
    }
   ],
   "source": [
    "inflation.shape"
   ]
  },
  {
   "cell_type": "markdown",
   "id": "206299bc",
   "metadata": {},
   "source": [
    "### Hundle Nulls"
   ]
  },
  {
   "cell_type": "code",
   "execution_count": 208,
   "id": "613a11c3",
   "metadata": {},
   "outputs": [],
   "source": [
    "inflation['Inflation'] = inflation.groupby(inflation.index.to_period('M'))['Inflation'].transform('first')"
   ]
  },
  {
   "cell_type": "code",
   "execution_count": 209,
   "id": "1e5ba2c2",
   "metadata": {},
   "outputs": [
    {
     "data": {
      "text/html": [
       "<div>\n",
       "<style scoped>\n",
       "    .dataframe tbody tr th:only-of-type {\n",
       "        vertical-align: middle;\n",
       "    }\n",
       "\n",
       "    .dataframe tbody tr th {\n",
       "        vertical-align: top;\n",
       "    }\n",
       "\n",
       "    .dataframe thead th {\n",
       "        text-align: right;\n",
       "    }\n",
       "</style>\n",
       "<table border=\"1\" class=\"dataframe\">\n",
       "  <thead>\n",
       "    <tr style=\"text-align: right;\">\n",
       "      <th></th>\n",
       "      <th>Inflation</th>\n",
       "    </tr>\n",
       "    <tr>\n",
       "      <th>Date</th>\n",
       "      <th></th>\n",
       "    </tr>\n",
       "  </thead>\n",
       "  <tbody>\n",
       "    <tr>\n",
       "      <th>2024-11-01</th>\n",
       "      <td>3.22607</td>\n",
       "    </tr>\n",
       "    <tr>\n",
       "      <th>2024-11-02</th>\n",
       "      <td>3.22607</td>\n",
       "    </tr>\n",
       "    <tr>\n",
       "      <th>2024-11-03</th>\n",
       "      <td>3.22607</td>\n",
       "    </tr>\n",
       "    <tr>\n",
       "      <th>2024-11-04</th>\n",
       "      <td>3.22607</td>\n",
       "    </tr>\n",
       "    <tr>\n",
       "      <th>2024-11-05</th>\n",
       "      <td>3.22607</td>\n",
       "    </tr>\n",
       "  </tbody>\n",
       "</table>\n",
       "</div>"
      ],
      "text/plain": [
       "            Inflation\n",
       "Date                 \n",
       "2024-11-01    3.22607\n",
       "2024-11-02    3.22607\n",
       "2024-11-03    3.22607\n",
       "2024-11-04    3.22607\n",
       "2024-11-05    3.22607"
      ]
     },
     "execution_count": 209,
     "metadata": {},
     "output_type": "execute_result"
    }
   ],
   "source": [
    "inflation.head(5)"
   ]
  },
  {
   "cell_type": "code",
   "execution_count": 210,
   "id": "a49b889f",
   "metadata": {},
   "outputs": [
    {
     "data": {
      "text/plain": [
       "Inflation    0\n",
       "dtype: int64"
      ]
     },
     "execution_count": 210,
     "metadata": {},
     "output_type": "execute_result"
    }
   ],
   "source": [
    "inflation.isnull().sum()"
   ]
  },
  {
   "cell_type": "code",
   "execution_count": 211,
   "id": "09b6b1a0",
   "metadata": {},
   "outputs": [
    {
     "data": {
      "text/plain": [
       "(62, 1)"
      ]
     },
     "execution_count": 211,
     "metadata": {},
     "output_type": "execute_result"
    }
   ],
   "source": [
    "inflation.shape"
   ]
  },
  {
   "cell_type": "code",
   "execution_count": 212,
   "id": "22c41efb",
   "metadata": {
    "scrolled": false
   },
   "outputs": [
    {
     "data": {
      "text/html": [
       "<div>\n",
       "<style scoped>\n",
       "    .dataframe tbody tr th:only-of-type {\n",
       "        vertical-align: middle;\n",
       "    }\n",
       "\n",
       "    .dataframe tbody tr th {\n",
       "        vertical-align: top;\n",
       "    }\n",
       "\n",
       "    .dataframe thead th {\n",
       "        text-align: right;\n",
       "    }\n",
       "</style>\n",
       "<table border=\"1\" class=\"dataframe\">\n",
       "  <thead>\n",
       "    <tr style=\"text-align: right;\">\n",
       "      <th></th>\n",
       "      <th>Inflation</th>\n",
       "    </tr>\n",
       "    <tr>\n",
       "      <th>Date</th>\n",
       "      <th></th>\n",
       "    </tr>\n",
       "  </thead>\n",
       "  <tbody>\n",
       "    <tr>\n",
       "      <th>2024-12-28</th>\n",
       "      <td>3.234511</td>\n",
       "    </tr>\n",
       "    <tr>\n",
       "      <th>2024-12-29</th>\n",
       "      <td>3.234511</td>\n",
       "    </tr>\n",
       "    <tr>\n",
       "      <th>2024-12-30</th>\n",
       "      <td>3.234511</td>\n",
       "    </tr>\n",
       "    <tr>\n",
       "      <th>2024-12-31</th>\n",
       "      <td>3.234511</td>\n",
       "    </tr>\n",
       "    <tr>\n",
       "      <th>2025-01-01</th>\n",
       "      <td>3.930193</td>\n",
       "    </tr>\n",
       "  </tbody>\n",
       "</table>\n",
       "</div>"
      ],
      "text/plain": [
       "            Inflation\n",
       "Date                 \n",
       "2024-12-28   3.234511\n",
       "2024-12-29   3.234511\n",
       "2024-12-30   3.234511\n",
       "2024-12-31   3.234511\n",
       "2025-01-01   3.930193"
      ]
     },
     "execution_count": 212,
     "metadata": {},
     "output_type": "execute_result"
    }
   ],
   "source": [
    "inflation.tail(5)"
   ]
  },
  {
   "cell_type": "code",
   "execution_count": 213,
   "id": "fe5cc1bb",
   "metadata": {},
   "outputs": [],
   "source": [
    "inflation = inflation.asfreq('b')"
   ]
  },
  {
   "cell_type": "code",
   "execution_count": 214,
   "id": "2580f655",
   "metadata": {},
   "outputs": [
    {
     "data": {
      "text/plain": [
       "(44, 1)"
      ]
     },
     "execution_count": 214,
     "metadata": {},
     "output_type": "execute_result"
    }
   ],
   "source": [
    "inflation.shape"
   ]
  },
  {
   "cell_type": "code",
   "execution_count": 215,
   "id": "b88f89e2",
   "metadata": {},
   "outputs": [
    {
     "data": {
      "text/html": [
       "<div>\n",
       "<style scoped>\n",
       "    .dataframe tbody tr th:only-of-type {\n",
       "        vertical-align: middle;\n",
       "    }\n",
       "\n",
       "    .dataframe tbody tr th {\n",
       "        vertical-align: top;\n",
       "    }\n",
       "\n",
       "    .dataframe thead th {\n",
       "        text-align: right;\n",
       "    }\n",
       "</style>\n",
       "<table border=\"1\" class=\"dataframe\">\n",
       "  <thead>\n",
       "    <tr style=\"text-align: right;\">\n",
       "      <th></th>\n",
       "      <th>Inflation</th>\n",
       "    </tr>\n",
       "    <tr>\n",
       "      <th>Date</th>\n",
       "      <th></th>\n",
       "    </tr>\n",
       "  </thead>\n",
       "  <tbody>\n",
       "    <tr>\n",
       "      <th>2024-12-26</th>\n",
       "      <td>3.234511</td>\n",
       "    </tr>\n",
       "    <tr>\n",
       "      <th>2024-12-27</th>\n",
       "      <td>3.234511</td>\n",
       "    </tr>\n",
       "    <tr>\n",
       "      <th>2024-12-30</th>\n",
       "      <td>3.234511</td>\n",
       "    </tr>\n",
       "    <tr>\n",
       "      <th>2024-12-31</th>\n",
       "      <td>3.234511</td>\n",
       "    </tr>\n",
       "    <tr>\n",
       "      <th>2025-01-01</th>\n",
       "      <td>3.930193</td>\n",
       "    </tr>\n",
       "  </tbody>\n",
       "</table>\n",
       "</div>"
      ],
      "text/plain": [
       "            Inflation\n",
       "Date                 \n",
       "2024-12-26   3.234511\n",
       "2024-12-27   3.234511\n",
       "2024-12-30   3.234511\n",
       "2024-12-31   3.234511\n",
       "2025-01-01   3.930193"
      ]
     },
     "execution_count": 215,
     "metadata": {},
     "output_type": "execute_result"
    }
   ],
   "source": [
    "inflation.tail(5)"
   ]
  },
  {
   "cell_type": "code",
   "execution_count": 216,
   "id": "58ba3d59",
   "metadata": {
    "scrolled": false
   },
   "outputs": [
    {
     "data": {
      "text/html": [
       "<div>\n",
       "<style scoped>\n",
       "    .dataframe tbody tr th:only-of-type {\n",
       "        vertical-align: middle;\n",
       "    }\n",
       "\n",
       "    .dataframe tbody tr th {\n",
       "        vertical-align: top;\n",
       "    }\n",
       "\n",
       "    .dataframe thead th {\n",
       "        text-align: right;\n",
       "    }\n",
       "</style>\n",
       "<table border=\"1\" class=\"dataframe\">\n",
       "  <thead>\n",
       "    <tr style=\"text-align: right;\">\n",
       "      <th></th>\n",
       "      <th>Inflation</th>\n",
       "    </tr>\n",
       "    <tr>\n",
       "      <th>Date</th>\n",
       "      <th></th>\n",
       "    </tr>\n",
       "  </thead>\n",
       "  <tbody>\n",
       "    <tr>\n",
       "      <th>2024-11-01</th>\n",
       "      <td>3.22607</td>\n",
       "    </tr>\n",
       "    <tr>\n",
       "      <th>2024-11-04</th>\n",
       "      <td>3.22607</td>\n",
       "    </tr>\n",
       "    <tr>\n",
       "      <th>2024-11-05</th>\n",
       "      <td>3.22607</td>\n",
       "    </tr>\n",
       "    <tr>\n",
       "      <th>2024-11-06</th>\n",
       "      <td>3.22607</td>\n",
       "    </tr>\n",
       "    <tr>\n",
       "      <th>2024-11-07</th>\n",
       "      <td>3.22607</td>\n",
       "    </tr>\n",
       "  </tbody>\n",
       "</table>\n",
       "</div>"
      ],
      "text/plain": [
       "            Inflation\n",
       "Date                 \n",
       "2024-11-01    3.22607\n",
       "2024-11-04    3.22607\n",
       "2024-11-05    3.22607\n",
       "2024-11-06    3.22607\n",
       "2024-11-07    3.22607"
      ]
     },
     "execution_count": 216,
     "metadata": {},
     "output_type": "execute_result"
    }
   ],
   "source": [
    "inflation.head()"
   ]
  },
  {
   "cell_type": "code",
   "execution_count": 217,
   "id": "68ebbe9b",
   "metadata": {},
   "outputs": [
    {
     "data": {
      "text/plain": [
       "(66, 1)"
      ]
     },
     "execution_count": 217,
     "metadata": {},
     "output_type": "execute_result"
    }
   ],
   "source": [
    "last_date = inflation.index[-1]  # 2025-01-01\n",
    "last_value = inflation.iloc[-1]  # آخر قيمة\n",
    "\n",
    "# إنشاء نطاق تواريخ جديد من آخر تاريخ إلى 2025-01-31\n",
    "new_dates = pd.date_range(start=last_date + pd.Timedelta(days=1), end=\"2025-01-31\", freq=\"b\")\n",
    "\n",
    "# إنشاء DataFrame جديد بنفس آخر قيمة\n",
    "new_df = pd.DataFrame([last_value] * len(new_dates), index=new_dates, columns=inflation.columns)\n",
    "\n",
    "# دمج البيانات الأصلية مع البيانات الجديدة\n",
    "inflation = pd.concat([inflation, new_df])\n",
    "\n",
    "inflation.shape"
   ]
  },
  {
   "cell_type": "code",
   "execution_count": 219,
   "id": "22ed8882",
   "metadata": {},
   "outputs": [
    {
     "data": {
      "text/html": [
       "<div>\n",
       "<style scoped>\n",
       "    .dataframe tbody tr th:only-of-type {\n",
       "        vertical-align: middle;\n",
       "    }\n",
       "\n",
       "    .dataframe tbody tr th {\n",
       "        vertical-align: top;\n",
       "    }\n",
       "\n",
       "    .dataframe thead th {\n",
       "        text-align: right;\n",
       "    }\n",
       "</style>\n",
       "<table border=\"1\" class=\"dataframe\">\n",
       "  <thead>\n",
       "    <tr style=\"text-align: right;\">\n",
       "      <th></th>\n",
       "      <th>Inflation</th>\n",
       "    </tr>\n",
       "  </thead>\n",
       "  <tbody>\n",
       "    <tr>\n",
       "      <th>2025-01-27</th>\n",
       "      <td>3.930193</td>\n",
       "    </tr>\n",
       "    <tr>\n",
       "      <th>2025-01-28</th>\n",
       "      <td>3.930193</td>\n",
       "    </tr>\n",
       "    <tr>\n",
       "      <th>2025-01-29</th>\n",
       "      <td>3.930193</td>\n",
       "    </tr>\n",
       "    <tr>\n",
       "      <th>2025-01-30</th>\n",
       "      <td>3.930193</td>\n",
       "    </tr>\n",
       "    <tr>\n",
       "      <th>2025-01-31</th>\n",
       "      <td>3.930193</td>\n",
       "    </tr>\n",
       "  </tbody>\n",
       "</table>\n",
       "</div>"
      ],
      "text/plain": [
       "            Inflation\n",
       "2025-01-27   3.930193\n",
       "2025-01-28   3.930193\n",
       "2025-01-29   3.930193\n",
       "2025-01-30   3.930193\n",
       "2025-01-31   3.930193"
      ]
     },
     "execution_count": 219,
     "metadata": {},
     "output_type": "execute_result"
    }
   ],
   "source": [
    "inflation.tail()"
   ]
  },
  {
   "cell_type": "markdown",
   "id": "65e6278c",
   "metadata": {},
   "source": [
    "### Correct The ranges"
   ]
  },
  {
   "cell_type": "code",
   "execution_count": 158,
   "id": "8954c039",
   "metadata": {},
   "outputs": [],
   "source": [
    "start_date = '2000-08-01'\n",
    "end_date = '2000-08-29'"
   ]
  },
  {
   "cell_type": "code",
   "execution_count": 159,
   "id": "fc031d4a",
   "metadata": {},
   "outputs": [],
   "source": [
    "inflation = inflation[~((inflation.index >= start_date) & (inflation.index <= end_date))]"
   ]
  },
  {
   "cell_type": "code",
   "execution_count": 160,
   "id": "6b2bae47",
   "metadata": {},
   "outputs": [
    {
     "data": {
      "text/html": [
       "<div>\n",
       "<style scoped>\n",
       "    .dataframe tbody tr th:only-of-type {\n",
       "        vertical-align: middle;\n",
       "    }\n",
       "\n",
       "    .dataframe tbody tr th {\n",
       "        vertical-align: top;\n",
       "    }\n",
       "\n",
       "    .dataframe thead th {\n",
       "        text-align: right;\n",
       "    }\n",
       "</style>\n",
       "<table border=\"1\" class=\"dataframe\">\n",
       "  <thead>\n",
       "    <tr style=\"text-align: right;\">\n",
       "      <th></th>\n",
       "      <th>Inflation</th>\n",
       "    </tr>\n",
       "    <tr>\n",
       "      <th>Date</th>\n",
       "      <th></th>\n",
       "    </tr>\n",
       "  </thead>\n",
       "  <tbody>\n",
       "    <tr>\n",
       "      <th>2000-08-30</th>\n",
       "      <td>2.875701</td>\n",
       "    </tr>\n",
       "    <tr>\n",
       "      <th>2000-08-31</th>\n",
       "      <td>2.875701</td>\n",
       "    </tr>\n",
       "    <tr>\n",
       "      <th>2000-09-01</th>\n",
       "      <td>3.068734</td>\n",
       "    </tr>\n",
       "    <tr>\n",
       "      <th>2000-09-04</th>\n",
       "      <td>3.068734</td>\n",
       "    </tr>\n",
       "    <tr>\n",
       "      <th>2000-09-05</th>\n",
       "      <td>3.068734</td>\n",
       "    </tr>\n",
       "  </tbody>\n",
       "</table>\n",
       "</div>"
      ],
      "text/plain": [
       "            Inflation\n",
       "Date                 \n",
       "2000-08-30   2.875701\n",
       "2000-08-31   2.875701\n",
       "2000-09-01   3.068734\n",
       "2000-09-04   3.068734\n",
       "2000-09-05   3.068734"
      ]
     },
     "execution_count": 160,
     "metadata": {},
     "output_type": "execute_result"
    }
   ],
   "source": [
    "inflation.head()"
   ]
  },
  {
   "cell_type": "code",
   "execution_count": 161,
   "id": "33473898",
   "metadata": {
    "scrolled": true
   },
   "outputs": [
    {
     "data": {
      "text/plain": [
       "(6285, 1)"
      ]
     },
     "execution_count": 161,
     "metadata": {},
     "output_type": "execute_result"
    }
   ],
   "source": [
    "inflation.shape"
   ]
  },
  {
   "cell_type": "code",
   "execution_count": 162,
   "id": "3ff92ad1",
   "metadata": {},
   "outputs": [
    {
     "data": {
      "text/html": [
       "<div>\n",
       "<style scoped>\n",
       "    .dataframe tbody tr th:only-of-type {\n",
       "        vertical-align: middle;\n",
       "    }\n",
       "\n",
       "    .dataframe tbody tr th {\n",
       "        vertical-align: top;\n",
       "    }\n",
       "\n",
       "    .dataframe thead th {\n",
       "        text-align: right;\n",
       "    }\n",
       "</style>\n",
       "<table border=\"1\" class=\"dataframe\">\n",
       "  <thead>\n",
       "    <tr style=\"text-align: right;\">\n",
       "      <th></th>\n",
       "      <th>Inflation</th>\n",
       "    </tr>\n",
       "    <tr>\n",
       "      <th>Date</th>\n",
       "      <th></th>\n",
       "    </tr>\n",
       "  </thead>\n",
       "  <tbody>\n",
       "    <tr>\n",
       "      <th>2024-09-25</th>\n",
       "      <td>4.146461</td>\n",
       "    </tr>\n",
       "    <tr>\n",
       "      <th>2024-09-26</th>\n",
       "      <td>4.146461</td>\n",
       "    </tr>\n",
       "    <tr>\n",
       "      <th>2024-09-27</th>\n",
       "      <td>4.146461</td>\n",
       "    </tr>\n",
       "    <tr>\n",
       "      <th>2024-09-30</th>\n",
       "      <td>4.146461</td>\n",
       "    </tr>\n",
       "    <tr>\n",
       "      <th>2024-10-01</th>\n",
       "      <td>3.607369</td>\n",
       "    </tr>\n",
       "  </tbody>\n",
       "</table>\n",
       "</div>"
      ],
      "text/plain": [
       "            Inflation\n",
       "Date                 \n",
       "2024-09-25   4.146461\n",
       "2024-09-26   4.146461\n",
       "2024-09-27   4.146461\n",
       "2024-09-30   4.146461\n",
       "2024-10-01   3.607369"
      ]
     },
     "execution_count": 162,
     "metadata": {},
     "output_type": "execute_result"
    }
   ],
   "source": [
    "inflation.tail()"
   ]
  },
  {
   "cell_type": "code",
   "execution_count": 163,
   "id": "214d0628",
   "metadata": {},
   "outputs": [],
   "source": [
    "date_range = pd.date_range(start = '2024-10-02' , end = '2024-10-31' , freq = 'b')"
   ]
  },
  {
   "cell_type": "code",
   "execution_count": 164,
   "id": "c934e793",
   "metadata": {},
   "outputs": [
    {
     "data": {
      "text/plain": [
       "DatetimeIndex(['2024-10-02', '2024-10-03', '2024-10-04', '2024-10-07',\n",
       "               '2024-10-08', '2024-10-09', '2024-10-10', '2024-10-11',\n",
       "               '2024-10-14', '2024-10-15', '2024-10-16', '2024-10-17',\n",
       "               '2024-10-18', '2024-10-21', '2024-10-22', '2024-10-23',\n",
       "               '2024-10-24', '2024-10-25', '2024-10-28', '2024-10-29',\n",
       "               '2024-10-30', '2024-10-31'],\n",
       "              dtype='datetime64[ns]', freq='B')"
      ]
     },
     "execution_count": 164,
     "metadata": {},
     "output_type": "execute_result"
    }
   ],
   "source": [
    "date_range"
   ]
  },
  {
   "cell_type": "code",
   "execution_count": 165,
   "id": "d13a0c17",
   "metadata": {},
   "outputs": [],
   "source": [
    "date_range_df = pd.DataFrame(index = date_range)"
   ]
  },
  {
   "cell_type": "code",
   "execution_count": 166,
   "id": "c5422699",
   "metadata": {},
   "outputs": [],
   "source": [
    "date_range_df[\"Inflation\"] = 3.607369"
   ]
  },
  {
   "cell_type": "code",
   "execution_count": 167,
   "id": "7dc59c41",
   "metadata": {},
   "outputs": [
    {
     "data": {
      "text/html": [
       "<div>\n",
       "<style scoped>\n",
       "    .dataframe tbody tr th:only-of-type {\n",
       "        vertical-align: middle;\n",
       "    }\n",
       "\n",
       "    .dataframe tbody tr th {\n",
       "        vertical-align: top;\n",
       "    }\n",
       "\n",
       "    .dataframe thead th {\n",
       "        text-align: right;\n",
       "    }\n",
       "</style>\n",
       "<table border=\"1\" class=\"dataframe\">\n",
       "  <thead>\n",
       "    <tr style=\"text-align: right;\">\n",
       "      <th></th>\n",
       "      <th>Inflation</th>\n",
       "    </tr>\n",
       "  </thead>\n",
       "  <tbody>\n",
       "    <tr>\n",
       "      <th>2024-10-02</th>\n",
       "      <td>3.607369</td>\n",
       "    </tr>\n",
       "    <tr>\n",
       "      <th>2024-10-03</th>\n",
       "      <td>3.607369</td>\n",
       "    </tr>\n",
       "    <tr>\n",
       "      <th>2024-10-04</th>\n",
       "      <td>3.607369</td>\n",
       "    </tr>\n",
       "    <tr>\n",
       "      <th>2024-10-07</th>\n",
       "      <td>3.607369</td>\n",
       "    </tr>\n",
       "    <tr>\n",
       "      <th>2024-10-08</th>\n",
       "      <td>3.607369</td>\n",
       "    </tr>\n",
       "    <tr>\n",
       "      <th>2024-10-09</th>\n",
       "      <td>3.607369</td>\n",
       "    </tr>\n",
       "    <tr>\n",
       "      <th>2024-10-10</th>\n",
       "      <td>3.607369</td>\n",
       "    </tr>\n",
       "    <tr>\n",
       "      <th>2024-10-11</th>\n",
       "      <td>3.607369</td>\n",
       "    </tr>\n",
       "    <tr>\n",
       "      <th>2024-10-14</th>\n",
       "      <td>3.607369</td>\n",
       "    </tr>\n",
       "    <tr>\n",
       "      <th>2024-10-15</th>\n",
       "      <td>3.607369</td>\n",
       "    </tr>\n",
       "    <tr>\n",
       "      <th>2024-10-16</th>\n",
       "      <td>3.607369</td>\n",
       "    </tr>\n",
       "    <tr>\n",
       "      <th>2024-10-17</th>\n",
       "      <td>3.607369</td>\n",
       "    </tr>\n",
       "    <tr>\n",
       "      <th>2024-10-18</th>\n",
       "      <td>3.607369</td>\n",
       "    </tr>\n",
       "    <tr>\n",
       "      <th>2024-10-21</th>\n",
       "      <td>3.607369</td>\n",
       "    </tr>\n",
       "    <tr>\n",
       "      <th>2024-10-22</th>\n",
       "      <td>3.607369</td>\n",
       "    </tr>\n",
       "    <tr>\n",
       "      <th>2024-10-23</th>\n",
       "      <td>3.607369</td>\n",
       "    </tr>\n",
       "    <tr>\n",
       "      <th>2024-10-24</th>\n",
       "      <td>3.607369</td>\n",
       "    </tr>\n",
       "    <tr>\n",
       "      <th>2024-10-25</th>\n",
       "      <td>3.607369</td>\n",
       "    </tr>\n",
       "    <tr>\n",
       "      <th>2024-10-28</th>\n",
       "      <td>3.607369</td>\n",
       "    </tr>\n",
       "    <tr>\n",
       "      <th>2024-10-29</th>\n",
       "      <td>3.607369</td>\n",
       "    </tr>\n",
       "    <tr>\n",
       "      <th>2024-10-30</th>\n",
       "      <td>3.607369</td>\n",
       "    </tr>\n",
       "    <tr>\n",
       "      <th>2024-10-31</th>\n",
       "      <td>3.607369</td>\n",
       "    </tr>\n",
       "  </tbody>\n",
       "</table>\n",
       "</div>"
      ],
      "text/plain": [
       "            Inflation\n",
       "2024-10-02   3.607369\n",
       "2024-10-03   3.607369\n",
       "2024-10-04   3.607369\n",
       "2024-10-07   3.607369\n",
       "2024-10-08   3.607369\n",
       "2024-10-09   3.607369\n",
       "2024-10-10   3.607369\n",
       "2024-10-11   3.607369\n",
       "2024-10-14   3.607369\n",
       "2024-10-15   3.607369\n",
       "2024-10-16   3.607369\n",
       "2024-10-17   3.607369\n",
       "2024-10-18   3.607369\n",
       "2024-10-21   3.607369\n",
       "2024-10-22   3.607369\n",
       "2024-10-23   3.607369\n",
       "2024-10-24   3.607369\n",
       "2024-10-25   3.607369\n",
       "2024-10-28   3.607369\n",
       "2024-10-29   3.607369\n",
       "2024-10-30   3.607369\n",
       "2024-10-31   3.607369"
      ]
     },
     "execution_count": 167,
     "metadata": {},
     "output_type": "execute_result"
    }
   ],
   "source": [
    "date_range_df"
   ]
  },
  {
   "cell_type": "code",
   "execution_count": 168,
   "id": "15c5650f",
   "metadata": {},
   "outputs": [],
   "source": [
    "inflation = pd.concat([inflation , date_range_df] , axis = 'rows')"
   ]
  },
  {
   "cell_type": "code",
   "execution_count": 169,
   "id": "bf55d9ae",
   "metadata": {},
   "outputs": [
    {
     "data": {
      "text/html": [
       "<div>\n",
       "<style scoped>\n",
       "    .dataframe tbody tr th:only-of-type {\n",
       "        vertical-align: middle;\n",
       "    }\n",
       "\n",
       "    .dataframe tbody tr th {\n",
       "        vertical-align: top;\n",
       "    }\n",
       "\n",
       "    .dataframe thead th {\n",
       "        text-align: right;\n",
       "    }\n",
       "</style>\n",
       "<table border=\"1\" class=\"dataframe\">\n",
       "  <thead>\n",
       "    <tr style=\"text-align: right;\">\n",
       "      <th></th>\n",
       "      <th>Inflation</th>\n",
       "    </tr>\n",
       "  </thead>\n",
       "  <tbody>\n",
       "    <tr>\n",
       "      <th>2024-09-20</th>\n",
       "      <td>4.146461</td>\n",
       "    </tr>\n",
       "    <tr>\n",
       "      <th>2024-09-23</th>\n",
       "      <td>4.146461</td>\n",
       "    </tr>\n",
       "    <tr>\n",
       "      <th>2024-09-24</th>\n",
       "      <td>4.146461</td>\n",
       "    </tr>\n",
       "    <tr>\n",
       "      <th>2024-09-25</th>\n",
       "      <td>4.146461</td>\n",
       "    </tr>\n",
       "    <tr>\n",
       "      <th>2024-09-26</th>\n",
       "      <td>4.146461</td>\n",
       "    </tr>\n",
       "    <tr>\n",
       "      <th>2024-09-27</th>\n",
       "      <td>4.146461</td>\n",
       "    </tr>\n",
       "    <tr>\n",
       "      <th>2024-09-30</th>\n",
       "      <td>4.146461</td>\n",
       "    </tr>\n",
       "    <tr>\n",
       "      <th>2024-10-01</th>\n",
       "      <td>3.607369</td>\n",
       "    </tr>\n",
       "    <tr>\n",
       "      <th>2024-10-02</th>\n",
       "      <td>3.607369</td>\n",
       "    </tr>\n",
       "    <tr>\n",
       "      <th>2024-10-03</th>\n",
       "      <td>3.607369</td>\n",
       "    </tr>\n",
       "    <tr>\n",
       "      <th>2024-10-04</th>\n",
       "      <td>3.607369</td>\n",
       "    </tr>\n",
       "    <tr>\n",
       "      <th>2024-10-07</th>\n",
       "      <td>3.607369</td>\n",
       "    </tr>\n",
       "    <tr>\n",
       "      <th>2024-10-08</th>\n",
       "      <td>3.607369</td>\n",
       "    </tr>\n",
       "    <tr>\n",
       "      <th>2024-10-09</th>\n",
       "      <td>3.607369</td>\n",
       "    </tr>\n",
       "    <tr>\n",
       "      <th>2024-10-10</th>\n",
       "      <td>3.607369</td>\n",
       "    </tr>\n",
       "    <tr>\n",
       "      <th>2024-10-11</th>\n",
       "      <td>3.607369</td>\n",
       "    </tr>\n",
       "    <tr>\n",
       "      <th>2024-10-14</th>\n",
       "      <td>3.607369</td>\n",
       "    </tr>\n",
       "    <tr>\n",
       "      <th>2024-10-15</th>\n",
       "      <td>3.607369</td>\n",
       "    </tr>\n",
       "    <tr>\n",
       "      <th>2024-10-16</th>\n",
       "      <td>3.607369</td>\n",
       "    </tr>\n",
       "    <tr>\n",
       "      <th>2024-10-17</th>\n",
       "      <td>3.607369</td>\n",
       "    </tr>\n",
       "    <tr>\n",
       "      <th>2024-10-18</th>\n",
       "      <td>3.607369</td>\n",
       "    </tr>\n",
       "    <tr>\n",
       "      <th>2024-10-21</th>\n",
       "      <td>3.607369</td>\n",
       "    </tr>\n",
       "    <tr>\n",
       "      <th>2024-10-22</th>\n",
       "      <td>3.607369</td>\n",
       "    </tr>\n",
       "    <tr>\n",
       "      <th>2024-10-23</th>\n",
       "      <td>3.607369</td>\n",
       "    </tr>\n",
       "    <tr>\n",
       "      <th>2024-10-24</th>\n",
       "      <td>3.607369</td>\n",
       "    </tr>\n",
       "    <tr>\n",
       "      <th>2024-10-25</th>\n",
       "      <td>3.607369</td>\n",
       "    </tr>\n",
       "    <tr>\n",
       "      <th>2024-10-28</th>\n",
       "      <td>3.607369</td>\n",
       "    </tr>\n",
       "    <tr>\n",
       "      <th>2024-10-29</th>\n",
       "      <td>3.607369</td>\n",
       "    </tr>\n",
       "    <tr>\n",
       "      <th>2024-10-30</th>\n",
       "      <td>3.607369</td>\n",
       "    </tr>\n",
       "    <tr>\n",
       "      <th>2024-10-31</th>\n",
       "      <td>3.607369</td>\n",
       "    </tr>\n",
       "  </tbody>\n",
       "</table>\n",
       "</div>"
      ],
      "text/plain": [
       "            Inflation\n",
       "2024-09-20   4.146461\n",
       "2024-09-23   4.146461\n",
       "2024-09-24   4.146461\n",
       "2024-09-25   4.146461\n",
       "2024-09-26   4.146461\n",
       "2024-09-27   4.146461\n",
       "2024-09-30   4.146461\n",
       "2024-10-01   3.607369\n",
       "2024-10-02   3.607369\n",
       "2024-10-03   3.607369\n",
       "2024-10-04   3.607369\n",
       "2024-10-07   3.607369\n",
       "2024-10-08   3.607369\n",
       "2024-10-09   3.607369\n",
       "2024-10-10   3.607369\n",
       "2024-10-11   3.607369\n",
       "2024-10-14   3.607369\n",
       "2024-10-15   3.607369\n",
       "2024-10-16   3.607369\n",
       "2024-10-17   3.607369\n",
       "2024-10-18   3.607369\n",
       "2024-10-21   3.607369\n",
       "2024-10-22   3.607369\n",
       "2024-10-23   3.607369\n",
       "2024-10-24   3.607369\n",
       "2024-10-25   3.607369\n",
       "2024-10-28   3.607369\n",
       "2024-10-29   3.607369\n",
       "2024-10-30   3.607369\n",
       "2024-10-31   3.607369"
      ]
     },
     "execution_count": 169,
     "metadata": {},
     "output_type": "execute_result"
    }
   ],
   "source": [
    "inflation.tail(30)"
   ]
  },
  {
   "cell_type": "code",
   "execution_count": 170,
   "id": "cc1b1139",
   "metadata": {},
   "outputs": [
    {
     "data": {
      "text/plain": [
       "(6307, 1)"
      ]
     },
     "execution_count": 170,
     "metadata": {},
     "output_type": "execute_result"
    }
   ],
   "source": [
    "inflation.shape"
   ]
  },
  {
   "cell_type": "markdown",
   "id": "29bb9c20",
   "metadata": {},
   "source": [
    "### Unrate Data"
   ]
  },
  {
   "cell_type": "code",
   "execution_count": 220,
   "id": "ab2bdd46",
   "metadata": {},
   "outputs": [],
   "source": [
    "unrate = pd.read_csv(\"UNRATE_test.csv\")"
   ]
  },
  {
   "cell_type": "code",
   "execution_count": 221,
   "id": "663b2f32",
   "metadata": {},
   "outputs": [
    {
     "data": {
      "text/html": [
       "<div>\n",
       "<style scoped>\n",
       "    .dataframe tbody tr th:only-of-type {\n",
       "        vertical-align: middle;\n",
       "    }\n",
       "\n",
       "    .dataframe tbody tr th {\n",
       "        vertical-align: top;\n",
       "    }\n",
       "\n",
       "    .dataframe thead th {\n",
       "        text-align: right;\n",
       "    }\n",
       "</style>\n",
       "<table border=\"1\" class=\"dataframe\">\n",
       "  <thead>\n",
       "    <tr style=\"text-align: right;\">\n",
       "      <th></th>\n",
       "      <th>observation_date</th>\n",
       "      <th>UNRATE</th>\n",
       "    </tr>\n",
       "  </thead>\n",
       "  <tbody>\n",
       "    <tr>\n",
       "      <th>0</th>\n",
       "      <td>2024-11-01</td>\n",
       "      <td>4.2</td>\n",
       "    </tr>\n",
       "    <tr>\n",
       "      <th>1</th>\n",
       "      <td>2024-12-01</td>\n",
       "      <td>4.1</td>\n",
       "    </tr>\n",
       "    <tr>\n",
       "      <th>2</th>\n",
       "      <td>2025-01-01</td>\n",
       "      <td>4.0</td>\n",
       "    </tr>\n",
       "    <tr>\n",
       "      <th>3</th>\n",
       "      <td>2025-02-01</td>\n",
       "      <td>4.1</td>\n",
       "    </tr>\n",
       "  </tbody>\n",
       "</table>\n",
       "</div>"
      ],
      "text/plain": [
       "  observation_date  UNRATE\n",
       "0       2024-11-01     4.2\n",
       "1       2024-12-01     4.1\n",
       "2       2025-01-01     4.0\n",
       "3       2025-02-01     4.1"
      ]
     },
     "execution_count": 221,
     "metadata": {},
     "output_type": "execute_result"
    }
   ],
   "source": [
    "unrate.head()"
   ]
  },
  {
   "cell_type": "code",
   "execution_count": 222,
   "id": "6f5c02b4",
   "metadata": {},
   "outputs": [],
   "source": [
    "unrate = unrate.drop(index = 3)"
   ]
  },
  {
   "cell_type": "code",
   "execution_count": 223,
   "id": "37f1fd17",
   "metadata": {},
   "outputs": [
    {
     "data": {
      "text/plain": [
       "(3, 2)"
      ]
     },
     "execution_count": 223,
     "metadata": {},
     "output_type": "execute_result"
    }
   ],
   "source": [
    "unrate.shape"
   ]
  },
  {
   "cell_type": "code",
   "execution_count": 224,
   "id": "8fd54727",
   "metadata": {},
   "outputs": [
    {
     "name": "stdout",
     "output_type": "stream",
     "text": [
      "<class 'pandas.core.frame.DataFrame'>\n",
      "RangeIndex: 3 entries, 0 to 2\n",
      "Data columns (total 2 columns):\n",
      " #   Column            Non-Null Count  Dtype  \n",
      "---  ------            --------------  -----  \n",
      " 0   observation_date  3 non-null      object \n",
      " 1   UNRATE            3 non-null      float64\n",
      "dtypes: float64(1), object(1)\n",
      "memory usage: 180.0+ bytes\n"
     ]
    }
   ],
   "source": [
    "unrate.info()"
   ]
  },
  {
   "cell_type": "markdown",
   "id": "b320822d",
   "metadata": {},
   "source": [
    "#### Correct Date Format"
   ]
  },
  {
   "cell_type": "code",
   "execution_count": 225,
   "id": "ed3a32cd",
   "metadata": {},
   "outputs": [],
   "source": [
    "unrate[\"observation_date\"] = pd.to_datetime(unrate[\"observation_date\"] , format = '%Y-%m-%d')"
   ]
  },
  {
   "cell_type": "code",
   "execution_count": 226,
   "id": "37b67c82",
   "metadata": {
    "scrolled": true
   },
   "outputs": [
    {
     "name": "stdout",
     "output_type": "stream",
     "text": [
      "<class 'pandas.core.frame.DataFrame'>\n",
      "RangeIndex: 3 entries, 0 to 2\n",
      "Data columns (total 2 columns):\n",
      " #   Column            Non-Null Count  Dtype         \n",
      "---  ------            --------------  -----         \n",
      " 0   observation_date  3 non-null      datetime64[ns]\n",
      " 1   UNRATE            3 non-null      float64       \n",
      "dtypes: datetime64[ns](1), float64(1)\n",
      "memory usage: 180.0 bytes\n"
     ]
    }
   ],
   "source": [
    "unrate.info()"
   ]
  },
  {
   "cell_type": "code",
   "execution_count": 227,
   "id": "90058975",
   "metadata": {},
   "outputs": [
    {
     "data": {
      "text/html": [
       "<div>\n",
       "<style scoped>\n",
       "    .dataframe tbody tr th:only-of-type {\n",
       "        vertical-align: middle;\n",
       "    }\n",
       "\n",
       "    .dataframe tbody tr th {\n",
       "        vertical-align: top;\n",
       "    }\n",
       "\n",
       "    .dataframe thead th {\n",
       "        text-align: right;\n",
       "    }\n",
       "</style>\n",
       "<table border=\"1\" class=\"dataframe\">\n",
       "  <thead>\n",
       "    <tr style=\"text-align: right;\">\n",
       "      <th></th>\n",
       "      <th>observation_date</th>\n",
       "      <th>UNRATE</th>\n",
       "    </tr>\n",
       "  </thead>\n",
       "  <tbody>\n",
       "    <tr>\n",
       "      <th>0</th>\n",
       "      <td>2024-11-01</td>\n",
       "      <td>4.2</td>\n",
       "    </tr>\n",
       "    <tr>\n",
       "      <th>1</th>\n",
       "      <td>2024-12-01</td>\n",
       "      <td>4.1</td>\n",
       "    </tr>\n",
       "    <tr>\n",
       "      <th>2</th>\n",
       "      <td>2025-01-01</td>\n",
       "      <td>4.0</td>\n",
       "    </tr>\n",
       "  </tbody>\n",
       "</table>\n",
       "</div>"
      ],
      "text/plain": [
       "  observation_date  UNRATE\n",
       "0       2024-11-01     4.2\n",
       "1       2024-12-01     4.1\n",
       "2       2025-01-01     4.0"
      ]
     },
     "execution_count": 227,
     "metadata": {},
     "output_type": "execute_result"
    }
   ],
   "source": [
    "unrate.head()"
   ]
  },
  {
   "cell_type": "markdown",
   "id": "4238e02c",
   "metadata": {},
   "source": [
    "### Column Rename"
   ]
  },
  {
   "cell_type": "code",
   "execution_count": 228,
   "id": "86f54062",
   "metadata": {},
   "outputs": [],
   "source": [
    "unrate = unrate.rename(columns = {\"UNRATE\" : \"Unrate\" , \"observation_date\" : \"Date\"})"
   ]
  },
  {
   "cell_type": "code",
   "execution_count": 229,
   "id": "1fb8b6e4",
   "metadata": {},
   "outputs": [
    {
     "data": {
      "text/html": [
       "<div>\n",
       "<style scoped>\n",
       "    .dataframe tbody tr th:only-of-type {\n",
       "        vertical-align: middle;\n",
       "    }\n",
       "\n",
       "    .dataframe tbody tr th {\n",
       "        vertical-align: top;\n",
       "    }\n",
       "\n",
       "    .dataframe thead th {\n",
       "        text-align: right;\n",
       "    }\n",
       "</style>\n",
       "<table border=\"1\" class=\"dataframe\">\n",
       "  <thead>\n",
       "    <tr style=\"text-align: right;\">\n",
       "      <th></th>\n",
       "      <th>Date</th>\n",
       "      <th>Unrate</th>\n",
       "    </tr>\n",
       "  </thead>\n",
       "  <tbody>\n",
       "    <tr>\n",
       "      <th>0</th>\n",
       "      <td>2024-11-01</td>\n",
       "      <td>4.2</td>\n",
       "    </tr>\n",
       "    <tr>\n",
       "      <th>1</th>\n",
       "      <td>2024-12-01</td>\n",
       "      <td>4.1</td>\n",
       "    </tr>\n",
       "    <tr>\n",
       "      <th>2</th>\n",
       "      <td>2025-01-01</td>\n",
       "      <td>4.0</td>\n",
       "    </tr>\n",
       "  </tbody>\n",
       "</table>\n",
       "</div>"
      ],
      "text/plain": [
       "        Date  Unrate\n",
       "0 2024-11-01     4.2\n",
       "1 2024-12-01     4.1\n",
       "2 2025-01-01     4.0"
      ]
     },
     "execution_count": 229,
     "metadata": {},
     "output_type": "execute_result"
    }
   ],
   "source": [
    "unrate.head()"
   ]
  },
  {
   "cell_type": "markdown",
   "id": "b5452ca0",
   "metadata": {},
   "source": [
    "### Set Date Index"
   ]
  },
  {
   "cell_type": "code",
   "execution_count": 230,
   "id": "780d984d",
   "metadata": {},
   "outputs": [],
   "source": [
    "unrate = unrate.set_index(\"Date\")"
   ]
  },
  {
   "cell_type": "code",
   "execution_count": 231,
   "id": "eb37319e",
   "metadata": {
    "scrolled": true
   },
   "outputs": [
    {
     "data": {
      "text/html": [
       "<div>\n",
       "<style scoped>\n",
       "    .dataframe tbody tr th:only-of-type {\n",
       "        vertical-align: middle;\n",
       "    }\n",
       "\n",
       "    .dataframe tbody tr th {\n",
       "        vertical-align: top;\n",
       "    }\n",
       "\n",
       "    .dataframe thead th {\n",
       "        text-align: right;\n",
       "    }\n",
       "</style>\n",
       "<table border=\"1\" class=\"dataframe\">\n",
       "  <thead>\n",
       "    <tr style=\"text-align: right;\">\n",
       "      <th></th>\n",
       "      <th>Unrate</th>\n",
       "    </tr>\n",
       "    <tr>\n",
       "      <th>Date</th>\n",
       "      <th></th>\n",
       "    </tr>\n",
       "  </thead>\n",
       "  <tbody>\n",
       "    <tr>\n",
       "      <th>2024-11-01</th>\n",
       "      <td>4.2</td>\n",
       "    </tr>\n",
       "    <tr>\n",
       "      <th>2024-12-01</th>\n",
       "      <td>4.1</td>\n",
       "    </tr>\n",
       "    <tr>\n",
       "      <th>2025-01-01</th>\n",
       "      <td>4.0</td>\n",
       "    </tr>\n",
       "  </tbody>\n",
       "</table>\n",
       "</div>"
      ],
      "text/plain": [
       "            Unrate\n",
       "Date              \n",
       "2024-11-01     4.2\n",
       "2024-12-01     4.1\n",
       "2025-01-01     4.0"
      ]
     },
     "execution_count": 231,
     "metadata": {},
     "output_type": "execute_result"
    }
   ],
   "source": [
    "unrate.head()"
   ]
  },
  {
   "cell_type": "markdown",
   "id": "3d0de982",
   "metadata": {},
   "source": [
    "### Set Frequency"
   ]
  },
  {
   "cell_type": "code",
   "execution_count": 232,
   "id": "ccca6cb7",
   "metadata": {},
   "outputs": [],
   "source": [
    "unrate = unrate.asfreq('d')"
   ]
  },
  {
   "cell_type": "code",
   "execution_count": 233,
   "id": "be95d42d",
   "metadata": {},
   "outputs": [
    {
     "data": {
      "text/html": [
       "<div>\n",
       "<style scoped>\n",
       "    .dataframe tbody tr th:only-of-type {\n",
       "        vertical-align: middle;\n",
       "    }\n",
       "\n",
       "    .dataframe tbody tr th {\n",
       "        vertical-align: top;\n",
       "    }\n",
       "\n",
       "    .dataframe thead th {\n",
       "        text-align: right;\n",
       "    }\n",
       "</style>\n",
       "<table border=\"1\" class=\"dataframe\">\n",
       "  <thead>\n",
       "    <tr style=\"text-align: right;\">\n",
       "      <th></th>\n",
       "      <th>Unrate</th>\n",
       "    </tr>\n",
       "    <tr>\n",
       "      <th>Date</th>\n",
       "      <th></th>\n",
       "    </tr>\n",
       "  </thead>\n",
       "  <tbody>\n",
       "    <tr>\n",
       "      <th>2024-11-01</th>\n",
       "      <td>4.2</td>\n",
       "    </tr>\n",
       "    <tr>\n",
       "      <th>2024-11-02</th>\n",
       "      <td>NaN</td>\n",
       "    </tr>\n",
       "    <tr>\n",
       "      <th>2024-11-03</th>\n",
       "      <td>NaN</td>\n",
       "    </tr>\n",
       "    <tr>\n",
       "      <th>2024-11-04</th>\n",
       "      <td>NaN</td>\n",
       "    </tr>\n",
       "    <tr>\n",
       "      <th>2024-11-05</th>\n",
       "      <td>NaN</td>\n",
       "    </tr>\n",
       "  </tbody>\n",
       "</table>\n",
       "</div>"
      ],
      "text/plain": [
       "            Unrate\n",
       "Date              \n",
       "2024-11-01     4.2\n",
       "2024-11-02     NaN\n",
       "2024-11-03     NaN\n",
       "2024-11-04     NaN\n",
       "2024-11-05     NaN"
      ]
     },
     "execution_count": 233,
     "metadata": {},
     "output_type": "execute_result"
    }
   ],
   "source": [
    "unrate.head()"
   ]
  },
  {
   "cell_type": "code",
   "execution_count": 234,
   "id": "08bd5674",
   "metadata": {},
   "outputs": [
    {
     "data": {
      "text/plain": [
       "Unrate    59\n",
       "dtype: int64"
      ]
     },
     "execution_count": 234,
     "metadata": {},
     "output_type": "execute_result"
    }
   ],
   "source": [
    "unrate.isnull().sum()"
   ]
  },
  {
   "cell_type": "code",
   "execution_count": 235,
   "id": "c685c06d",
   "metadata": {},
   "outputs": [
    {
     "data": {
      "text/plain": [
       "(62, 1)"
      ]
     },
     "execution_count": 235,
     "metadata": {},
     "output_type": "execute_result"
    }
   ],
   "source": [
    "unrate.shape"
   ]
  },
  {
   "cell_type": "markdown",
   "id": "5b992274",
   "metadata": {},
   "source": [
    "### Hundle Nulls"
   ]
  },
  {
   "cell_type": "code",
   "execution_count": 236,
   "id": "5f5db028",
   "metadata": {},
   "outputs": [],
   "source": [
    "unrate['Unrate'] = unrate.groupby(unrate.index.to_period('M'))['Unrate'].transform('first')"
   ]
  },
  {
   "cell_type": "code",
   "execution_count": 237,
   "id": "84ae27d7",
   "metadata": {},
   "outputs": [
    {
     "data": {
      "text/html": [
       "<div>\n",
       "<style scoped>\n",
       "    .dataframe tbody tr th:only-of-type {\n",
       "        vertical-align: middle;\n",
       "    }\n",
       "\n",
       "    .dataframe tbody tr th {\n",
       "        vertical-align: top;\n",
       "    }\n",
       "\n",
       "    .dataframe thead th {\n",
       "        text-align: right;\n",
       "    }\n",
       "</style>\n",
       "<table border=\"1\" class=\"dataframe\">\n",
       "  <thead>\n",
       "    <tr style=\"text-align: right;\">\n",
       "      <th></th>\n",
       "      <th>Unrate</th>\n",
       "    </tr>\n",
       "    <tr>\n",
       "      <th>Date</th>\n",
       "      <th></th>\n",
       "    </tr>\n",
       "  </thead>\n",
       "  <tbody>\n",
       "    <tr>\n",
       "      <th>2024-11-01</th>\n",
       "      <td>4.2</td>\n",
       "    </tr>\n",
       "    <tr>\n",
       "      <th>2024-11-02</th>\n",
       "      <td>4.2</td>\n",
       "    </tr>\n",
       "    <tr>\n",
       "      <th>2024-11-03</th>\n",
       "      <td>4.2</td>\n",
       "    </tr>\n",
       "    <tr>\n",
       "      <th>2024-11-04</th>\n",
       "      <td>4.2</td>\n",
       "    </tr>\n",
       "    <tr>\n",
       "      <th>2024-11-05</th>\n",
       "      <td>4.2</td>\n",
       "    </tr>\n",
       "  </tbody>\n",
       "</table>\n",
       "</div>"
      ],
      "text/plain": [
       "            Unrate\n",
       "Date              \n",
       "2024-11-01     4.2\n",
       "2024-11-02     4.2\n",
       "2024-11-03     4.2\n",
       "2024-11-04     4.2\n",
       "2024-11-05     4.2"
      ]
     },
     "execution_count": 237,
     "metadata": {},
     "output_type": "execute_result"
    }
   ],
   "source": [
    "unrate.head(5)"
   ]
  },
  {
   "cell_type": "code",
   "execution_count": 238,
   "id": "fd37f832",
   "metadata": {},
   "outputs": [
    {
     "data": {
      "text/plain": [
       "Unrate    0\n",
       "dtype: int64"
      ]
     },
     "execution_count": 238,
     "metadata": {},
     "output_type": "execute_result"
    }
   ],
   "source": [
    "unrate.isnull().sum()"
   ]
  },
  {
   "cell_type": "code",
   "execution_count": 239,
   "id": "793f1497",
   "metadata": {},
   "outputs": [
    {
     "data": {
      "text/plain": [
       "(62, 1)"
      ]
     },
     "execution_count": 239,
     "metadata": {},
     "output_type": "execute_result"
    }
   ],
   "source": [
    "unrate.shape"
   ]
  },
  {
   "cell_type": "code",
   "execution_count": 240,
   "id": "e8fe83b0",
   "metadata": {
    "scrolled": false
   },
   "outputs": [
    {
     "data": {
      "text/html": [
       "<div>\n",
       "<style scoped>\n",
       "    .dataframe tbody tr th:only-of-type {\n",
       "        vertical-align: middle;\n",
       "    }\n",
       "\n",
       "    .dataframe tbody tr th {\n",
       "        vertical-align: top;\n",
       "    }\n",
       "\n",
       "    .dataframe thead th {\n",
       "        text-align: right;\n",
       "    }\n",
       "</style>\n",
       "<table border=\"1\" class=\"dataframe\">\n",
       "  <thead>\n",
       "    <tr style=\"text-align: right;\">\n",
       "      <th></th>\n",
       "      <th>Unrate</th>\n",
       "    </tr>\n",
       "    <tr>\n",
       "      <th>Date</th>\n",
       "      <th></th>\n",
       "    </tr>\n",
       "  </thead>\n",
       "  <tbody>\n",
       "    <tr>\n",
       "      <th>2024-12-28</th>\n",
       "      <td>4.1</td>\n",
       "    </tr>\n",
       "    <tr>\n",
       "      <th>2024-12-29</th>\n",
       "      <td>4.1</td>\n",
       "    </tr>\n",
       "    <tr>\n",
       "      <th>2024-12-30</th>\n",
       "      <td>4.1</td>\n",
       "    </tr>\n",
       "    <tr>\n",
       "      <th>2024-12-31</th>\n",
       "      <td>4.1</td>\n",
       "    </tr>\n",
       "    <tr>\n",
       "      <th>2025-01-01</th>\n",
       "      <td>4.0</td>\n",
       "    </tr>\n",
       "  </tbody>\n",
       "</table>\n",
       "</div>"
      ],
      "text/plain": [
       "            Unrate\n",
       "Date              \n",
       "2024-12-28     4.1\n",
       "2024-12-29     4.1\n",
       "2024-12-30     4.1\n",
       "2024-12-31     4.1\n",
       "2025-01-01     4.0"
      ]
     },
     "execution_count": 240,
     "metadata": {},
     "output_type": "execute_result"
    }
   ],
   "source": [
    "unrate.tail(5)"
   ]
  },
  {
   "cell_type": "code",
   "execution_count": 241,
   "id": "c2a1e8d4",
   "metadata": {},
   "outputs": [],
   "source": [
    "unrate = unrate.asfreq('b')"
   ]
  },
  {
   "cell_type": "code",
   "execution_count": 242,
   "id": "cf213303",
   "metadata": {},
   "outputs": [
    {
     "data": {
      "text/plain": [
       "(44, 1)"
      ]
     },
     "execution_count": 242,
     "metadata": {},
     "output_type": "execute_result"
    }
   ],
   "source": [
    "unrate.shape"
   ]
  },
  {
   "cell_type": "code",
   "execution_count": 243,
   "id": "6a9e9bb9",
   "metadata": {},
   "outputs": [
    {
     "data": {
      "text/html": [
       "<div>\n",
       "<style scoped>\n",
       "    .dataframe tbody tr th:only-of-type {\n",
       "        vertical-align: middle;\n",
       "    }\n",
       "\n",
       "    .dataframe tbody tr th {\n",
       "        vertical-align: top;\n",
       "    }\n",
       "\n",
       "    .dataframe thead th {\n",
       "        text-align: right;\n",
       "    }\n",
       "</style>\n",
       "<table border=\"1\" class=\"dataframe\">\n",
       "  <thead>\n",
       "    <tr style=\"text-align: right;\">\n",
       "      <th></th>\n",
       "      <th>Unrate</th>\n",
       "    </tr>\n",
       "    <tr>\n",
       "      <th>Date</th>\n",
       "      <th></th>\n",
       "    </tr>\n",
       "  </thead>\n",
       "  <tbody>\n",
       "    <tr>\n",
       "      <th>2024-12-26</th>\n",
       "      <td>4.1</td>\n",
       "    </tr>\n",
       "    <tr>\n",
       "      <th>2024-12-27</th>\n",
       "      <td>4.1</td>\n",
       "    </tr>\n",
       "    <tr>\n",
       "      <th>2024-12-30</th>\n",
       "      <td>4.1</td>\n",
       "    </tr>\n",
       "    <tr>\n",
       "      <th>2024-12-31</th>\n",
       "      <td>4.1</td>\n",
       "    </tr>\n",
       "    <tr>\n",
       "      <th>2025-01-01</th>\n",
       "      <td>4.0</td>\n",
       "    </tr>\n",
       "  </tbody>\n",
       "</table>\n",
       "</div>"
      ],
      "text/plain": [
       "            Unrate\n",
       "Date              \n",
       "2024-12-26     4.1\n",
       "2024-12-27     4.1\n",
       "2024-12-30     4.1\n",
       "2024-12-31     4.1\n",
       "2025-01-01     4.0"
      ]
     },
     "execution_count": 243,
     "metadata": {},
     "output_type": "execute_result"
    }
   ],
   "source": [
    "unrate.tail(5)"
   ]
  },
  {
   "cell_type": "code",
   "execution_count": 244,
   "id": "06ef8845",
   "metadata": {},
   "outputs": [
    {
     "data": {
      "text/html": [
       "<div>\n",
       "<style scoped>\n",
       "    .dataframe tbody tr th:only-of-type {\n",
       "        vertical-align: middle;\n",
       "    }\n",
       "\n",
       "    .dataframe tbody tr th {\n",
       "        vertical-align: top;\n",
       "    }\n",
       "\n",
       "    .dataframe thead th {\n",
       "        text-align: right;\n",
       "    }\n",
       "</style>\n",
       "<table border=\"1\" class=\"dataframe\">\n",
       "  <thead>\n",
       "    <tr style=\"text-align: right;\">\n",
       "      <th></th>\n",
       "      <th>Unrate</th>\n",
       "    </tr>\n",
       "    <tr>\n",
       "      <th>Date</th>\n",
       "      <th></th>\n",
       "    </tr>\n",
       "  </thead>\n",
       "  <tbody>\n",
       "    <tr>\n",
       "      <th>2024-11-01</th>\n",
       "      <td>4.2</td>\n",
       "    </tr>\n",
       "    <tr>\n",
       "      <th>2024-11-04</th>\n",
       "      <td>4.2</td>\n",
       "    </tr>\n",
       "    <tr>\n",
       "      <th>2024-11-05</th>\n",
       "      <td>4.2</td>\n",
       "    </tr>\n",
       "    <tr>\n",
       "      <th>2024-11-06</th>\n",
       "      <td>4.2</td>\n",
       "    </tr>\n",
       "    <tr>\n",
       "      <th>2024-11-07</th>\n",
       "      <td>4.2</td>\n",
       "    </tr>\n",
       "  </tbody>\n",
       "</table>\n",
       "</div>"
      ],
      "text/plain": [
       "            Unrate\n",
       "Date              \n",
       "2024-11-01     4.2\n",
       "2024-11-04     4.2\n",
       "2024-11-05     4.2\n",
       "2024-11-06     4.2\n",
       "2024-11-07     4.2"
      ]
     },
     "execution_count": 244,
     "metadata": {},
     "output_type": "execute_result"
    }
   ],
   "source": [
    "unrate.head()"
   ]
  },
  {
   "cell_type": "code",
   "execution_count": 245,
   "id": "096eb5e8",
   "metadata": {},
   "outputs": [
    {
     "data": {
      "text/plain": [
       "(66, 1)"
      ]
     },
     "execution_count": 245,
     "metadata": {},
     "output_type": "execute_result"
    }
   ],
   "source": [
    "last_date = unrate.index[-1]  # 2025-01-01\n",
    "last_value = unrate.iloc[-1]  # آخر قيمة\n",
    "\n",
    "# إنشاء نطاق تواريخ جديد من آخر تاريخ إلى 2025-01-31\n",
    "new_dates = pd.date_range(start=last_date + pd.Timedelta(days=1), end=\"2025-01-31\", freq=\"b\")\n",
    "\n",
    "# إنشاء DataFrame جديد بنفس آخر قيمة\n",
    "new_df = pd.DataFrame([last_value] * len(new_dates), index=new_dates, columns=unrate.columns)\n",
    "\n",
    "# دمج البيانات الأصلية مع البيانات الجديدة\n",
    "unrate = pd.concat([unrate, new_df])\n",
    "\n",
    "unrate.shape"
   ]
  },
  {
   "cell_type": "code",
   "execution_count": 246,
   "id": "817c27bc",
   "metadata": {},
   "outputs": [
    {
     "data": {
      "text/html": [
       "<div>\n",
       "<style scoped>\n",
       "    .dataframe tbody tr th:only-of-type {\n",
       "        vertical-align: middle;\n",
       "    }\n",
       "\n",
       "    .dataframe tbody tr th {\n",
       "        vertical-align: top;\n",
       "    }\n",
       "\n",
       "    .dataframe thead th {\n",
       "        text-align: right;\n",
       "    }\n",
       "</style>\n",
       "<table border=\"1\" class=\"dataframe\">\n",
       "  <thead>\n",
       "    <tr style=\"text-align: right;\">\n",
       "      <th></th>\n",
       "      <th>Unrate</th>\n",
       "    </tr>\n",
       "  </thead>\n",
       "  <tbody>\n",
       "    <tr>\n",
       "      <th>2025-01-27</th>\n",
       "      <td>4.0</td>\n",
       "    </tr>\n",
       "    <tr>\n",
       "      <th>2025-01-28</th>\n",
       "      <td>4.0</td>\n",
       "    </tr>\n",
       "    <tr>\n",
       "      <th>2025-01-29</th>\n",
       "      <td>4.0</td>\n",
       "    </tr>\n",
       "    <tr>\n",
       "      <th>2025-01-30</th>\n",
       "      <td>4.0</td>\n",
       "    </tr>\n",
       "    <tr>\n",
       "      <th>2025-01-31</th>\n",
       "      <td>4.0</td>\n",
       "    </tr>\n",
       "  </tbody>\n",
       "</table>\n",
       "</div>"
      ],
      "text/plain": [
       "            Unrate\n",
       "2025-01-27     4.0\n",
       "2025-01-28     4.0\n",
       "2025-01-29     4.0\n",
       "2025-01-30     4.0\n",
       "2025-01-31     4.0"
      ]
     },
     "execution_count": 246,
     "metadata": {},
     "output_type": "execute_result"
    }
   ],
   "source": [
    "unrate.tail()"
   ]
  },
  {
   "cell_type": "markdown",
   "id": "e3045a2e",
   "metadata": {},
   "source": [
    "### Correct The ranges"
   ]
  },
  {
   "cell_type": "code",
   "execution_count": 193,
   "id": "f7af6c92",
   "metadata": {},
   "outputs": [],
   "source": [
    "start_date = '2000-08-01'\n",
    "end_date = '2000-08-29'"
   ]
  },
  {
   "cell_type": "code",
   "execution_count": 196,
   "id": "e5dab943",
   "metadata": {},
   "outputs": [],
   "source": [
    "unrate = unrate[~((unrate.index >= start_date) & (unrate.index <= end_date))]"
   ]
  },
  {
   "cell_type": "code",
   "execution_count": 197,
   "id": "159fb9fa",
   "metadata": {},
   "outputs": [
    {
     "data": {
      "text/html": [
       "<div>\n",
       "<style scoped>\n",
       "    .dataframe tbody tr th:only-of-type {\n",
       "        vertical-align: middle;\n",
       "    }\n",
       "\n",
       "    .dataframe tbody tr th {\n",
       "        vertical-align: top;\n",
       "    }\n",
       "\n",
       "    .dataframe thead th {\n",
       "        text-align: right;\n",
       "    }\n",
       "</style>\n",
       "<table border=\"1\" class=\"dataframe\">\n",
       "  <thead>\n",
       "    <tr style=\"text-align: right;\">\n",
       "      <th></th>\n",
       "      <th>Unrate</th>\n",
       "    </tr>\n",
       "    <tr>\n",
       "      <th>Date</th>\n",
       "      <th></th>\n",
       "    </tr>\n",
       "  </thead>\n",
       "  <tbody>\n",
       "    <tr>\n",
       "      <th>2000-08-30</th>\n",
       "      <td>4.1</td>\n",
       "    </tr>\n",
       "    <tr>\n",
       "      <th>2000-08-31</th>\n",
       "      <td>4.1</td>\n",
       "    </tr>\n",
       "    <tr>\n",
       "      <th>2000-09-01</th>\n",
       "      <td>3.9</td>\n",
       "    </tr>\n",
       "    <tr>\n",
       "      <th>2000-09-04</th>\n",
       "      <td>3.9</td>\n",
       "    </tr>\n",
       "    <tr>\n",
       "      <th>2000-09-05</th>\n",
       "      <td>3.9</td>\n",
       "    </tr>\n",
       "  </tbody>\n",
       "</table>\n",
       "</div>"
      ],
      "text/plain": [
       "            Unrate\n",
       "Date              \n",
       "2000-08-30     4.1\n",
       "2000-08-31     4.1\n",
       "2000-09-01     3.9\n",
       "2000-09-04     3.9\n",
       "2000-09-05     3.9"
      ]
     },
     "execution_count": 197,
     "metadata": {},
     "output_type": "execute_result"
    }
   ],
   "source": [
    "unrate.head()"
   ]
  },
  {
   "cell_type": "code",
   "execution_count": 198,
   "id": "6f6f9c8a",
   "metadata": {},
   "outputs": [
    {
     "data": {
      "text/plain": [
       "(6285, 1)"
      ]
     },
     "execution_count": 198,
     "metadata": {},
     "output_type": "execute_result"
    }
   ],
   "source": [
    "unrate.shape"
   ]
  },
  {
   "cell_type": "code",
   "execution_count": 199,
   "id": "61f2fab7",
   "metadata": {},
   "outputs": [
    {
     "data": {
      "text/html": [
       "<div>\n",
       "<style scoped>\n",
       "    .dataframe tbody tr th:only-of-type {\n",
       "        vertical-align: middle;\n",
       "    }\n",
       "\n",
       "    .dataframe tbody tr th {\n",
       "        vertical-align: top;\n",
       "    }\n",
       "\n",
       "    .dataframe thead th {\n",
       "        text-align: right;\n",
       "    }\n",
       "</style>\n",
       "<table border=\"1\" class=\"dataframe\">\n",
       "  <thead>\n",
       "    <tr style=\"text-align: right;\">\n",
       "      <th></th>\n",
       "      <th>Unrate</th>\n",
       "    </tr>\n",
       "    <tr>\n",
       "      <th>Date</th>\n",
       "      <th></th>\n",
       "    </tr>\n",
       "  </thead>\n",
       "  <tbody>\n",
       "    <tr>\n",
       "      <th>2024-09-25</th>\n",
       "      <td>4.1</td>\n",
       "    </tr>\n",
       "    <tr>\n",
       "      <th>2024-09-26</th>\n",
       "      <td>4.1</td>\n",
       "    </tr>\n",
       "    <tr>\n",
       "      <th>2024-09-27</th>\n",
       "      <td>4.1</td>\n",
       "    </tr>\n",
       "    <tr>\n",
       "      <th>2024-09-30</th>\n",
       "      <td>4.1</td>\n",
       "    </tr>\n",
       "    <tr>\n",
       "      <th>2024-10-01</th>\n",
       "      <td>4.1</td>\n",
       "    </tr>\n",
       "  </tbody>\n",
       "</table>\n",
       "</div>"
      ],
      "text/plain": [
       "            Unrate\n",
       "Date              \n",
       "2024-09-25     4.1\n",
       "2024-09-26     4.1\n",
       "2024-09-27     4.1\n",
       "2024-09-30     4.1\n",
       "2024-10-01     4.1"
      ]
     },
     "execution_count": 199,
     "metadata": {},
     "output_type": "execute_result"
    }
   ],
   "source": [
    "unrate.tail()"
   ]
  },
  {
   "cell_type": "code",
   "execution_count": 200,
   "id": "cd543ccd",
   "metadata": {},
   "outputs": [],
   "source": [
    "date_range = pd.date_range(start = '2024-10-02' , end = '2024-10-31' , freq = 'b')"
   ]
  },
  {
   "cell_type": "code",
   "execution_count": 201,
   "id": "a419cc14",
   "metadata": {},
   "outputs": [
    {
     "data": {
      "text/plain": [
       "DatetimeIndex(['2024-10-02', '2024-10-03', '2024-10-04', '2024-10-07',\n",
       "               '2024-10-08', '2024-10-09', '2024-10-10', '2024-10-11',\n",
       "               '2024-10-14', '2024-10-15', '2024-10-16', '2024-10-17',\n",
       "               '2024-10-18', '2024-10-21', '2024-10-22', '2024-10-23',\n",
       "               '2024-10-24', '2024-10-25', '2024-10-28', '2024-10-29',\n",
       "               '2024-10-30', '2024-10-31'],\n",
       "              dtype='datetime64[ns]', freq='B')"
      ]
     },
     "execution_count": 201,
     "metadata": {},
     "output_type": "execute_result"
    }
   ],
   "source": [
    "date_range"
   ]
  },
  {
   "cell_type": "code",
   "execution_count": 202,
   "id": "c4655dd8",
   "metadata": {},
   "outputs": [],
   "source": [
    "date_range_df = pd.DataFrame(index = date_range)"
   ]
  },
  {
   "cell_type": "code",
   "execution_count": 203,
   "id": "9ed524ad",
   "metadata": {},
   "outputs": [],
   "source": [
    "date_range_df[\"Unrate\"] = 4.1"
   ]
  },
  {
   "cell_type": "code",
   "execution_count": 204,
   "id": "dc05cb4c",
   "metadata": {},
   "outputs": [
    {
     "data": {
      "text/html": [
       "<div>\n",
       "<style scoped>\n",
       "    .dataframe tbody tr th:only-of-type {\n",
       "        vertical-align: middle;\n",
       "    }\n",
       "\n",
       "    .dataframe tbody tr th {\n",
       "        vertical-align: top;\n",
       "    }\n",
       "\n",
       "    .dataframe thead th {\n",
       "        text-align: right;\n",
       "    }\n",
       "</style>\n",
       "<table border=\"1\" class=\"dataframe\">\n",
       "  <thead>\n",
       "    <tr style=\"text-align: right;\">\n",
       "      <th></th>\n",
       "      <th>Unrate</th>\n",
       "    </tr>\n",
       "  </thead>\n",
       "  <tbody>\n",
       "    <tr>\n",
       "      <th>2024-10-02</th>\n",
       "      <td>4.1</td>\n",
       "    </tr>\n",
       "    <tr>\n",
       "      <th>2024-10-03</th>\n",
       "      <td>4.1</td>\n",
       "    </tr>\n",
       "    <tr>\n",
       "      <th>2024-10-04</th>\n",
       "      <td>4.1</td>\n",
       "    </tr>\n",
       "    <tr>\n",
       "      <th>2024-10-07</th>\n",
       "      <td>4.1</td>\n",
       "    </tr>\n",
       "    <tr>\n",
       "      <th>2024-10-08</th>\n",
       "      <td>4.1</td>\n",
       "    </tr>\n",
       "    <tr>\n",
       "      <th>2024-10-09</th>\n",
       "      <td>4.1</td>\n",
       "    </tr>\n",
       "    <tr>\n",
       "      <th>2024-10-10</th>\n",
       "      <td>4.1</td>\n",
       "    </tr>\n",
       "    <tr>\n",
       "      <th>2024-10-11</th>\n",
       "      <td>4.1</td>\n",
       "    </tr>\n",
       "    <tr>\n",
       "      <th>2024-10-14</th>\n",
       "      <td>4.1</td>\n",
       "    </tr>\n",
       "    <tr>\n",
       "      <th>2024-10-15</th>\n",
       "      <td>4.1</td>\n",
       "    </tr>\n",
       "    <tr>\n",
       "      <th>2024-10-16</th>\n",
       "      <td>4.1</td>\n",
       "    </tr>\n",
       "    <tr>\n",
       "      <th>2024-10-17</th>\n",
       "      <td>4.1</td>\n",
       "    </tr>\n",
       "    <tr>\n",
       "      <th>2024-10-18</th>\n",
       "      <td>4.1</td>\n",
       "    </tr>\n",
       "    <tr>\n",
       "      <th>2024-10-21</th>\n",
       "      <td>4.1</td>\n",
       "    </tr>\n",
       "    <tr>\n",
       "      <th>2024-10-22</th>\n",
       "      <td>4.1</td>\n",
       "    </tr>\n",
       "    <tr>\n",
       "      <th>2024-10-23</th>\n",
       "      <td>4.1</td>\n",
       "    </tr>\n",
       "    <tr>\n",
       "      <th>2024-10-24</th>\n",
       "      <td>4.1</td>\n",
       "    </tr>\n",
       "    <tr>\n",
       "      <th>2024-10-25</th>\n",
       "      <td>4.1</td>\n",
       "    </tr>\n",
       "    <tr>\n",
       "      <th>2024-10-28</th>\n",
       "      <td>4.1</td>\n",
       "    </tr>\n",
       "    <tr>\n",
       "      <th>2024-10-29</th>\n",
       "      <td>4.1</td>\n",
       "    </tr>\n",
       "    <tr>\n",
       "      <th>2024-10-30</th>\n",
       "      <td>4.1</td>\n",
       "    </tr>\n",
       "    <tr>\n",
       "      <th>2024-10-31</th>\n",
       "      <td>4.1</td>\n",
       "    </tr>\n",
       "  </tbody>\n",
       "</table>\n",
       "</div>"
      ],
      "text/plain": [
       "            Unrate\n",
       "2024-10-02     4.1\n",
       "2024-10-03     4.1\n",
       "2024-10-04     4.1\n",
       "2024-10-07     4.1\n",
       "2024-10-08     4.1\n",
       "2024-10-09     4.1\n",
       "2024-10-10     4.1\n",
       "2024-10-11     4.1\n",
       "2024-10-14     4.1\n",
       "2024-10-15     4.1\n",
       "2024-10-16     4.1\n",
       "2024-10-17     4.1\n",
       "2024-10-18     4.1\n",
       "2024-10-21     4.1\n",
       "2024-10-22     4.1\n",
       "2024-10-23     4.1\n",
       "2024-10-24     4.1\n",
       "2024-10-25     4.1\n",
       "2024-10-28     4.1\n",
       "2024-10-29     4.1\n",
       "2024-10-30     4.1\n",
       "2024-10-31     4.1"
      ]
     },
     "execution_count": 204,
     "metadata": {},
     "output_type": "execute_result"
    }
   ],
   "source": [
    "date_range_df"
   ]
  },
  {
   "cell_type": "code",
   "execution_count": 205,
   "id": "466d194a",
   "metadata": {},
   "outputs": [],
   "source": [
    "unrate = pd.concat([unrate , date_range_df] , axis = 'rows')"
   ]
  },
  {
   "cell_type": "code",
   "execution_count": 206,
   "id": "ef5689dc",
   "metadata": {},
   "outputs": [
    {
     "data": {
      "text/html": [
       "<div>\n",
       "<style scoped>\n",
       "    .dataframe tbody tr th:only-of-type {\n",
       "        vertical-align: middle;\n",
       "    }\n",
       "\n",
       "    .dataframe tbody tr th {\n",
       "        vertical-align: top;\n",
       "    }\n",
       "\n",
       "    .dataframe thead th {\n",
       "        text-align: right;\n",
       "    }\n",
       "</style>\n",
       "<table border=\"1\" class=\"dataframe\">\n",
       "  <thead>\n",
       "    <tr style=\"text-align: right;\">\n",
       "      <th></th>\n",
       "      <th>Unrate</th>\n",
       "    </tr>\n",
       "  </thead>\n",
       "  <tbody>\n",
       "    <tr>\n",
       "      <th>2024-09-20</th>\n",
       "      <td>4.1</td>\n",
       "    </tr>\n",
       "    <tr>\n",
       "      <th>2024-09-23</th>\n",
       "      <td>4.1</td>\n",
       "    </tr>\n",
       "    <tr>\n",
       "      <th>2024-09-24</th>\n",
       "      <td>4.1</td>\n",
       "    </tr>\n",
       "    <tr>\n",
       "      <th>2024-09-25</th>\n",
       "      <td>4.1</td>\n",
       "    </tr>\n",
       "    <tr>\n",
       "      <th>2024-09-26</th>\n",
       "      <td>4.1</td>\n",
       "    </tr>\n",
       "    <tr>\n",
       "      <th>2024-09-27</th>\n",
       "      <td>4.1</td>\n",
       "    </tr>\n",
       "    <tr>\n",
       "      <th>2024-09-30</th>\n",
       "      <td>4.1</td>\n",
       "    </tr>\n",
       "    <tr>\n",
       "      <th>2024-10-01</th>\n",
       "      <td>4.1</td>\n",
       "    </tr>\n",
       "    <tr>\n",
       "      <th>2024-10-02</th>\n",
       "      <td>4.1</td>\n",
       "    </tr>\n",
       "    <tr>\n",
       "      <th>2024-10-03</th>\n",
       "      <td>4.1</td>\n",
       "    </tr>\n",
       "    <tr>\n",
       "      <th>2024-10-04</th>\n",
       "      <td>4.1</td>\n",
       "    </tr>\n",
       "    <tr>\n",
       "      <th>2024-10-07</th>\n",
       "      <td>4.1</td>\n",
       "    </tr>\n",
       "    <tr>\n",
       "      <th>2024-10-08</th>\n",
       "      <td>4.1</td>\n",
       "    </tr>\n",
       "    <tr>\n",
       "      <th>2024-10-09</th>\n",
       "      <td>4.1</td>\n",
       "    </tr>\n",
       "    <tr>\n",
       "      <th>2024-10-10</th>\n",
       "      <td>4.1</td>\n",
       "    </tr>\n",
       "    <tr>\n",
       "      <th>2024-10-11</th>\n",
       "      <td>4.1</td>\n",
       "    </tr>\n",
       "    <tr>\n",
       "      <th>2024-10-14</th>\n",
       "      <td>4.1</td>\n",
       "    </tr>\n",
       "    <tr>\n",
       "      <th>2024-10-15</th>\n",
       "      <td>4.1</td>\n",
       "    </tr>\n",
       "    <tr>\n",
       "      <th>2024-10-16</th>\n",
       "      <td>4.1</td>\n",
       "    </tr>\n",
       "    <tr>\n",
       "      <th>2024-10-17</th>\n",
       "      <td>4.1</td>\n",
       "    </tr>\n",
       "    <tr>\n",
       "      <th>2024-10-18</th>\n",
       "      <td>4.1</td>\n",
       "    </tr>\n",
       "    <tr>\n",
       "      <th>2024-10-21</th>\n",
       "      <td>4.1</td>\n",
       "    </tr>\n",
       "    <tr>\n",
       "      <th>2024-10-22</th>\n",
       "      <td>4.1</td>\n",
       "    </tr>\n",
       "    <tr>\n",
       "      <th>2024-10-23</th>\n",
       "      <td>4.1</td>\n",
       "    </tr>\n",
       "    <tr>\n",
       "      <th>2024-10-24</th>\n",
       "      <td>4.1</td>\n",
       "    </tr>\n",
       "    <tr>\n",
       "      <th>2024-10-25</th>\n",
       "      <td>4.1</td>\n",
       "    </tr>\n",
       "    <tr>\n",
       "      <th>2024-10-28</th>\n",
       "      <td>4.1</td>\n",
       "    </tr>\n",
       "    <tr>\n",
       "      <th>2024-10-29</th>\n",
       "      <td>4.1</td>\n",
       "    </tr>\n",
       "    <tr>\n",
       "      <th>2024-10-30</th>\n",
       "      <td>4.1</td>\n",
       "    </tr>\n",
       "    <tr>\n",
       "      <th>2024-10-31</th>\n",
       "      <td>4.1</td>\n",
       "    </tr>\n",
       "  </tbody>\n",
       "</table>\n",
       "</div>"
      ],
      "text/plain": [
       "            Unrate\n",
       "2024-09-20     4.1\n",
       "2024-09-23     4.1\n",
       "2024-09-24     4.1\n",
       "2024-09-25     4.1\n",
       "2024-09-26     4.1\n",
       "2024-09-27     4.1\n",
       "2024-09-30     4.1\n",
       "2024-10-01     4.1\n",
       "2024-10-02     4.1\n",
       "2024-10-03     4.1\n",
       "2024-10-04     4.1\n",
       "2024-10-07     4.1\n",
       "2024-10-08     4.1\n",
       "2024-10-09     4.1\n",
       "2024-10-10     4.1\n",
       "2024-10-11     4.1\n",
       "2024-10-14     4.1\n",
       "2024-10-15     4.1\n",
       "2024-10-16     4.1\n",
       "2024-10-17     4.1\n",
       "2024-10-18     4.1\n",
       "2024-10-21     4.1\n",
       "2024-10-22     4.1\n",
       "2024-10-23     4.1\n",
       "2024-10-24     4.1\n",
       "2024-10-25     4.1\n",
       "2024-10-28     4.1\n",
       "2024-10-29     4.1\n",
       "2024-10-30     4.1\n",
       "2024-10-31     4.1"
      ]
     },
     "execution_count": 206,
     "metadata": {},
     "output_type": "execute_result"
    }
   ],
   "source": [
    "unrate.tail(30)"
   ]
  },
  {
   "cell_type": "code",
   "execution_count": 207,
   "id": "ac190a32",
   "metadata": {},
   "outputs": [
    {
     "data": {
      "text/plain": [
       "(6307, 1)"
      ]
     },
     "execution_count": 207,
     "metadata": {},
     "output_type": "execute_result"
    }
   ],
   "source": [
    "unrate.shape"
   ]
  },
  {
   "cell_type": "markdown",
   "id": "c0a04018",
   "metadata": {},
   "source": [
    "### Combine In One DataFrame"
   ]
  },
  {
   "cell_type": "code",
   "execution_count": 247,
   "id": "ba103976",
   "metadata": {},
   "outputs": [],
   "source": [
    "monthly_prices = pd.concat([interest , inflation , unrate] , axis = 'columns')"
   ]
  },
  {
   "cell_type": "code",
   "execution_count": 248,
   "id": "cc82d15d",
   "metadata": {},
   "outputs": [
    {
     "data": {
      "text/html": [
       "<div>\n",
       "<style scoped>\n",
       "    .dataframe tbody tr th:only-of-type {\n",
       "        vertical-align: middle;\n",
       "    }\n",
       "\n",
       "    .dataframe tbody tr th {\n",
       "        vertical-align: top;\n",
       "    }\n",
       "\n",
       "    .dataframe thead th {\n",
       "        text-align: right;\n",
       "    }\n",
       "</style>\n",
       "<table border=\"1\" class=\"dataframe\">\n",
       "  <thead>\n",
       "    <tr style=\"text-align: right;\">\n",
       "      <th></th>\n",
       "      <th>Interest</th>\n",
       "      <th>Inflation</th>\n",
       "      <th>Unrate</th>\n",
       "    </tr>\n",
       "  </thead>\n",
       "  <tbody>\n",
       "    <tr>\n",
       "      <th>2024-11-01</th>\n",
       "      <td>1.958417</td>\n",
       "      <td>3.22607</td>\n",
       "      <td>4.2</td>\n",
       "    </tr>\n",
       "    <tr>\n",
       "      <th>2024-11-04</th>\n",
       "      <td>1.958417</td>\n",
       "      <td>3.22607</td>\n",
       "      <td>4.2</td>\n",
       "    </tr>\n",
       "    <tr>\n",
       "      <th>2024-11-05</th>\n",
       "      <td>1.958417</td>\n",
       "      <td>3.22607</td>\n",
       "      <td>4.2</td>\n",
       "    </tr>\n",
       "    <tr>\n",
       "      <th>2024-11-06</th>\n",
       "      <td>1.958417</td>\n",
       "      <td>3.22607</td>\n",
       "      <td>4.2</td>\n",
       "    </tr>\n",
       "    <tr>\n",
       "      <th>2024-11-07</th>\n",
       "      <td>1.958417</td>\n",
       "      <td>3.22607</td>\n",
       "      <td>4.2</td>\n",
       "    </tr>\n",
       "  </tbody>\n",
       "</table>\n",
       "</div>"
      ],
      "text/plain": [
       "            Interest  Inflation  Unrate\n",
       "2024-11-01  1.958417    3.22607     4.2\n",
       "2024-11-04  1.958417    3.22607     4.2\n",
       "2024-11-05  1.958417    3.22607     4.2\n",
       "2024-11-06  1.958417    3.22607     4.2\n",
       "2024-11-07  1.958417    3.22607     4.2"
      ]
     },
     "execution_count": 248,
     "metadata": {},
     "output_type": "execute_result"
    }
   ],
   "source": [
    "monthly_prices.head()"
   ]
  },
  {
   "cell_type": "code",
   "execution_count": 249,
   "id": "79055563",
   "metadata": {},
   "outputs": [
    {
     "data": {
      "text/html": [
       "<div>\n",
       "<style scoped>\n",
       "    .dataframe tbody tr th:only-of-type {\n",
       "        vertical-align: middle;\n",
       "    }\n",
       "\n",
       "    .dataframe tbody tr th {\n",
       "        vertical-align: top;\n",
       "    }\n",
       "\n",
       "    .dataframe thead th {\n",
       "        text-align: right;\n",
       "    }\n",
       "</style>\n",
       "<table border=\"1\" class=\"dataframe\">\n",
       "  <thead>\n",
       "    <tr style=\"text-align: right;\">\n",
       "      <th></th>\n",
       "      <th>Interest</th>\n",
       "      <th>Inflation</th>\n",
       "      <th>Unrate</th>\n",
       "    </tr>\n",
       "  </thead>\n",
       "  <tbody>\n",
       "    <tr>\n",
       "      <th>2025-01-27</th>\n",
       "      <td>2.055532</td>\n",
       "      <td>3.930193</td>\n",
       "      <td>4.0</td>\n",
       "    </tr>\n",
       "    <tr>\n",
       "      <th>2025-01-28</th>\n",
       "      <td>2.055532</td>\n",
       "      <td>3.930193</td>\n",
       "      <td>4.0</td>\n",
       "    </tr>\n",
       "    <tr>\n",
       "      <th>2025-01-29</th>\n",
       "      <td>2.055532</td>\n",
       "      <td>3.930193</td>\n",
       "      <td>4.0</td>\n",
       "    </tr>\n",
       "    <tr>\n",
       "      <th>2025-01-30</th>\n",
       "      <td>2.055532</td>\n",
       "      <td>3.930193</td>\n",
       "      <td>4.0</td>\n",
       "    </tr>\n",
       "    <tr>\n",
       "      <th>2025-01-31</th>\n",
       "      <td>2.055532</td>\n",
       "      <td>3.930193</td>\n",
       "      <td>4.0</td>\n",
       "    </tr>\n",
       "  </tbody>\n",
       "</table>\n",
       "</div>"
      ],
      "text/plain": [
       "            Interest  Inflation  Unrate\n",
       "2025-01-27  2.055532   3.930193     4.0\n",
       "2025-01-28  2.055532   3.930193     4.0\n",
       "2025-01-29  2.055532   3.930193     4.0\n",
       "2025-01-30  2.055532   3.930193     4.0\n",
       "2025-01-31  2.055532   3.930193     4.0"
      ]
     },
     "execution_count": 249,
     "metadata": {},
     "output_type": "execute_result"
    }
   ],
   "source": [
    "monthly_prices.tail()"
   ]
  },
  {
   "cell_type": "code",
   "execution_count": 250,
   "id": "b794e830",
   "metadata": {},
   "outputs": [
    {
     "data": {
      "text/plain": [
       "(66, 3)"
      ]
     },
     "execution_count": 250,
     "metadata": {},
     "output_type": "execute_result"
    }
   ],
   "source": [
    "monthly_prices.shape"
   ]
  },
  {
   "cell_type": "markdown",
   "id": "51de94b0",
   "metadata": {},
   "source": [
    "# Combine The Daily And Monthly Data"
   ]
  },
  {
   "cell_type": "code",
   "execution_count": 251,
   "id": "b5ded618",
   "metadata": {},
   "outputs": [],
   "source": [
    "all_prices = pd.concat([prices , monthly_prices] , axis = 'columns')"
   ]
  },
  {
   "cell_type": "code",
   "execution_count": 252,
   "id": "32b9985e",
   "metadata": {},
   "outputs": [
    {
     "data": {
      "text/html": [
       "<div>\n",
       "<style scoped>\n",
       "    .dataframe tbody tr th:only-of-type {\n",
       "        vertical-align: middle;\n",
       "    }\n",
       "\n",
       "    .dataframe tbody tr th {\n",
       "        vertical-align: top;\n",
       "    }\n",
       "\n",
       "    .dataframe thead th {\n",
       "        text-align: right;\n",
       "    }\n",
       "</style>\n",
       "<table border=\"1\" class=\"dataframe\">\n",
       "  <thead>\n",
       "    <tr style=\"text-align: right;\">\n",
       "      <th></th>\n",
       "      <th>Gold</th>\n",
       "      <th>Silver</th>\n",
       "      <th>Oil</th>\n",
       "      <th>US Dollar</th>\n",
       "      <th>S&amp;P 500</th>\n",
       "      <th>Interest</th>\n",
       "      <th>Inflation</th>\n",
       "      <th>Unrate</th>\n",
       "    </tr>\n",
       "  </thead>\n",
       "  <tbody>\n",
       "    <tr>\n",
       "      <th>2024-11-01</th>\n",
       "      <td>2738.6</td>\n",
       "      <td>32.54</td>\n",
       "      <td>69.49</td>\n",
       "      <td>104.28</td>\n",
       "      <td>5728.80</td>\n",
       "      <td>1.958417</td>\n",
       "      <td>3.22607</td>\n",
       "      <td>4.2</td>\n",
       "    </tr>\n",
       "    <tr>\n",
       "      <th>2024-11-04</th>\n",
       "      <td>2736.1</td>\n",
       "      <td>32.48</td>\n",
       "      <td>71.47</td>\n",
       "      <td>103.89</td>\n",
       "      <td>5712.69</td>\n",
       "      <td>1.958417</td>\n",
       "      <td>3.22607</td>\n",
       "      <td>4.2</td>\n",
       "    </tr>\n",
       "    <tr>\n",
       "      <th>2024-11-05</th>\n",
       "      <td>2740.3</td>\n",
       "      <td>32.65</td>\n",
       "      <td>71.99</td>\n",
       "      <td>103.42</td>\n",
       "      <td>5782.76</td>\n",
       "      <td>1.958417</td>\n",
       "      <td>3.22607</td>\n",
       "      <td>4.2</td>\n",
       "    </tr>\n",
       "    <tr>\n",
       "      <th>2024-11-06</th>\n",
       "      <td>2667.6</td>\n",
       "      <td>31.22</td>\n",
       "      <td>71.69</td>\n",
       "      <td>105.09</td>\n",
       "      <td>5929.04</td>\n",
       "      <td>1.958417</td>\n",
       "      <td>3.22607</td>\n",
       "      <td>4.2</td>\n",
       "    </tr>\n",
       "    <tr>\n",
       "      <th>2024-11-07</th>\n",
       "      <td>2698.4</td>\n",
       "      <td>31.76</td>\n",
       "      <td>72.36</td>\n",
       "      <td>104.51</td>\n",
       "      <td>5973.10</td>\n",
       "      <td>1.958417</td>\n",
       "      <td>3.22607</td>\n",
       "      <td>4.2</td>\n",
       "    </tr>\n",
       "  </tbody>\n",
       "</table>\n",
       "</div>"
      ],
      "text/plain": [
       "              Gold  Silver    Oil  US Dollar  S&P 500  Interest  Inflation  \\\n",
       "2024-11-01  2738.6   32.54  69.49     104.28  5728.80  1.958417    3.22607   \n",
       "2024-11-04  2736.1   32.48  71.47     103.89  5712.69  1.958417    3.22607   \n",
       "2024-11-05  2740.3   32.65  71.99     103.42  5782.76  1.958417    3.22607   \n",
       "2024-11-06  2667.6   31.22  71.69     105.09  5929.04  1.958417    3.22607   \n",
       "2024-11-07  2698.4   31.76  72.36     104.51  5973.10  1.958417    3.22607   \n",
       "\n",
       "            Unrate  \n",
       "2024-11-01     4.2  \n",
       "2024-11-04     4.2  \n",
       "2024-11-05     4.2  \n",
       "2024-11-06     4.2  \n",
       "2024-11-07     4.2  "
      ]
     },
     "execution_count": 252,
     "metadata": {},
     "output_type": "execute_result"
    }
   ],
   "source": [
    "all_prices.head()"
   ]
  },
  {
   "cell_type": "code",
   "execution_count": 253,
   "id": "81881c0a",
   "metadata": {},
   "outputs": [
    {
     "data": {
      "text/html": [
       "<div>\n",
       "<style scoped>\n",
       "    .dataframe tbody tr th:only-of-type {\n",
       "        vertical-align: middle;\n",
       "    }\n",
       "\n",
       "    .dataframe tbody tr th {\n",
       "        vertical-align: top;\n",
       "    }\n",
       "\n",
       "    .dataframe thead th {\n",
       "        text-align: right;\n",
       "    }\n",
       "</style>\n",
       "<table border=\"1\" class=\"dataframe\">\n",
       "  <thead>\n",
       "    <tr style=\"text-align: right;\">\n",
       "      <th></th>\n",
       "      <th>Gold</th>\n",
       "      <th>Silver</th>\n",
       "      <th>Oil</th>\n",
       "      <th>US Dollar</th>\n",
       "      <th>S&amp;P 500</th>\n",
       "      <th>Interest</th>\n",
       "      <th>Inflation</th>\n",
       "      <th>Unrate</th>\n",
       "    </tr>\n",
       "  </thead>\n",
       "  <tbody>\n",
       "    <tr>\n",
       "      <th>2025-01-27</th>\n",
       "      <td>2737.5</td>\n",
       "      <td>30.25</td>\n",
       "      <td>73.17</td>\n",
       "      <td>107.34</td>\n",
       "      <td>6012.28</td>\n",
       "      <td>2.055532</td>\n",
       "      <td>3.930193</td>\n",
       "      <td>4.0</td>\n",
       "    </tr>\n",
       "    <tr>\n",
       "      <th>2025-01-28</th>\n",
       "      <td>2766.8</td>\n",
       "      <td>30.73</td>\n",
       "      <td>73.77</td>\n",
       "      <td>107.87</td>\n",
       "      <td>6067.70</td>\n",
       "      <td>2.055532</td>\n",
       "      <td>3.930193</td>\n",
       "      <td>4.0</td>\n",
       "    </tr>\n",
       "    <tr>\n",
       "      <th>2025-01-29</th>\n",
       "      <td>2769.1</td>\n",
       "      <td>31.24</td>\n",
       "      <td>72.62</td>\n",
       "      <td>108.00</td>\n",
       "      <td>6039.31</td>\n",
       "      <td>2.055532</td>\n",
       "      <td>3.930193</td>\n",
       "      <td>4.0</td>\n",
       "    </tr>\n",
       "    <tr>\n",
       "      <th>2025-01-30</th>\n",
       "      <td>2823.0</td>\n",
       "      <td>32.36</td>\n",
       "      <td>72.73</td>\n",
       "      <td>107.80</td>\n",
       "      <td>6071.17</td>\n",
       "      <td>2.055532</td>\n",
       "      <td>3.930193</td>\n",
       "      <td>4.0</td>\n",
       "    </tr>\n",
       "    <tr>\n",
       "      <th>2025-01-31</th>\n",
       "      <td>2812.5</td>\n",
       "      <td>32.13</td>\n",
       "      <td>72.53</td>\n",
       "      <td>108.37</td>\n",
       "      <td>6040.53</td>\n",
       "      <td>2.055532</td>\n",
       "      <td>3.930193</td>\n",
       "      <td>4.0</td>\n",
       "    </tr>\n",
       "  </tbody>\n",
       "</table>\n",
       "</div>"
      ],
      "text/plain": [
       "              Gold  Silver    Oil  US Dollar  S&P 500  Interest  Inflation  \\\n",
       "2025-01-27  2737.5   30.25  73.17     107.34  6012.28  2.055532   3.930193   \n",
       "2025-01-28  2766.8   30.73  73.77     107.87  6067.70  2.055532   3.930193   \n",
       "2025-01-29  2769.1   31.24  72.62     108.00  6039.31  2.055532   3.930193   \n",
       "2025-01-30  2823.0   32.36  72.73     107.80  6071.17  2.055532   3.930193   \n",
       "2025-01-31  2812.5   32.13  72.53     108.37  6040.53  2.055532   3.930193   \n",
       "\n",
       "            Unrate  \n",
       "2025-01-27     4.0  \n",
       "2025-01-28     4.0  \n",
       "2025-01-29     4.0  \n",
       "2025-01-30     4.0  \n",
       "2025-01-31     4.0  "
      ]
     },
     "execution_count": 253,
     "metadata": {},
     "output_type": "execute_result"
    }
   ],
   "source": [
    "all_prices.tail()"
   ]
  },
  {
   "cell_type": "code",
   "execution_count": 254,
   "id": "2133179c",
   "metadata": {},
   "outputs": [
    {
     "data": {
      "text/plain": [
       "(66, 8)"
      ]
     },
     "execution_count": 254,
     "metadata": {},
     "output_type": "execute_result"
    }
   ],
   "source": [
    "all_prices.shape"
   ]
  },
  {
   "cell_type": "code",
   "execution_count": 255,
   "id": "54740819",
   "metadata": {},
   "outputs": [
    {
     "data": {
      "text/plain": [
       "Gold         0\n",
       "Silver       0\n",
       "Oil          0\n",
       "US Dollar    0\n",
       "S&P 500      0\n",
       "Interest     0\n",
       "Inflation    0\n",
       "Unrate       0\n",
       "dtype: int64"
      ]
     },
     "execution_count": 255,
     "metadata": {},
     "output_type": "execute_result"
    }
   ],
   "source": [
    "all_prices.isnull().sum()"
   ]
  },
  {
   "cell_type": "markdown",
   "id": "0f5f6601",
   "metadata": {},
   "source": [
    "# Save Processed Data"
   ]
  },
  {
   "cell_type": "code",
   "execution_count": 256,
   "id": "853fd09e",
   "metadata": {},
   "outputs": [],
   "source": [
    "all_prices.to_csv(\"Processed_Data_test.csv\" , index = True)"
   ]
  },
  {
   "cell_type": "code",
   "execution_count": null,
   "id": "5131fd8f",
   "metadata": {},
   "outputs": [],
   "source": []
  }
 ],
 "metadata": {
  "kernelspec": {
   "display_name": "Python 3 (ipykernel)",
   "language": "python",
   "name": "python3"
  },
  "language_info": {
   "codemirror_mode": {
    "name": "ipython",
    "version": 3
   },
   "file_extension": ".py",
   "mimetype": "text/x-python",
   "name": "python",
   "nbconvert_exporter": "python",
   "pygments_lexer": "ipython3",
   "version": "3.11.5"
  }
 },
 "nbformat": 4,
 "nbformat_minor": 5
}
