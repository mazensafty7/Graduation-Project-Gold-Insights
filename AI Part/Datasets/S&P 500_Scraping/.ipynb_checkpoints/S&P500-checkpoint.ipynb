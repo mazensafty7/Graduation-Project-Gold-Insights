{
 "cells": [
  {
   "cell_type": "markdown",
   "id": "7d3c87bc",
   "metadata": {},
   "source": [
    "# S&P 500 Prices Scraping"
   ]
  },
  {
   "cell_type": "markdown",
   "id": "0c57d062",
   "metadata": {},
   "source": [
    "## Import Libraries"
   ]
  },
  {
   "cell_type": "code",
   "execution_count": 9,
   "id": "07406e41",
   "metadata": {},
   "outputs": [],
   "source": [
    "import requests\n",
    "import pandas as pd\n",
    "from bs4 import BeautifulSoup"
   ]
  },
  {
   "cell_type": "markdown",
   "id": "e8853a9b",
   "metadata": {},
   "source": [
    "## Make The Request From Yahoo Finance and Get The Table HTML"
   ]
  },
  {
   "cell_type": "code",
   "execution_count": 10,
   "id": "65d8473a",
   "metadata": {},
   "outputs": [],
   "source": [
    "url = \"https://finance.yahoo.com/quote/%5EGSPC/history/?period1=-1325583000&period2=1745262138\"\n",
    "headers = {\n",
    "    'User-Agent': 'Mozilla/5.0 (Windows NT 10.0; Win64; x64) AppleWebKit/537.36 (KHTML, like Gecko) Chrome/91.0.4472.124 Safari/537.36'\n",
    "}\n",
    "r = requests.get(url, headers=headers)\n",
    "\n",
    "c = r.text\n",
    "soup=BeautifulSoup(c, \"lxml\")\n",
    "\n",
    "table = soup.find(\"table\" , {\"class\":\"table yf-1jecxey noDl hideOnPrint\"})"
   ]
  },
  {
   "cell_type": "markdown",
   "id": "d92dbf09",
   "metadata": {},
   "source": [
    "## Get The Headers of The Table"
   ]
  },
  {
   "cell_type": "code",
   "execution_count": 11,
   "id": "379bc5bf",
   "metadata": {},
   "outputs": [
    {
     "data": {
      "text/html": [
       "<div>\n",
       "<style scoped>\n",
       "    .dataframe tbody tr th:only-of-type {\n",
       "        vertical-align: middle;\n",
       "    }\n",
       "\n",
       "    .dataframe tbody tr th {\n",
       "        vertical-align: top;\n",
       "    }\n",
       "\n",
       "    .dataframe thead th {\n",
       "        text-align: right;\n",
       "    }\n",
       "</style>\n",
       "<table border=\"1\" class=\"dataframe\">\n",
       "  <thead>\n",
       "    <tr style=\"text-align: right;\">\n",
       "      <th></th>\n",
       "      <th>Date</th>\n",
       "      <th>Open</th>\n",
       "      <th>High</th>\n",
       "      <th>Low</th>\n",
       "      <th>Close</th>\n",
       "      <th>Adj Close</th>\n",
       "      <th>Volume</th>\n",
       "    </tr>\n",
       "  </thead>\n",
       "  <tbody>\n",
       "  </tbody>\n",
       "</table>\n",
       "</div>"
      ],
      "text/plain": [
       "Empty DataFrame\n",
       "Columns: [Date, Open, High, Low, Close, Adj Close, Volume]\n",
       "Index: []"
      ]
     },
     "execution_count": 11,
     "metadata": {},
     "output_type": "execute_result"
    }
   ],
   "source": [
    "headers = table.find_all(\"th\" , {\"class\":\"yf-1jecxey\"})\n",
    "\n",
    "titles = []\n",
    "\n",
    "for i in headers:\n",
    "    titles.append(i.text.split(\"  \")[0])\n",
    "    \n",
    "df = pd.DataFrame(columns = titles)\n",
    "df"
   ]
  },
  {
   "cell_type": "markdown",
   "id": "5abb66a6",
   "metadata": {},
   "source": [
    "## Get The Content of The Table"
   ]
  },
  {
   "cell_type": "code",
   "execution_count": 12,
   "id": "8e8ec192",
   "metadata": {},
   "outputs": [
    {
     "data": {
      "text/html": [
       "<div>\n",
       "<style scoped>\n",
       "    .dataframe tbody tr th:only-of-type {\n",
       "        vertical-align: middle;\n",
       "    }\n",
       "\n",
       "    .dataframe tbody tr th {\n",
       "        vertical-align: top;\n",
       "    }\n",
       "\n",
       "    .dataframe thead th {\n",
       "        text-align: right;\n",
       "    }\n",
       "</style>\n",
       "<table border=\"1\" class=\"dataframe\">\n",
       "  <thead>\n",
       "    <tr style=\"text-align: right;\">\n",
       "      <th></th>\n",
       "      <th>Date</th>\n",
       "      <th>Open</th>\n",
       "      <th>High</th>\n",
       "      <th>Low</th>\n",
       "      <th>Close</th>\n",
       "      <th>Adj Close</th>\n",
       "      <th>Volume</th>\n",
       "    </tr>\n",
       "  </thead>\n",
       "  <tbody>\n",
       "    <tr>\n",
       "      <th>0</th>\n",
       "      <td>Apr 21, 2025</td>\n",
       "      <td>5,232.94</td>\n",
       "      <td>5,232.94</td>\n",
       "      <td>5,101.63</td>\n",
       "      <td>5,116.57</td>\n",
       "      <td>5,116.57</td>\n",
       "      <td>1,789,812,000</td>\n",
       "    </tr>\n",
       "    <tr>\n",
       "      <th>1</th>\n",
       "      <td>Apr 17, 2025</td>\n",
       "      <td>5,305.45</td>\n",
       "      <td>5,328.31</td>\n",
       "      <td>5,255.58</td>\n",
       "      <td>5,282.70</td>\n",
       "      <td>5,282.70</td>\n",
       "      <td>4,714,880,000</td>\n",
       "    </tr>\n",
       "    <tr>\n",
       "      <th>2</th>\n",
       "      <td>Apr 16, 2025</td>\n",
       "      <td>5,335.75</td>\n",
       "      <td>5,367.24</td>\n",
       "      <td>5,220.79</td>\n",
       "      <td>5,275.70</td>\n",
       "      <td>5,275.70</td>\n",
       "      <td>4,607,750,000</td>\n",
       "    </tr>\n",
       "    <tr>\n",
       "      <th>3</th>\n",
       "      <td>Apr 15, 2025</td>\n",
       "      <td>5,411.99</td>\n",
       "      <td>5,450.41</td>\n",
       "      <td>5,386.44</td>\n",
       "      <td>5,396.63</td>\n",
       "      <td>5,396.63</td>\n",
       "      <td>4,317,110,000</td>\n",
       "    </tr>\n",
       "    <tr>\n",
       "      <th>4</th>\n",
       "      <td>Apr 14, 2025</td>\n",
       "      <td>5,441.96</td>\n",
       "      <td>5,459.46</td>\n",
       "      <td>5,358.02</td>\n",
       "      <td>5,405.97</td>\n",
       "      <td>5,405.97</td>\n",
       "      <td>5,031,440,000</td>\n",
       "    </tr>\n",
       "  </tbody>\n",
       "</table>\n",
       "</div>"
      ],
      "text/plain": [
       "           Date      Open      High       Low     Close Adj Close  \\\n",
       "0  Apr 21, 2025  5,232.94  5,232.94  5,101.63  5,116.57  5,116.57   \n",
       "1  Apr 17, 2025  5,305.45  5,328.31  5,255.58  5,282.70  5,282.70   \n",
       "2  Apr 16, 2025  5,335.75  5,367.24  5,220.79  5,275.70  5,275.70   \n",
       "3  Apr 15, 2025  5,411.99  5,450.41  5,386.44  5,396.63  5,396.63   \n",
       "4  Apr 14, 2025  5,441.96  5,459.46  5,358.02  5,405.97  5,405.97   \n",
       "\n",
       "          Volume  \n",
       "0  1,789,812,000  \n",
       "1  4,714,880,000  \n",
       "2  4,607,750,000  \n",
       "3  4,317,110,000  \n",
       "4  5,031,440,000  "
      ]
     },
     "execution_count": 12,
     "metadata": {},
     "output_type": "execute_result"
    }
   ],
   "source": [
    "rows_con = table.find_all(\"tr\" , {\"class\":\"yf-1jecxey\"})\n",
    "for i in rows_con[1:]:\n",
    "    data = i.find_all(\"td\" , {\"class\":\"yf-1jecxey\"})\n",
    "    row = [tr.text for tr in data]\n",
    "    new_row_df = pd.DataFrame([row], columns=df.columns)  # Ensure columns match\n",
    "    df = pd.concat([df, new_row_df], ignore_index=True)\n",
    "df.head()"
   ]
  },
  {
   "cell_type": "markdown",
   "id": "c681ac87",
   "metadata": {},
   "source": [
    "## Data Preprocessing"
   ]
  },
  {
   "cell_type": "code",
   "execution_count": 13,
   "id": "bc61446c",
   "metadata": {},
   "outputs": [
    {
     "data": {
      "text/html": [
       "<div>\n",
       "<style scoped>\n",
       "    .dataframe tbody tr th:only-of-type {\n",
       "        vertical-align: middle;\n",
       "    }\n",
       "\n",
       "    .dataframe tbody tr th {\n",
       "        vertical-align: top;\n",
       "    }\n",
       "\n",
       "    .dataframe thead th {\n",
       "        text-align: right;\n",
       "    }\n",
       "</style>\n",
       "<table border=\"1\" class=\"dataframe\">\n",
       "  <thead>\n",
       "    <tr style=\"text-align: right;\">\n",
       "      <th></th>\n",
       "      <th>Date</th>\n",
       "      <th>Open</th>\n",
       "      <th>High</th>\n",
       "      <th>Low</th>\n",
       "      <th>Close</th>\n",
       "      <th>Adj Close</th>\n",
       "      <th>Volume</th>\n",
       "    </tr>\n",
       "  </thead>\n",
       "  <tbody>\n",
       "    <tr>\n",
       "      <th>0</th>\n",
       "      <td>Apr 21, 2025</td>\n",
       "      <td>5,232.94</td>\n",
       "      <td>5,232.94</td>\n",
       "      <td>5,101.63</td>\n",
       "      <td>5,116.57</td>\n",
       "      <td>5,116.57</td>\n",
       "      <td>1,789,812,000</td>\n",
       "    </tr>\n",
       "    <tr>\n",
       "      <th>1</th>\n",
       "      <td>Apr 17, 2025</td>\n",
       "      <td>5,305.45</td>\n",
       "      <td>5,328.31</td>\n",
       "      <td>5,255.58</td>\n",
       "      <td>5,282.70</td>\n",
       "      <td>5,282.70</td>\n",
       "      <td>4,714,880,000</td>\n",
       "    </tr>\n",
       "    <tr>\n",
       "      <th>2</th>\n",
       "      <td>Apr 16, 2025</td>\n",
       "      <td>5,335.75</td>\n",
       "      <td>5,367.24</td>\n",
       "      <td>5,220.79</td>\n",
       "      <td>5,275.70</td>\n",
       "      <td>5,275.70</td>\n",
       "      <td>4,607,750,000</td>\n",
       "    </tr>\n",
       "    <tr>\n",
       "      <th>3</th>\n",
       "      <td>Apr 15, 2025</td>\n",
       "      <td>5,411.99</td>\n",
       "      <td>5,450.41</td>\n",
       "      <td>5,386.44</td>\n",
       "      <td>5,396.63</td>\n",
       "      <td>5,396.63</td>\n",
       "      <td>4,317,110,000</td>\n",
       "    </tr>\n",
       "    <tr>\n",
       "      <th>4</th>\n",
       "      <td>Apr 14, 2025</td>\n",
       "      <td>5,441.96</td>\n",
       "      <td>5,459.46</td>\n",
       "      <td>5,358.02</td>\n",
       "      <td>5,405.97</td>\n",
       "      <td>5,405.97</td>\n",
       "      <td>5,031,440,000</td>\n",
       "    </tr>\n",
       "    <tr>\n",
       "      <th>5</th>\n",
       "      <td>Apr 11, 2025</td>\n",
       "      <td>5,255.56</td>\n",
       "      <td>5,381.46</td>\n",
       "      <td>5,220.77</td>\n",
       "      <td>5,363.36</td>\n",
       "      <td>5,363.36</td>\n",
       "      <td>5,602,550,000</td>\n",
       "    </tr>\n",
       "    <tr>\n",
       "      <th>6</th>\n",
       "      <td>Apr 10, 2025</td>\n",
       "      <td>5,353.15</td>\n",
       "      <td>5,353.15</td>\n",
       "      <td>5,115.27</td>\n",
       "      <td>5,268.05</td>\n",
       "      <td>5,268.05</td>\n",
       "      <td>6,677,140,000</td>\n",
       "    </tr>\n",
       "    <tr>\n",
       "      <th>7</th>\n",
       "      <td>Apr 9, 2025</td>\n",
       "      <td>4,965.28</td>\n",
       "      <td>5,481.34</td>\n",
       "      <td>4,948.43</td>\n",
       "      <td>5,456.90</td>\n",
       "      <td>5,456.90</td>\n",
       "      <td>9,489,600,000</td>\n",
       "    </tr>\n",
       "    <tr>\n",
       "      <th>8</th>\n",
       "      <td>Apr 8, 2025</td>\n",
       "      <td>5,193.57</td>\n",
       "      <td>5,267.47</td>\n",
       "      <td>4,910.42</td>\n",
       "      <td>4,982.77</td>\n",
       "      <td>4,982.77</td>\n",
       "      <td>7,408,140,000</td>\n",
       "    </tr>\n",
       "    <tr>\n",
       "      <th>9</th>\n",
       "      <td>Apr 7, 2025</td>\n",
       "      <td>4,953.79</td>\n",
       "      <td>5,246.57</td>\n",
       "      <td>4,835.04</td>\n",
       "      <td>5,062.25</td>\n",
       "      <td>5,062.25</td>\n",
       "      <td>8,691,980,000</td>\n",
       "    </tr>\n",
       "  </tbody>\n",
       "</table>\n",
       "</div>"
      ],
      "text/plain": [
       "           Date      Open      High       Low     Close Adj Close  \\\n",
       "0  Apr 21, 2025  5,232.94  5,232.94  5,101.63  5,116.57  5,116.57   \n",
       "1  Apr 17, 2025  5,305.45  5,328.31  5,255.58  5,282.70  5,282.70   \n",
       "2  Apr 16, 2025  5,335.75  5,367.24  5,220.79  5,275.70  5,275.70   \n",
       "3  Apr 15, 2025  5,411.99  5,450.41  5,386.44  5,396.63  5,396.63   \n",
       "4  Apr 14, 2025  5,441.96  5,459.46  5,358.02  5,405.97  5,405.97   \n",
       "5  Apr 11, 2025  5,255.56  5,381.46  5,220.77  5,363.36  5,363.36   \n",
       "6  Apr 10, 2025  5,353.15  5,353.15  5,115.27  5,268.05  5,268.05   \n",
       "7   Apr 9, 2025  4,965.28  5,481.34  4,948.43  5,456.90  5,456.90   \n",
       "8   Apr 8, 2025  5,193.57  5,267.47  4,910.42  4,982.77  4,982.77   \n",
       "9   Apr 7, 2025  4,953.79  5,246.57  4,835.04  5,062.25  5,062.25   \n",
       "\n",
       "          Volume  \n",
       "0  1,789,812,000  \n",
       "1  4,714,880,000  \n",
       "2  4,607,750,000  \n",
       "3  4,317,110,000  \n",
       "4  5,031,440,000  \n",
       "5  5,602,550,000  \n",
       "6  6,677,140,000  \n",
       "7  9,489,600,000  \n",
       "8  7,408,140,000  \n",
       "9  8,691,980,000  "
      ]
     },
     "execution_count": 13,
     "metadata": {},
     "output_type": "execute_result"
    }
   ],
   "source": [
    "df.head(10)"
   ]
  },
  {
   "cell_type": "code",
   "execution_count": 14,
   "id": "ad04d99c",
   "metadata": {},
   "outputs": [
    {
     "data": {
      "text/plain": [
       "(24441, 7)"
      ]
     },
     "execution_count": 14,
     "metadata": {},
     "output_type": "execute_result"
    }
   ],
   "source": [
    "df.shape"
   ]
  },
  {
   "cell_type": "code",
   "execution_count": 15,
   "id": "6ca115e1",
   "metadata": {},
   "outputs": [
    {
     "name": "stdout",
     "output_type": "stream",
     "text": [
      "<class 'pandas.core.frame.DataFrame'>\n",
      "RangeIndex: 24441 entries, 0 to 24440\n",
      "Data columns (total 7 columns):\n",
      " #   Column     Non-Null Count  Dtype \n",
      "---  ------     --------------  ----- \n",
      " 0   Date       24441 non-null  object\n",
      " 1   Open       24441 non-null  object\n",
      " 2   High       24441 non-null  object\n",
      " 3   Low        24441 non-null  object\n",
      " 4   Close      24441 non-null  object\n",
      " 5   Adj Close  24441 non-null  object\n",
      " 6   Volume     24441 non-null  object\n",
      "dtypes: object(7)\n",
      "memory usage: 1.3+ MB\n"
     ]
    }
   ],
   "source": [
    "df.info()"
   ]
  },
  {
   "cell_type": "markdown",
   "id": "4efe78c9",
   "metadata": {},
   "source": [
    "## Date Format"
   ]
  },
  {
   "cell_type": "code",
   "execution_count": 16,
   "id": "731ec36f",
   "metadata": {},
   "outputs": [
    {
     "name": "stdout",
     "output_type": "stream",
     "text": [
      "<class 'pandas.core.frame.DataFrame'>\n",
      "RangeIndex: 24441 entries, 0 to 24440\n",
      "Data columns (total 7 columns):\n",
      " #   Column     Non-Null Count  Dtype         \n",
      "---  ------     --------------  -----         \n",
      " 0   Date       24441 non-null  datetime64[ns]\n",
      " 1   Open       24441 non-null  object        \n",
      " 2   High       24441 non-null  object        \n",
      " 3   Low        24441 non-null  object        \n",
      " 4   Close      24441 non-null  object        \n",
      " 5   Adj Close  24441 non-null  object        \n",
      " 6   Volume     24441 non-null  object        \n",
      "dtypes: datetime64[ns](1), object(6)\n",
      "memory usage: 1.3+ MB\n"
     ]
    }
   ],
   "source": [
    "df['Date'] = pd.to_datetime(df['Date'])\n",
    "df.info()"
   ]
  },
  {
   "cell_type": "markdown",
   "id": "39797ceb",
   "metadata": {},
   "source": [
    "## Numeric Data Format"
   ]
  },
  {
   "cell_type": "code",
   "execution_count": 17,
   "id": "e13b07aa",
   "metadata": {},
   "outputs": [
    {
     "data": {
      "text/plain": [
       "Index(['Open', 'High', 'Low', 'Close', 'Adj Close', 'Volume'], dtype='object')"
      ]
     },
     "execution_count": 17,
     "metadata": {},
     "output_type": "execute_result"
    }
   ],
   "source": [
    "numbers = df.select_dtypes(include = [\"object\"]).columns\n",
    "numbers"
   ]
  },
  {
   "cell_type": "code",
   "execution_count": 18,
   "id": "5adeb533",
   "metadata": {},
   "outputs": [
    {
     "name": "stdout",
     "output_type": "stream",
     "text": [
      "<class 'pandas.core.frame.DataFrame'>\n",
      "RangeIndex: 24441 entries, 0 to 24440\n",
      "Data columns (total 7 columns):\n",
      " #   Column     Non-Null Count  Dtype         \n",
      "---  ------     --------------  -----         \n",
      " 0   Date       24441 non-null  datetime64[ns]\n",
      " 1   Open       24441 non-null  float64       \n",
      " 2   High       24441 non-null  float64       \n",
      " 3   Low        24441 non-null  float64       \n",
      " 4   Close      24441 non-null  float64       \n",
      " 5   Adj Close  24441 non-null  float64       \n",
      " 6   Volume     18945 non-null  float64       \n",
      "dtypes: datetime64[ns](1), float64(6)\n",
      "memory usage: 1.3 MB\n"
     ]
    }
   ],
   "source": [
    "for col in numbers:\n",
    "    df[col] = df[col].str.replace(\",\" , \"\")\n",
    "    df[col] = pd.to_numeric(df[col], errors='coerce')\n",
    "df.info()"
   ]
  },
  {
   "cell_type": "code",
   "execution_count": 20,
   "id": "42b3891c",
   "metadata": {},
   "outputs": [
    {
     "data": {
      "text/html": [
       "<div>\n",
       "<style scoped>\n",
       "    .dataframe tbody tr th:only-of-type {\n",
       "        vertical-align: middle;\n",
       "    }\n",
       "\n",
       "    .dataframe tbody tr th {\n",
       "        vertical-align: top;\n",
       "    }\n",
       "\n",
       "    .dataframe thead th {\n",
       "        text-align: right;\n",
       "    }\n",
       "</style>\n",
       "<table border=\"1\" class=\"dataframe\">\n",
       "  <thead>\n",
       "    <tr style=\"text-align: right;\">\n",
       "      <th></th>\n",
       "      <th>Date</th>\n",
       "      <th>Open</th>\n",
       "      <th>High</th>\n",
       "      <th>Low</th>\n",
       "      <th>Close</th>\n",
       "      <th>Adj Close</th>\n",
       "      <th>Volume</th>\n",
       "    </tr>\n",
       "  </thead>\n",
       "  <tbody>\n",
       "    <tr>\n",
       "      <th>0</th>\n",
       "      <td>2025-04-21</td>\n",
       "      <td>5232.94</td>\n",
       "      <td>5232.94</td>\n",
       "      <td>5101.63</td>\n",
       "      <td>5116.57</td>\n",
       "      <td>5116.57</td>\n",
       "      <td>1.789812e+09</td>\n",
       "    </tr>\n",
       "    <tr>\n",
       "      <th>1</th>\n",
       "      <td>2025-04-17</td>\n",
       "      <td>5305.45</td>\n",
       "      <td>5328.31</td>\n",
       "      <td>5255.58</td>\n",
       "      <td>5282.70</td>\n",
       "      <td>5282.70</td>\n",
       "      <td>4.714880e+09</td>\n",
       "    </tr>\n",
       "    <tr>\n",
       "      <th>2</th>\n",
       "      <td>2025-04-16</td>\n",
       "      <td>5335.75</td>\n",
       "      <td>5367.24</td>\n",
       "      <td>5220.79</td>\n",
       "      <td>5275.70</td>\n",
       "      <td>5275.70</td>\n",
       "      <td>4.607750e+09</td>\n",
       "    </tr>\n",
       "    <tr>\n",
       "      <th>3</th>\n",
       "      <td>2025-04-15</td>\n",
       "      <td>5411.99</td>\n",
       "      <td>5450.41</td>\n",
       "      <td>5386.44</td>\n",
       "      <td>5396.63</td>\n",
       "      <td>5396.63</td>\n",
       "      <td>4.317110e+09</td>\n",
       "    </tr>\n",
       "    <tr>\n",
       "      <th>4</th>\n",
       "      <td>2025-04-14</td>\n",
       "      <td>5441.96</td>\n",
       "      <td>5459.46</td>\n",
       "      <td>5358.02</td>\n",
       "      <td>5405.97</td>\n",
       "      <td>5405.97</td>\n",
       "      <td>5.031440e+09</td>\n",
       "    </tr>\n",
       "  </tbody>\n",
       "</table>\n",
       "</div>"
      ],
      "text/plain": [
       "        Date     Open     High      Low    Close  Adj Close        Volume\n",
       "0 2025-04-21  5232.94  5232.94  5101.63  5116.57    5116.57  1.789812e+09\n",
       "1 2025-04-17  5305.45  5328.31  5255.58  5282.70    5282.70  4.714880e+09\n",
       "2 2025-04-16  5335.75  5367.24  5220.79  5275.70    5275.70  4.607750e+09\n",
       "3 2025-04-15  5411.99  5450.41  5386.44  5396.63    5396.63  4.317110e+09\n",
       "4 2025-04-14  5441.96  5459.46  5358.02  5405.97    5405.97  5.031440e+09"
      ]
     },
     "execution_count": 20,
     "metadata": {},
     "output_type": "execute_result"
    }
   ],
   "source": [
    "df.head()"
   ]
  },
  {
   "cell_type": "code",
   "execution_count": 21,
   "id": "a81c084f",
   "metadata": {},
   "outputs": [],
   "source": [
    "df = df.drop(columns = ['Open', 'High', 'Low', 'Close', 'Volume'])\n",
    "df = df.set_index('Date')\n",
    "df = df.asfreq('b', method = 'ffill')"
   ]
  },
  {
   "cell_type": "code",
   "execution_count": 22,
   "id": "d821c75e",
   "metadata": {},
   "outputs": [
    {
     "data": {
      "text/html": [
       "<div>\n",
       "<style scoped>\n",
       "    .dataframe tbody tr th:only-of-type {\n",
       "        vertical-align: middle;\n",
       "    }\n",
       "\n",
       "    .dataframe tbody tr th {\n",
       "        vertical-align: top;\n",
       "    }\n",
       "\n",
       "    .dataframe thead th {\n",
       "        text-align: right;\n",
       "    }\n",
       "</style>\n",
       "<table border=\"1\" class=\"dataframe\">\n",
       "  <thead>\n",
       "    <tr style=\"text-align: right;\">\n",
       "      <th></th>\n",
       "      <th>Adj Close</th>\n",
       "    </tr>\n",
       "    <tr>\n",
       "      <th>Date</th>\n",
       "      <th></th>\n",
       "    </tr>\n",
       "  </thead>\n",
       "  <tbody>\n",
       "    <tr>\n",
       "      <th>1927-12-30</th>\n",
       "      <td>17.66</td>\n",
       "    </tr>\n",
       "    <tr>\n",
       "      <th>1928-01-02</th>\n",
       "      <td>17.76</td>\n",
       "    </tr>\n",
       "    <tr>\n",
       "      <th>1928-01-03</th>\n",
       "      <td>17.76</td>\n",
       "    </tr>\n",
       "    <tr>\n",
       "      <th>1928-01-04</th>\n",
       "      <td>17.72</td>\n",
       "    </tr>\n",
       "    <tr>\n",
       "      <th>1928-01-05</th>\n",
       "      <td>17.55</td>\n",
       "    </tr>\n",
       "  </tbody>\n",
       "</table>\n",
       "</div>"
      ],
      "text/plain": [
       "            Adj Close\n",
       "Date                 \n",
       "1927-12-30      17.66\n",
       "1928-01-02      17.76\n",
       "1928-01-03      17.76\n",
       "1928-01-04      17.72\n",
       "1928-01-05      17.55"
      ]
     },
     "execution_count": 22,
     "metadata": {},
     "output_type": "execute_result"
    }
   ],
   "source": [
    "df.head()"
   ]
  },
  {
   "cell_type": "code",
   "execution_count": 23,
   "id": "168cf859",
   "metadata": {},
   "outputs": [
    {
     "data": {
      "text/html": [
       "<div>\n",
       "<style scoped>\n",
       "    .dataframe tbody tr th:only-of-type {\n",
       "        vertical-align: middle;\n",
       "    }\n",
       "\n",
       "    .dataframe tbody tr th {\n",
       "        vertical-align: top;\n",
       "    }\n",
       "\n",
       "    .dataframe thead th {\n",
       "        text-align: right;\n",
       "    }\n",
       "</style>\n",
       "<table border=\"1\" class=\"dataframe\">\n",
       "  <thead>\n",
       "    <tr style=\"text-align: right;\">\n",
       "      <th></th>\n",
       "      <th>Adj Close</th>\n",
       "    </tr>\n",
       "    <tr>\n",
       "      <th>Date</th>\n",
       "      <th></th>\n",
       "    </tr>\n",
       "  </thead>\n",
       "  <tbody>\n",
       "    <tr>\n",
       "      <th>2025-04-15</th>\n",
       "      <td>5396.63</td>\n",
       "    </tr>\n",
       "    <tr>\n",
       "      <th>2025-04-16</th>\n",
       "      <td>5275.70</td>\n",
       "    </tr>\n",
       "    <tr>\n",
       "      <th>2025-04-17</th>\n",
       "      <td>5282.70</td>\n",
       "    </tr>\n",
       "    <tr>\n",
       "      <th>2025-04-18</th>\n",
       "      <td>5116.57</td>\n",
       "    </tr>\n",
       "    <tr>\n",
       "      <th>2025-04-21</th>\n",
       "      <td>5116.57</td>\n",
       "    </tr>\n",
       "  </tbody>\n",
       "</table>\n",
       "</div>"
      ],
      "text/plain": [
       "            Adj Close\n",
       "Date                 \n",
       "2025-04-15    5396.63\n",
       "2025-04-16    5275.70\n",
       "2025-04-17    5282.70\n",
       "2025-04-18    5116.57\n",
       "2025-04-21    5116.57"
      ]
     },
     "execution_count": 23,
     "metadata": {},
     "output_type": "execute_result"
    }
   ],
   "source": [
    "df.tail()"
   ]
  },
  {
   "cell_type": "markdown",
   "id": "584e7293",
   "metadata": {},
   "source": [
    "# Save The Data In CSV File"
   ]
  },
  {
   "cell_type": "code",
   "execution_count": 24,
   "id": "a5343025",
   "metadata": {},
   "outputs": [],
   "source": [
    "df.to_csv(\"S&P500_close.csv\")"
   ]
  },
  {
   "cell_type": "code",
   "execution_count": null,
   "id": "0a6041df",
   "metadata": {},
   "outputs": [],
   "source": []
  }
 ],
 "metadata": {
  "kernelspec": {
   "display_name": "Python 3 (ipykernel)",
   "language": "python",
   "name": "python3"
  },
  "language_info": {
   "codemirror_mode": {
    "name": "ipython",
    "version": 3
   },
   "file_extension": ".py",
   "mimetype": "text/x-python",
   "name": "python",
   "nbconvert_exporter": "python",
   "pygments_lexer": "ipython3",
   "version": "3.11.5"
  }
 },
 "nbformat": 4,
 "nbformat_minor": 5
}
