{
 "cells": [
  {
   "cell_type": "markdown",
   "id": "2e7f348a",
   "metadata": {},
   "source": [
    "# Oil Prices Scraping"
   ]
  },
  {
   "cell_type": "markdown",
   "id": "80b854ce",
   "metadata": {},
   "source": [
    "## Import Libraries"
   ]
  },
  {
   "cell_type": "code",
   "execution_count": 1,
   "id": "4bc41ead",
   "metadata": {},
   "outputs": [
    {
     "name": "stderr",
     "output_type": "stream",
     "text": [
      "C:\\Users\\mazen\\anaconda3\\envs\\Safty\\Lib\\site-packages\\pandas\\core\\arrays\\masked.py:60: UserWarning: Pandas requires version '1.3.6' or newer of 'bottleneck' (version '1.3.5' currently installed).\n",
      "  from pandas.core import (\n"
     ]
    }
   ],
   "source": [
    "import requests\n",
    "import pandas as pd\n",
    "from bs4 import BeautifulSoup"
   ]
  },
  {
   "cell_type": "markdown",
   "id": "f93b0e99",
   "metadata": {},
   "source": [
    "## Make The Request From Yahoo Finance and Get The Table HTML"
   ]
  },
  {
   "cell_type": "code",
   "execution_count": 2,
   "id": "4c0b9f60",
   "metadata": {},
   "outputs": [],
   "source": [
    "url = \"https://finance.yahoo.com/quote/CL%3DF/history/?period1=967003200&period2=1745260880\"\n",
    "headers = {\n",
    "    'User-Agent': 'Mozilla/5.0 (Windows NT 10.0; Win64; x64) AppleWebKit/537.36 (KHTML, like Gecko) Chrome/91.0.4472.124 Safari/537.36'\n",
    "}\n",
    "r = requests.get(url, headers=headers)\n",
    "\n",
    "c = r.text\n",
    "soup=BeautifulSoup(c, \"lxml\")\n",
    "\n",
    "table = soup.find(\"table\" , {\"class\":\"table yf-1jecxey noDl hideOnPrint\"})"
   ]
  },
  {
   "cell_type": "markdown",
   "id": "8ed6938a",
   "metadata": {},
   "source": [
    "## Get The Headers of The Table"
   ]
  },
  {
   "cell_type": "code",
   "execution_count": 3,
   "id": "89646b25",
   "metadata": {},
   "outputs": [
    {
     "data": {
      "text/html": [
       "<div>\n",
       "<style scoped>\n",
       "    .dataframe tbody tr th:only-of-type {\n",
       "        vertical-align: middle;\n",
       "    }\n",
       "\n",
       "    .dataframe tbody tr th {\n",
       "        vertical-align: top;\n",
       "    }\n",
       "\n",
       "    .dataframe thead th {\n",
       "        text-align: right;\n",
       "    }\n",
       "</style>\n",
       "<table border=\"1\" class=\"dataframe\">\n",
       "  <thead>\n",
       "    <tr style=\"text-align: right;\">\n",
       "      <th></th>\n",
       "      <th>Date</th>\n",
       "      <th>Open</th>\n",
       "      <th>High</th>\n",
       "      <th>Low</th>\n",
       "      <th>Close</th>\n",
       "      <th>Adj Close</th>\n",
       "      <th>Volume</th>\n",
       "    </tr>\n",
       "  </thead>\n",
       "  <tbody>\n",
       "  </tbody>\n",
       "</table>\n",
       "</div>"
      ],
      "text/plain": [
       "Empty DataFrame\n",
       "Columns: [Date, Open, High, Low, Close, Adj Close, Volume]\n",
       "Index: []"
      ]
     },
     "execution_count": 3,
     "metadata": {},
     "output_type": "execute_result"
    }
   ],
   "source": [
    "headers = table.find_all(\"th\" , {\"class\":\"yf-1jecxey\"})\n",
    "\n",
    "titles = []\n",
    "\n",
    "for i in headers:\n",
    "    titles.append(i.text.split(\"  \")[0])\n",
    "    \n",
    "df = pd.DataFrame(columns = titles)\n",
    "df"
   ]
  },
  {
   "cell_type": "markdown",
   "id": "3bac254c",
   "metadata": {},
   "source": [
    "## Get The Content of The Table"
   ]
  },
  {
   "cell_type": "code",
   "execution_count": 4,
   "id": "27291e57",
   "metadata": {},
   "outputs": [
    {
     "data": {
      "text/html": [
       "<div>\n",
       "<style scoped>\n",
       "    .dataframe tbody tr th:only-of-type {\n",
       "        vertical-align: middle;\n",
       "    }\n",
       "\n",
       "    .dataframe tbody tr th {\n",
       "        vertical-align: top;\n",
       "    }\n",
       "\n",
       "    .dataframe thead th {\n",
       "        text-align: right;\n",
       "    }\n",
       "</style>\n",
       "<table border=\"1\" class=\"dataframe\">\n",
       "  <thead>\n",
       "    <tr style=\"text-align: right;\">\n",
       "      <th></th>\n",
       "      <th>Date</th>\n",
       "      <th>Open</th>\n",
       "      <th>High</th>\n",
       "      <th>Low</th>\n",
       "      <th>Close</th>\n",
       "      <th>Adj Close</th>\n",
       "      <th>Volume</th>\n",
       "    </tr>\n",
       "  </thead>\n",
       "  <tbody>\n",
       "    <tr>\n",
       "      <th>0</th>\n",
       "      <td>Apr 21, 2025</td>\n",
       "      <td>64.30</td>\n",
       "      <td>64.42</td>\n",
       "      <td>62.45</td>\n",
       "      <td>63.11</td>\n",
       "      <td>63.11</td>\n",
       "      <td>35,777</td>\n",
       "    </tr>\n",
       "    <tr>\n",
       "      <th>1</th>\n",
       "      <td>Apr 17, 2025</td>\n",
       "      <td>62.63</td>\n",
       "      <td>64.86</td>\n",
       "      <td>62.61</td>\n",
       "      <td>64.68</td>\n",
       "      <td>64.68</td>\n",
       "      <td>213,194</td>\n",
       "    </tr>\n",
       "    <tr>\n",
       "      <th>2</th>\n",
       "      <td>Apr 16, 2025</td>\n",
       "      <td>61.54</td>\n",
       "      <td>62.98</td>\n",
       "      <td>60.44</td>\n",
       "      <td>62.47</td>\n",
       "      <td>62.47</td>\n",
       "      <td>213,194</td>\n",
       "    </tr>\n",
       "    <tr>\n",
       "      <th>3</th>\n",
       "      <td>Apr 15, 2025</td>\n",
       "      <td>61.58</td>\n",
       "      <td>62.06</td>\n",
       "      <td>60.88</td>\n",
       "      <td>61.33</td>\n",
       "      <td>61.33</td>\n",
       "      <td>197,404</td>\n",
       "    </tr>\n",
       "    <tr>\n",
       "      <th>4</th>\n",
       "      <td>Apr 14, 2025</td>\n",
       "      <td>61.70</td>\n",
       "      <td>62.68</td>\n",
       "      <td>60.59</td>\n",
       "      <td>61.53</td>\n",
       "      <td>61.53</td>\n",
       "      <td>238,068</td>\n",
       "    </tr>\n",
       "  </tbody>\n",
       "</table>\n",
       "</div>"
      ],
      "text/plain": [
       "           Date   Open   High    Low  Close Adj Close   Volume\n",
       "0  Apr 21, 2025  64.30  64.42  62.45  63.11     63.11   35,777\n",
       "1  Apr 17, 2025  62.63  64.86  62.61  64.68     64.68  213,194\n",
       "2  Apr 16, 2025  61.54  62.98  60.44  62.47     62.47  213,194\n",
       "3  Apr 15, 2025  61.58  62.06  60.88  61.33     61.33  197,404\n",
       "4  Apr 14, 2025  61.70  62.68  60.59  61.53     61.53  238,068"
      ]
     },
     "execution_count": 4,
     "metadata": {},
     "output_type": "execute_result"
    }
   ],
   "source": [
    "rows_con = table.find_all(\"tr\" , {\"class\":\"yf-1jecxey\"})\n",
    "for i in rows_con[1:]:\n",
    "    data = i.find_all(\"td\" , {\"class\":\"yf-1jecxey\"})\n",
    "    row = [tr.text for tr in data]\n",
    "    new_row_df = pd.DataFrame([row], columns=df.columns)  # Ensure columns match\n",
    "    df = pd.concat([df, new_row_df], ignore_index=True)\n",
    "df.head()"
   ]
  },
  {
   "cell_type": "markdown",
   "id": "09300171",
   "metadata": {},
   "source": [
    "## Data Preprocessing"
   ]
  },
  {
   "cell_type": "code",
   "execution_count": 5,
   "id": "5fd29e4f",
   "metadata": {},
   "outputs": [
    {
     "data": {
      "text/html": [
       "<div>\n",
       "<style scoped>\n",
       "    .dataframe tbody tr th:only-of-type {\n",
       "        vertical-align: middle;\n",
       "    }\n",
       "\n",
       "    .dataframe tbody tr th {\n",
       "        vertical-align: top;\n",
       "    }\n",
       "\n",
       "    .dataframe thead th {\n",
       "        text-align: right;\n",
       "    }\n",
       "</style>\n",
       "<table border=\"1\" class=\"dataframe\">\n",
       "  <thead>\n",
       "    <tr style=\"text-align: right;\">\n",
       "      <th></th>\n",
       "      <th>Date</th>\n",
       "      <th>Open</th>\n",
       "      <th>High</th>\n",
       "      <th>Low</th>\n",
       "      <th>Close</th>\n",
       "      <th>Adj Close</th>\n",
       "      <th>Volume</th>\n",
       "    </tr>\n",
       "  </thead>\n",
       "  <tbody>\n",
       "    <tr>\n",
       "      <th>0</th>\n",
       "      <td>Apr 21, 2025</td>\n",
       "      <td>64.30</td>\n",
       "      <td>64.42</td>\n",
       "      <td>62.45</td>\n",
       "      <td>63.11</td>\n",
       "      <td>63.11</td>\n",
       "      <td>35,777</td>\n",
       "    </tr>\n",
       "    <tr>\n",
       "      <th>1</th>\n",
       "      <td>Apr 17, 2025</td>\n",
       "      <td>62.63</td>\n",
       "      <td>64.86</td>\n",
       "      <td>62.61</td>\n",
       "      <td>64.68</td>\n",
       "      <td>64.68</td>\n",
       "      <td>213,194</td>\n",
       "    </tr>\n",
       "    <tr>\n",
       "      <th>2</th>\n",
       "      <td>Apr 16, 2025</td>\n",
       "      <td>61.54</td>\n",
       "      <td>62.98</td>\n",
       "      <td>60.44</td>\n",
       "      <td>62.47</td>\n",
       "      <td>62.47</td>\n",
       "      <td>213,194</td>\n",
       "    </tr>\n",
       "    <tr>\n",
       "      <th>3</th>\n",
       "      <td>Apr 15, 2025</td>\n",
       "      <td>61.58</td>\n",
       "      <td>62.06</td>\n",
       "      <td>60.88</td>\n",
       "      <td>61.33</td>\n",
       "      <td>61.33</td>\n",
       "      <td>197,404</td>\n",
       "    </tr>\n",
       "    <tr>\n",
       "      <th>4</th>\n",
       "      <td>Apr 14, 2025</td>\n",
       "      <td>61.70</td>\n",
       "      <td>62.68</td>\n",
       "      <td>60.59</td>\n",
       "      <td>61.53</td>\n",
       "      <td>61.53</td>\n",
       "      <td>238,068</td>\n",
       "    </tr>\n",
       "    <tr>\n",
       "      <th>5</th>\n",
       "      <td>Apr 11, 2025</td>\n",
       "      <td>60.20</td>\n",
       "      <td>61.87</td>\n",
       "      <td>59.43</td>\n",
       "      <td>61.50</td>\n",
       "      <td>61.50</td>\n",
       "      <td>306,231</td>\n",
       "    </tr>\n",
       "    <tr>\n",
       "      <th>6</th>\n",
       "      <td>Apr 10, 2025</td>\n",
       "      <td>62.71</td>\n",
       "      <td>63.34</td>\n",
       "      <td>58.76</td>\n",
       "      <td>60.07</td>\n",
       "      <td>60.07</td>\n",
       "      <td>391,826</td>\n",
       "    </tr>\n",
       "    <tr>\n",
       "      <th>7</th>\n",
       "      <td>Apr 9, 2025</td>\n",
       "      <td>58.32</td>\n",
       "      <td>62.93</td>\n",
       "      <td>55.12</td>\n",
       "      <td>62.35</td>\n",
       "      <td>62.35</td>\n",
       "      <td>592,250</td>\n",
       "    </tr>\n",
       "    <tr>\n",
       "      <th>8</th>\n",
       "      <td>Apr 8, 2025</td>\n",
       "      <td>61.03</td>\n",
       "      <td>61.75</td>\n",
       "      <td>57.88</td>\n",
       "      <td>59.58</td>\n",
       "      <td>59.58</td>\n",
       "      <td>557,655</td>\n",
       "    </tr>\n",
       "    <tr>\n",
       "      <th>9</th>\n",
       "      <td>Apr 7, 2025</td>\n",
       "      <td>61.12</td>\n",
       "      <td>63.90</td>\n",
       "      <td>58.95</td>\n",
       "      <td>60.70</td>\n",
       "      <td>60.70</td>\n",
       "      <td>597,617</td>\n",
       "    </tr>\n",
       "  </tbody>\n",
       "</table>\n",
       "</div>"
      ],
      "text/plain": [
       "           Date   Open   High    Low  Close Adj Close   Volume\n",
       "0  Apr 21, 2025  64.30  64.42  62.45  63.11     63.11   35,777\n",
       "1  Apr 17, 2025  62.63  64.86  62.61  64.68     64.68  213,194\n",
       "2  Apr 16, 2025  61.54  62.98  60.44  62.47     62.47  213,194\n",
       "3  Apr 15, 2025  61.58  62.06  60.88  61.33     61.33  197,404\n",
       "4  Apr 14, 2025  61.70  62.68  60.59  61.53     61.53  238,068\n",
       "5  Apr 11, 2025  60.20  61.87  59.43  61.50     61.50  306,231\n",
       "6  Apr 10, 2025  62.71  63.34  58.76  60.07     60.07  391,826\n",
       "7   Apr 9, 2025  58.32  62.93  55.12  62.35     62.35  592,250\n",
       "8   Apr 8, 2025  61.03  61.75  57.88  59.58     59.58  557,655\n",
       "9   Apr 7, 2025  61.12  63.90  58.95  60.70     60.70  597,617"
      ]
     },
     "execution_count": 5,
     "metadata": {},
     "output_type": "execute_result"
    }
   ],
   "source": [
    "df.head(10)"
   ]
  },
  {
   "cell_type": "code",
   "execution_count": 6,
   "id": "f67c6c28",
   "metadata": {},
   "outputs": [
    {
     "data": {
      "text/plain": [
       "(6190, 7)"
      ]
     },
     "execution_count": 6,
     "metadata": {},
     "output_type": "execute_result"
    }
   ],
   "source": [
    "df.shape"
   ]
  },
  {
   "cell_type": "code",
   "execution_count": 7,
   "id": "4dee2a5d",
   "metadata": {},
   "outputs": [
    {
     "name": "stdout",
     "output_type": "stream",
     "text": [
      "<class 'pandas.core.frame.DataFrame'>\n",
      "RangeIndex: 6190 entries, 0 to 6189\n",
      "Data columns (total 7 columns):\n",
      " #   Column     Non-Null Count  Dtype \n",
      "---  ------     --------------  ----- \n",
      " 0   Date       6190 non-null   object\n",
      " 1   Open       6190 non-null   object\n",
      " 2   High       6190 non-null   object\n",
      " 3   Low        6190 non-null   object\n",
      " 4   Close      6190 non-null   object\n",
      " 5   Adj Close  6190 non-null   object\n",
      " 6   Volume     6190 non-null   object\n",
      "dtypes: object(7)\n",
      "memory usage: 338.6+ KB\n"
     ]
    }
   ],
   "source": [
    "df.info()"
   ]
  },
  {
   "cell_type": "markdown",
   "id": "031592f7",
   "metadata": {},
   "source": [
    "## Date Format"
   ]
  },
  {
   "cell_type": "code",
   "execution_count": 8,
   "id": "add693f6",
   "metadata": {},
   "outputs": [
    {
     "name": "stdout",
     "output_type": "stream",
     "text": [
      "<class 'pandas.core.frame.DataFrame'>\n",
      "RangeIndex: 6190 entries, 0 to 6189\n",
      "Data columns (total 7 columns):\n",
      " #   Column     Non-Null Count  Dtype         \n",
      "---  ------     --------------  -----         \n",
      " 0   Date       6190 non-null   datetime64[ns]\n",
      " 1   Open       6190 non-null   object        \n",
      " 2   High       6190 non-null   object        \n",
      " 3   Low        6190 non-null   object        \n",
      " 4   Close      6190 non-null   object        \n",
      " 5   Adj Close  6190 non-null   object        \n",
      " 6   Volume     6190 non-null   object        \n",
      "dtypes: datetime64[ns](1), object(6)\n",
      "memory usage: 338.6+ KB\n"
     ]
    }
   ],
   "source": [
    "df['Date'] = pd.to_datetime(df['Date'])\n",
    "df.info()"
   ]
  },
  {
   "cell_type": "markdown",
   "id": "136a06f0",
   "metadata": {},
   "source": [
    "## Numeric Data Format"
   ]
  },
  {
   "cell_type": "code",
   "execution_count": 9,
   "id": "1113ac02",
   "metadata": {},
   "outputs": [
    {
     "data": {
      "text/plain": [
       "Index(['Open', 'High', 'Low', 'Close', 'Adj Close', 'Volume'], dtype='object')"
      ]
     },
     "execution_count": 9,
     "metadata": {},
     "output_type": "execute_result"
    }
   ],
   "source": [
    "numbers = df.select_dtypes(include = [\"object\"]).columns\n",
    "numbers"
   ]
  },
  {
   "cell_type": "code",
   "execution_count": 10,
   "id": "60818946",
   "metadata": {},
   "outputs": [
    {
     "name": "stdout",
     "output_type": "stream",
     "text": [
      "<class 'pandas.core.frame.DataFrame'>\n",
      "RangeIndex: 6190 entries, 0 to 6189\n",
      "Data columns (total 7 columns):\n",
      " #   Column     Non-Null Count  Dtype         \n",
      "---  ------     --------------  -----         \n",
      " 0   Date       6190 non-null   datetime64[ns]\n",
      " 1   Open       6190 non-null   float64       \n",
      " 2   High       6190 non-null   float64       \n",
      " 3   Low        6190 non-null   float64       \n",
      " 4   Close      6190 non-null   float64       \n",
      " 5   Adj Close  6190 non-null   float64       \n",
      " 6   Volume     6183 non-null   float64       \n",
      "dtypes: datetime64[ns](1), float64(6)\n",
      "memory usage: 338.6 KB\n"
     ]
    }
   ],
   "source": [
    "for col in numbers:\n",
    "    df[col] = df[col].str.replace(\",\" , \"\")\n",
    "    df[col] = pd.to_numeric(df[col], errors='coerce')\n",
    "df.info()"
   ]
  },
  {
   "cell_type": "code",
   "execution_count": 11,
   "id": "645dea7a",
   "metadata": {},
   "outputs": [
    {
     "data": {
      "text/html": [
       "<div>\n",
       "<style scoped>\n",
       "    .dataframe tbody tr th:only-of-type {\n",
       "        vertical-align: middle;\n",
       "    }\n",
       "\n",
       "    .dataframe tbody tr th {\n",
       "        vertical-align: top;\n",
       "    }\n",
       "\n",
       "    .dataframe thead th {\n",
       "        text-align: right;\n",
       "    }\n",
       "</style>\n",
       "<table border=\"1\" class=\"dataframe\">\n",
       "  <thead>\n",
       "    <tr style=\"text-align: right;\">\n",
       "      <th></th>\n",
       "      <th>Date</th>\n",
       "      <th>Open</th>\n",
       "      <th>High</th>\n",
       "      <th>Low</th>\n",
       "      <th>Close</th>\n",
       "      <th>Adj Close</th>\n",
       "      <th>Volume</th>\n",
       "    </tr>\n",
       "  </thead>\n",
       "  <tbody>\n",
       "    <tr>\n",
       "      <th>0</th>\n",
       "      <td>2025-04-21</td>\n",
       "      <td>64.30</td>\n",
       "      <td>64.42</td>\n",
       "      <td>62.45</td>\n",
       "      <td>63.11</td>\n",
       "      <td>63.11</td>\n",
       "      <td>35777.0</td>\n",
       "    </tr>\n",
       "    <tr>\n",
       "      <th>1</th>\n",
       "      <td>2025-04-17</td>\n",
       "      <td>62.63</td>\n",
       "      <td>64.86</td>\n",
       "      <td>62.61</td>\n",
       "      <td>64.68</td>\n",
       "      <td>64.68</td>\n",
       "      <td>213194.0</td>\n",
       "    </tr>\n",
       "    <tr>\n",
       "      <th>2</th>\n",
       "      <td>2025-04-16</td>\n",
       "      <td>61.54</td>\n",
       "      <td>62.98</td>\n",
       "      <td>60.44</td>\n",
       "      <td>62.47</td>\n",
       "      <td>62.47</td>\n",
       "      <td>213194.0</td>\n",
       "    </tr>\n",
       "    <tr>\n",
       "      <th>3</th>\n",
       "      <td>2025-04-15</td>\n",
       "      <td>61.58</td>\n",
       "      <td>62.06</td>\n",
       "      <td>60.88</td>\n",
       "      <td>61.33</td>\n",
       "      <td>61.33</td>\n",
       "      <td>197404.0</td>\n",
       "    </tr>\n",
       "    <tr>\n",
       "      <th>4</th>\n",
       "      <td>2025-04-14</td>\n",
       "      <td>61.70</td>\n",
       "      <td>62.68</td>\n",
       "      <td>60.59</td>\n",
       "      <td>61.53</td>\n",
       "      <td>61.53</td>\n",
       "      <td>238068.0</td>\n",
       "    </tr>\n",
       "  </tbody>\n",
       "</table>\n",
       "</div>"
      ],
      "text/plain": [
       "        Date   Open   High    Low  Close  Adj Close    Volume\n",
       "0 2025-04-21  64.30  64.42  62.45  63.11      63.11   35777.0\n",
       "1 2025-04-17  62.63  64.86  62.61  64.68      64.68  213194.0\n",
       "2 2025-04-16  61.54  62.98  60.44  62.47      62.47  213194.0\n",
       "3 2025-04-15  61.58  62.06  60.88  61.33      61.33  197404.0\n",
       "4 2025-04-14  61.70  62.68  60.59  61.53      61.53  238068.0"
      ]
     },
     "execution_count": 11,
     "metadata": {},
     "output_type": "execute_result"
    }
   ],
   "source": [
    "df.head()"
   ]
  },
  {
   "cell_type": "code",
   "execution_count": 12,
   "id": "db7939e5",
   "metadata": {},
   "outputs": [],
   "source": [
    "df = df.drop(columns = ['Open', 'High', 'Low', 'Close', 'Volume'])\n",
    "df = df.set_index('Date')\n",
    "df = df.asfreq('b', method = 'ffill')"
   ]
  },
  {
   "cell_type": "code",
   "execution_count": 13,
   "id": "79a58bc3",
   "metadata": {},
   "outputs": [
    {
     "data": {
      "text/html": [
       "<div>\n",
       "<style scoped>\n",
       "    .dataframe tbody tr th:only-of-type {\n",
       "        vertical-align: middle;\n",
       "    }\n",
       "\n",
       "    .dataframe tbody tr th {\n",
       "        vertical-align: top;\n",
       "    }\n",
       "\n",
       "    .dataframe thead th {\n",
       "        text-align: right;\n",
       "    }\n",
       "</style>\n",
       "<table border=\"1\" class=\"dataframe\">\n",
       "  <thead>\n",
       "    <tr style=\"text-align: right;\">\n",
       "      <th></th>\n",
       "      <th>Adj Close</th>\n",
       "    </tr>\n",
       "    <tr>\n",
       "      <th>Date</th>\n",
       "      <th></th>\n",
       "    </tr>\n",
       "  </thead>\n",
       "  <tbody>\n",
       "    <tr>\n",
       "      <th>2000-08-23</th>\n",
       "      <td>32.05</td>\n",
       "    </tr>\n",
       "    <tr>\n",
       "      <th>2000-08-24</th>\n",
       "      <td>31.63</td>\n",
       "    </tr>\n",
       "    <tr>\n",
       "      <th>2000-08-25</th>\n",
       "      <td>32.05</td>\n",
       "    </tr>\n",
       "    <tr>\n",
       "      <th>2000-08-28</th>\n",
       "      <td>32.87</td>\n",
       "    </tr>\n",
       "    <tr>\n",
       "      <th>2000-08-29</th>\n",
       "      <td>32.72</td>\n",
       "    </tr>\n",
       "  </tbody>\n",
       "</table>\n",
       "</div>"
      ],
      "text/plain": [
       "            Adj Close\n",
       "Date                 \n",
       "2000-08-23      32.05\n",
       "2000-08-24      31.63\n",
       "2000-08-25      32.05\n",
       "2000-08-28      32.87\n",
       "2000-08-29      32.72"
      ]
     },
     "execution_count": 13,
     "metadata": {},
     "output_type": "execute_result"
    }
   ],
   "source": [
    "df.head()"
   ]
  },
  {
   "cell_type": "code",
   "execution_count": 14,
   "id": "60911f95",
   "metadata": {},
   "outputs": [
    {
     "data": {
      "text/html": [
       "<div>\n",
       "<style scoped>\n",
       "    .dataframe tbody tr th:only-of-type {\n",
       "        vertical-align: middle;\n",
       "    }\n",
       "\n",
       "    .dataframe tbody tr th {\n",
       "        vertical-align: top;\n",
       "    }\n",
       "\n",
       "    .dataframe thead th {\n",
       "        text-align: right;\n",
       "    }\n",
       "</style>\n",
       "<table border=\"1\" class=\"dataframe\">\n",
       "  <thead>\n",
       "    <tr style=\"text-align: right;\">\n",
       "      <th></th>\n",
       "      <th>Adj Close</th>\n",
       "    </tr>\n",
       "    <tr>\n",
       "      <th>Date</th>\n",
       "      <th></th>\n",
       "    </tr>\n",
       "  </thead>\n",
       "  <tbody>\n",
       "    <tr>\n",
       "      <th>2025-04-15</th>\n",
       "      <td>61.33</td>\n",
       "    </tr>\n",
       "    <tr>\n",
       "      <th>2025-04-16</th>\n",
       "      <td>62.47</td>\n",
       "    </tr>\n",
       "    <tr>\n",
       "      <th>2025-04-17</th>\n",
       "      <td>64.68</td>\n",
       "    </tr>\n",
       "    <tr>\n",
       "      <th>2025-04-18</th>\n",
       "      <td>63.11</td>\n",
       "    </tr>\n",
       "    <tr>\n",
       "      <th>2025-04-21</th>\n",
       "      <td>63.11</td>\n",
       "    </tr>\n",
       "  </tbody>\n",
       "</table>\n",
       "</div>"
      ],
      "text/plain": [
       "            Adj Close\n",
       "Date                 \n",
       "2025-04-15      61.33\n",
       "2025-04-16      62.47\n",
       "2025-04-17      64.68\n",
       "2025-04-18      63.11\n",
       "2025-04-21      63.11"
      ]
     },
     "execution_count": 14,
     "metadata": {},
     "output_type": "execute_result"
    }
   ],
   "source": [
    "df.tail()"
   ]
  },
  {
   "cell_type": "markdown",
   "id": "599db95d",
   "metadata": {},
   "source": [
    "# Save The Data In CSV File"
   ]
  },
  {
   "cell_type": "code",
   "execution_count": 15,
   "id": "e2357bbd",
   "metadata": {},
   "outputs": [],
   "source": [
    "df.to_csv(\"oil_close.csv\")"
   ]
  },
  {
   "cell_type": "code",
   "execution_count": null,
   "id": "5394f1c4",
   "metadata": {},
   "outputs": [],
   "source": []
  }
 ],
 "metadata": {
  "kernelspec": {
   "display_name": "Python 3 (ipykernel)",
   "language": "python",
   "name": "python3"
  },
  "language_info": {
   "codemirror_mode": {
    "name": "ipython",
    "version": 3
   },
   "file_extension": ".py",
   "mimetype": "text/x-python",
   "name": "python",
   "nbconvert_exporter": "python",
   "pygments_lexer": "ipython3",
   "version": "3.11.5"
  }
 },
 "nbformat": 4,
 "nbformat_minor": 5
}
