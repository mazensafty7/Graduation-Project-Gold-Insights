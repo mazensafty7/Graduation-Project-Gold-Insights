{
 "cells": [
  {
   "cell_type": "markdown",
   "id": "2e7f348a",
   "metadata": {},
   "source": [
    "# Dollar Prices Scraping"
   ]
  },
  {
   "cell_type": "markdown",
   "id": "80b854ce",
   "metadata": {},
   "source": [
    "## Import Libraries"
   ]
  },
  {
   "cell_type": "code",
   "execution_count": 3,
   "id": "4bc41ead",
   "metadata": {},
   "outputs": [],
   "source": [
    "import requests\n",
    "import pandas as pd\n",
    "from bs4 import BeautifulSoup"
   ]
  },
  {
   "cell_type": "markdown",
   "id": "f93b0e99",
   "metadata": {},
   "source": [
    "## Make The Request From Yahoo Finance and Get The Table HTML"
   ]
  },
  {
   "cell_type": "code",
   "execution_count": 4,
   "id": "4c0b9f60",
   "metadata": {},
   "outputs": [],
   "source": [
    "url = \"https://finance.yahoo.com/quote/DX-Y.NYB/history/?period1=31813200&period2=1745262681\"\n",
    "headers = {\n",
    "    'User-Agent': 'Mozilla/5.0 (Windows NT 10.0; Win64; x64) AppleWebKit/537.36 (KHTML, like Gecko) Chrome/91.0.4472.124 Safari/537.36'\n",
    "}\n",
    "r = requests.get(url, headers=headers)\n",
    "\n",
    "c = r.text\n",
    "soup=BeautifulSoup(c, \"lxml\")\n",
    "\n",
    "table = soup.find(\"table\" , {\"class\":\"table yf-1jecxey noDl hideOnPrint\"})"
   ]
  },
  {
   "cell_type": "markdown",
   "id": "8ed6938a",
   "metadata": {},
   "source": [
    "## Get The Headers of The Table"
   ]
  },
  {
   "cell_type": "code",
   "execution_count": 5,
   "id": "89646b25",
   "metadata": {},
   "outputs": [
    {
     "data": {
      "text/html": [
       "<div>\n",
       "<style scoped>\n",
       "    .dataframe tbody tr th:only-of-type {\n",
       "        vertical-align: middle;\n",
       "    }\n",
       "\n",
       "    .dataframe tbody tr th {\n",
       "        vertical-align: top;\n",
       "    }\n",
       "\n",
       "    .dataframe thead th {\n",
       "        text-align: right;\n",
       "    }\n",
       "</style>\n",
       "<table border=\"1\" class=\"dataframe\">\n",
       "  <thead>\n",
       "    <tr style=\"text-align: right;\">\n",
       "      <th></th>\n",
       "      <th>Date</th>\n",
       "      <th>Open</th>\n",
       "      <th>High</th>\n",
       "      <th>Low</th>\n",
       "      <th>Close</th>\n",
       "      <th>Adj Close</th>\n",
       "      <th>Volume</th>\n",
       "    </tr>\n",
       "  </thead>\n",
       "  <tbody>\n",
       "  </tbody>\n",
       "</table>\n",
       "</div>"
      ],
      "text/plain": [
       "Empty DataFrame\n",
       "Columns: [Date, Open, High, Low, Close, Adj Close, Volume]\n",
       "Index: []"
      ]
     },
     "execution_count": 5,
     "metadata": {},
     "output_type": "execute_result"
    }
   ],
   "source": [
    "headers = table.find_all(\"th\" , {\"class\":\"yf-1jecxey\"})\n",
    "\n",
    "titles = []\n",
    "\n",
    "for i in headers:\n",
    "    titles.append(i.text.split(\"  \")[0])\n",
    "    \n",
    "df = pd.DataFrame(columns = titles)\n",
    "df"
   ]
  },
  {
   "cell_type": "markdown",
   "id": "3bac254c",
   "metadata": {},
   "source": [
    "## Get The Content of The Table"
   ]
  },
  {
   "cell_type": "code",
   "execution_count": 6,
   "id": "27291e57",
   "metadata": {},
   "outputs": [
    {
     "data": {
      "text/html": [
       "<div>\n",
       "<style scoped>\n",
       "    .dataframe tbody tr th:only-of-type {\n",
       "        vertical-align: middle;\n",
       "    }\n",
       "\n",
       "    .dataframe tbody tr th {\n",
       "        vertical-align: top;\n",
       "    }\n",
       "\n",
       "    .dataframe thead th {\n",
       "        text-align: right;\n",
       "    }\n",
       "</style>\n",
       "<table border=\"1\" class=\"dataframe\">\n",
       "  <thead>\n",
       "    <tr style=\"text-align: right;\">\n",
       "      <th></th>\n",
       "      <th>Date</th>\n",
       "      <th>Open</th>\n",
       "      <th>High</th>\n",
       "      <th>Low</th>\n",
       "      <th>Close</th>\n",
       "      <th>Adj Close</th>\n",
       "      <th>Volume</th>\n",
       "    </tr>\n",
       "  </thead>\n",
       "  <tbody>\n",
       "    <tr>\n",
       "      <th>0</th>\n",
       "      <td>Apr 21, 2025</td>\n",
       "      <td>99.08</td>\n",
       "      <td>99.21</td>\n",
       "      <td>97.92</td>\n",
       "      <td>98.29</td>\n",
       "      <td>98.29</td>\n",
       "      <td>-</td>\n",
       "    </tr>\n",
       "    <tr>\n",
       "      <th>1</th>\n",
       "      <td>Apr 17, 2025</td>\n",
       "      <td>99.23</td>\n",
       "      <td>99.75</td>\n",
       "      <td>99.22</td>\n",
       "      <td>99.38</td>\n",
       "      <td>99.38</td>\n",
       "      <td>-</td>\n",
       "    </tr>\n",
       "    <tr>\n",
       "      <th>2</th>\n",
       "      <td>Apr 16, 2025</td>\n",
       "      <td>100.06</td>\n",
       "      <td>100.10</td>\n",
       "      <td>99.17</td>\n",
       "      <td>99.38</td>\n",
       "      <td>99.38</td>\n",
       "      <td>-</td>\n",
       "    </tr>\n",
       "    <tr>\n",
       "      <th>3</th>\n",
       "      <td>Apr 15, 2025</td>\n",
       "      <td>99.81</td>\n",
       "      <td>100.28</td>\n",
       "      <td>99.48</td>\n",
       "      <td>100.22</td>\n",
       "      <td>100.22</td>\n",
       "      <td>-</td>\n",
       "    </tr>\n",
       "    <tr>\n",
       "      <th>4</th>\n",
       "      <td>Apr 14, 2025</td>\n",
       "      <td>100.02</td>\n",
       "      <td>100.16</td>\n",
       "      <td>99.21</td>\n",
       "      <td>99.64</td>\n",
       "      <td>99.64</td>\n",
       "      <td>-</td>\n",
       "    </tr>\n",
       "  </tbody>\n",
       "</table>\n",
       "</div>"
      ],
      "text/plain": [
       "           Date    Open    High    Low   Close Adj Close Volume\n",
       "0  Apr 21, 2025   99.08   99.21  97.92   98.29     98.29      -\n",
       "1  Apr 17, 2025   99.23   99.75  99.22   99.38     99.38      -\n",
       "2  Apr 16, 2025  100.06  100.10  99.17   99.38     99.38      -\n",
       "3  Apr 15, 2025   99.81  100.28  99.48  100.22    100.22      -\n",
       "4  Apr 14, 2025  100.02  100.16  99.21   99.64     99.64      -"
      ]
     },
     "execution_count": 6,
     "metadata": {},
     "output_type": "execute_result"
    }
   ],
   "source": [
    "rows_con = table.find_all(\"tr\" , {\"class\":\"yf-1jecxey\"})\n",
    "for i in rows_con[1:]:\n",
    "    data = i.find_all(\"td\" , {\"class\":\"yf-1jecxey\"})\n",
    "    row = [tr.text for tr in data]\n",
    "    new_row_df = pd.DataFrame([row], columns=df.columns)  # Ensure columns match\n",
    "    df = pd.concat([df, new_row_df], ignore_index=True)\n",
    "df.head()"
   ]
  },
  {
   "cell_type": "markdown",
   "id": "09300171",
   "metadata": {},
   "source": [
    "## Data Preprocessing"
   ]
  },
  {
   "cell_type": "code",
   "execution_count": 7,
   "id": "5fd29e4f",
   "metadata": {},
   "outputs": [
    {
     "data": {
      "text/html": [
       "<div>\n",
       "<style scoped>\n",
       "    .dataframe tbody tr th:only-of-type {\n",
       "        vertical-align: middle;\n",
       "    }\n",
       "\n",
       "    .dataframe tbody tr th {\n",
       "        vertical-align: top;\n",
       "    }\n",
       "\n",
       "    .dataframe thead th {\n",
       "        text-align: right;\n",
       "    }\n",
       "</style>\n",
       "<table border=\"1\" class=\"dataframe\">\n",
       "  <thead>\n",
       "    <tr style=\"text-align: right;\">\n",
       "      <th></th>\n",
       "      <th>Date</th>\n",
       "      <th>Open</th>\n",
       "      <th>High</th>\n",
       "      <th>Low</th>\n",
       "      <th>Close</th>\n",
       "      <th>Adj Close</th>\n",
       "      <th>Volume</th>\n",
       "    </tr>\n",
       "  </thead>\n",
       "  <tbody>\n",
       "    <tr>\n",
       "      <th>0</th>\n",
       "      <td>Apr 21, 2025</td>\n",
       "      <td>99.08</td>\n",
       "      <td>99.21</td>\n",
       "      <td>97.92</td>\n",
       "      <td>98.29</td>\n",
       "      <td>98.29</td>\n",
       "      <td>-</td>\n",
       "    </tr>\n",
       "    <tr>\n",
       "      <th>1</th>\n",
       "      <td>Apr 17, 2025</td>\n",
       "      <td>99.23</td>\n",
       "      <td>99.75</td>\n",
       "      <td>99.22</td>\n",
       "      <td>99.38</td>\n",
       "      <td>99.38</td>\n",
       "      <td>-</td>\n",
       "    </tr>\n",
       "    <tr>\n",
       "      <th>2</th>\n",
       "      <td>Apr 16, 2025</td>\n",
       "      <td>100.06</td>\n",
       "      <td>100.10</td>\n",
       "      <td>99.17</td>\n",
       "      <td>99.38</td>\n",
       "      <td>99.38</td>\n",
       "      <td>-</td>\n",
       "    </tr>\n",
       "    <tr>\n",
       "      <th>3</th>\n",
       "      <td>Apr 15, 2025</td>\n",
       "      <td>99.81</td>\n",
       "      <td>100.28</td>\n",
       "      <td>99.48</td>\n",
       "      <td>100.22</td>\n",
       "      <td>100.22</td>\n",
       "      <td>-</td>\n",
       "    </tr>\n",
       "    <tr>\n",
       "      <th>4</th>\n",
       "      <td>Apr 14, 2025</td>\n",
       "      <td>100.02</td>\n",
       "      <td>100.16</td>\n",
       "      <td>99.21</td>\n",
       "      <td>99.64</td>\n",
       "      <td>99.64</td>\n",
       "      <td>-</td>\n",
       "    </tr>\n",
       "    <tr>\n",
       "      <th>5</th>\n",
       "      <td>Apr 11, 2025</td>\n",
       "      <td>100.78</td>\n",
       "      <td>100.78</td>\n",
       "      <td>99.01</td>\n",
       "      <td>99.78</td>\n",
       "      <td>99.78</td>\n",
       "      <td>-</td>\n",
       "    </tr>\n",
       "    <tr>\n",
       "      <th>6</th>\n",
       "      <td>Apr 10, 2025</td>\n",
       "      <td>102.99</td>\n",
       "      <td>103.03</td>\n",
       "      <td>100.70</td>\n",
       "      <td>100.87</td>\n",
       "      <td>100.87</td>\n",
       "      <td>-</td>\n",
       "    </tr>\n",
       "    <tr>\n",
       "      <th>7</th>\n",
       "      <td>Apr 9, 2025</td>\n",
       "      <td>102.75</td>\n",
       "      <td>103.33</td>\n",
       "      <td>101.84</td>\n",
       "      <td>102.90</td>\n",
       "      <td>102.90</td>\n",
       "      <td>-</td>\n",
       "    </tr>\n",
       "    <tr>\n",
       "      <th>8</th>\n",
       "      <td>Apr 8, 2025</td>\n",
       "      <td>103.43</td>\n",
       "      <td>103.44</td>\n",
       "      <td>102.75</td>\n",
       "      <td>102.96</td>\n",
       "      <td>102.96</td>\n",
       "      <td>-</td>\n",
       "    </tr>\n",
       "    <tr>\n",
       "      <th>9</th>\n",
       "      <td>Apr 7, 2025</td>\n",
       "      <td>103.07</td>\n",
       "      <td>103.54</td>\n",
       "      <td>102.18</td>\n",
       "      <td>103.26</td>\n",
       "      <td>103.26</td>\n",
       "      <td>-</td>\n",
       "    </tr>\n",
       "  </tbody>\n",
       "</table>\n",
       "</div>"
      ],
      "text/plain": [
       "           Date    Open    High     Low   Close Adj Close Volume\n",
       "0  Apr 21, 2025   99.08   99.21   97.92   98.29     98.29      -\n",
       "1  Apr 17, 2025   99.23   99.75   99.22   99.38     99.38      -\n",
       "2  Apr 16, 2025  100.06  100.10   99.17   99.38     99.38      -\n",
       "3  Apr 15, 2025   99.81  100.28   99.48  100.22    100.22      -\n",
       "4  Apr 14, 2025  100.02  100.16   99.21   99.64     99.64      -\n",
       "5  Apr 11, 2025  100.78  100.78   99.01   99.78     99.78      -\n",
       "6  Apr 10, 2025  102.99  103.03  100.70  100.87    100.87      -\n",
       "7   Apr 9, 2025  102.75  103.33  101.84  102.90    102.90      -\n",
       "8   Apr 8, 2025  103.43  103.44  102.75  102.96    102.96      -\n",
       "9   Apr 7, 2025  103.07  103.54  102.18  103.26    103.26      -"
      ]
     },
     "execution_count": 7,
     "metadata": {},
     "output_type": "execute_result"
    }
   ],
   "source": [
    "df.head(10)"
   ]
  },
  {
   "cell_type": "code",
   "execution_count": 8,
   "id": "f67c6c28",
   "metadata": {},
   "outputs": [
    {
     "data": {
      "text/plain": [
       "(13790, 7)"
      ]
     },
     "execution_count": 8,
     "metadata": {},
     "output_type": "execute_result"
    }
   ],
   "source": [
    "df.shape"
   ]
  },
  {
   "cell_type": "code",
   "execution_count": 9,
   "id": "4dee2a5d",
   "metadata": {},
   "outputs": [
    {
     "name": "stdout",
     "output_type": "stream",
     "text": [
      "<class 'pandas.core.frame.DataFrame'>\n",
      "RangeIndex: 13790 entries, 0 to 13789\n",
      "Data columns (total 7 columns):\n",
      " #   Column     Non-Null Count  Dtype \n",
      "---  ------     --------------  ----- \n",
      " 0   Date       13790 non-null  object\n",
      " 1   Open       13790 non-null  object\n",
      " 2   High       13790 non-null  object\n",
      " 3   Low        13790 non-null  object\n",
      " 4   Close      13790 non-null  object\n",
      " 5   Adj Close  13790 non-null  object\n",
      " 6   Volume     13790 non-null  object\n",
      "dtypes: object(7)\n",
      "memory usage: 754.3+ KB\n"
     ]
    }
   ],
   "source": [
    "df.info()"
   ]
  },
  {
   "cell_type": "markdown",
   "id": "031592f7",
   "metadata": {},
   "source": [
    "## Date Format"
   ]
  },
  {
   "cell_type": "code",
   "execution_count": 10,
   "id": "add693f6",
   "metadata": {},
   "outputs": [
    {
     "name": "stdout",
     "output_type": "stream",
     "text": [
      "<class 'pandas.core.frame.DataFrame'>\n",
      "RangeIndex: 13790 entries, 0 to 13789\n",
      "Data columns (total 7 columns):\n",
      " #   Column     Non-Null Count  Dtype         \n",
      "---  ------     --------------  -----         \n",
      " 0   Date       13790 non-null  datetime64[ns]\n",
      " 1   Open       13790 non-null  object        \n",
      " 2   High       13790 non-null  object        \n",
      " 3   Low        13790 non-null  object        \n",
      " 4   Close      13790 non-null  object        \n",
      " 5   Adj Close  13790 non-null  object        \n",
      " 6   Volume     13790 non-null  object        \n",
      "dtypes: datetime64[ns](1), object(6)\n",
      "memory usage: 754.3+ KB\n"
     ]
    }
   ],
   "source": [
    "df['Date'] = pd.to_datetime(df['Date'])\n",
    "df.info()"
   ]
  },
  {
   "cell_type": "markdown",
   "id": "136a06f0",
   "metadata": {},
   "source": [
    "## Numeric Data Format"
   ]
  },
  {
   "cell_type": "code",
   "execution_count": 11,
   "id": "1113ac02",
   "metadata": {},
   "outputs": [
    {
     "data": {
      "text/plain": [
       "Index(['Open', 'High', 'Low', 'Close', 'Adj Close', 'Volume'], dtype='object')"
      ]
     },
     "execution_count": 11,
     "metadata": {},
     "output_type": "execute_result"
    }
   ],
   "source": [
    "numbers = df.select_dtypes(include = [\"object\"]).columns\n",
    "numbers"
   ]
  },
  {
   "cell_type": "code",
   "execution_count": 12,
   "id": "60818946",
   "metadata": {},
   "outputs": [
    {
     "name": "stdout",
     "output_type": "stream",
     "text": [
      "<class 'pandas.core.frame.DataFrame'>\n",
      "RangeIndex: 13790 entries, 0 to 13789\n",
      "Data columns (total 7 columns):\n",
      " #   Column     Non-Null Count  Dtype         \n",
      "---  ------     --------------  -----         \n",
      " 0   Date       13790 non-null  datetime64[ns]\n",
      " 1   Open       13790 non-null  float64       \n",
      " 2   High       13790 non-null  float64       \n",
      " 3   Low        13790 non-null  float64       \n",
      " 4   Close      13790 non-null  float64       \n",
      " 5   Adj Close  13790 non-null  float64       \n",
      " 6   Volume     2 non-null      float64       \n",
      "dtypes: datetime64[ns](1), float64(6)\n",
      "memory usage: 754.3 KB\n"
     ]
    }
   ],
   "source": [
    "for col in numbers:\n",
    "    df[col] = df[col].str.replace(\",\" , \"\")\n",
    "    df[col] = pd.to_numeric(df[col], errors='coerce')\n",
    "df.info()"
   ]
  },
  {
   "cell_type": "code",
   "execution_count": 13,
   "id": "645dea7a",
   "metadata": {},
   "outputs": [
    {
     "data": {
      "text/html": [
       "<div>\n",
       "<style scoped>\n",
       "    .dataframe tbody tr th:only-of-type {\n",
       "        vertical-align: middle;\n",
       "    }\n",
       "\n",
       "    .dataframe tbody tr th {\n",
       "        vertical-align: top;\n",
       "    }\n",
       "\n",
       "    .dataframe thead th {\n",
       "        text-align: right;\n",
       "    }\n",
       "</style>\n",
       "<table border=\"1\" class=\"dataframe\">\n",
       "  <thead>\n",
       "    <tr style=\"text-align: right;\">\n",
       "      <th></th>\n",
       "      <th>Date</th>\n",
       "      <th>Open</th>\n",
       "      <th>High</th>\n",
       "      <th>Low</th>\n",
       "      <th>Close</th>\n",
       "      <th>Adj Close</th>\n",
       "      <th>Volume</th>\n",
       "    </tr>\n",
       "  </thead>\n",
       "  <tbody>\n",
       "    <tr>\n",
       "      <th>0</th>\n",
       "      <td>2025-04-21</td>\n",
       "      <td>99.08</td>\n",
       "      <td>99.21</td>\n",
       "      <td>97.92</td>\n",
       "      <td>98.29</td>\n",
       "      <td>98.29</td>\n",
       "      <td>NaN</td>\n",
       "    </tr>\n",
       "    <tr>\n",
       "      <th>1</th>\n",
       "      <td>2025-04-17</td>\n",
       "      <td>99.23</td>\n",
       "      <td>99.75</td>\n",
       "      <td>99.22</td>\n",
       "      <td>99.38</td>\n",
       "      <td>99.38</td>\n",
       "      <td>NaN</td>\n",
       "    </tr>\n",
       "    <tr>\n",
       "      <th>2</th>\n",
       "      <td>2025-04-16</td>\n",
       "      <td>100.06</td>\n",
       "      <td>100.10</td>\n",
       "      <td>99.17</td>\n",
       "      <td>99.38</td>\n",
       "      <td>99.38</td>\n",
       "      <td>NaN</td>\n",
       "    </tr>\n",
       "    <tr>\n",
       "      <th>3</th>\n",
       "      <td>2025-04-15</td>\n",
       "      <td>99.81</td>\n",
       "      <td>100.28</td>\n",
       "      <td>99.48</td>\n",
       "      <td>100.22</td>\n",
       "      <td>100.22</td>\n",
       "      <td>NaN</td>\n",
       "    </tr>\n",
       "    <tr>\n",
       "      <th>4</th>\n",
       "      <td>2025-04-14</td>\n",
       "      <td>100.02</td>\n",
       "      <td>100.16</td>\n",
       "      <td>99.21</td>\n",
       "      <td>99.64</td>\n",
       "      <td>99.64</td>\n",
       "      <td>NaN</td>\n",
       "    </tr>\n",
       "  </tbody>\n",
       "</table>\n",
       "</div>"
      ],
      "text/plain": [
       "        Date    Open    High    Low   Close  Adj Close  Volume\n",
       "0 2025-04-21   99.08   99.21  97.92   98.29      98.29     NaN\n",
       "1 2025-04-17   99.23   99.75  99.22   99.38      99.38     NaN\n",
       "2 2025-04-16  100.06  100.10  99.17   99.38      99.38     NaN\n",
       "3 2025-04-15   99.81  100.28  99.48  100.22     100.22     NaN\n",
       "4 2025-04-14  100.02  100.16  99.21   99.64      99.64     NaN"
      ]
     },
     "execution_count": 13,
     "metadata": {},
     "output_type": "execute_result"
    }
   ],
   "source": [
    "df.head()"
   ]
  },
  {
   "cell_type": "code",
   "execution_count": 14,
   "id": "a4b0e390",
   "metadata": {},
   "outputs": [],
   "source": [
    "df = df.drop(columns = ['Open', 'High', 'Low', 'Close', 'Volume'])\n",
    "df = df.set_index('Date')\n",
    "df = df.asfreq('b', method = 'ffill')"
   ]
  },
  {
   "cell_type": "code",
   "execution_count": 15,
   "id": "ddc087a0",
   "metadata": {},
   "outputs": [
    {
     "data": {
      "text/html": [
       "<div>\n",
       "<style scoped>\n",
       "    .dataframe tbody tr th:only-of-type {\n",
       "        vertical-align: middle;\n",
       "    }\n",
       "\n",
       "    .dataframe tbody tr th {\n",
       "        vertical-align: top;\n",
       "    }\n",
       "\n",
       "    .dataframe thead th {\n",
       "        text-align: right;\n",
       "    }\n",
       "</style>\n",
       "<table border=\"1\" class=\"dataframe\">\n",
       "  <thead>\n",
       "    <tr style=\"text-align: right;\">\n",
       "      <th></th>\n",
       "      <th>Adj Close</th>\n",
       "    </tr>\n",
       "    <tr>\n",
       "      <th>Date</th>\n",
       "      <th></th>\n",
       "    </tr>\n",
       "  </thead>\n",
       "  <tbody>\n",
       "    <tr>\n",
       "      <th>1971-01-04</th>\n",
       "      <td>120.53</td>\n",
       "    </tr>\n",
       "    <tr>\n",
       "      <th>1971-01-05</th>\n",
       "      <td>120.52</td>\n",
       "    </tr>\n",
       "    <tr>\n",
       "      <th>1971-01-06</th>\n",
       "      <td>120.49</td>\n",
       "    </tr>\n",
       "    <tr>\n",
       "      <th>1971-01-07</th>\n",
       "      <td>120.55</td>\n",
       "    </tr>\n",
       "    <tr>\n",
       "      <th>1971-01-08</th>\n",
       "      <td>120.53</td>\n",
       "    </tr>\n",
       "  </tbody>\n",
       "</table>\n",
       "</div>"
      ],
      "text/plain": [
       "            Adj Close\n",
       "Date                 \n",
       "1971-01-04     120.53\n",
       "1971-01-05     120.52\n",
       "1971-01-06     120.49\n",
       "1971-01-07     120.55\n",
       "1971-01-08     120.53"
      ]
     },
     "execution_count": 15,
     "metadata": {},
     "output_type": "execute_result"
    }
   ],
   "source": [
    "df.head()"
   ]
  },
  {
   "cell_type": "code",
   "execution_count": 16,
   "id": "630d9c0b",
   "metadata": {},
   "outputs": [
    {
     "data": {
      "text/html": [
       "<div>\n",
       "<style scoped>\n",
       "    .dataframe tbody tr th:only-of-type {\n",
       "        vertical-align: middle;\n",
       "    }\n",
       "\n",
       "    .dataframe tbody tr th {\n",
       "        vertical-align: top;\n",
       "    }\n",
       "\n",
       "    .dataframe thead th {\n",
       "        text-align: right;\n",
       "    }\n",
       "</style>\n",
       "<table border=\"1\" class=\"dataframe\">\n",
       "  <thead>\n",
       "    <tr style=\"text-align: right;\">\n",
       "      <th></th>\n",
       "      <th>Adj Close</th>\n",
       "    </tr>\n",
       "    <tr>\n",
       "      <th>Date</th>\n",
       "      <th></th>\n",
       "    </tr>\n",
       "  </thead>\n",
       "  <tbody>\n",
       "    <tr>\n",
       "      <th>2025-04-15</th>\n",
       "      <td>100.22</td>\n",
       "    </tr>\n",
       "    <tr>\n",
       "      <th>2025-04-16</th>\n",
       "      <td>99.38</td>\n",
       "    </tr>\n",
       "    <tr>\n",
       "      <th>2025-04-17</th>\n",
       "      <td>99.38</td>\n",
       "    </tr>\n",
       "    <tr>\n",
       "      <th>2025-04-18</th>\n",
       "      <td>98.29</td>\n",
       "    </tr>\n",
       "    <tr>\n",
       "      <th>2025-04-21</th>\n",
       "      <td>98.29</td>\n",
       "    </tr>\n",
       "  </tbody>\n",
       "</table>\n",
       "</div>"
      ],
      "text/plain": [
       "            Adj Close\n",
       "Date                 \n",
       "2025-04-15     100.22\n",
       "2025-04-16      99.38\n",
       "2025-04-17      99.38\n",
       "2025-04-18      98.29\n",
       "2025-04-21      98.29"
      ]
     },
     "execution_count": 16,
     "metadata": {},
     "output_type": "execute_result"
    }
   ],
   "source": [
    "df.tail()"
   ]
  },
  {
   "cell_type": "markdown",
   "id": "599db95d",
   "metadata": {},
   "source": [
    "# Save The Data In CSV File"
   ]
  },
  {
   "cell_type": "code",
   "execution_count": 17,
   "id": "e2357bbd",
   "metadata": {},
   "outputs": [],
   "source": [
    "df.to_csv(\"us_dollar_close.csv\")"
   ]
  },
  {
   "cell_type": "code",
   "execution_count": null,
   "id": "528c80e7",
   "metadata": {},
   "outputs": [],
   "source": []
  }
 ],
 "metadata": {
  "kernelspec": {
   "display_name": "Python 3 (ipykernel)",
   "language": "python",
   "name": "python3"
  },
  "language_info": {
   "codemirror_mode": {
    "name": "ipython",
    "version": 3
   },
   "file_extension": ".py",
   "mimetype": "text/x-python",
   "name": "python",
   "nbconvert_exporter": "python",
   "pygments_lexer": "ipython3",
   "version": "3.11.5"
  }
 },
 "nbformat": 4,
 "nbformat_minor": 5
}
