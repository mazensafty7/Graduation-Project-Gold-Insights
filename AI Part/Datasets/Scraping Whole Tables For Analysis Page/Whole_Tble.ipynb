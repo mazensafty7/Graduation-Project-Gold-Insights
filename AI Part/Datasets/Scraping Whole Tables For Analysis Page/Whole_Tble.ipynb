{
 "cells": [
  {
   "cell_type": "code",
   "execution_count": 47,
   "id": "1dffe0cd",
   "metadata": {},
   "outputs": [],
   "source": [
    "import requests\n",
    "import pandas as pd\n",
    "import datetime\n",
    "\n",
    "# الفترات الزمنية من الرابط\n",
    "period1 = 31813200       # تقريبًا من: 1970 أو بعده\n",
    "period2 = 1746648722     # تقريبًا إلى: نهاية 2025\n",
    "\n",
    "# رمز مؤشر الدولار الأمريكي في Yahoo Finance\n",
    "symbol = \"DX-Y.NYB\"\n",
    "\n",
    "# رابط API المباشر\n",
    "url = f\"https://query1.finance.yahoo.com/v8/finance/chart/{symbol}?period1={period1}&period2={period2}&interval=1d\"\n",
    "\n",
    "headers = {\n",
    "    \"User-Agent\": \"Mozilla/5.0\"\n",
    "}\n",
    "\n",
    "# إرسال الطلب\n",
    "r = requests.get(url, headers=headers)\n",
    "data = r.json()\n",
    "\n",
    "# استخراج البيانات\n",
    "timestamps = data['chart']['result'][0]['timestamp']\n",
    "indicators = data['chart']['result'][0]['indicators']['quote'][0]\n",
    "\n",
    "# تحويل التواريخ مع التعامل مع التواريخ القديمة\n",
    "dates = []\n",
    "for ts in timestamps:\n",
    "    try:\n",
    "        # محاولة تحويل الـ timestamp إلى تاريخ\n",
    "        dates.append(datetime.datetime.utcfromtimestamp(ts).date())  # استخدام utcfromtimestamp\n",
    "    except Exception as e:\n",
    "        # إذا فشل التحويل، ضيف قيمة فارغة ولكن لا تستخدم None في حالة التواريخ القديمة\n",
    "        dates.append(\"Invalid Date\")  # تعبير عن تواريخ غير صحيحة، أو قديمة جدًا\n",
    "\n",
    "# إنشاء DataFrame\n",
    "df = pd.DataFrame(indicators)\n",
    "df['Date'] = dates\n",
    "\n",
    "# ترتيب الأعمدة\n",
    "df = df[['Date', 'open', 'high', 'low', 'close', 'volume']]"
   ]
  },
  {
   "cell_type": "code",
   "execution_count": 48,
   "id": "d1f7d763",
   "metadata": {},
   "outputs": [
    {
     "data": {
      "text/html": [
       "<div>\n",
       "<style scoped>\n",
       "    .dataframe tbody tr th:only-of-type {\n",
       "        vertical-align: middle;\n",
       "    }\n",
       "\n",
       "    .dataframe tbody tr th {\n",
       "        vertical-align: top;\n",
       "    }\n",
       "\n",
       "    .dataframe thead th {\n",
       "        text-align: right;\n",
       "    }\n",
       "</style>\n",
       "<table border=\"1\" class=\"dataframe\">\n",
       "  <thead>\n",
       "    <tr style=\"text-align: right;\">\n",
       "      <th></th>\n",
       "      <th>Date</th>\n",
       "      <th>open</th>\n",
       "      <th>high</th>\n",
       "      <th>low</th>\n",
       "      <th>close</th>\n",
       "      <th>volume</th>\n",
       "    </tr>\n",
       "  </thead>\n",
       "  <tbody>\n",
       "    <tr>\n",
       "      <th>0</th>\n",
       "      <td>1971-01-04</td>\n",
       "      <td>120.529999</td>\n",
       "      <td>120.529999</td>\n",
       "      <td>120.529999</td>\n",
       "      <td>120.529999</td>\n",
       "      <td>0.0</td>\n",
       "    </tr>\n",
       "    <tr>\n",
       "      <th>1</th>\n",
       "      <td>1971-01-05</td>\n",
       "      <td>120.519997</td>\n",
       "      <td>120.519997</td>\n",
       "      <td>120.519997</td>\n",
       "      <td>120.519997</td>\n",
       "      <td>0.0</td>\n",
       "    </tr>\n",
       "    <tr>\n",
       "      <th>2</th>\n",
       "      <td>1971-01-06</td>\n",
       "      <td>120.489998</td>\n",
       "      <td>120.489998</td>\n",
       "      <td>120.489998</td>\n",
       "      <td>120.489998</td>\n",
       "      <td>0.0</td>\n",
       "    </tr>\n",
       "    <tr>\n",
       "      <th>3</th>\n",
       "      <td>1971-01-07</td>\n",
       "      <td>120.550003</td>\n",
       "      <td>120.550003</td>\n",
       "      <td>120.550003</td>\n",
       "      <td>120.550003</td>\n",
       "      <td>0.0</td>\n",
       "    </tr>\n",
       "    <tr>\n",
       "      <th>4</th>\n",
       "      <td>1971-01-08</td>\n",
       "      <td>120.529999</td>\n",
       "      <td>120.529999</td>\n",
       "      <td>120.529999</td>\n",
       "      <td>120.529999</td>\n",
       "      <td>0.0</td>\n",
       "    </tr>\n",
       "  </tbody>\n",
       "</table>\n",
       "</div>"
      ],
      "text/plain": [
       "         Date        open        high         low       close  volume\n",
       "0  1971-01-04  120.529999  120.529999  120.529999  120.529999     0.0\n",
       "1  1971-01-05  120.519997  120.519997  120.519997  120.519997     0.0\n",
       "2  1971-01-06  120.489998  120.489998  120.489998  120.489998     0.0\n",
       "3  1971-01-07  120.550003  120.550003  120.550003  120.550003     0.0\n",
       "4  1971-01-08  120.529999  120.529999  120.529999  120.529999     0.0"
      ]
     },
     "execution_count": 48,
     "metadata": {},
     "output_type": "execute_result"
    }
   ],
   "source": [
    "df.head()"
   ]
  },
  {
   "cell_type": "code",
   "execution_count": 49,
   "id": "19ee6f30",
   "metadata": {},
   "outputs": [
    {
     "data": {
      "text/plain": [
       "Date         0\n",
       "open      3045\n",
       "high      3045\n",
       "low       3045\n",
       "close     3045\n",
       "volume    3045\n",
       "dtype: int64"
      ]
     },
     "execution_count": 49,
     "metadata": {},
     "output_type": "execute_result"
    }
   ],
   "source": [
    "df.isnull().sum()"
   ]
  },
  {
   "cell_type": "code",
   "execution_count": 50,
   "id": "95258597",
   "metadata": {},
   "outputs": [],
   "source": [
    "df = df.dropna(axis = 0)"
   ]
  },
  {
   "cell_type": "code",
   "execution_count": 51,
   "id": "4cf826d8",
   "metadata": {},
   "outputs": [
    {
     "data": {
      "text/html": [
       "<div>\n",
       "<style scoped>\n",
       "    .dataframe tbody tr th:only-of-type {\n",
       "        vertical-align: middle;\n",
       "    }\n",
       "\n",
       "    .dataframe tbody tr th {\n",
       "        vertical-align: top;\n",
       "    }\n",
       "\n",
       "    .dataframe thead th {\n",
       "        text-align: right;\n",
       "    }\n",
       "</style>\n",
       "<table border=\"1\" class=\"dataframe\">\n",
       "  <thead>\n",
       "    <tr style=\"text-align: right;\">\n",
       "      <th></th>\n",
       "      <th>Date</th>\n",
       "      <th>open</th>\n",
       "      <th>high</th>\n",
       "      <th>low</th>\n",
       "      <th>close</th>\n",
       "      <th>volume</th>\n",
       "    </tr>\n",
       "  </thead>\n",
       "  <tbody>\n",
       "    <tr>\n",
       "      <th>0</th>\n",
       "      <td>1971-01-04</td>\n",
       "      <td>120.529999</td>\n",
       "      <td>120.529999</td>\n",
       "      <td>120.529999</td>\n",
       "      <td>120.529999</td>\n",
       "      <td>0.0</td>\n",
       "    </tr>\n",
       "    <tr>\n",
       "      <th>1</th>\n",
       "      <td>1971-01-05</td>\n",
       "      <td>120.519997</td>\n",
       "      <td>120.519997</td>\n",
       "      <td>120.519997</td>\n",
       "      <td>120.519997</td>\n",
       "      <td>0.0</td>\n",
       "    </tr>\n",
       "    <tr>\n",
       "      <th>2</th>\n",
       "      <td>1971-01-06</td>\n",
       "      <td>120.489998</td>\n",
       "      <td>120.489998</td>\n",
       "      <td>120.489998</td>\n",
       "      <td>120.489998</td>\n",
       "      <td>0.0</td>\n",
       "    </tr>\n",
       "    <tr>\n",
       "      <th>3</th>\n",
       "      <td>1971-01-07</td>\n",
       "      <td>120.550003</td>\n",
       "      <td>120.550003</td>\n",
       "      <td>120.550003</td>\n",
       "      <td>120.550003</td>\n",
       "      <td>0.0</td>\n",
       "    </tr>\n",
       "    <tr>\n",
       "      <th>4</th>\n",
       "      <td>1971-01-08</td>\n",
       "      <td>120.529999</td>\n",
       "      <td>120.529999</td>\n",
       "      <td>120.529999</td>\n",
       "      <td>120.529999</td>\n",
       "      <td>0.0</td>\n",
       "    </tr>\n",
       "  </tbody>\n",
       "</table>\n",
       "</div>"
      ],
      "text/plain": [
       "         Date        open        high         low       close  volume\n",
       "0  1971-01-04  120.529999  120.529999  120.529999  120.529999     0.0\n",
       "1  1971-01-05  120.519997  120.519997  120.519997  120.519997     0.0\n",
       "2  1971-01-06  120.489998  120.489998  120.489998  120.489998     0.0\n",
       "3  1971-01-07  120.550003  120.550003  120.550003  120.550003     0.0\n",
       "4  1971-01-08  120.529999  120.529999  120.529999  120.529999     0.0"
      ]
     },
     "execution_count": 51,
     "metadata": {},
     "output_type": "execute_result"
    }
   ],
   "source": [
    "df.head()"
   ]
  },
  {
   "cell_type": "code",
   "execution_count": 52,
   "id": "a6fbe60b",
   "metadata": {},
   "outputs": [
    {
     "data": {
      "text/html": [
       "<div>\n",
       "<style scoped>\n",
       "    .dataframe tbody tr th:only-of-type {\n",
       "        vertical-align: middle;\n",
       "    }\n",
       "\n",
       "    .dataframe tbody tr th {\n",
       "        vertical-align: top;\n",
       "    }\n",
       "\n",
       "    .dataframe thead th {\n",
       "        text-align: right;\n",
       "    }\n",
       "</style>\n",
       "<table border=\"1\" class=\"dataframe\">\n",
       "  <thead>\n",
       "    <tr style=\"text-align: right;\">\n",
       "      <th></th>\n",
       "      <th>Date</th>\n",
       "      <th>open</th>\n",
       "      <th>high</th>\n",
       "      <th>low</th>\n",
       "      <th>close</th>\n",
       "      <th>volume</th>\n",
       "    </tr>\n",
       "  </thead>\n",
       "  <tbody>\n",
       "    <tr>\n",
       "      <th>16841</th>\n",
       "      <td>2025-05-01</td>\n",
       "      <td>99.650002</td>\n",
       "      <td>100.379997</td>\n",
       "      <td>99.610001</td>\n",
       "      <td>100.250000</td>\n",
       "      <td>0.0</td>\n",
       "    </tr>\n",
       "    <tr>\n",
       "      <th>16842</th>\n",
       "      <td>2025-05-02</td>\n",
       "      <td>100.180000</td>\n",
       "      <td>100.330002</td>\n",
       "      <td>99.400002</td>\n",
       "      <td>100.000000</td>\n",
       "      <td>0.0</td>\n",
       "    </tr>\n",
       "    <tr>\n",
       "      <th>16844</th>\n",
       "      <td>2025-05-05</td>\n",
       "      <td>100.000000</td>\n",
       "      <td>100.050003</td>\n",
       "      <td>99.459999</td>\n",
       "      <td>99.830002</td>\n",
       "      <td>0.0</td>\n",
       "    </tr>\n",
       "    <tr>\n",
       "      <th>16845</th>\n",
       "      <td>2025-05-06</td>\n",
       "      <td>99.830002</td>\n",
       "      <td>100.099998</td>\n",
       "      <td>99.169998</td>\n",
       "      <td>99.239998</td>\n",
       "      <td>0.0</td>\n",
       "    </tr>\n",
       "    <tr>\n",
       "      <th>16846</th>\n",
       "      <td>2025-05-07</td>\n",
       "      <td>99.503998</td>\n",
       "      <td>99.897003</td>\n",
       "      <td>99.286003</td>\n",
       "      <td>99.896004</td>\n",
       "      <td>0.0</td>\n",
       "    </tr>\n",
       "  </tbody>\n",
       "</table>\n",
       "</div>"
      ],
      "text/plain": [
       "             Date        open        high        low       close  volume\n",
       "16841  2025-05-01   99.650002  100.379997  99.610001  100.250000     0.0\n",
       "16842  2025-05-02  100.180000  100.330002  99.400002  100.000000     0.0\n",
       "16844  2025-05-05  100.000000  100.050003  99.459999   99.830002     0.0\n",
       "16845  2025-05-06   99.830002  100.099998  99.169998   99.239998     0.0\n",
       "16846  2025-05-07   99.503998   99.897003  99.286003   99.896004     0.0"
      ]
     },
     "execution_count": 52,
     "metadata": {},
     "output_type": "execute_result"
    }
   ],
   "source": [
    "df.tail()"
   ]
  },
  {
   "cell_type": "code",
   "execution_count": 53,
   "id": "35187095",
   "metadata": {},
   "outputs": [
    {
     "data": {
      "text/plain": [
       "(13802, 6)"
      ]
     },
     "execution_count": 53,
     "metadata": {},
     "output_type": "execute_result"
    }
   ],
   "source": [
    "df.shape"
   ]
  },
  {
   "cell_type": "code",
   "execution_count": 54,
   "id": "d38ff2c7",
   "metadata": {},
   "outputs": [
    {
     "name": "stdout",
     "output_type": "stream",
     "text": [
      "<class 'pandas.core.frame.DataFrame'>\n",
      "Index: 13802 entries, 0 to 16846\n",
      "Data columns (total 6 columns):\n",
      " #   Column  Non-Null Count  Dtype  \n",
      "---  ------  --------------  -----  \n",
      " 0   Date    13802 non-null  object \n",
      " 1   open    13802 non-null  float64\n",
      " 2   high    13802 non-null  float64\n",
      " 3   low     13802 non-null  float64\n",
      " 4   close   13802 non-null  float64\n",
      " 5   volume  13802 non-null  float64\n",
      "dtypes: float64(5), object(1)\n",
      "memory usage: 754.8+ KB\n"
     ]
    }
   ],
   "source": [
    "df.info()"
   ]
  },
  {
   "cell_type": "code",
   "execution_count": 55,
   "id": "5012d2a7",
   "metadata": {},
   "outputs": [],
   "source": [
    "df.to_csv('full_Dollar.csv', index = False)"
   ]
  },
  {
   "cell_type": "code",
   "execution_count": null,
   "id": "ee62f247",
   "metadata": {},
   "outputs": [],
   "source": []
  }
 ],
 "metadata": {
  "kernelspec": {
   "display_name": "Python 3 (ipykernel)",
   "language": "python",
   "name": "python3"
  },
  "language_info": {
   "codemirror_mode": {
    "name": "ipython",
    "version": 3
   },
   "file_extension": ".py",
   "mimetype": "text/x-python",
   "name": "python",
   "nbconvert_exporter": "python",
   "pygments_lexer": "ipython3",
   "version": "3.11.5"
  }
 },
 "nbformat": 4,
 "nbformat_minor": 5
}
