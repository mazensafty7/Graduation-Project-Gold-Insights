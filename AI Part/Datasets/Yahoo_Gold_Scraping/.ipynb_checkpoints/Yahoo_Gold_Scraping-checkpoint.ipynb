{
 "cells": [
  {
   "cell_type": "markdown",
   "id": "2e7f348a",
   "metadata": {},
   "source": [
    "# Gold Prices Scraping"
   ]
  },
  {
   "cell_type": "markdown",
   "id": "80b854ce",
   "metadata": {},
   "source": [
    "## Import Libraries"
   ]
  },
  {
   "cell_type": "code",
   "execution_count": 20,
   "id": "4bc41ead",
   "metadata": {},
   "outputs": [],
   "source": [
    "import requests\n",
    "import pandas as pd\n",
    "from bs4 import BeautifulSoup"
   ]
  },
  {
   "cell_type": "markdown",
   "id": "f93b0e99",
   "metadata": {},
   "source": [
    "## Make The Request From Yahoo Finance and Get The Table HTML"
   ]
  },
  {
   "cell_type": "code",
   "execution_count": 21,
   "id": "4c0b9f60",
   "metadata": {},
   "outputs": [],
   "source": [
    "url = \"https://finance.yahoo.com/quote/GC%3DF/history/?period1=967608000&period2=1746645893\"\n",
    "headers = {\n",
    "    'User-Agent': 'Mozilla/5.0 (Windows NT 10.0; Win64; x64) AppleWebKit/537.36 (KHTML, like Gecko) Chrome/91.0.4472.124 Safari/537.36'\n",
    "}\n",
    "r = requests.get(url, headers=headers)\n",
    "\n",
    "c = r.text\n",
    "soup=BeautifulSoup(c, \"lxml\")\n",
    "\n",
    "table = soup.find(\"table\" , {\"class\":\"table yf-1jecxey noDl hideOnPrint\"})"
   ]
  },
  {
   "cell_type": "markdown",
   "id": "8ed6938a",
   "metadata": {},
   "source": [
    "## Get The Headers of The Table"
   ]
  },
  {
   "cell_type": "code",
   "execution_count": 22,
   "id": "89646b25",
   "metadata": {},
   "outputs": [
    {
     "ename": "AttributeError",
     "evalue": "'NoneType' object has no attribute 'find_all'",
     "output_type": "error",
     "traceback": [
      "\u001b[1;31m---------------------------------------------------------------------------\u001b[0m",
      "\u001b[1;31mAttributeError\u001b[0m                            Traceback (most recent call last)",
      "Cell \u001b[1;32mIn[22], line 1\u001b[0m\n\u001b[1;32m----> 1\u001b[0m headers \u001b[38;5;241m=\u001b[39m table\u001b[38;5;241m.\u001b[39mfind_all(\u001b[38;5;124m\"\u001b[39m\u001b[38;5;124mth\u001b[39m\u001b[38;5;124m\"\u001b[39m , {\u001b[38;5;124m\"\u001b[39m\u001b[38;5;124mclass\u001b[39m\u001b[38;5;124m\"\u001b[39m:\u001b[38;5;124m\"\u001b[39m\u001b[38;5;124myf-1jecxey\u001b[39m\u001b[38;5;124m\"\u001b[39m})\n\u001b[0;32m      3\u001b[0m titles \u001b[38;5;241m=\u001b[39m []\n\u001b[0;32m      5\u001b[0m \u001b[38;5;28;01mfor\u001b[39;00m i \u001b[38;5;129;01min\u001b[39;00m headers:\n",
      "\u001b[1;31mAttributeError\u001b[0m: 'NoneType' object has no attribute 'find_all'"
     ]
    }
   ],
   "source": [
    "headers = table.find_all(\"th\" , {\"class\":\"yf-1jecxey\"})\n",
    "\n",
    "titles = []\n",
    "\n",
    "for i in headers:\n",
    "    titles.append(i.text.split(\"  \")[0])\n",
    "    \n",
    "df = pd.DataFrame(columns = titles)\n",
    "df"
   ]
  },
  {
   "cell_type": "markdown",
   "id": "3bac254c",
   "metadata": {},
   "source": [
    "## Get The Content of The Table"
   ]
  },
  {
   "cell_type": "code",
   "execution_count": 22,
   "id": "27291e57",
   "metadata": {},
   "outputs": [
    {
     "data": {
      "text/html": [
       "<div>\n",
       "<style scoped>\n",
       "    .dataframe tbody tr th:only-of-type {\n",
       "        vertical-align: middle;\n",
       "    }\n",
       "\n",
       "    .dataframe tbody tr th {\n",
       "        vertical-align: top;\n",
       "    }\n",
       "\n",
       "    .dataframe thead th {\n",
       "        text-align: right;\n",
       "    }\n",
       "</style>\n",
       "<table border=\"1\" class=\"dataframe\">\n",
       "  <thead>\n",
       "    <tr style=\"text-align: right;\">\n",
       "      <th></th>\n",
       "      <th>Date</th>\n",
       "      <th>Open</th>\n",
       "      <th>High</th>\n",
       "      <th>Low</th>\n",
       "      <th>Close</th>\n",
       "      <th>Adj Close</th>\n",
       "      <th>Volume</th>\n",
       "    </tr>\n",
       "  </thead>\n",
       "  <tbody>\n",
       "    <tr>\n",
       "      <th>0</th>\n",
       "      <td>Apr 21, 2025</td>\n",
       "      <td>3,347.00</td>\n",
       "      <td>3,442.30</td>\n",
       "      <td>3,344.00</td>\n",
       "      <td>3,430.80</td>\n",
       "      <td>3,430.80</td>\n",
       "      <td>217,966</td>\n",
       "    </tr>\n",
       "    <tr>\n",
       "      <th>1</th>\n",
       "      <td>Apr 17, 2025</td>\n",
       "      <td>3,345.00</td>\n",
       "      <td>3,345.00</td>\n",
       "      <td>3,287.80</td>\n",
       "      <td>3,308.70</td>\n",
       "      <td>3,308.70</td>\n",
       "      <td>1,874</td>\n",
       "    </tr>\n",
       "    <tr>\n",
       "      <th>2</th>\n",
       "      <td>Apr 16, 2025</td>\n",
       "      <td>3,238.30</td>\n",
       "      <td>3,334.90</td>\n",
       "      <td>3,238.30</td>\n",
       "      <td>3,326.60</td>\n",
       "      <td>3,326.60</td>\n",
       "      <td>1,874</td>\n",
       "    </tr>\n",
       "    <tr>\n",
       "      <th>3</th>\n",
       "      <td>Apr 15, 2025</td>\n",
       "      <td>3,216.00</td>\n",
       "      <td>3,218.70</td>\n",
       "      <td>3,214.00</td>\n",
       "      <td>3,218.70</td>\n",
       "      <td>3,218.70</td>\n",
       "      <td>390</td>\n",
       "    </tr>\n",
       "    <tr>\n",
       "      <th>4</th>\n",
       "      <td>Apr 14, 2025</td>\n",
       "      <td>3,215.50</td>\n",
       "      <td>3,228.80</td>\n",
       "      <td>3,194.50</td>\n",
       "      <td>3,204.80</td>\n",
       "      <td>3,204.80</td>\n",
       "      <td>263</td>\n",
       "    </tr>\n",
       "  </tbody>\n",
       "</table>\n",
       "</div>"
      ],
      "text/plain": [
       "           Date      Open      High       Low     Close Adj Close   Volume\n",
       "0  Apr 21, 2025  3,347.00  3,442.30  3,344.00  3,430.80  3,430.80  217,966\n",
       "1  Apr 17, 2025  3,345.00  3,345.00  3,287.80  3,308.70  3,308.70    1,874\n",
       "2  Apr 16, 2025  3,238.30  3,334.90  3,238.30  3,326.60  3,326.60    1,874\n",
       "3  Apr 15, 2025  3,216.00  3,218.70  3,214.00  3,218.70  3,218.70      390\n",
       "4  Apr 14, 2025  3,215.50  3,228.80  3,194.50  3,204.80  3,204.80      263"
      ]
     },
     "execution_count": 22,
     "metadata": {},
     "output_type": "execute_result"
    }
   ],
   "source": [
    "rows_con = table.find_all(\"tr\" , {\"class\":\"yf-1jecxey\"})\n",
    "for i in rows_con[1:]:\n",
    "    data = i.find_all(\"td\" , {\"class\":\"yf-1jecxey\"})\n",
    "    row = [tr.text for tr in data]\n",
    "    new_row_df = pd.DataFrame([row], columns=df.columns)  # Ensure columns match\n",
    "    df = pd.concat([df, new_row_df], ignore_index=True)\n",
    "df.head()"
   ]
  },
  {
   "cell_type": "markdown",
   "id": "09300171",
   "metadata": {},
   "source": [
    "## Data Preprocessing"
   ]
  },
  {
   "cell_type": "code",
   "execution_count": 23,
   "id": "5fd29e4f",
   "metadata": {},
   "outputs": [
    {
     "data": {
      "text/html": [
       "<div>\n",
       "<style scoped>\n",
       "    .dataframe tbody tr th:only-of-type {\n",
       "        vertical-align: middle;\n",
       "    }\n",
       "\n",
       "    .dataframe tbody tr th {\n",
       "        vertical-align: top;\n",
       "    }\n",
       "\n",
       "    .dataframe thead th {\n",
       "        text-align: right;\n",
       "    }\n",
       "</style>\n",
       "<table border=\"1\" class=\"dataframe\">\n",
       "  <thead>\n",
       "    <tr style=\"text-align: right;\">\n",
       "      <th></th>\n",
       "      <th>Date</th>\n",
       "      <th>Open</th>\n",
       "      <th>High</th>\n",
       "      <th>Low</th>\n",
       "      <th>Close</th>\n",
       "      <th>Adj Close</th>\n",
       "      <th>Volume</th>\n",
       "    </tr>\n",
       "  </thead>\n",
       "  <tbody>\n",
       "    <tr>\n",
       "      <th>0</th>\n",
       "      <td>Apr 21, 2025</td>\n",
       "      <td>3,347.00</td>\n",
       "      <td>3,442.30</td>\n",
       "      <td>3,344.00</td>\n",
       "      <td>3,430.80</td>\n",
       "      <td>3,430.80</td>\n",
       "      <td>217,966</td>\n",
       "    </tr>\n",
       "    <tr>\n",
       "      <th>1</th>\n",
       "      <td>Apr 17, 2025</td>\n",
       "      <td>3,345.00</td>\n",
       "      <td>3,345.00</td>\n",
       "      <td>3,287.80</td>\n",
       "      <td>3,308.70</td>\n",
       "      <td>3,308.70</td>\n",
       "      <td>1,874</td>\n",
       "    </tr>\n",
       "    <tr>\n",
       "      <th>2</th>\n",
       "      <td>Apr 16, 2025</td>\n",
       "      <td>3,238.30</td>\n",
       "      <td>3,334.90</td>\n",
       "      <td>3,238.30</td>\n",
       "      <td>3,326.60</td>\n",
       "      <td>3,326.60</td>\n",
       "      <td>1,874</td>\n",
       "    </tr>\n",
       "    <tr>\n",
       "      <th>3</th>\n",
       "      <td>Apr 15, 2025</td>\n",
       "      <td>3,216.00</td>\n",
       "      <td>3,218.70</td>\n",
       "      <td>3,214.00</td>\n",
       "      <td>3,218.70</td>\n",
       "      <td>3,218.70</td>\n",
       "      <td>390</td>\n",
       "    </tr>\n",
       "    <tr>\n",
       "      <th>4</th>\n",
       "      <td>Apr 14, 2025</td>\n",
       "      <td>3,215.50</td>\n",
       "      <td>3,228.80</td>\n",
       "      <td>3,194.50</td>\n",
       "      <td>3,204.80</td>\n",
       "      <td>3,204.80</td>\n",
       "      <td>263</td>\n",
       "    </tr>\n",
       "    <tr>\n",
       "      <th>5</th>\n",
       "      <td>Apr 11, 2025</td>\n",
       "      <td>3,182.10</td>\n",
       "      <td>3,235.00</td>\n",
       "      <td>3,182.10</td>\n",
       "      <td>3,222.20</td>\n",
       "      <td>3,222.20</td>\n",
       "      <td>862</td>\n",
       "    </tr>\n",
       "    <tr>\n",
       "      <th>6</th>\n",
       "      <td>Apr 10, 2025</td>\n",
       "      <td>3,073.90</td>\n",
       "      <td>3,167.00</td>\n",
       "      <td>3,072.10</td>\n",
       "      <td>3,155.20</td>\n",
       "      <td>3,155.20</td>\n",
       "      <td>3,456</td>\n",
       "    </tr>\n",
       "    <tr>\n",
       "      <th>7</th>\n",
       "      <td>Apr 9, 2025</td>\n",
       "      <td>2,965.80</td>\n",
       "      <td>3,090.40</td>\n",
       "      <td>2,965.80</td>\n",
       "      <td>3,056.50</td>\n",
       "      <td>3,056.50</td>\n",
       "      <td>2,175</td>\n",
       "    </tr>\n",
       "    <tr>\n",
       "      <th>8</th>\n",
       "      <td>Apr 8, 2025</td>\n",
       "      <td>2,994.00</td>\n",
       "      <td>3,014.50</td>\n",
       "      <td>2,968.40</td>\n",
       "      <td>2,968.40</td>\n",
       "      <td>2,968.40</td>\n",
       "      <td>3,213</td>\n",
       "    </tr>\n",
       "    <tr>\n",
       "      <th>9</th>\n",
       "      <td>Apr 7, 2025</td>\n",
       "      <td>3,016.40</td>\n",
       "      <td>3,050.80</td>\n",
       "      <td>2,949.70</td>\n",
       "      <td>2,951.30</td>\n",
       "      <td>2,951.30</td>\n",
       "      <td>4,424</td>\n",
       "    </tr>\n",
       "  </tbody>\n",
       "</table>\n",
       "</div>"
      ],
      "text/plain": [
       "           Date      Open      High       Low     Close Adj Close   Volume\n",
       "0  Apr 21, 2025  3,347.00  3,442.30  3,344.00  3,430.80  3,430.80  217,966\n",
       "1  Apr 17, 2025  3,345.00  3,345.00  3,287.80  3,308.70  3,308.70    1,874\n",
       "2  Apr 16, 2025  3,238.30  3,334.90  3,238.30  3,326.60  3,326.60    1,874\n",
       "3  Apr 15, 2025  3,216.00  3,218.70  3,214.00  3,218.70  3,218.70      390\n",
       "4  Apr 14, 2025  3,215.50  3,228.80  3,194.50  3,204.80  3,204.80      263\n",
       "5  Apr 11, 2025  3,182.10  3,235.00  3,182.10  3,222.20  3,222.20      862\n",
       "6  Apr 10, 2025  3,073.90  3,167.00  3,072.10  3,155.20  3,155.20    3,456\n",
       "7   Apr 9, 2025  2,965.80  3,090.40  2,965.80  3,056.50  3,056.50    2,175\n",
       "8   Apr 8, 2025  2,994.00  3,014.50  2,968.40  2,968.40  2,968.40    3,213\n",
       "9   Apr 7, 2025  3,016.40  3,050.80  2,949.70  2,951.30  2,951.30    4,424"
      ]
     },
     "execution_count": 23,
     "metadata": {},
     "output_type": "execute_result"
    }
   ],
   "source": [
    "df.head(10)"
   ]
  },
  {
   "cell_type": "code",
   "execution_count": 24,
   "id": "f67c6c28",
   "metadata": {},
   "outputs": [
    {
     "data": {
      "text/plain": [
       "(6181, 7)"
      ]
     },
     "execution_count": 24,
     "metadata": {},
     "output_type": "execute_result"
    }
   ],
   "source": [
    "df.shape"
   ]
  },
  {
   "cell_type": "code",
   "execution_count": 25,
   "id": "4dee2a5d",
   "metadata": {},
   "outputs": [
    {
     "name": "stdout",
     "output_type": "stream",
     "text": [
      "<class 'pandas.core.frame.DataFrame'>\n",
      "RangeIndex: 6181 entries, 0 to 6180\n",
      "Data columns (total 7 columns):\n",
      " #   Column     Non-Null Count  Dtype \n",
      "---  ------     --------------  ----- \n",
      " 0   Date       6181 non-null   object\n",
      " 1   Open       6181 non-null   object\n",
      " 2   High       6181 non-null   object\n",
      " 3   Low        6181 non-null   object\n",
      " 4   Close      6181 non-null   object\n",
      " 5   Adj Close  6181 non-null   object\n",
      " 6   Volume     6181 non-null   object\n",
      "dtypes: object(7)\n",
      "memory usage: 338.2+ KB\n"
     ]
    }
   ],
   "source": [
    "df.info()"
   ]
  },
  {
   "cell_type": "markdown",
   "id": "031592f7",
   "metadata": {},
   "source": [
    "## Date Format"
   ]
  },
  {
   "cell_type": "code",
   "execution_count": 26,
   "id": "add693f6",
   "metadata": {},
   "outputs": [
    {
     "name": "stdout",
     "output_type": "stream",
     "text": [
      "<class 'pandas.core.frame.DataFrame'>\n",
      "RangeIndex: 6181 entries, 0 to 6180\n",
      "Data columns (total 7 columns):\n",
      " #   Column     Non-Null Count  Dtype         \n",
      "---  ------     --------------  -----         \n",
      " 0   Date       6181 non-null   datetime64[ns]\n",
      " 1   Open       6181 non-null   object        \n",
      " 2   High       6181 non-null   object        \n",
      " 3   Low        6181 non-null   object        \n",
      " 4   Close      6181 non-null   object        \n",
      " 5   Adj Close  6181 non-null   object        \n",
      " 6   Volume     6181 non-null   object        \n",
      "dtypes: datetime64[ns](1), object(6)\n",
      "memory usage: 338.2+ KB\n"
     ]
    }
   ],
   "source": [
    "df['Date'] = pd.to_datetime(df['Date'])\n",
    "df.info()"
   ]
  },
  {
   "cell_type": "markdown",
   "id": "136a06f0",
   "metadata": {},
   "source": [
    "## Numeric Data Format"
   ]
  },
  {
   "cell_type": "code",
   "execution_count": 27,
   "id": "1113ac02",
   "metadata": {},
   "outputs": [
    {
     "data": {
      "text/plain": [
       "Index(['Open', 'High', 'Low', 'Close', 'Adj Close', 'Volume'], dtype='object')"
      ]
     },
     "execution_count": 27,
     "metadata": {},
     "output_type": "execute_result"
    }
   ],
   "source": [
    "numbers = df.select_dtypes(include = [\"object\"]).columns\n",
    "numbers"
   ]
  },
  {
   "cell_type": "code",
   "execution_count": 28,
   "id": "60818946",
   "metadata": {},
   "outputs": [
    {
     "name": "stdout",
     "output_type": "stream",
     "text": [
      "<class 'pandas.core.frame.DataFrame'>\n",
      "RangeIndex: 6181 entries, 0 to 6180\n",
      "Data columns (total 7 columns):\n",
      " #   Column     Non-Null Count  Dtype         \n",
      "---  ------     --------------  -----         \n",
      " 0   Date       6181 non-null   datetime64[ns]\n",
      " 1   Open       6181 non-null   float64       \n",
      " 2   High       6181 non-null   float64       \n",
      " 3   Low        6181 non-null   float64       \n",
      " 4   Close      6181 non-null   float64       \n",
      " 5   Adj Close  6181 non-null   float64       \n",
      " 6   Volume     5768 non-null   float64       \n",
      "dtypes: datetime64[ns](1), float64(6)\n",
      "memory usage: 338.2 KB\n"
     ]
    }
   ],
   "source": [
    "for col in numbers:\n",
    "    df[col] = df[col].str.replace(\",\" , \"\")\n",
    "    df[col] = pd.to_numeric(df[col], errors='coerce')\n",
    "df.info()"
   ]
  },
  {
   "cell_type": "code",
   "execution_count": 29,
   "id": "645dea7a",
   "metadata": {},
   "outputs": [
    {
     "data": {
      "text/html": [
       "<div>\n",
       "<style scoped>\n",
       "    .dataframe tbody tr th:only-of-type {\n",
       "        vertical-align: middle;\n",
       "    }\n",
       "\n",
       "    .dataframe tbody tr th {\n",
       "        vertical-align: top;\n",
       "    }\n",
       "\n",
       "    .dataframe thead th {\n",
       "        text-align: right;\n",
       "    }\n",
       "</style>\n",
       "<table border=\"1\" class=\"dataframe\">\n",
       "  <thead>\n",
       "    <tr style=\"text-align: right;\">\n",
       "      <th></th>\n",
       "      <th>Date</th>\n",
       "      <th>Open</th>\n",
       "      <th>High</th>\n",
       "      <th>Low</th>\n",
       "      <th>Close</th>\n",
       "      <th>Adj Close</th>\n",
       "      <th>Volume</th>\n",
       "    </tr>\n",
       "  </thead>\n",
       "  <tbody>\n",
       "    <tr>\n",
       "      <th>0</th>\n",
       "      <td>2025-04-21</td>\n",
       "      <td>3347.0</td>\n",
       "      <td>3442.3</td>\n",
       "      <td>3344.0</td>\n",
       "      <td>3430.8</td>\n",
       "      <td>3430.8</td>\n",
       "      <td>217966.0</td>\n",
       "    </tr>\n",
       "    <tr>\n",
       "      <th>1</th>\n",
       "      <td>2025-04-17</td>\n",
       "      <td>3345.0</td>\n",
       "      <td>3345.0</td>\n",
       "      <td>3287.8</td>\n",
       "      <td>3308.7</td>\n",
       "      <td>3308.7</td>\n",
       "      <td>1874.0</td>\n",
       "    </tr>\n",
       "    <tr>\n",
       "      <th>2</th>\n",
       "      <td>2025-04-16</td>\n",
       "      <td>3238.3</td>\n",
       "      <td>3334.9</td>\n",
       "      <td>3238.3</td>\n",
       "      <td>3326.6</td>\n",
       "      <td>3326.6</td>\n",
       "      <td>1874.0</td>\n",
       "    </tr>\n",
       "    <tr>\n",
       "      <th>3</th>\n",
       "      <td>2025-04-15</td>\n",
       "      <td>3216.0</td>\n",
       "      <td>3218.7</td>\n",
       "      <td>3214.0</td>\n",
       "      <td>3218.7</td>\n",
       "      <td>3218.7</td>\n",
       "      <td>390.0</td>\n",
       "    </tr>\n",
       "    <tr>\n",
       "      <th>4</th>\n",
       "      <td>2025-04-14</td>\n",
       "      <td>3215.5</td>\n",
       "      <td>3228.8</td>\n",
       "      <td>3194.5</td>\n",
       "      <td>3204.8</td>\n",
       "      <td>3204.8</td>\n",
       "      <td>263.0</td>\n",
       "    </tr>\n",
       "  </tbody>\n",
       "</table>\n",
       "</div>"
      ],
      "text/plain": [
       "        Date    Open    High     Low   Close  Adj Close    Volume\n",
       "0 2025-04-21  3347.0  3442.3  3344.0  3430.8     3430.8  217966.0\n",
       "1 2025-04-17  3345.0  3345.0  3287.8  3308.7     3308.7    1874.0\n",
       "2 2025-04-16  3238.3  3334.9  3238.3  3326.6     3326.6    1874.0\n",
       "3 2025-04-15  3216.0  3218.7  3214.0  3218.7     3218.7     390.0\n",
       "4 2025-04-14  3215.5  3228.8  3194.5  3204.8     3204.8     263.0"
      ]
     },
     "execution_count": 29,
     "metadata": {},
     "output_type": "execute_result"
    }
   ],
   "source": [
    "df.head()"
   ]
  },
  {
   "cell_type": "code",
   "execution_count": 30,
   "id": "707179a7",
   "metadata": {},
   "outputs": [
    {
     "data": {
      "text/html": [
       "<div>\n",
       "<style scoped>\n",
       "    .dataframe tbody tr th:only-of-type {\n",
       "        vertical-align: middle;\n",
       "    }\n",
       "\n",
       "    .dataframe tbody tr th {\n",
       "        vertical-align: top;\n",
       "    }\n",
       "\n",
       "    .dataframe thead th {\n",
       "        text-align: right;\n",
       "    }\n",
       "</style>\n",
       "<table border=\"1\" class=\"dataframe\">\n",
       "  <thead>\n",
       "    <tr style=\"text-align: right;\">\n",
       "      <th></th>\n",
       "      <th>Date</th>\n",
       "      <th>Open</th>\n",
       "      <th>High</th>\n",
       "      <th>Low</th>\n",
       "      <th>Close</th>\n",
       "      <th>Adj Close</th>\n",
       "      <th>Volume</th>\n",
       "    </tr>\n",
       "  </thead>\n",
       "  <tbody>\n",
       "    <tr>\n",
       "      <th>6176</th>\n",
       "      <td>2000-09-06</td>\n",
       "      <td>274.2</td>\n",
       "      <td>274.2</td>\n",
       "      <td>274.2</td>\n",
       "      <td>274.2</td>\n",
       "      <td>274.2</td>\n",
       "      <td>NaN</td>\n",
       "    </tr>\n",
       "    <tr>\n",
       "      <th>6177</th>\n",
       "      <td>2000-09-05</td>\n",
       "      <td>275.8</td>\n",
       "      <td>275.8</td>\n",
       "      <td>275.8</td>\n",
       "      <td>275.8</td>\n",
       "      <td>275.8</td>\n",
       "      <td>2.0</td>\n",
       "    </tr>\n",
       "    <tr>\n",
       "      <th>6178</th>\n",
       "      <td>2000-09-01</td>\n",
       "      <td>277.0</td>\n",
       "      <td>277.0</td>\n",
       "      <td>277.0</td>\n",
       "      <td>277.0</td>\n",
       "      <td>277.0</td>\n",
       "      <td>NaN</td>\n",
       "    </tr>\n",
       "    <tr>\n",
       "      <th>6179</th>\n",
       "      <td>2000-08-31</td>\n",
       "      <td>274.8</td>\n",
       "      <td>278.3</td>\n",
       "      <td>274.8</td>\n",
       "      <td>278.3</td>\n",
       "      <td>278.3</td>\n",
       "      <td>NaN</td>\n",
       "    </tr>\n",
       "    <tr>\n",
       "      <th>6180</th>\n",
       "      <td>2000-08-30</td>\n",
       "      <td>273.9</td>\n",
       "      <td>273.9</td>\n",
       "      <td>273.9</td>\n",
       "      <td>273.9</td>\n",
       "      <td>273.9</td>\n",
       "      <td>NaN</td>\n",
       "    </tr>\n",
       "  </tbody>\n",
       "</table>\n",
       "</div>"
      ],
      "text/plain": [
       "           Date   Open   High    Low  Close  Adj Close  Volume\n",
       "6176 2000-09-06  274.2  274.2  274.2  274.2      274.2     NaN\n",
       "6177 2000-09-05  275.8  275.8  275.8  275.8      275.8     2.0\n",
       "6178 2000-09-01  277.0  277.0  277.0  277.0      277.0     NaN\n",
       "6179 2000-08-31  274.8  278.3  274.8  278.3      278.3     NaN\n",
       "6180 2000-08-30  273.9  273.9  273.9  273.9      273.9     NaN"
      ]
     },
     "execution_count": 30,
     "metadata": {},
     "output_type": "execute_result"
    }
   ],
   "source": [
    "df.tail()"
   ]
  },
  {
   "cell_type": "code",
   "execution_count": null,
   "id": "2f8c5bd8",
   "metadata": {},
   "outputs": [],
   "source": []
  },
  {
   "cell_type": "code",
   "execution_count": 31,
   "id": "39f8129d",
   "metadata": {},
   "outputs": [],
   "source": [
    "df = df.drop(columns = ['Open', 'High', 'Low', 'Close', 'Volume'])"
   ]
  },
  {
   "cell_type": "code",
   "execution_count": 32,
   "id": "b00d6dcd",
   "metadata": {},
   "outputs": [
    {
     "data": {
      "text/html": [
       "<div>\n",
       "<style scoped>\n",
       "    .dataframe tbody tr th:only-of-type {\n",
       "        vertical-align: middle;\n",
       "    }\n",
       "\n",
       "    .dataframe tbody tr th {\n",
       "        vertical-align: top;\n",
       "    }\n",
       "\n",
       "    .dataframe thead th {\n",
       "        text-align: right;\n",
       "    }\n",
       "</style>\n",
       "<table border=\"1\" class=\"dataframe\">\n",
       "  <thead>\n",
       "    <tr style=\"text-align: right;\">\n",
       "      <th></th>\n",
       "      <th>Date</th>\n",
       "      <th>Adj Close</th>\n",
       "    </tr>\n",
       "  </thead>\n",
       "  <tbody>\n",
       "    <tr>\n",
       "      <th>0</th>\n",
       "      <td>2025-04-21</td>\n",
       "      <td>3430.8</td>\n",
       "    </tr>\n",
       "    <tr>\n",
       "      <th>1</th>\n",
       "      <td>2025-04-17</td>\n",
       "      <td>3308.7</td>\n",
       "    </tr>\n",
       "    <tr>\n",
       "      <th>2</th>\n",
       "      <td>2025-04-16</td>\n",
       "      <td>3326.6</td>\n",
       "    </tr>\n",
       "    <tr>\n",
       "      <th>3</th>\n",
       "      <td>2025-04-15</td>\n",
       "      <td>3218.7</td>\n",
       "    </tr>\n",
       "    <tr>\n",
       "      <th>4</th>\n",
       "      <td>2025-04-14</td>\n",
       "      <td>3204.8</td>\n",
       "    </tr>\n",
       "  </tbody>\n",
       "</table>\n",
       "</div>"
      ],
      "text/plain": [
       "        Date  Adj Close\n",
       "0 2025-04-21     3430.8\n",
       "1 2025-04-17     3308.7\n",
       "2 2025-04-16     3326.6\n",
       "3 2025-04-15     3218.7\n",
       "4 2025-04-14     3204.8"
      ]
     },
     "execution_count": 32,
     "metadata": {},
     "output_type": "execute_result"
    }
   ],
   "source": [
    "df.head()"
   ]
  },
  {
   "cell_type": "code",
   "execution_count": 33,
   "id": "d9a84e0b",
   "metadata": {},
   "outputs": [],
   "source": [
    "df = df.set_index('Date')"
   ]
  },
  {
   "cell_type": "code",
   "execution_count": 34,
   "id": "fea3cc09",
   "metadata": {},
   "outputs": [
    {
     "data": {
      "text/html": [
       "<div>\n",
       "<style scoped>\n",
       "    .dataframe tbody tr th:only-of-type {\n",
       "        vertical-align: middle;\n",
       "    }\n",
       "\n",
       "    .dataframe tbody tr th {\n",
       "        vertical-align: top;\n",
       "    }\n",
       "\n",
       "    .dataframe thead th {\n",
       "        text-align: right;\n",
       "    }\n",
       "</style>\n",
       "<table border=\"1\" class=\"dataframe\">\n",
       "  <thead>\n",
       "    <tr style=\"text-align: right;\">\n",
       "      <th></th>\n",
       "      <th>Adj Close</th>\n",
       "    </tr>\n",
       "    <tr>\n",
       "      <th>Date</th>\n",
       "      <th></th>\n",
       "    </tr>\n",
       "  </thead>\n",
       "  <tbody>\n",
       "    <tr>\n",
       "      <th>2025-04-21</th>\n",
       "      <td>3430.8</td>\n",
       "    </tr>\n",
       "    <tr>\n",
       "      <th>2025-04-17</th>\n",
       "      <td>3308.7</td>\n",
       "    </tr>\n",
       "    <tr>\n",
       "      <th>2025-04-16</th>\n",
       "      <td>3326.6</td>\n",
       "    </tr>\n",
       "    <tr>\n",
       "      <th>2025-04-15</th>\n",
       "      <td>3218.7</td>\n",
       "    </tr>\n",
       "    <tr>\n",
       "      <th>2025-04-14</th>\n",
       "      <td>3204.8</td>\n",
       "    </tr>\n",
       "  </tbody>\n",
       "</table>\n",
       "</div>"
      ],
      "text/plain": [
       "            Adj Close\n",
       "Date                 \n",
       "2025-04-21     3430.8\n",
       "2025-04-17     3308.7\n",
       "2025-04-16     3326.6\n",
       "2025-04-15     3218.7\n",
       "2025-04-14     3204.8"
      ]
     },
     "execution_count": 34,
     "metadata": {},
     "output_type": "execute_result"
    }
   ],
   "source": [
    "df.head()"
   ]
  },
  {
   "cell_type": "code",
   "execution_count": 35,
   "id": "d4f5b892",
   "metadata": {},
   "outputs": [],
   "source": [
    "df = df.asfreq('b', method = 'ffill')"
   ]
  },
  {
   "cell_type": "code",
   "execution_count": 36,
   "id": "d9ada80d",
   "metadata": {},
   "outputs": [
    {
     "data": {
      "text/html": [
       "<div>\n",
       "<style scoped>\n",
       "    .dataframe tbody tr th:only-of-type {\n",
       "        vertical-align: middle;\n",
       "    }\n",
       "\n",
       "    .dataframe tbody tr th {\n",
       "        vertical-align: top;\n",
       "    }\n",
       "\n",
       "    .dataframe thead th {\n",
       "        text-align: right;\n",
       "    }\n",
       "</style>\n",
       "<table border=\"1\" class=\"dataframe\">\n",
       "  <thead>\n",
       "    <tr style=\"text-align: right;\">\n",
       "      <th></th>\n",
       "      <th>Adj Close</th>\n",
       "    </tr>\n",
       "    <tr>\n",
       "      <th>Date</th>\n",
       "      <th></th>\n",
       "    </tr>\n",
       "  </thead>\n",
       "  <tbody>\n",
       "    <tr>\n",
       "      <th>2000-08-30</th>\n",
       "      <td>273.9</td>\n",
       "    </tr>\n",
       "    <tr>\n",
       "      <th>2000-08-31</th>\n",
       "      <td>278.3</td>\n",
       "    </tr>\n",
       "    <tr>\n",
       "      <th>2000-09-01</th>\n",
       "      <td>277.0</td>\n",
       "    </tr>\n",
       "    <tr>\n",
       "      <th>2000-09-04</th>\n",
       "      <td>275.8</td>\n",
       "    </tr>\n",
       "    <tr>\n",
       "      <th>2000-09-05</th>\n",
       "      <td>275.8</td>\n",
       "    </tr>\n",
       "  </tbody>\n",
       "</table>\n",
       "</div>"
      ],
      "text/plain": [
       "            Adj Close\n",
       "Date                 \n",
       "2000-08-30      273.9\n",
       "2000-08-31      278.3\n",
       "2000-09-01      277.0\n",
       "2000-09-04      275.8\n",
       "2000-09-05      275.8"
      ]
     },
     "execution_count": 36,
     "metadata": {},
     "output_type": "execute_result"
    }
   ],
   "source": [
    "df.head()"
   ]
  },
  {
   "cell_type": "code",
   "execution_count": 37,
   "id": "34ca25cb",
   "metadata": {},
   "outputs": [
    {
     "data": {
      "text/html": [
       "<div>\n",
       "<style scoped>\n",
       "    .dataframe tbody tr th:only-of-type {\n",
       "        vertical-align: middle;\n",
       "    }\n",
       "\n",
       "    .dataframe tbody tr th {\n",
       "        vertical-align: top;\n",
       "    }\n",
       "\n",
       "    .dataframe thead th {\n",
       "        text-align: right;\n",
       "    }\n",
       "</style>\n",
       "<table border=\"1\" class=\"dataframe\">\n",
       "  <thead>\n",
       "    <tr style=\"text-align: right;\">\n",
       "      <th></th>\n",
       "      <th>Adj Close</th>\n",
       "    </tr>\n",
       "    <tr>\n",
       "      <th>Date</th>\n",
       "      <th></th>\n",
       "    </tr>\n",
       "  </thead>\n",
       "  <tbody>\n",
       "    <tr>\n",
       "      <th>2025-04-15</th>\n",
       "      <td>3218.7</td>\n",
       "    </tr>\n",
       "    <tr>\n",
       "      <th>2025-04-16</th>\n",
       "      <td>3326.6</td>\n",
       "    </tr>\n",
       "    <tr>\n",
       "      <th>2025-04-17</th>\n",
       "      <td>3308.7</td>\n",
       "    </tr>\n",
       "    <tr>\n",
       "      <th>2025-04-18</th>\n",
       "      <td>3430.8</td>\n",
       "    </tr>\n",
       "    <tr>\n",
       "      <th>2025-04-21</th>\n",
       "      <td>3430.8</td>\n",
       "    </tr>\n",
       "  </tbody>\n",
       "</table>\n",
       "</div>"
      ],
      "text/plain": [
       "            Adj Close\n",
       "Date                 \n",
       "2025-04-15     3218.7\n",
       "2025-04-16     3326.6\n",
       "2025-04-17     3308.7\n",
       "2025-04-18     3430.8\n",
       "2025-04-21     3430.8"
      ]
     },
     "execution_count": 37,
     "metadata": {},
     "output_type": "execute_result"
    }
   ],
   "source": [
    "df.tail()"
   ]
  },
  {
   "cell_type": "code",
   "execution_count": 38,
   "id": "ca6d4765",
   "metadata": {},
   "outputs": [],
   "source": [
    "df.to_csv('gold_close2.csv')"
   ]
  },
  {
   "cell_type": "markdown",
   "id": "599db95d",
   "metadata": {},
   "source": [
    "# Save The Data In CSV File"
   ]
  },
  {
   "cell_type": "code",
   "execution_count": 17,
   "id": "e2357bbd",
   "metadata": {},
   "outputs": [],
   "source": [
    "df.to_csv(\"gold_test.csv\" , index=False)"
   ]
  }
 ],
 "metadata": {
  "kernelspec": {
   "display_name": "Python 3 (ipykernel)",
   "language": "python",
   "name": "python3"
  },
  "language_info": {
   "codemirror_mode": {
    "name": "ipython",
    "version": 3
   },
   "file_extension": ".py",
   "mimetype": "text/x-python",
   "name": "python",
   "nbconvert_exporter": "python",
   "pygments_lexer": "ipython3",
   "version": "3.11.5"
  }
 },
 "nbformat": 4,
 "nbformat_minor": 5
}
