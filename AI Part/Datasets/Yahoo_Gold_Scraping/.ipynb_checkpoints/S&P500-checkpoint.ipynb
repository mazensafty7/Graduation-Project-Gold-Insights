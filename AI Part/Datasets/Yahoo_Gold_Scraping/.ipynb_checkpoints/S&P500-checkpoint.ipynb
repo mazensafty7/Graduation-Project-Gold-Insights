{
 "cells": [
  {
   "cell_type": "markdown",
   "id": "7d3c87bc",
   "metadata": {},
   "source": [
    "# S&P 500 Prices Scraping"
   ]
  },
  {
   "cell_type": "markdown",
   "id": "0c57d062",
   "metadata": {},
   "source": [
    "## Import Libraries"
   ]
  },
  {
   "cell_type": "code",
   "execution_count": 1,
   "id": "07406e41",
   "metadata": {},
   "outputs": [],
   "source": [
    "import requests\n",
    "import pandas as pd\n",
    "from bs4 import BeautifulSoup"
   ]
  },
  {
   "cell_type": "markdown",
   "id": "e8853a9b",
   "metadata": {},
   "source": [
    "## Make The Request From Yahoo Finance and Get The Table HTML"
   ]
  },
  {
   "cell_type": "code",
   "execution_count": 2,
   "id": "65d8473a",
   "metadata": {},
   "outputs": [],
   "source": [
    "url = \"https://finance.yahoo.com/quote/%5EGSPC/history/?period1=967593600&period2=1729288137\"\n",
    "headers = {\n",
    "    'User-Agent': 'Mozilla/5.0 (Windows NT 10.0; Win64; x64) AppleWebKit/537.36 (KHTML, like Gecko) Chrome/91.0.4472.124 Safari/537.36'\n",
    "}\n",
    "r = requests.get(url, headers=headers)\n",
    "\n",
    "c = r.text\n",
    "soup=BeautifulSoup(c, \"lxml\")\n",
    "\n",
    "table = soup.find(\"table\" , {\"class\":\"table yf-ewueuo noDl\"})"
   ]
  },
  {
   "cell_type": "markdown",
   "id": "d92dbf09",
   "metadata": {},
   "source": [
    "## Get The Headers of The Table"
   ]
  },
  {
   "cell_type": "code",
   "execution_count": 3,
   "id": "379bc5bf",
   "metadata": {},
   "outputs": [
    {
     "data": {
      "text/html": [
       "<div>\n",
       "<style scoped>\n",
       "    .dataframe tbody tr th:only-of-type {\n",
       "        vertical-align: middle;\n",
       "    }\n",
       "\n",
       "    .dataframe tbody tr th {\n",
       "        vertical-align: top;\n",
       "    }\n",
       "\n",
       "    .dataframe thead th {\n",
       "        text-align: right;\n",
       "    }\n",
       "</style>\n",
       "<table border=\"1\" class=\"dataframe\">\n",
       "  <thead>\n",
       "    <tr style=\"text-align: right;\">\n",
       "      <th></th>\n",
       "      <th>Date</th>\n",
       "      <th>Open</th>\n",
       "      <th>High</th>\n",
       "      <th>Low</th>\n",
       "      <th>Close</th>\n",
       "      <th>Adj Close</th>\n",
       "      <th>Volume</th>\n",
       "    </tr>\n",
       "  </thead>\n",
       "  <tbody>\n",
       "  </tbody>\n",
       "</table>\n",
       "</div>"
      ],
      "text/plain": [
       "Empty DataFrame\n",
       "Columns: [Date, Open, High, Low, Close, Adj Close, Volume]\n",
       "Index: []"
      ]
     },
     "execution_count": 3,
     "metadata": {},
     "output_type": "execute_result"
    }
   ],
   "source": [
    "headers = table.find_all(\"th\" , {\"class\":\"yf-ewueuo\"})\n",
    "\n",
    "titles = []\n",
    "\n",
    "for i in headers:\n",
    "    titles.append(i.text.split(\"  \")[0])\n",
    "    \n",
    "df = pd.DataFrame(columns = titles)\n",
    "df"
   ]
  },
  {
   "cell_type": "markdown",
   "id": "5abb66a6",
   "metadata": {},
   "source": [
    "## Get The Content of The Table"
   ]
  },
  {
   "cell_type": "code",
   "execution_count": 4,
   "id": "8e8ec192",
   "metadata": {},
   "outputs": [
    {
     "data": {
      "text/html": [
       "<div>\n",
       "<style scoped>\n",
       "    .dataframe tbody tr th:only-of-type {\n",
       "        vertical-align: middle;\n",
       "    }\n",
       "\n",
       "    .dataframe tbody tr th {\n",
       "        vertical-align: top;\n",
       "    }\n",
       "\n",
       "    .dataframe thead th {\n",
       "        text-align: right;\n",
       "    }\n",
       "</style>\n",
       "<table border=\"1\" class=\"dataframe\">\n",
       "  <thead>\n",
       "    <tr style=\"text-align: right;\">\n",
       "      <th></th>\n",
       "      <th>Date</th>\n",
       "      <th>Open</th>\n",
       "      <th>High</th>\n",
       "      <th>Low</th>\n",
       "      <th>Close</th>\n",
       "      <th>Adj Close</th>\n",
       "      <th>Volume</th>\n",
       "    </tr>\n",
       "  </thead>\n",
       "  <tbody>\n",
       "    <tr>\n",
       "      <th>0</th>\n",
       "      <td>Oct 18, 2024</td>\n",
       "      <td>5,859.43</td>\n",
       "      <td>5,872.17</td>\n",
       "      <td>5,846.11</td>\n",
       "      <td>5,864.67</td>\n",
       "      <td>5,864.67</td>\n",
       "      <td>2,157,845,000</td>\n",
       "    </tr>\n",
       "    <tr>\n",
       "      <th>1</th>\n",
       "      <td>Oct 17, 2024</td>\n",
       "      <td>5,875.62</td>\n",
       "      <td>5,878.46</td>\n",
       "      <td>5,840.25</td>\n",
       "      <td>5,841.47</td>\n",
       "      <td>5,841.47</td>\n",
       "      <td>3,480,010,000</td>\n",
       "    </tr>\n",
       "    <tr>\n",
       "      <th>2</th>\n",
       "      <td>Oct 16, 2024</td>\n",
       "      <td>5,816.58</td>\n",
       "      <td>5,846.52</td>\n",
       "      <td>5,808.34</td>\n",
       "      <td>5,842.47</td>\n",
       "      <td>5,842.47</td>\n",
       "      <td>3,467,230,000</td>\n",
       "    </tr>\n",
       "    <tr>\n",
       "      <th>3</th>\n",
       "      <td>Oct 15, 2024</td>\n",
       "      <td>5,866.74</td>\n",
       "      <td>5,870.36</td>\n",
       "      <td>5,804.48</td>\n",
       "      <td>5,815.26</td>\n",
       "      <td>5,815.26</td>\n",
       "      <td>3,882,120,000</td>\n",
       "    </tr>\n",
       "    <tr>\n",
       "      <th>4</th>\n",
       "      <td>Oct 14, 2024</td>\n",
       "      <td>5,829.81</td>\n",
       "      <td>5,871.41</td>\n",
       "      <td>5,829.57</td>\n",
       "      <td>5,859.85</td>\n",
       "      <td>5,859.85</td>\n",
       "      <td>3,005,250,000</td>\n",
       "    </tr>\n",
       "  </tbody>\n",
       "</table>\n",
       "</div>"
      ],
      "text/plain": [
       "           Date      Open      High       Low     Close Adj Close  \\\n",
       "0  Oct 18, 2024  5,859.43  5,872.17  5,846.11  5,864.67  5,864.67   \n",
       "1  Oct 17, 2024  5,875.62  5,878.46  5,840.25  5,841.47  5,841.47   \n",
       "2  Oct 16, 2024  5,816.58  5,846.52  5,808.34  5,842.47  5,842.47   \n",
       "3  Oct 15, 2024  5,866.74  5,870.36  5,804.48  5,815.26  5,815.26   \n",
       "4  Oct 14, 2024  5,829.81  5,871.41  5,829.57  5,859.85  5,859.85   \n",
       "\n",
       "          Volume  \n",
       "0  2,157,845,000  \n",
       "1  3,480,010,000  \n",
       "2  3,467,230,000  \n",
       "3  3,882,120,000  \n",
       "4  3,005,250,000  "
      ]
     },
     "execution_count": 4,
     "metadata": {},
     "output_type": "execute_result"
    }
   ],
   "source": [
    "rows_con = table.find_all(\"tr\" , {\"class\":\"yf-ewueuo\"})\n",
    "for i in rows_con[1:]:\n",
    "    data = i.find_all(\"td\" , {\"class\":\"yf-ewueuo\"})\n",
    "    row = [tr.text for tr in data]\n",
    "    new_row_df = pd.DataFrame([row], columns=df.columns)  # Ensure columns match\n",
    "    df = pd.concat([df, new_row_df], ignore_index=True)\n",
    "df.head()"
   ]
  },
  {
   "cell_type": "markdown",
   "id": "c681ac87",
   "metadata": {},
   "source": [
    "## Data Preprocessing"
   ]
  },
  {
   "cell_type": "code",
   "execution_count": 5,
   "id": "bc61446c",
   "metadata": {},
   "outputs": [
    {
     "data": {
      "text/html": [
       "<div>\n",
       "<style scoped>\n",
       "    .dataframe tbody tr th:only-of-type {\n",
       "        vertical-align: middle;\n",
       "    }\n",
       "\n",
       "    .dataframe tbody tr th {\n",
       "        vertical-align: top;\n",
       "    }\n",
       "\n",
       "    .dataframe thead th {\n",
       "        text-align: right;\n",
       "    }\n",
       "</style>\n",
       "<table border=\"1\" class=\"dataframe\">\n",
       "  <thead>\n",
       "    <tr style=\"text-align: right;\">\n",
       "      <th></th>\n",
       "      <th>Date</th>\n",
       "      <th>Open</th>\n",
       "      <th>High</th>\n",
       "      <th>Low</th>\n",
       "      <th>Close</th>\n",
       "      <th>Adj Close</th>\n",
       "      <th>Volume</th>\n",
       "    </tr>\n",
       "  </thead>\n",
       "  <tbody>\n",
       "    <tr>\n",
       "      <th>0</th>\n",
       "      <td>Oct 18, 2024</td>\n",
       "      <td>5,859.43</td>\n",
       "      <td>5,872.17</td>\n",
       "      <td>5,846.11</td>\n",
       "      <td>5,864.67</td>\n",
       "      <td>5,864.67</td>\n",
       "      <td>2,157,845,000</td>\n",
       "    </tr>\n",
       "    <tr>\n",
       "      <th>1</th>\n",
       "      <td>Oct 17, 2024</td>\n",
       "      <td>5,875.62</td>\n",
       "      <td>5,878.46</td>\n",
       "      <td>5,840.25</td>\n",
       "      <td>5,841.47</td>\n",
       "      <td>5,841.47</td>\n",
       "      <td>3,480,010,000</td>\n",
       "    </tr>\n",
       "    <tr>\n",
       "      <th>2</th>\n",
       "      <td>Oct 16, 2024</td>\n",
       "      <td>5,816.58</td>\n",
       "      <td>5,846.52</td>\n",
       "      <td>5,808.34</td>\n",
       "      <td>5,842.47</td>\n",
       "      <td>5,842.47</td>\n",
       "      <td>3,467,230,000</td>\n",
       "    </tr>\n",
       "    <tr>\n",
       "      <th>3</th>\n",
       "      <td>Oct 15, 2024</td>\n",
       "      <td>5,866.74</td>\n",
       "      <td>5,870.36</td>\n",
       "      <td>5,804.48</td>\n",
       "      <td>5,815.26</td>\n",
       "      <td>5,815.26</td>\n",
       "      <td>3,882,120,000</td>\n",
       "    </tr>\n",
       "    <tr>\n",
       "      <th>4</th>\n",
       "      <td>Oct 14, 2024</td>\n",
       "      <td>5,829.81</td>\n",
       "      <td>5,871.41</td>\n",
       "      <td>5,829.57</td>\n",
       "      <td>5,859.85</td>\n",
       "      <td>5,859.85</td>\n",
       "      <td>3,005,250,000</td>\n",
       "    </tr>\n",
       "    <tr>\n",
       "      <th>5</th>\n",
       "      <td>Oct 11, 2024</td>\n",
       "      <td>5,775.09</td>\n",
       "      <td>5,822.13</td>\n",
       "      <td>5,775.09</td>\n",
       "      <td>5,815.03</td>\n",
       "      <td>5,815.03</td>\n",
       "      <td>3,208,720,000</td>\n",
       "    </tr>\n",
       "    <tr>\n",
       "      <th>6</th>\n",
       "      <td>Oct 10, 2024</td>\n",
       "      <td>5,778.36</td>\n",
       "      <td>5,795.03</td>\n",
       "      <td>5,764.76</td>\n",
       "      <td>5,780.05</td>\n",
       "      <td>5,780.05</td>\n",
       "      <td>3,208,790,000</td>\n",
       "    </tr>\n",
       "    <tr>\n",
       "      <th>7</th>\n",
       "      <td>Oct 9, 2024</td>\n",
       "      <td>5,751.80</td>\n",
       "      <td>5,796.80</td>\n",
       "      <td>5,745.02</td>\n",
       "      <td>5,792.04</td>\n",
       "      <td>5,792.04</td>\n",
       "      <td>3,650,340,000</td>\n",
       "    </tr>\n",
       "    <tr>\n",
       "      <th>8</th>\n",
       "      <td>Oct 8, 2024</td>\n",
       "      <td>5,719.14</td>\n",
       "      <td>5,757.60</td>\n",
       "      <td>5,714.56</td>\n",
       "      <td>5,751.13</td>\n",
       "      <td>5,751.13</td>\n",
       "      <td>3,393,400,000</td>\n",
       "    </tr>\n",
       "    <tr>\n",
       "      <th>9</th>\n",
       "      <td>Oct 7, 2024</td>\n",
       "      <td>5,737.80</td>\n",
       "      <td>5,739.34</td>\n",
       "      <td>5,686.85</td>\n",
       "      <td>5,695.94</td>\n",
       "      <td>5,695.94</td>\n",
       "      <td>3,637,790,000</td>\n",
       "    </tr>\n",
       "  </tbody>\n",
       "</table>\n",
       "</div>"
      ],
      "text/plain": [
       "           Date      Open      High       Low     Close Adj Close  \\\n",
       "0  Oct 18, 2024  5,859.43  5,872.17  5,846.11  5,864.67  5,864.67   \n",
       "1  Oct 17, 2024  5,875.62  5,878.46  5,840.25  5,841.47  5,841.47   \n",
       "2  Oct 16, 2024  5,816.58  5,846.52  5,808.34  5,842.47  5,842.47   \n",
       "3  Oct 15, 2024  5,866.74  5,870.36  5,804.48  5,815.26  5,815.26   \n",
       "4  Oct 14, 2024  5,829.81  5,871.41  5,829.57  5,859.85  5,859.85   \n",
       "5  Oct 11, 2024  5,775.09  5,822.13  5,775.09  5,815.03  5,815.03   \n",
       "6  Oct 10, 2024  5,778.36  5,795.03  5,764.76  5,780.05  5,780.05   \n",
       "7   Oct 9, 2024  5,751.80  5,796.80  5,745.02  5,792.04  5,792.04   \n",
       "8   Oct 8, 2024  5,719.14  5,757.60  5,714.56  5,751.13  5,751.13   \n",
       "9   Oct 7, 2024  5,737.80  5,739.34  5,686.85  5,695.94  5,695.94   \n",
       "\n",
       "          Volume  \n",
       "0  2,157,845,000  \n",
       "1  3,480,010,000  \n",
       "2  3,467,230,000  \n",
       "3  3,882,120,000  \n",
       "4  3,005,250,000  \n",
       "5  3,208,720,000  \n",
       "6  3,208,790,000  \n",
       "7  3,650,340,000  \n",
       "8  3,393,400,000  \n",
       "9  3,637,790,000  "
      ]
     },
     "execution_count": 5,
     "metadata": {},
     "output_type": "execute_result"
    }
   ],
   "source": [
    "df.head(10)"
   ]
  },
  {
   "cell_type": "code",
   "execution_count": 6,
   "id": "ad04d99c",
   "metadata": {},
   "outputs": [
    {
     "data": {
      "text/plain": [
       "(6072, 7)"
      ]
     },
     "execution_count": 6,
     "metadata": {},
     "output_type": "execute_result"
    }
   ],
   "source": [
    "df.shape"
   ]
  },
  {
   "cell_type": "code",
   "execution_count": 7,
   "id": "6ca115e1",
   "metadata": {},
   "outputs": [
    {
     "name": "stdout",
     "output_type": "stream",
     "text": [
      "<class 'pandas.core.frame.DataFrame'>\n",
      "RangeIndex: 6072 entries, 0 to 6071\n",
      "Data columns (total 7 columns):\n",
      " #   Column     Non-Null Count  Dtype \n",
      "---  ------     --------------  ----- \n",
      " 0   Date       6072 non-null   object\n",
      " 1   Open       6072 non-null   object\n",
      " 2   High       6072 non-null   object\n",
      " 3   Low        6072 non-null   object\n",
      " 4   Close      6072 non-null   object\n",
      " 5   Adj Close  6072 non-null   object\n",
      " 6   Volume     6072 non-null   object\n",
      "dtypes: object(7)\n",
      "memory usage: 332.2+ KB\n"
     ]
    }
   ],
   "source": [
    "df.info()"
   ]
  },
  {
   "cell_type": "markdown",
   "id": "4efe78c9",
   "metadata": {},
   "source": [
    "## Date Format"
   ]
  },
  {
   "cell_type": "code",
   "execution_count": 8,
   "id": "731ec36f",
   "metadata": {},
   "outputs": [
    {
     "name": "stdout",
     "output_type": "stream",
     "text": [
      "<class 'pandas.core.frame.DataFrame'>\n",
      "RangeIndex: 6072 entries, 0 to 6071\n",
      "Data columns (total 7 columns):\n",
      " #   Column     Non-Null Count  Dtype         \n",
      "---  ------     --------------  -----         \n",
      " 0   Date       6072 non-null   datetime64[ns]\n",
      " 1   Open       6072 non-null   object        \n",
      " 2   High       6072 non-null   object        \n",
      " 3   Low        6072 non-null   object        \n",
      " 4   Close      6072 non-null   object        \n",
      " 5   Adj Close  6072 non-null   object        \n",
      " 6   Volume     6072 non-null   object        \n",
      "dtypes: datetime64[ns](1), object(6)\n",
      "memory usage: 332.2+ KB\n"
     ]
    }
   ],
   "source": [
    "df['Date'] = pd.to_datetime(df['Date'])\n",
    "df.info()"
   ]
  },
  {
   "cell_type": "markdown",
   "id": "39797ceb",
   "metadata": {},
   "source": [
    "## Numeric Data Format"
   ]
  },
  {
   "cell_type": "code",
   "execution_count": 9,
   "id": "e13b07aa",
   "metadata": {},
   "outputs": [
    {
     "data": {
      "text/plain": [
       "Index(['Open', 'High', 'Low', 'Close', 'Adj Close', 'Volume'], dtype='object')"
      ]
     },
     "execution_count": 9,
     "metadata": {},
     "output_type": "execute_result"
    }
   ],
   "source": [
    "numbers = df.select_dtypes(include = [\"object\"]).columns\n",
    "numbers"
   ]
  },
  {
   "cell_type": "code",
   "execution_count": 10,
   "id": "5adeb533",
   "metadata": {},
   "outputs": [
    {
     "name": "stdout",
     "output_type": "stream",
     "text": [
      "<class 'pandas.core.frame.DataFrame'>\n",
      "RangeIndex: 6072 entries, 0 to 6071\n",
      "Data columns (total 7 columns):\n",
      " #   Column     Non-Null Count  Dtype         \n",
      "---  ------     --------------  -----         \n",
      " 0   Date       6072 non-null   datetime64[ns]\n",
      " 1   Open       6072 non-null   float64       \n",
      " 2   High       6072 non-null   float64       \n",
      " 3   Low        6072 non-null   float64       \n",
      " 4   Close      6072 non-null   float64       \n",
      " 5   Adj Close  6072 non-null   float64       \n",
      " 6   Volume     6072 non-null   int64         \n",
      "dtypes: datetime64[ns](1), float64(5), int64(1)\n",
      "memory usage: 332.2 KB\n"
     ]
    }
   ],
   "source": [
    "for col in numbers:\n",
    "    df[col] = df[col].str.replace(\",\" , \"\")\n",
    "    df[col] = pd.to_numeric(df[col], errors='coerce')\n",
    "df.info()"
   ]
  },
  {
   "cell_type": "code",
   "execution_count": 11,
   "id": "6747e724",
   "metadata": {},
   "outputs": [
    {
     "data": {
      "text/html": [
       "<div>\n",
       "<style scoped>\n",
       "    .dataframe tbody tr th:only-of-type {\n",
       "        vertical-align: middle;\n",
       "    }\n",
       "\n",
       "    .dataframe tbody tr th {\n",
       "        vertical-align: top;\n",
       "    }\n",
       "\n",
       "    .dataframe thead th {\n",
       "        text-align: right;\n",
       "    }\n",
       "</style>\n",
       "<table border=\"1\" class=\"dataframe\">\n",
       "  <thead>\n",
       "    <tr style=\"text-align: right;\">\n",
       "      <th></th>\n",
       "      <th>Date</th>\n",
       "      <th>Open</th>\n",
       "      <th>High</th>\n",
       "      <th>Low</th>\n",
       "      <th>Close</th>\n",
       "      <th>Adj Close</th>\n",
       "      <th>Volume</th>\n",
       "    </tr>\n",
       "  </thead>\n",
       "  <tbody>\n",
       "    <tr>\n",
       "      <th>0</th>\n",
       "      <td>2024-10-18</td>\n",
       "      <td>5859.43</td>\n",
       "      <td>5872.17</td>\n",
       "      <td>5846.11</td>\n",
       "      <td>5864.67</td>\n",
       "      <td>5864.67</td>\n",
       "      <td>2157845000</td>\n",
       "    </tr>\n",
       "    <tr>\n",
       "      <th>1</th>\n",
       "      <td>2024-10-17</td>\n",
       "      <td>5875.62</td>\n",
       "      <td>5878.46</td>\n",
       "      <td>5840.25</td>\n",
       "      <td>5841.47</td>\n",
       "      <td>5841.47</td>\n",
       "      <td>3480010000</td>\n",
       "    </tr>\n",
       "    <tr>\n",
       "      <th>2</th>\n",
       "      <td>2024-10-16</td>\n",
       "      <td>5816.58</td>\n",
       "      <td>5846.52</td>\n",
       "      <td>5808.34</td>\n",
       "      <td>5842.47</td>\n",
       "      <td>5842.47</td>\n",
       "      <td>3467230000</td>\n",
       "    </tr>\n",
       "    <tr>\n",
       "      <th>3</th>\n",
       "      <td>2024-10-15</td>\n",
       "      <td>5866.74</td>\n",
       "      <td>5870.36</td>\n",
       "      <td>5804.48</td>\n",
       "      <td>5815.26</td>\n",
       "      <td>5815.26</td>\n",
       "      <td>3882120000</td>\n",
       "    </tr>\n",
       "    <tr>\n",
       "      <th>4</th>\n",
       "      <td>2024-10-14</td>\n",
       "      <td>5829.81</td>\n",
       "      <td>5871.41</td>\n",
       "      <td>5829.57</td>\n",
       "      <td>5859.85</td>\n",
       "      <td>5859.85</td>\n",
       "      <td>3005250000</td>\n",
       "    </tr>\n",
       "  </tbody>\n",
       "</table>\n",
       "</div>"
      ],
      "text/plain": [
       "        Date     Open     High      Low    Close  Adj Close      Volume\n",
       "0 2024-10-18  5859.43  5872.17  5846.11  5864.67    5864.67  2157845000\n",
       "1 2024-10-17  5875.62  5878.46  5840.25  5841.47    5841.47  3480010000\n",
       "2 2024-10-16  5816.58  5846.52  5808.34  5842.47    5842.47  3467230000\n",
       "3 2024-10-15  5866.74  5870.36  5804.48  5815.26    5815.26  3882120000\n",
       "4 2024-10-14  5829.81  5871.41  5829.57  5859.85    5859.85  3005250000"
      ]
     },
     "execution_count": 11,
     "metadata": {},
     "output_type": "execute_result"
    }
   ],
   "source": [
    "df.head()"
   ]
  },
  {
   "cell_type": "markdown",
   "id": "584e7293",
   "metadata": {},
   "source": [
    "# Save The Data In CSV File"
   ]
  },
  {
   "cell_type": "code",
   "execution_count": 12,
   "id": "a5343025",
   "metadata": {},
   "outputs": [],
   "source": [
    "df.to_csv(\"S&P500\" , index=False)"
   ]
  }
 ],
 "metadata": {
  "kernelspec": {
   "display_name": "Python 3 (ipykernel)",
   "language": "python",
   "name": "python3"
  },
  "language_info": {
   "codemirror_mode": {
    "name": "ipython",
    "version": 3
   },
   "file_extension": ".py",
   "mimetype": "text/x-python",
   "name": "python",
   "nbconvert_exporter": "python",
   "pygments_lexer": "ipython3",
   "version": "3.11.5"
  }
 },
 "nbformat": 4,
 "nbformat_minor": 5
}
