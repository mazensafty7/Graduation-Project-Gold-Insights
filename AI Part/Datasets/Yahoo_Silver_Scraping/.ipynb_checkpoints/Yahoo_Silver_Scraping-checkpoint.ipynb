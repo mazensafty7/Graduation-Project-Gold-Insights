{
 "cells": [
  {
   "cell_type": "markdown",
   "id": "2e7f348a",
   "metadata": {},
   "source": [
    "# Gold Silver Scraping"
   ]
  },
  {
   "cell_type": "markdown",
   "id": "80b854ce",
   "metadata": {},
   "source": [
    "## Import Libraries"
   ]
  },
  {
   "cell_type": "code",
   "execution_count": 1,
   "id": "4bc41ead",
   "metadata": {},
   "outputs": [
    {
     "name": "stderr",
     "output_type": "stream",
     "text": [
      "C:\\Users\\mazen\\anaconda3\\envs\\Safty\\Lib\\site-packages\\pandas\\core\\arrays\\masked.py:60: UserWarning: Pandas requires version '1.3.6' or newer of 'bottleneck' (version '1.3.5' currently installed).\n",
      "  from pandas.core import (\n"
     ]
    }
   ],
   "source": [
    "import requests\n",
    "import pandas as pd\n",
    "from bs4 import BeautifulSoup"
   ]
  },
  {
   "cell_type": "markdown",
   "id": "f93b0e99",
   "metadata": {},
   "source": [
    "## Make The Request From Yahoo Finance and Get The Table HTML"
   ]
  },
  {
   "cell_type": "code",
   "execution_count": 2,
   "id": "4c0b9f60",
   "metadata": {},
   "outputs": [],
   "source": [
    "url = \"https://finance.yahoo.com/quote/SI%3DF/history/?period1=967608000&period2=1745260511\"\n",
    "headers = {\n",
    "    'User-Agent': 'Mozilla/5.0 (Windows NT 10.0; Win64; x64) AppleWebKit/537.36 (KHTML, like Gecko) Chrome/91.0.4472.124 Safari/537.36'\n",
    "}\n",
    "r = requests.get(url, headers=headers)\n",
    "\n",
    "c = r.text\n",
    "soup=BeautifulSoup(c, \"lxml\")\n",
    "\n",
    "table = soup.find(\"table\" , {\"class\":\"table yf-1jecxey noDl hideOnPrint\"})"
   ]
  },
  {
   "cell_type": "markdown",
   "id": "8ed6938a",
   "metadata": {},
   "source": [
    "## Get The Headers of The Table"
   ]
  },
  {
   "cell_type": "code",
   "execution_count": 3,
   "id": "89646b25",
   "metadata": {},
   "outputs": [
    {
     "data": {
      "text/html": [
       "<div>\n",
       "<style scoped>\n",
       "    .dataframe tbody tr th:only-of-type {\n",
       "        vertical-align: middle;\n",
       "    }\n",
       "\n",
       "    .dataframe tbody tr th {\n",
       "        vertical-align: top;\n",
       "    }\n",
       "\n",
       "    .dataframe thead th {\n",
       "        text-align: right;\n",
       "    }\n",
       "</style>\n",
       "<table border=\"1\" class=\"dataframe\">\n",
       "  <thead>\n",
       "    <tr style=\"text-align: right;\">\n",
       "      <th></th>\n",
       "      <th>Date</th>\n",
       "      <th>Open</th>\n",
       "      <th>High</th>\n",
       "      <th>Low</th>\n",
       "      <th>Close</th>\n",
       "      <th>Adj Close</th>\n",
       "      <th>Volume</th>\n",
       "    </tr>\n",
       "  </thead>\n",
       "  <tbody>\n",
       "  </tbody>\n",
       "</table>\n",
       "</div>"
      ],
      "text/plain": [
       "Empty DataFrame\n",
       "Columns: [Date, Open, High, Low, Close, Adj Close, Volume]\n",
       "Index: []"
      ]
     },
     "execution_count": 3,
     "metadata": {},
     "output_type": "execute_result"
    }
   ],
   "source": [
    "headers = table.find_all(\"th\" , {\"class\":\"yf-1jecxey\"})\n",
    "\n",
    "titles = []\n",
    "\n",
    "for i in headers:\n",
    "    titles.append(i.text.split(\"  \")[0])\n",
    "    \n",
    "df = pd.DataFrame(columns = titles)\n",
    "df"
   ]
  },
  {
   "cell_type": "markdown",
   "id": "3bac254c",
   "metadata": {},
   "source": [
    "## Get The Content of The Table"
   ]
  },
  {
   "cell_type": "code",
   "execution_count": 4,
   "id": "27291e57",
   "metadata": {},
   "outputs": [
    {
     "data": {
      "text/html": [
       "<div>\n",
       "<style scoped>\n",
       "    .dataframe tbody tr th:only-of-type {\n",
       "        vertical-align: middle;\n",
       "    }\n",
       "\n",
       "    .dataframe tbody tr th {\n",
       "        vertical-align: top;\n",
       "    }\n",
       "\n",
       "    .dataframe thead th {\n",
       "        text-align: right;\n",
       "    }\n",
       "</style>\n",
       "<table border=\"1\" class=\"dataframe\">\n",
       "  <thead>\n",
       "    <tr style=\"text-align: right;\">\n",
       "      <th></th>\n",
       "      <th>Date</th>\n",
       "      <th>Open</th>\n",
       "      <th>High</th>\n",
       "      <th>Low</th>\n",
       "      <th>Close</th>\n",
       "      <th>Adj Close</th>\n",
       "      <th>Volume</th>\n",
       "    </tr>\n",
       "  </thead>\n",
       "  <tbody>\n",
       "    <tr>\n",
       "      <th>0</th>\n",
       "      <td>Apr 21, 2025</td>\n",
       "      <td>32.440</td>\n",
       "      <td>33.100</td>\n",
       "      <td>32.385</td>\n",
       "      <td>32.555</td>\n",
       "      <td>32.555</td>\n",
       "      <td>46,173</td>\n",
       "    </tr>\n",
       "    <tr>\n",
       "      <th>1</th>\n",
       "      <td>Apr 17, 2025</td>\n",
       "      <td>32.335</td>\n",
       "      <td>32.580</td>\n",
       "      <td>32.090</td>\n",
       "      <td>32.420</td>\n",
       "      <td>32.420</td>\n",
       "      <td>97</td>\n",
       "    </tr>\n",
       "    <tr>\n",
       "      <th>2</th>\n",
       "      <td>Apr 16, 2025</td>\n",
       "      <td>33.025</td>\n",
       "      <td>33.025</td>\n",
       "      <td>32.755</td>\n",
       "      <td>32.926</td>\n",
       "      <td>32.926</td>\n",
       "      <td>97</td>\n",
       "    </tr>\n",
       "    <tr>\n",
       "      <th>3</th>\n",
       "      <td>Apr 15, 2025</td>\n",
       "      <td>32.227</td>\n",
       "      <td>32.227</td>\n",
       "      <td>32.227</td>\n",
       "      <td>32.227</td>\n",
       "      <td>32.227</td>\n",
       "      <td>45</td>\n",
       "    </tr>\n",
       "    <tr>\n",
       "      <th>4</th>\n",
       "      <td>Apr 14, 2025</td>\n",
       "      <td>31.800</td>\n",
       "      <td>32.092</td>\n",
       "      <td>31.800</td>\n",
       "      <td>32.092</td>\n",
       "      <td>32.092</td>\n",
       "      <td>17</td>\n",
       "    </tr>\n",
       "  </tbody>\n",
       "</table>\n",
       "</div>"
      ],
      "text/plain": [
       "           Date    Open    High     Low   Close Adj Close  Volume\n",
       "0  Apr 21, 2025  32.440  33.100  32.385  32.555    32.555  46,173\n",
       "1  Apr 17, 2025  32.335  32.580  32.090  32.420    32.420      97\n",
       "2  Apr 16, 2025  33.025  33.025  32.755  32.926    32.926      97\n",
       "3  Apr 15, 2025  32.227  32.227  32.227  32.227    32.227      45\n",
       "4  Apr 14, 2025  31.800  32.092  31.800  32.092    32.092      17"
      ]
     },
     "execution_count": 4,
     "metadata": {},
     "output_type": "execute_result"
    }
   ],
   "source": [
    "rows_con = table.find_all(\"tr\" , {\"class\":\"yf-1jecxey\"})\n",
    "for i in rows_con[1:]:\n",
    "    data = i.find_all(\"td\" , {\"class\":\"yf-1jecxey\"})\n",
    "    row = [tr.text for tr in data]\n",
    "    new_row_df = pd.DataFrame([row], columns=df.columns)  # Ensure columns match\n",
    "    df = pd.concat([df, new_row_df], ignore_index=True)\n",
    "df.head()"
   ]
  },
  {
   "cell_type": "markdown",
   "id": "09300171",
   "metadata": {},
   "source": [
    "## Data Preprocessing"
   ]
  },
  {
   "cell_type": "code",
   "execution_count": 5,
   "id": "5fd29e4f",
   "metadata": {},
   "outputs": [
    {
     "data": {
      "text/html": [
       "<div>\n",
       "<style scoped>\n",
       "    .dataframe tbody tr th:only-of-type {\n",
       "        vertical-align: middle;\n",
       "    }\n",
       "\n",
       "    .dataframe tbody tr th {\n",
       "        vertical-align: top;\n",
       "    }\n",
       "\n",
       "    .dataframe thead th {\n",
       "        text-align: right;\n",
       "    }\n",
       "</style>\n",
       "<table border=\"1\" class=\"dataframe\">\n",
       "  <thead>\n",
       "    <tr style=\"text-align: right;\">\n",
       "      <th></th>\n",
       "      <th>Date</th>\n",
       "      <th>Open</th>\n",
       "      <th>High</th>\n",
       "      <th>Low</th>\n",
       "      <th>Close</th>\n",
       "      <th>Adj Close</th>\n",
       "      <th>Volume</th>\n",
       "    </tr>\n",
       "  </thead>\n",
       "  <tbody>\n",
       "    <tr>\n",
       "      <th>0</th>\n",
       "      <td>Apr 21, 2025</td>\n",
       "      <td>32.440</td>\n",
       "      <td>33.100</td>\n",
       "      <td>32.385</td>\n",
       "      <td>32.555</td>\n",
       "      <td>32.555</td>\n",
       "      <td>46,173</td>\n",
       "    </tr>\n",
       "    <tr>\n",
       "      <th>1</th>\n",
       "      <td>Apr 17, 2025</td>\n",
       "      <td>32.335</td>\n",
       "      <td>32.580</td>\n",
       "      <td>32.090</td>\n",
       "      <td>32.420</td>\n",
       "      <td>32.420</td>\n",
       "      <td>97</td>\n",
       "    </tr>\n",
       "    <tr>\n",
       "      <th>2</th>\n",
       "      <td>Apr 16, 2025</td>\n",
       "      <td>33.025</td>\n",
       "      <td>33.025</td>\n",
       "      <td>32.755</td>\n",
       "      <td>32.926</td>\n",
       "      <td>32.926</td>\n",
       "      <td>97</td>\n",
       "    </tr>\n",
       "    <tr>\n",
       "      <th>3</th>\n",
       "      <td>Apr 15, 2025</td>\n",
       "      <td>32.227</td>\n",
       "      <td>32.227</td>\n",
       "      <td>32.227</td>\n",
       "      <td>32.227</td>\n",
       "      <td>32.227</td>\n",
       "      <td>45</td>\n",
       "    </tr>\n",
       "    <tr>\n",
       "      <th>4</th>\n",
       "      <td>Apr 14, 2025</td>\n",
       "      <td>31.800</td>\n",
       "      <td>32.092</td>\n",
       "      <td>31.800</td>\n",
       "      <td>32.092</td>\n",
       "      <td>32.092</td>\n",
       "      <td>17</td>\n",
       "    </tr>\n",
       "    <tr>\n",
       "      <th>5</th>\n",
       "      <td>Apr 11, 2025</td>\n",
       "      <td>31.115</td>\n",
       "      <td>31.824</td>\n",
       "      <td>31.115</td>\n",
       "      <td>31.824</td>\n",
       "      <td>31.824</td>\n",
       "      <td>24</td>\n",
       "    </tr>\n",
       "    <tr>\n",
       "      <th>6</th>\n",
       "      <td>Apr 10, 2025</td>\n",
       "      <td>31.030</td>\n",
       "      <td>31.050</td>\n",
       "      <td>30.671</td>\n",
       "      <td>30.671</td>\n",
       "      <td>30.671</td>\n",
       "      <td>4</td>\n",
       "    </tr>\n",
       "    <tr>\n",
       "      <th>7</th>\n",
       "      <td>Apr 9, 2025</td>\n",
       "      <td>29.350</td>\n",
       "      <td>30.323</td>\n",
       "      <td>29.255</td>\n",
       "      <td>30.323</td>\n",
       "      <td>30.323</td>\n",
       "      <td>137</td>\n",
       "    </tr>\n",
       "    <tr>\n",
       "      <th>8</th>\n",
       "      <td>Apr 8, 2025</td>\n",
       "      <td>29.765</td>\n",
       "      <td>30.320</td>\n",
       "      <td>29.592</td>\n",
       "      <td>29.592</td>\n",
       "      <td>29.592</td>\n",
       "      <td>64</td>\n",
       "    </tr>\n",
       "    <tr>\n",
       "      <th>9</th>\n",
       "      <td>Apr 7, 2025</td>\n",
       "      <td>28.450</td>\n",
       "      <td>30.460</td>\n",
       "      <td>28.310</td>\n",
       "      <td>29.510</td>\n",
       "      <td>29.510</td>\n",
       "      <td>310</td>\n",
       "    </tr>\n",
       "  </tbody>\n",
       "</table>\n",
       "</div>"
      ],
      "text/plain": [
       "           Date    Open    High     Low   Close Adj Close  Volume\n",
       "0  Apr 21, 2025  32.440  33.100  32.385  32.555    32.555  46,173\n",
       "1  Apr 17, 2025  32.335  32.580  32.090  32.420    32.420      97\n",
       "2  Apr 16, 2025  33.025  33.025  32.755  32.926    32.926      97\n",
       "3  Apr 15, 2025  32.227  32.227  32.227  32.227    32.227      45\n",
       "4  Apr 14, 2025  31.800  32.092  31.800  32.092    32.092      17\n",
       "5  Apr 11, 2025  31.115  31.824  31.115  31.824    31.824      24\n",
       "6  Apr 10, 2025  31.030  31.050  30.671  30.671    30.671       4\n",
       "7   Apr 9, 2025  29.350  30.323  29.255  30.323    30.323     137\n",
       "8   Apr 8, 2025  29.765  30.320  29.592  29.592    29.592      64\n",
       "9   Apr 7, 2025  28.450  30.460  28.310  29.510    29.510     310"
      ]
     },
     "execution_count": 5,
     "metadata": {},
     "output_type": "execute_result"
    }
   ],
   "source": [
    "df.head(10)"
   ]
  },
  {
   "cell_type": "code",
   "execution_count": 6,
   "id": "f67c6c28",
   "metadata": {},
   "outputs": [
    {
     "data": {
      "text/plain": [
       "(6183, 7)"
      ]
     },
     "execution_count": 6,
     "metadata": {},
     "output_type": "execute_result"
    }
   ],
   "source": [
    "df.shape"
   ]
  },
  {
   "cell_type": "code",
   "execution_count": 7,
   "id": "4dee2a5d",
   "metadata": {},
   "outputs": [
    {
     "name": "stdout",
     "output_type": "stream",
     "text": [
      "<class 'pandas.core.frame.DataFrame'>\n",
      "RangeIndex: 6183 entries, 0 to 6182\n",
      "Data columns (total 7 columns):\n",
      " #   Column     Non-Null Count  Dtype \n",
      "---  ------     --------------  ----- \n",
      " 0   Date       6183 non-null   object\n",
      " 1   Open       6183 non-null   object\n",
      " 2   High       6183 non-null   object\n",
      " 3   Low        6183 non-null   object\n",
      " 4   Close      6183 non-null   object\n",
      " 5   Adj Close  6183 non-null   object\n",
      " 6   Volume     6183 non-null   object\n",
      "dtypes: object(7)\n",
      "memory usage: 338.3+ KB\n"
     ]
    }
   ],
   "source": [
    "df.info()"
   ]
  },
  {
   "cell_type": "markdown",
   "id": "031592f7",
   "metadata": {},
   "source": [
    "## Date Format"
   ]
  },
  {
   "cell_type": "code",
   "execution_count": 8,
   "id": "add693f6",
   "metadata": {},
   "outputs": [
    {
     "name": "stdout",
     "output_type": "stream",
     "text": [
      "<class 'pandas.core.frame.DataFrame'>\n",
      "RangeIndex: 6183 entries, 0 to 6182\n",
      "Data columns (total 7 columns):\n",
      " #   Column     Non-Null Count  Dtype         \n",
      "---  ------     --------------  -----         \n",
      " 0   Date       6183 non-null   datetime64[ns]\n",
      " 1   Open       6183 non-null   object        \n",
      " 2   High       6183 non-null   object        \n",
      " 3   Low        6183 non-null   object        \n",
      " 4   Close      6183 non-null   object        \n",
      " 5   Adj Close  6183 non-null   object        \n",
      " 6   Volume     6183 non-null   object        \n",
      "dtypes: datetime64[ns](1), object(6)\n",
      "memory usage: 338.3+ KB\n"
     ]
    }
   ],
   "source": [
    "df['Date'] = pd.to_datetime(df['Date'])\n",
    "df.info()"
   ]
  },
  {
   "cell_type": "markdown",
   "id": "136a06f0",
   "metadata": {},
   "source": [
    "## Numeric Data Format"
   ]
  },
  {
   "cell_type": "code",
   "execution_count": 9,
   "id": "1113ac02",
   "metadata": {},
   "outputs": [
    {
     "data": {
      "text/plain": [
       "Index(['Open', 'High', 'Low', 'Close', 'Adj Close', 'Volume'], dtype='object')"
      ]
     },
     "execution_count": 9,
     "metadata": {},
     "output_type": "execute_result"
    }
   ],
   "source": [
    "numbers = df.select_dtypes(include = [\"object\"]).columns\n",
    "numbers"
   ]
  },
  {
   "cell_type": "code",
   "execution_count": 10,
   "id": "60818946",
   "metadata": {},
   "outputs": [
    {
     "name": "stdout",
     "output_type": "stream",
     "text": [
      "<class 'pandas.core.frame.DataFrame'>\n",
      "RangeIndex: 6183 entries, 0 to 6182\n",
      "Data columns (total 7 columns):\n",
      " #   Column     Non-Null Count  Dtype         \n",
      "---  ------     --------------  -----         \n",
      " 0   Date       6183 non-null   datetime64[ns]\n",
      " 1   Open       6183 non-null   float64       \n",
      " 2   High       6183 non-null   float64       \n",
      " 3   Low        6183 non-null   float64       \n",
      " 4   Close      6183 non-null   float64       \n",
      " 5   Adj Close  6183 non-null   float64       \n",
      " 6   Volume     5449 non-null   float64       \n",
      "dtypes: datetime64[ns](1), float64(6)\n",
      "memory usage: 338.3 KB\n"
     ]
    }
   ],
   "source": [
    "for col in numbers:\n",
    "    df[col] = df[col].str.replace(\",\" , \"\")\n",
    "    df[col] = pd.to_numeric(df[col], errors='coerce')\n",
    "df.info()"
   ]
  },
  {
   "cell_type": "code",
   "execution_count": 11,
   "id": "645dea7a",
   "metadata": {},
   "outputs": [
    {
     "data": {
      "text/html": [
       "<div>\n",
       "<style scoped>\n",
       "    .dataframe tbody tr th:only-of-type {\n",
       "        vertical-align: middle;\n",
       "    }\n",
       "\n",
       "    .dataframe tbody tr th {\n",
       "        vertical-align: top;\n",
       "    }\n",
       "\n",
       "    .dataframe thead th {\n",
       "        text-align: right;\n",
       "    }\n",
       "</style>\n",
       "<table border=\"1\" class=\"dataframe\">\n",
       "  <thead>\n",
       "    <tr style=\"text-align: right;\">\n",
       "      <th></th>\n",
       "      <th>Date</th>\n",
       "      <th>Open</th>\n",
       "      <th>High</th>\n",
       "      <th>Low</th>\n",
       "      <th>Close</th>\n",
       "      <th>Adj Close</th>\n",
       "      <th>Volume</th>\n",
       "    </tr>\n",
       "  </thead>\n",
       "  <tbody>\n",
       "    <tr>\n",
       "      <th>0</th>\n",
       "      <td>2025-04-21</td>\n",
       "      <td>32.440</td>\n",
       "      <td>33.100</td>\n",
       "      <td>32.385</td>\n",
       "      <td>32.555</td>\n",
       "      <td>32.555</td>\n",
       "      <td>46173.0</td>\n",
       "    </tr>\n",
       "    <tr>\n",
       "      <th>1</th>\n",
       "      <td>2025-04-17</td>\n",
       "      <td>32.335</td>\n",
       "      <td>32.580</td>\n",
       "      <td>32.090</td>\n",
       "      <td>32.420</td>\n",
       "      <td>32.420</td>\n",
       "      <td>97.0</td>\n",
       "    </tr>\n",
       "    <tr>\n",
       "      <th>2</th>\n",
       "      <td>2025-04-16</td>\n",
       "      <td>33.025</td>\n",
       "      <td>33.025</td>\n",
       "      <td>32.755</td>\n",
       "      <td>32.926</td>\n",
       "      <td>32.926</td>\n",
       "      <td>97.0</td>\n",
       "    </tr>\n",
       "    <tr>\n",
       "      <th>3</th>\n",
       "      <td>2025-04-15</td>\n",
       "      <td>32.227</td>\n",
       "      <td>32.227</td>\n",
       "      <td>32.227</td>\n",
       "      <td>32.227</td>\n",
       "      <td>32.227</td>\n",
       "      <td>45.0</td>\n",
       "    </tr>\n",
       "    <tr>\n",
       "      <th>4</th>\n",
       "      <td>2025-04-14</td>\n",
       "      <td>31.800</td>\n",
       "      <td>32.092</td>\n",
       "      <td>31.800</td>\n",
       "      <td>32.092</td>\n",
       "      <td>32.092</td>\n",
       "      <td>17.0</td>\n",
       "    </tr>\n",
       "  </tbody>\n",
       "</table>\n",
       "</div>"
      ],
      "text/plain": [
       "        Date    Open    High     Low   Close  Adj Close   Volume\n",
       "0 2025-04-21  32.440  33.100  32.385  32.555     32.555  46173.0\n",
       "1 2025-04-17  32.335  32.580  32.090  32.420     32.420     97.0\n",
       "2 2025-04-16  33.025  33.025  32.755  32.926     32.926     97.0\n",
       "3 2025-04-15  32.227  32.227  32.227  32.227     32.227     45.0\n",
       "4 2025-04-14  31.800  32.092  31.800  32.092     32.092     17.0"
      ]
     },
     "execution_count": 11,
     "metadata": {},
     "output_type": "execute_result"
    }
   ],
   "source": [
    "df.head()"
   ]
  },
  {
   "cell_type": "code",
   "execution_count": 12,
   "id": "3b98061b",
   "metadata": {},
   "outputs": [],
   "source": [
    "df = df.drop(columns = ['Open', 'High', 'Low', 'Close', 'Volume'])"
   ]
  },
  {
   "cell_type": "code",
   "execution_count": 13,
   "id": "d2b8f67d",
   "metadata": {},
   "outputs": [
    {
     "data": {
      "text/html": [
       "<div>\n",
       "<style scoped>\n",
       "    .dataframe tbody tr th:only-of-type {\n",
       "        vertical-align: middle;\n",
       "    }\n",
       "\n",
       "    .dataframe tbody tr th {\n",
       "        vertical-align: top;\n",
       "    }\n",
       "\n",
       "    .dataframe thead th {\n",
       "        text-align: right;\n",
       "    }\n",
       "</style>\n",
       "<table border=\"1\" class=\"dataframe\">\n",
       "  <thead>\n",
       "    <tr style=\"text-align: right;\">\n",
       "      <th></th>\n",
       "      <th>Date</th>\n",
       "      <th>Adj Close</th>\n",
       "    </tr>\n",
       "  </thead>\n",
       "  <tbody>\n",
       "    <tr>\n",
       "      <th>0</th>\n",
       "      <td>2025-04-21</td>\n",
       "      <td>32.555</td>\n",
       "    </tr>\n",
       "    <tr>\n",
       "      <th>1</th>\n",
       "      <td>2025-04-17</td>\n",
       "      <td>32.420</td>\n",
       "    </tr>\n",
       "    <tr>\n",
       "      <th>2</th>\n",
       "      <td>2025-04-16</td>\n",
       "      <td>32.926</td>\n",
       "    </tr>\n",
       "    <tr>\n",
       "      <th>3</th>\n",
       "      <td>2025-04-15</td>\n",
       "      <td>32.227</td>\n",
       "    </tr>\n",
       "    <tr>\n",
       "      <th>4</th>\n",
       "      <td>2025-04-14</td>\n",
       "      <td>32.092</td>\n",
       "    </tr>\n",
       "  </tbody>\n",
       "</table>\n",
       "</div>"
      ],
      "text/plain": [
       "        Date  Adj Close\n",
       "0 2025-04-21     32.555\n",
       "1 2025-04-17     32.420\n",
       "2 2025-04-16     32.926\n",
       "3 2025-04-15     32.227\n",
       "4 2025-04-14     32.092"
      ]
     },
     "execution_count": 13,
     "metadata": {},
     "output_type": "execute_result"
    }
   ],
   "source": [
    "df.head()"
   ]
  },
  {
   "cell_type": "code",
   "execution_count": 14,
   "id": "3d12f7ed",
   "metadata": {},
   "outputs": [],
   "source": [
    "df = df.set_index('Date')"
   ]
  },
  {
   "cell_type": "code",
   "execution_count": 15,
   "id": "8135a4e2",
   "metadata": {},
   "outputs": [],
   "source": [
    "df = df.asfreq('b', method = 'ffill')"
   ]
  },
  {
   "cell_type": "code",
   "execution_count": 16,
   "id": "4bf15e2e",
   "metadata": {},
   "outputs": [
    {
     "data": {
      "text/html": [
       "<div>\n",
       "<style scoped>\n",
       "    .dataframe tbody tr th:only-of-type {\n",
       "        vertical-align: middle;\n",
       "    }\n",
       "\n",
       "    .dataframe tbody tr th {\n",
       "        vertical-align: top;\n",
       "    }\n",
       "\n",
       "    .dataframe thead th {\n",
       "        text-align: right;\n",
       "    }\n",
       "</style>\n",
       "<table border=\"1\" class=\"dataframe\">\n",
       "  <thead>\n",
       "    <tr style=\"text-align: right;\">\n",
       "      <th></th>\n",
       "      <th>Adj Close</th>\n",
       "    </tr>\n",
       "    <tr>\n",
       "      <th>Date</th>\n",
       "      <th></th>\n",
       "    </tr>\n",
       "  </thead>\n",
       "  <tbody>\n",
       "    <tr>\n",
       "      <th>2000-08-30</th>\n",
       "      <td>4.930</td>\n",
       "    </tr>\n",
       "    <tr>\n",
       "      <th>2000-08-31</th>\n",
       "      <td>5.003</td>\n",
       "    </tr>\n",
       "    <tr>\n",
       "      <th>2000-09-01</th>\n",
       "      <td>5.004</td>\n",
       "    </tr>\n",
       "    <tr>\n",
       "      <th>2000-09-04</th>\n",
       "      <td>4.998</td>\n",
       "    </tr>\n",
       "    <tr>\n",
       "      <th>2000-09-05</th>\n",
       "      <td>4.998</td>\n",
       "    </tr>\n",
       "  </tbody>\n",
       "</table>\n",
       "</div>"
      ],
      "text/plain": [
       "            Adj Close\n",
       "Date                 \n",
       "2000-08-30      4.930\n",
       "2000-08-31      5.003\n",
       "2000-09-01      5.004\n",
       "2000-09-04      4.998\n",
       "2000-09-05      4.998"
      ]
     },
     "execution_count": 16,
     "metadata": {},
     "output_type": "execute_result"
    }
   ],
   "source": [
    "df.head()"
   ]
  },
  {
   "cell_type": "code",
   "execution_count": 17,
   "id": "6aedb782",
   "metadata": {},
   "outputs": [
    {
     "data": {
      "text/html": [
       "<div>\n",
       "<style scoped>\n",
       "    .dataframe tbody tr th:only-of-type {\n",
       "        vertical-align: middle;\n",
       "    }\n",
       "\n",
       "    .dataframe tbody tr th {\n",
       "        vertical-align: top;\n",
       "    }\n",
       "\n",
       "    .dataframe thead th {\n",
       "        text-align: right;\n",
       "    }\n",
       "</style>\n",
       "<table border=\"1\" class=\"dataframe\">\n",
       "  <thead>\n",
       "    <tr style=\"text-align: right;\">\n",
       "      <th></th>\n",
       "      <th>Adj Close</th>\n",
       "    </tr>\n",
       "    <tr>\n",
       "      <th>Date</th>\n",
       "      <th></th>\n",
       "    </tr>\n",
       "  </thead>\n",
       "  <tbody>\n",
       "    <tr>\n",
       "      <th>2025-04-15</th>\n",
       "      <td>32.227</td>\n",
       "    </tr>\n",
       "    <tr>\n",
       "      <th>2025-04-16</th>\n",
       "      <td>32.926</td>\n",
       "    </tr>\n",
       "    <tr>\n",
       "      <th>2025-04-17</th>\n",
       "      <td>32.420</td>\n",
       "    </tr>\n",
       "    <tr>\n",
       "      <th>2025-04-18</th>\n",
       "      <td>32.555</td>\n",
       "    </tr>\n",
       "    <tr>\n",
       "      <th>2025-04-21</th>\n",
       "      <td>32.555</td>\n",
       "    </tr>\n",
       "  </tbody>\n",
       "</table>\n",
       "</div>"
      ],
      "text/plain": [
       "            Adj Close\n",
       "Date                 \n",
       "2025-04-15     32.227\n",
       "2025-04-16     32.926\n",
       "2025-04-17     32.420\n",
       "2025-04-18     32.555\n",
       "2025-04-21     32.555"
      ]
     },
     "execution_count": 17,
     "metadata": {},
     "output_type": "execute_result"
    }
   ],
   "source": [
    "df.tail()"
   ]
  },
  {
   "cell_type": "markdown",
   "id": "599db95d",
   "metadata": {},
   "source": [
    "# Save The Data In CSV File"
   ]
  },
  {
   "cell_type": "code",
   "execution_count": 19,
   "id": "e2357bbd",
   "metadata": {},
   "outputs": [],
   "source": [
    "df.to_csv(\"silver_close.csv\")"
   ]
  },
  {
   "cell_type": "code",
   "execution_count": null,
   "id": "faa27912",
   "metadata": {},
   "outputs": [],
   "source": []
  }
 ],
 "metadata": {
  "kernelspec": {
   "display_name": "Python 3 (ipykernel)",
   "language": "python",
   "name": "python3"
  },
  "language_info": {
   "codemirror_mode": {
    "name": "ipython",
    "version": 3
   },
   "file_extension": ".py",
   "mimetype": "text/x-python",
   "name": "python",
   "nbconvert_exporter": "python",
   "pygments_lexer": "ipython3",
   "version": "3.11.5"
  }
 },
 "nbformat": 4,
 "nbformat_minor": 5
}
